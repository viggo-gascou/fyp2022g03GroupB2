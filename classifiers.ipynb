{
 "cells": [
  {
   "cell_type": "code",
   "metadata": {
    "cell_id": "41e8fd1269af437782adfd3be6c07839",
    "tags": [],
    "deepnote_to_be_reexecuted": false,
    "source_hash": "4d4424c7",
    "execution_start": 1652954301285,
    "execution_millis": 23,
    "output_cleared": true,
    "owner_user_id": "9f7938c4-a781-4d9c-bc76-659de9a5470f",
    "deepnote_cell_type": "code",
    "deepnote_cell_height": 369
   },
   "source": "import contractions\nimport numpy as np\nfrom sklearn import metrics\nfrom sklearn.feature_extraction.text import CountVectorizer\nfrom sklearn.feature_extraction.text import TfidfTransformer\nfrom sklearn.linear_model import SGDClassifier\nfrom sklearn.neural_network import MLPClassifier\nfrom sklearn.pipeline import make_pipeline\nfrom functions import preprocess\nimport re\n\ndef test_classifier(classifier, pattern, text_train, labels_train, text_val, labels_val):\n    clf = make_pipeline(CountVectorizer(token_pattern=pattern, strip_accents=\"unicode\"),\n                        TfidfTransformer(), classifier)\n    clf.fit(preprocess(text_train), labels_train)\n    pred = clf.predict(preprocess(text_val))\n    print(metrics.classification_report(labels_val, pred, digits=3))",
   "execution_count": 4,
   "outputs": []
  },
  {
   "cell_type": "code",
   "metadata": {
    "cell_id": "a2a5d33ca5164ea1a88e0d7da2ec2df7",
    "tags": [],
    "deepnote_to_be_reexecuted": false,
    "source_hash": "66fe2f65",
    "execution_start": 1652360199840,
    "execution_millis": 398,
    "deepnote_cell_type": "code",
    "deepnote_cell_height": 99
   },
   "source": "from nltk.tokenize import TweetTokenizer\nnltk_pat = re.compile(TweetTokenizer().WORD_RE.pattern, flags=re.I|re.VERBOSE|re.UNICODE)",
   "execution_count": null,
   "outputs": []
  },
  {
   "cell_type": "code",
   "metadata": {
    "cell_id": "8a81f1e2cbb447568b2730552365b822",
    "tags": [],
    "deepnote_to_be_reexecuted": false,
    "source_hash": "4a4b974e",
    "execution_start": 1652360200245,
    "execution_millis": 2321,
    "output_cleared": false,
    "owner_user_id": "b6cc7348-6fc5-4d35-ad0e-eb6f6874910a",
    "deepnote_cell_type": "code",
    "deepnote_cell_height": 449.25
   },
   "source": "with open(\"tweeteval/datasets/irony/train_text.txt\", \"r\") as f:\n    irony_train_text = f.read().rstrip()\nirony_train_labels = np.loadtxt(\"tweeteval/datasets/irony/train_labels.txt\")\nwith open(\"tweeteval/datasets/irony/val_text.txt\", \"r\") as f:\n    irony_val_text = f.read().rstrip()\nirony_val_labels = np.loadtxt(\"tweeteval/datasets/irony/val_labels.txt\")\nwith open(\"pattern.txt\", \"r\") as f:\n    pattern = re.compile(f.read().rstrip(), flags=re.UNICODE)\n    \nclassifier = SGDClassifier(max_iter=100000, learning_rate=\"constant\", eta0=0.0001, n_iter_no_change=5000)\ntest_classifier(classifier, pattern, irony_train_text, irony_train_labels, irony_val_text, irony_val_labels)",
   "execution_count": null,
   "outputs": [
    {
     "name": "stdout",
     "text": "              precision    recall  f1-score   support\n\n         0.0      0.675     0.685     0.680       499\n         1.0      0.650     0.638     0.644       456\n\n    accuracy                          0.663       955\n   macro avg      0.662     0.662     0.662       955\nweighted avg      0.663     0.663     0.663       955\n\n",
     "output_type": "stream"
    }
   ]
  },
  {
   "cell_type": "code",
   "metadata": {
    "cell_id": "79f830843efd421aa538d8e60bc81450",
    "tags": [],
    "deepnote_to_be_reexecuted": false,
    "source_hash": "7b21863",
    "execution_start": 1652956996037,
    "execution_millis": 9759,
    "deepnote_cell_type": "code",
    "deepnote_cell_height": 2971.421875,
    "deepnote_output_heights": [
     null,
     280,
     280
    ]
   },
   "source": "import matplotlib.pyplot as plt\nimport re\nfrom sklearn.model_selection import StratifiedShuffleSplit\nfrom sklearn.metrics import confusion_matrix, ConfusionMatrixDisplay\nfrom sklearn.metrics import accuracy_score\nfrom sklearn.preprocessing import normalize\nfrom nltk.tokenize import TweetTokenizer\nfrom pprint import pprint\nfrom tabulate import tabulate\n\ndataset = \"irony\"\nif \"/\" in dataset:\n    conf_mat_labels = [\"Neutral\", \"Against\", \"In Favor\"]\n    labels = [0, 1, 2]\nelse:\n    conf_mat_labels = [\"No irony\", \"Irony\"]\n    labels = [0, 1]\n\nwith open(f\"tweeteval/datasets/{dataset}/train_text.txt\", \"r\") as f:\n    x = f.read().rstrip()\ny = np.loadtxt(f\"tweeteval/datasets/{dataset}/train_labels.txt\", dtype=int)\nwith open(\"pattern.txt\", \"r\") as f:\n    pattern = re.compile(f.read().rstrip(), flags=re.UNICODE)\nnltk_pat = re.compile(TweetTokenizer().WORD_RE.pattern, flags=re.I|re.VERBOSE|re.UNICODE)\nx = preprocess(x)\n\nn_splits = 5\nkf = StratifiedShuffleSplit(n_splits=n_splits, test_size=0.4, random_state=1)\n\nacc_scores_own = np.empty((n_splits))\nacc_scores_nltk = np.empty((n_splits))\nconf_mats_own = []\nconf_mats_nltk = []\nscore_dict_own = {0: {\"recall\": [], \"precision\": [], \"f1-score\": [], \"support\": []},\n                  1: {\"recall\": [], \"precision\": [], \"f1-score\": [], \"support\": []}}\nscore_dict_nltk = {0: {\"recall\": [], \"precision\": [], \"f1-score\": [], \"support\": []},\n                   1: {\"recall\": [], \"precision\": [], \"f1-score\": [], \"support\": []}}\nif 2 in labels:\n    score_dict_own[2] = {\"recall\": [], \"precision\": [], \"f1-score\": [], \"support\": []}\n    score_dict_nltk[2] = {\"recall\": [], \"precision\": [], \"f1-score\": [], \"support\": []}\n\n\nfor j, (train_index, val_index) in enumerate(kf.split(x, y)):\n    x_train, x_val = x[train_index], x[val_index]\n    y_train, y_val = y[train_index], y[val_index]\n\n    if 2 in labels:\n        classifier = MLPClassifier(solver='adam', learning_rate='adaptive', activation='tanh', max_iter=500)\n    else:\n        classifier = SGDClassifier(max_iter=100000, learning_rate=\"constant\", eta0=0.0001, n_iter_no_change=5000)\n    clf = make_pipeline(CountVectorizer(token_pattern=pattern, strip_accents=\"unicode\"),\n                        TfidfTransformer(), classifier)\n    clf.fit(x_train, y_train)\n    y_pred_val = clf.predict(x_val)\n    conf_mats_own.append(confusion_matrix(y_val, y_pred_val))\n\n    for i in labels:\n        scores = metrics.precision_recall_fscore_support(y_val, y_pred_val)\n        score_dict_own[i][\"recall\"] = scores[0][i]\n        score_dict_own[i][\"precision\"] = scores[1][i]\n        score_dict_own[i][\"f1-score\"] = scores[2][i]\n        score_dict_own[i][\"support\"] = scores[3][i]\n\n    acc_scores_own[j] = accuracy_score(y_val, y_pred_val)\n\n    if 2 in labels:\n        classifier = MLPClassifier(solver='adam', learning_rate='adaptive', activation='tanh', max_iter=500)\n    else:\n        classifier = SGDClassifier(max_iter=100000, learning_rate=\"constant\", eta0=0.0001, n_iter_no_change=5000)\n    clf = make_pipeline(CountVectorizer(token_pattern=nltk_pat, strip_accents=\"unicode\"),\n                        TfidfTransformer(), classifier)\n    clf.fit(x_train, y_train)\n    y_pred_val = clf.predict(x_val)\n    conf_mats_nltk.append(confusion_matrix(y_val, y_pred_val))\n\n    for i in labels:\n        scores = metrics.precision_recall_fscore_support(y_val, y_pred_val)\n        score_dict_nltk[i][\"recall\"] = scores[0][i]\n        score_dict_nltk[i][\"precision\"] = scores[1][i]\n        score_dict_nltk[i][\"f1-score\"] = scores[2][i]\n        score_dict_nltk[i][\"support\"] = scores[3][i]\n\n    acc_scores_nltk[j] = accuracy_score(y_val, y_pred_val)\n\n\nprint(\"Own tokenizer:\\n__________________________________\")\nprint(f\"acc_score: {np.mean(acc_scores_own):.3f} ±{np.std(acc_scores_own):.2f}\")\nfor i in labels:\n    for key in score_dict_own[i].keys():\n        score_dict_own[i][key] = np.mean(score_dict_own[i][key])\nheader = [\"precision\", \"recall\", \"f1-score\", \"support\"]\ntable = [[l, *[score_dict_own[l][k] for k in header]] for l in labels]\nprint(tabulate(table, headers=header, floatfmt=\".3f\"))\navg_conf_mat = normalize(np.mean(np.stack(conf_mats_own, axis=2), axis=2), norm=\"l1\")\ndisplay = ConfusionMatrixDisplay(avg_conf_mat, display_labels=conf_mat_labels)\nfig = display.plot(cmap=plt.cm.Blues)\nfig.ax_.set_title(\"Own tokenizer\")\nprint()\nprint(\"NLTK tokenizer:\\n__________________________________\")\nprint(f\"acc_score: {np.mean(acc_scores_nltk):.3f} ±{np.std(acc_scores_nltk):.2f}\")\nfor i in [0, 1]:\n    for key in score_dict_nltk[i].keys():\n        score_dict_nltk[i][key] = np.mean(score_dict_nltk[i][key])\nheader = [\"precision\", \"recall\", \"f1-score\", \"support\"]\ntable = [[l, *[score_dict_nltk[l][k] for k in header]] for l in labels]\nprint(tabulate(table, headers=header, floatfmt=\".3f\"))\navg_conf_mat = normalize(np.mean(np.stack(conf_mats_nltk, axis=2), axis=2), norm=\"l1\")\ndisplay = ConfusionMatrixDisplay(avg_conf_mat, display_labels=conf_mat_labels)\nfig = display.plot(cmap=plt.cm.Blues)\nfig.ax_.set_title(\"NLTK tokenizer\");",
   "execution_count": 22,
   "outputs": [
    {
     "name": "stdout",
     "text": "Own tokenizer:\n__________________________________\nacc_score: 0.635 ±0.01\n      precision    recall    f1-score    support\n--  -----------  --------  ----------  ---------\n 0        0.607     0.612       0.609    567.000\n 1        0.623     0.617       0.620    578.000\n\nNLTK tokenizer:\n__________________________________\nacc_score: 0.639 ±0.02\n      precision    recall    f1-score    support\n--  -----------  --------  ----------  ---------\n 0        0.610     0.604       0.607    567.000\n 1        0.607     0.614       0.610    578.000\n",
     "output_type": "stream"
    },
    {
     "data": {
      "text/plain": "<Figure size 432x288 with 2 Axes>",
      "image/png": "[encoded data removed]"
     },
     "metadata": {
      "needs_background": "light",
      "image/png": {
       "width": 351,
       "height": 278
      }
     },
     "output_type": "display_data"
    },
    {
     "data": {
      "text/plain": "<Figure size 432x288 with 2 Axes>",
      "image/png": "[encoded data removed]"
     },
     "metadata": {
      "needs_background": "light",
      "image/png": {
       "width": 351,
       "height": 278
      }
     },
     "output_type": "display_data"
    }
   ]
  },
  {
   "cell_type": "code",
   "metadata": {
    "cell_id": "14e95428c9904609b1fd39fc37da618c",
    "tags": [],
    "deepnote_to_be_reexecuted": false,
    "source_hash": "3c3a2c51",
    "execution_start": 1652956707918,
    "execution_millis": 6,
    "owner_user_id": "5ba608db-9ea8-48c4-a2a6-9b0711414f22",
    "deepnote_cell_type": "code",
    "deepnote_cell_height": 175.78125,
    "deepnote_output_heights": [
     78.78125
    ]
   },
   "source": "metrics.precision_recall_fscore_support(y_val, y_pred_val)",
   "execution_count": 16,
   "outputs": [
    {
     "output_type": "execute_result",
     "execution_count": 16,
     "data": {
      "text/plain": "(array([0.61977186, 0.61066236]),\n array([0.57495591, 0.65397924]),\n array([0.59652333, 0.63157895]),\n array([567, 578]))"
     },
     "metadata": {}
    }
   ]
  },
  {
   "cell_type": "code",
   "metadata": {
    "cell_id": "6476090487c346babc6a3c79d501f4a5",
    "tags": [],
    "deepnote_to_be_reexecuted": false,
    "source_hash": "36461939",
    "execution_start": 1652360243455,
    "execution_millis": 3,
    "deepnote_cell_type": "code",
    "deepnote_cell_height": 137.390625,
    "deepnote_output_heights": [
     40.390625
    ]
   },
   "source": "table",
   "execution_count": null,
   "outputs": [
    {
     "output_type": "execute_result",
     "execution_count": 7,
     "data": {
      "text/plain": "[[0, 0.6102292768959435, 0.6038394415357766, 0.6070175438596491, 567.0],\n [1, 0.6072664359861591, 0.6136363636363636, 0.6104347826086957, 578.0]]"
     },
     "metadata": {}
    }
   ]
  },
  {
   "cell_type": "code",
   "metadata": {
    "cell_id": "a1b6dfdd5cbf4349b5db9d114226609c",
    "tags": [],
    "deepnote_to_be_reexecuted": false,
    "source_hash": "2925ed9e",
    "execution_start": 1652360246117,
    "execution_millis": 567,
    "output_cleared": false,
    "deepnote_cell_type": "code",
    "deepnote_cell_height": 305.25
   },
   "source": "from sklearn.naive_bayes import MultinomialNB\nclassifier = MultinomialNB()\ntest_classifier(classifier, pattern, irony_train_text, irony_train_labels, irony_val_text, irony_val_labels)",
   "execution_count": null,
   "outputs": [
    {
     "name": "stdout",
     "text": "              precision    recall  f1-score   support\n\n         0.0      0.709     0.523     0.602       499\n         1.0      0.595     0.765     0.669       456\n\n    accuracy                          0.639       955\n   macro avg      0.652     0.644     0.636       955\nweighted avg      0.654     0.639     0.634       955\n\n",
     "output_type": "stream"
    }
   ]
  },
  {
   "cell_type": "code",
   "metadata": {
    "cell_id": "066fd72a2c274f77a503233171fec129",
    "tags": [],
    "deepnote_to_be_reexecuted": false,
    "source_hash": "5f58ffd2",
    "execution_start": 1652360251390,
    "execution_millis": 811942,
    "output_cleared": false,
    "deepnote_cell_type": "code",
    "deepnote_cell_height": 450.1875
   },
   "source": "from sklearn.pipeline import Pipeline\nfrom sklearn.model_selection import GridSearchCV\ntext_clf = Pipeline([(\"vect\", CountVectorizer(token_pattern=pattern)),\n             (\"tfidf\", TfidfTransformer()), (\"clf\", SGDClassifier())])\nparameters = {\n    \"vect__strip_accents\": (\"unicode\", None),\n    \"vect__ngram_range\": [(1,1), (1,2), (2,2)],\n    \"tfidf__use_idf\": (True, False),\n    \"clf__max_iter\": (1000, 5000, 10000),\n    \"clf__learning_rate\": (\"optimal\", \"adaptive\", \"constant\"),\n    \"clf__eta0\": (1, 0.1, 0.01, 0.001, 0.0001),\n    \"clf__n_iter_no_change\": (10, 100, 500, 1000, 5000)\n}\n\ngs_clf = GridSearchCV(text_clf, parameters, n_jobs=-1)\ngs_clf.fit(preprocess(irony_train_text), irony_train_labels)\npred = gs_clf.predict(preprocess(text_val))\nprint(metrics.classification_report(labels_val, pred, digits=3))",
   "execution_count": null,
   "outputs": [
    {
     "output_type": "error",
     "ename": "KeyboardInterrupt",
     "evalue": "",
     "traceback": [
      "\u001b[0;31m---------------------------------------------------------------------------\u001b[0m",
      "\u001b[0;31mKeyboardInterrupt\u001b[0m                         Traceback (most recent call last)",
      "\u001b[0;32m<ipython-input-9-472503948f7d>\u001b[0m in \u001b[0;36m<cell line: 16>\u001b[0;34m()\u001b[0m\n\u001b[1;32m     14\u001b[0m \u001b[0;34m\u001b[0m\u001b[0m\n\u001b[1;32m     15\u001b[0m \u001b[0mgs_clf\u001b[0m \u001b[0;34m=\u001b[0m \u001b[0mGridSearchCV\u001b[0m\u001b[0;34m(\u001b[0m\u001b[0mtext_clf\u001b[0m\u001b[0;34m,\u001b[0m \u001b[0mparameters\u001b[0m\u001b[0;34m,\u001b[0m \u001b[0mn_jobs\u001b[0m\u001b[0;34m=\u001b[0m\u001b[0;34m-\u001b[0m\u001b[0;36m1\u001b[0m\u001b[0;34m)\u001b[0m\u001b[0;34m\u001b[0m\u001b[0;34m\u001b[0m\u001b[0m\n\u001b[0;32m---> 16\u001b[0;31m \u001b[0mgs_clf\u001b[0m\u001b[0;34m.\u001b[0m\u001b[0mfit\u001b[0m\u001b[0;34m(\u001b[0m\u001b[0mpreprocess\u001b[0m\u001b[0;34m(\u001b[0m\u001b[0mirony_train_text\u001b[0m\u001b[0;34m)\u001b[0m\u001b[0;34m,\u001b[0m \u001b[0mirony_train_labels\u001b[0m\u001b[0;34m)\u001b[0m\u001b[0;34m\u001b[0m\u001b[0;34m\u001b[0m\u001b[0m\n\u001b[0m\u001b[1;32m     17\u001b[0m \u001b[0mpred\u001b[0m \u001b[0;34m=\u001b[0m \u001b[0mgs_clf\u001b[0m\u001b[0;34m.\u001b[0m\u001b[0mpredict\u001b[0m\u001b[0;34m(\u001b[0m\u001b[0mpreprocess\u001b[0m\u001b[0;34m(\u001b[0m\u001b[0mtext_val\u001b[0m\u001b[0;34m)\u001b[0m\u001b[0;34m)\u001b[0m\u001b[0;34m\u001b[0m\u001b[0;34m\u001b[0m\u001b[0m\n\u001b[1;32m     18\u001b[0m \u001b[0mprint\u001b[0m\u001b[0;34m(\u001b[0m\u001b[0mmetrics\u001b[0m\u001b[0;34m.\u001b[0m\u001b[0mclassification_report\u001b[0m\u001b[0;34m(\u001b[0m\u001b[0mlabels_val\u001b[0m\u001b[0;34m,\u001b[0m \u001b[0mpred\u001b[0m\u001b[0;34m,\u001b[0m \u001b[0mdigits\u001b[0m\u001b[0;34m=\u001b[0m\u001b[0;36m3\u001b[0m\u001b[0;34m)\u001b[0m\u001b[0;34m)\u001b[0m\u001b[0;34m\u001b[0m\u001b[0;34m\u001b[0m\u001b[0m\n",
      "\u001b[0;32m/shared-libs/python3.9/py/lib/python3.9/site-packages/sklearn/model_selection/_search.py\u001b[0m in \u001b[0;36mfit\u001b[0;34m(self, X, y, groups, **fit_params)\u001b[0m\n\u001b[1;32m    889\u001b[0m                 \u001b[0;32mreturn\u001b[0m \u001b[0mresults\u001b[0m\u001b[0;34m\u001b[0m\u001b[0;34m\u001b[0m\u001b[0m\n\u001b[1;32m    890\u001b[0m \u001b[0;34m\u001b[0m\u001b[0m\n\u001b[0;32m--> 891\u001b[0;31m             \u001b[0mself\u001b[0m\u001b[0;34m.\u001b[0m\u001b[0m_run_search\u001b[0m\u001b[0;34m(\u001b[0m\u001b[0mevaluate_candidates\u001b[0m\u001b[0;34m)\u001b[0m\u001b[0;34m\u001b[0m\u001b[0;34m\u001b[0m\u001b[0m\n\u001b[0m\u001b[1;32m    892\u001b[0m \u001b[0;34m\u001b[0m\u001b[0m\n\u001b[1;32m    893\u001b[0m             \u001b[0;31m# multimetric is determined here because in the case of a callable\u001b[0m\u001b[0;34m\u001b[0m\u001b[0;34m\u001b[0m\u001b[0m\n",
      "\u001b[0;32m/shared-libs/python3.9/py/lib/python3.9/site-packages/sklearn/model_selection/_search.py\u001b[0m in \u001b[0;36m_run_search\u001b[0;34m(self, evaluate_candidates)\u001b[0m\n\u001b[1;32m   1390\u001b[0m     \u001b[0;32mdef\u001b[0m \u001b[0m_run_search\u001b[0m\u001b[0;34m(\u001b[0m\u001b[0mself\u001b[0m\u001b[0;34m,\u001b[0m \u001b[0mevaluate_candidates\u001b[0m\u001b[0;34m)\u001b[0m\u001b[0;34m:\u001b[0m\u001b[0;34m\u001b[0m\u001b[0;34m\u001b[0m\u001b[0m\n\u001b[1;32m   1391\u001b[0m         \u001b[0;34m\"\"\"Search all candidates in param_grid\"\"\"\u001b[0m\u001b[0;34m\u001b[0m\u001b[0;34m\u001b[0m\u001b[0m\n\u001b[0;32m-> 1392\u001b[0;31m         \u001b[0mevaluate_candidates\u001b[0m\u001b[0;34m(\u001b[0m\u001b[0mParameterGrid\u001b[0m\u001b[0;34m(\u001b[0m\u001b[0mself\u001b[0m\u001b[0;34m.\u001b[0m\u001b[0mparam_grid\u001b[0m\u001b[0;34m)\u001b[0m\u001b[0;34m)\u001b[0m\u001b[0;34m\u001b[0m\u001b[0;34m\u001b[0m\u001b[0m\n\u001b[0m\u001b[1;32m   1393\u001b[0m \u001b[0;34m\u001b[0m\u001b[0m\n\u001b[1;32m   1394\u001b[0m \u001b[0;34m\u001b[0m\u001b[0m\n",
      "\u001b[0;32m/shared-libs/python3.9/py/lib/python3.9/site-packages/sklearn/model_selection/_search.py\u001b[0m in \u001b[0;36mevaluate_candidates\u001b[0;34m(candidate_params, cv, more_results)\u001b[0m\n\u001b[1;32m    836\u001b[0m                     )\n\u001b[1;32m    837\u001b[0m \u001b[0;34m\u001b[0m\u001b[0m\n\u001b[0;32m--> 838\u001b[0;31m                 out = parallel(\n\u001b[0m\u001b[1;32m    839\u001b[0m                     delayed(_fit_and_score)(\n\u001b[1;32m    840\u001b[0m                         \u001b[0mclone\u001b[0m\u001b[0;34m(\u001b[0m\u001b[0mbase_estimator\u001b[0m\u001b[0;34m)\u001b[0m\u001b[0;34m,\u001b[0m\u001b[0;34m\u001b[0m\u001b[0;34m\u001b[0m\u001b[0m\n",
      "\u001b[0;32m/shared-libs/python3.9/py/lib/python3.9/site-packages/joblib/parallel.py\u001b[0m in \u001b[0;36m__call__\u001b[0;34m(self, iterable)\u001b[0m\n\u001b[1;32m   1054\u001b[0m \u001b[0;34m\u001b[0m\u001b[0m\n\u001b[1;32m   1055\u001b[0m             \u001b[0;32mwith\u001b[0m \u001b[0mself\u001b[0m\u001b[0;34m.\u001b[0m\u001b[0m_backend\u001b[0m\u001b[0;34m.\u001b[0m\u001b[0mretrieval_context\u001b[0m\u001b[0;34m(\u001b[0m\u001b[0;34m)\u001b[0m\u001b[0;34m:\u001b[0m\u001b[0;34m\u001b[0m\u001b[0;34m\u001b[0m\u001b[0m\n\u001b[0;32m-> 1056\u001b[0;31m                 \u001b[0mself\u001b[0m\u001b[0;34m.\u001b[0m\u001b[0mretrieve\u001b[0m\u001b[0;34m(\u001b[0m\u001b[0;34m)\u001b[0m\u001b[0;34m\u001b[0m\u001b[0;34m\u001b[0m\u001b[0m\n\u001b[0m\u001b[1;32m   1057\u001b[0m             \u001b[0;31m# Make sure that we get a last message telling us we are done\u001b[0m\u001b[0;34m\u001b[0m\u001b[0;34m\u001b[0m\u001b[0m\n\u001b[1;32m   1058\u001b[0m             \u001b[0melapsed_time\u001b[0m \u001b[0;34m=\u001b[0m \u001b[0mtime\u001b[0m\u001b[0;34m.\u001b[0m\u001b[0mtime\u001b[0m\u001b[0;34m(\u001b[0m\u001b[0;34m)\u001b[0m \u001b[0;34m-\u001b[0m \u001b[0mself\u001b[0m\u001b[0;34m.\u001b[0m\u001b[0m_start_time\u001b[0m\u001b[0;34m\u001b[0m\u001b[0;34m\u001b[0m\u001b[0m\n",
      "\u001b[0;32m/shared-libs/python3.9/py/lib/python3.9/site-packages/joblib/parallel.py\u001b[0m in \u001b[0;36mretrieve\u001b[0;34m(self)\u001b[0m\n\u001b[1;32m    933\u001b[0m             \u001b[0;32mtry\u001b[0m\u001b[0;34m:\u001b[0m\u001b[0;34m\u001b[0m\u001b[0;34m\u001b[0m\u001b[0m\n\u001b[1;32m    934\u001b[0m                 \u001b[0;32mif\u001b[0m \u001b[0mgetattr\u001b[0m\u001b[0;34m(\u001b[0m\u001b[0mself\u001b[0m\u001b[0;34m.\u001b[0m\u001b[0m_backend\u001b[0m\u001b[0;34m,\u001b[0m \u001b[0;34m'supports_timeout'\u001b[0m\u001b[0;34m,\u001b[0m \u001b[0;32mFalse\u001b[0m\u001b[0;34m)\u001b[0m\u001b[0;34m:\u001b[0m\u001b[0;34m\u001b[0m\u001b[0;34m\u001b[0m\u001b[0m\n\u001b[0;32m--> 935\u001b[0;31m                     \u001b[0mself\u001b[0m\u001b[0;34m.\u001b[0m\u001b[0m_output\u001b[0m\u001b[0;34m.\u001b[0m\u001b[0mextend\u001b[0m\u001b[0;34m(\u001b[0m\u001b[0mjob\u001b[0m\u001b[0;34m.\u001b[0m\u001b[0mget\u001b[0m\u001b[0;34m(\u001b[0m\u001b[0mtimeout\u001b[0m\u001b[0;34m=\u001b[0m\u001b[0mself\u001b[0m\u001b[0;34m.\u001b[0m\u001b[0mtimeout\u001b[0m\u001b[0;34m)\u001b[0m\u001b[0;34m)\u001b[0m\u001b[0;34m\u001b[0m\u001b[0;34m\u001b[0m\u001b[0m\n\u001b[0m\u001b[1;32m    936\u001b[0m                 \u001b[0;32melse\u001b[0m\u001b[0;34m:\u001b[0m\u001b[0;34m\u001b[0m\u001b[0;34m\u001b[0m\u001b[0m\n\u001b[1;32m    937\u001b[0m                     \u001b[0mself\u001b[0m\u001b[0;34m.\u001b[0m\u001b[0m_output\u001b[0m\u001b[0;34m.\u001b[0m\u001b[0mextend\u001b[0m\u001b[0;34m(\u001b[0m\u001b[0mjob\u001b[0m\u001b[0;34m.\u001b[0m\u001b[0mget\u001b[0m\u001b[0;34m(\u001b[0m\u001b[0;34m)\u001b[0m\u001b[0;34m)\u001b[0m\u001b[0;34m\u001b[0m\u001b[0;34m\u001b[0m\u001b[0m\n",
      "\u001b[0;32m/shared-libs/python3.9/py/lib/python3.9/site-packages/joblib/_parallel_backends.py\u001b[0m in \u001b[0;36mwrap_future_result\u001b[0;34m(future, timeout)\u001b[0m\n\u001b[1;32m    540\u001b[0m         AsyncResults.get from multiprocessing.\"\"\"\n\u001b[1;32m    541\u001b[0m         \u001b[0;32mtry\u001b[0m\u001b[0;34m:\u001b[0m\u001b[0;34m\u001b[0m\u001b[0;34m\u001b[0m\u001b[0m\n\u001b[0;32m--> 542\u001b[0;31m             \u001b[0;32mreturn\u001b[0m \u001b[0mfuture\u001b[0m\u001b[0;34m.\u001b[0m\u001b[0mresult\u001b[0m\u001b[0;34m(\u001b[0m\u001b[0mtimeout\u001b[0m\u001b[0;34m=\u001b[0m\u001b[0mtimeout\u001b[0m\u001b[0;34m)\u001b[0m\u001b[0;34m\u001b[0m\u001b[0;34m\u001b[0m\u001b[0m\n\u001b[0m\u001b[1;32m    543\u001b[0m         \u001b[0;32mexcept\u001b[0m \u001b[0mCfTimeoutError\u001b[0m \u001b[0;32mas\u001b[0m \u001b[0me\u001b[0m\u001b[0;34m:\u001b[0m\u001b[0;34m\u001b[0m\u001b[0;34m\u001b[0m\u001b[0m\n\u001b[1;32m    544\u001b[0m             \u001b[0;32mraise\u001b[0m \u001b[0mTimeoutError\u001b[0m \u001b[0;32mfrom\u001b[0m \u001b[0me\u001b[0m\u001b[0;34m\u001b[0m\u001b[0;34m\u001b[0m\u001b[0m\n",
      "\u001b[0;32m/usr/local/lib/python3.9/concurrent/futures/_base.py\u001b[0m in \u001b[0;36mresult\u001b[0;34m(self, timeout)\u001b[0m\n\u001b[1;32m    438\u001b[0m                     \u001b[0;32mreturn\u001b[0m \u001b[0mself\u001b[0m\u001b[0;34m.\u001b[0m\u001b[0m__get_result\u001b[0m\u001b[0;34m(\u001b[0m\u001b[0;34m)\u001b[0m\u001b[0;34m\u001b[0m\u001b[0;34m\u001b[0m\u001b[0m\n\u001b[1;32m    439\u001b[0m \u001b[0;34m\u001b[0m\u001b[0m\n\u001b[0;32m--> 440\u001b[0;31m                 \u001b[0mself\u001b[0m\u001b[0;34m.\u001b[0m\u001b[0m_condition\u001b[0m\u001b[0;34m.\u001b[0m\u001b[0mwait\u001b[0m\u001b[0;34m(\u001b[0m\u001b[0mtimeout\u001b[0m\u001b[0;34m)\u001b[0m\u001b[0;34m\u001b[0m\u001b[0;34m\u001b[0m\u001b[0m\n\u001b[0m\u001b[1;32m    441\u001b[0m \u001b[0;34m\u001b[0m\u001b[0m\n\u001b[1;32m    442\u001b[0m                 \u001b[0;32mif\u001b[0m \u001b[0mself\u001b[0m\u001b[0;34m.\u001b[0m\u001b[0m_state\u001b[0m \u001b[0;32min\u001b[0m \u001b[0;34m[\u001b[0m\u001b[0mCANCELLED\u001b[0m\u001b[0;34m,\u001b[0m \u001b[0mCANCELLED_AND_NOTIFIED\u001b[0m\u001b[0;34m]\u001b[0m\u001b[0;34m:\u001b[0m\u001b[0;34m\u001b[0m\u001b[0;34m\u001b[0m\u001b[0m\n",
      "\u001b[0;32m/usr/local/lib/python3.9/threading.py\u001b[0m in \u001b[0;36mwait\u001b[0;34m(self, timeout)\u001b[0m\n\u001b[1;32m    310\u001b[0m         \u001b[0;32mtry\u001b[0m\u001b[0;34m:\u001b[0m    \u001b[0;31m# restore state no matter what (e.g., KeyboardInterrupt)\u001b[0m\u001b[0;34m\u001b[0m\u001b[0;34m\u001b[0m\u001b[0m\n\u001b[1;32m    311\u001b[0m             \u001b[0;32mif\u001b[0m \u001b[0mtimeout\u001b[0m \u001b[0;32mis\u001b[0m \u001b[0;32mNone\u001b[0m\u001b[0;34m:\u001b[0m\u001b[0;34m\u001b[0m\u001b[0;34m\u001b[0m\u001b[0m\n\u001b[0;32m--> 312\u001b[0;31m                 \u001b[0mwaiter\u001b[0m\u001b[0;34m.\u001b[0m\u001b[0macquire\u001b[0m\u001b[0;34m(\u001b[0m\u001b[0;34m)\u001b[0m\u001b[0;34m\u001b[0m\u001b[0;34m\u001b[0m\u001b[0m\n\u001b[0m\u001b[1;32m    313\u001b[0m                 \u001b[0mgotit\u001b[0m \u001b[0;34m=\u001b[0m \u001b[0;32mTrue\u001b[0m\u001b[0;34m\u001b[0m\u001b[0;34m\u001b[0m\u001b[0m\n\u001b[1;32m    314\u001b[0m             \u001b[0;32melse\u001b[0m\u001b[0;34m:\u001b[0m\u001b[0;34m\u001b[0m\u001b[0;34m\u001b[0m\u001b[0m\n",
      "\u001b[0;31mKeyboardInterrupt\u001b[0m: "
     ]
    }
   ]
  },
  {
   "cell_type": "code",
   "metadata": {
    "cell_id": "bce115c236b341cba9bc6f2ba0c77cde",
    "tags": [],
    "deepnote_to_be_reexecuted": true,
    "source_hash": "25b6eefb",
    "execution_start": 1652198805358,
    "execution_millis": 45,
    "output_cleared": true,
    "deepnote_cell_type": "code",
    "deepnote_cell_height": 99
   },
   "source": "pred = gs_clf.predict(preprocess(irony_val_text))\nprint(metrics.classification_report(irony_val_labels, pred, digits=3))",
   "execution_count": null,
   "outputs": []
  },
  {
   "cell_type": "code",
   "metadata": {
    "cell_id": "3c3c0ebe637f477ea2ed52b3d7b03e9c",
    "tags": [],
    "deepnote_to_be_reexecuted": true,
    "source_hash": "b623e53d",
    "deepnote_cell_type": "code",
    "deepnote_cell_height": 81
   },
   "source": "",
   "execution_count": null,
   "outputs": []
  },
  {
   "cell_type": "markdown",
   "source": "<a style='text-decoration:none;line-height:16px;display:flex;color:#5B5B62;padding:10px;justify-content:end;' href='https://deepnote.com?utm_source=created-in-deepnote-cell&projectId=e4cdc3a5-dd4a-4d72-a71a-972cea883107' target=\"_blank\">\n<img alt='Created in deepnote.com' style='display:inline;max-height:16px;margin:0px;margin-right:7.5px;' src='data:image/svg+xml;base64,PD94bWwgdmVyc2lvbj0iMS4wIiBlbmNvZGluZz0iVVRGLTgiPz4KPHN2ZyB3aWR0aD0iODBweCIgaGVpZ2h0PSI4MHB4IiB2aWV3Qm94PSIwIDAgODAgODAiIHZlcnNpb249IjEuMSIgeG1sbnM9Imh0dHA6Ly93d3cudzMub3JnLzIwMDAvc3ZnIiB4bWxuczp4bGluaz0iaHR0cDovL3d3dy53My5vcmcvMTk5OS94bGluayI+CiAgICA8IS0tIEdlbmVyYXRvcjogU2tldGNoIDU0LjEgKDc2NDkwKSAtIGh0dHBzOi8vc2tldGNoYXBwLmNvbSAtLT4KICAgIDx0aXRsZT5Hcm91cCAzPC90aXRsZT4KICAgIDxkZXNjPkNyZWF0ZWQgd2l0aCBTa2V0Y2guPC9kZXNjPgogICAgPGcgaWQ9IkxhbmRpbmciIHN0cm9rZT0ibm9uZSIgc3Ryb2tlLXdpZHRoPSIxIiBmaWxsPSJub25lIiBmaWxsLXJ1bGU9ImV2ZW5vZGQiPgogICAgICAgIDxnIGlkPSJBcnRib2FyZCIgdHJhbnNmb3JtPSJ0cmFuc2xhdGUoLTEyMzUuMDAwMDAwLCAtNzkuMDAwMDAwKSI+CiAgICAgICAgICAgIDxnIGlkPSJHcm91cC0zIiB0cmFuc2Zvcm09InRyYW5zbGF0ZSgxMjM1LjAwMDAwMCwgNzkuMDAwMDAwKSI+CiAgICAgICAgICAgICAgICA8cG9seWdvbiBpZD0iUGF0aC0yMCIgZmlsbD0iIzAyNjVCNCIgcG9pbnRzPSIyLjM3NjIzNzYyIDgwIDM4LjA0NzY2NjcgODAgNTcuODIxNzgyMiA3My44MDU3NTkyIDU3LjgyMTc4MjIgMzIuNzU5MjczOSAzOS4xNDAyMjc4IDMxLjY4MzE2ODMiPjwvcG9seWdvbj4KICAgICAgICAgICAgICAgIDxwYXRoIGQ9Ik0zNS4wMDc3MTgsODAgQzQyLjkwNjIwMDcsNzYuNDU0OTM1OCA0Ny41NjQ5MTY3LDcxLjU0MjI2NzEgNDguOTgzODY2LDY1LjI2MTk5MzkgQzUxLjExMjI4OTksNTUuODQxNTg0MiA0MS42NzcxNzk1LDQ5LjIxMjIyODQgMjUuNjIzOTg0Niw0OS4yMTIyMjg0IEMyNS40ODQ5Mjg5LDQ5LjEyNjg0NDggMjkuODI2MTI5Niw0My4yODM4MjQ4IDM4LjY0NzU4NjksMzEuNjgzMTY4MyBMNzIuODcxMjg3MSwzMi41NTQ0MjUgTDY1LjI4MDk3Myw2Ny42NzYzNDIxIEw1MS4xMTIyODk5LDc3LjM3NjE0NCBMMzUuMDA3NzE4LDgwIFoiIGlkPSJQYXRoLTIyIiBmaWxsPSIjMDAyODY4Ij48L3BhdGg+CiAgICAgICAgICAgICAgICA8cGF0aCBkPSJNMCwzNy43MzA0NDA1IEwyNy4xMTQ1MzcsMC4yNTcxMTE0MzYgQzYyLjM3MTUxMjMsLTEuOTkwNzE3MDEgODAsMTAuNTAwMzkyNyA4MCwzNy43MzA0NDA1IEM4MCw2NC45NjA0ODgyIDY0Ljc3NjUwMzgsNzkuMDUwMzQxNCAzNC4zMjk1MTEzLDgwIEM0Ny4wNTUzNDg5LDc3LjU2NzA4MDggNTMuNDE4MjY3Nyw3MC4zMTM2MTAzIDUzLjQxODI2NzcsNTguMjM5NTg4NSBDNTMuNDE4MjY3Nyw0MC4xMjg1NTU3IDM2LjMwMzk1NDQsMzcuNzMwNDQwNSAyNS4yMjc0MTcsMzcuNzMwNDQwNSBDMTcuODQzMDU4NiwzNy43MzA0NDA1IDkuNDMzOTE5NjYsMzcuNzMwNDQwNSAwLDM3LjczMDQ0MDUgWiIgaWQ9IlBhdGgtMTkiIGZpbGw9IiMzNzkzRUYiPjwvcGF0aD4KICAgICAgICAgICAgPC9nPgogICAgICAgIDwvZz4KICAgIDwvZz4KPC9zdmc+' > </img>\nCreated in <span style='font-weight:600;margin-left:4px;'>Deepnote</span></a>",
   "metadata": {
    "tags": [],
    "created_in_deepnote_cell": true,
    "deepnote_cell_type": "markdown"
   }
  }
 ],
 "nbformat": 4,
 "nbformat_minor": 2,
 "metadata": {
  "orig_nbformat": 2,
  "deepnote": {},
  "deepnote_notebook_id": "32df0299-ed25-487c-b55f-7307f6229735",
  "deepnote_execution_queue": []
 }
}