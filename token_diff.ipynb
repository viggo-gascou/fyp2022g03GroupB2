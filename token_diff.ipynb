{
 "cells": [
  {
   "cell_type": "code",
   "metadata": {
    "cell_id": "a8e02646-f16e-420e-8404-b68199036185",
    "deepnote_to_be_reexecuted": false,
    "execution_millis": 1464,
    "execution_start": 1650960230831,
    "source_hash": "e45c278d",
    "tags": [],
    "deepnote_cell_type": "code",
    "deepnote_cell_height": 171
   },
   "source": "import difflib\nimport nltk\nfrom nltk.tokenize import TweetTokenizer\nimport regex as re\nfrom pprint import pprint\nfrom collections import Counter",
   "execution_count": null,
   "outputs": []
  },
  {
   "cell_type": "code",
   "metadata": {
    "cell_id": "d1e69e3e16184d709e26192eb61ed379",
    "deepnote_to_be_reexecuted": false,
    "execution_millis": 101,
    "execution_start": 1650960232300,
    "source_hash": "152d825f",
    "tags": [],
    "deepnote_cell_type": "code",
    "deepnote_cell_height": 297
   },
   "source": "with open(\"pattern.txt\", \"r\") as f:\n    pat = re.compile(f.read())\n\nwith open(\"tweeteval/datasets/irony/train_text.txt\", \"r\") as f:\n    irony = f.read()\n\ncorp_irony = re.findall(pat, irony)\n\nwith open(\"tweeteval/datasets/stance/climate/train_text.txt\", \"r\") as f:\n    stance_climate = f.read()\n\ncorp_stance = re.findall(pat, stance_climate)\n",
   "execution_count": null,
   "outputs": []
  },
  {
   "cell_type": "code",
   "metadata": {
    "cell_id": "b60c16104582459283244bc4d87ec48a",
    "deepnote_to_be_reexecuted": false,
    "execution_millis": 226,
    "execution_start": 1650960234238,
    "source_hash": "1285d9f9",
    "tags": [],
    "deepnote_cell_type": "code",
    "deepnote_cell_height": 117
   },
   "source": "nltk_token = TweetTokenizer()\nnltk_irony = nltk_token.tokenize(irony)\nnltk_stance = nltk_token.tokenize(stance_climate)",
   "execution_count": null,
   "outputs": []
  },
  {
   "cell_type": "code",
   "metadata": {
    "cell_id": "a7d88ed6c2104d9b9476cb48a779a8f0",
    "deepnote_to_be_reexecuted": false,
    "execution_millis": 1964,
    "execution_start": 1650960236095,
    "source_hash": "e3982b5a",
    "tags": [],
    "deepnote_cell_type": "code",
    "deepnote_cell_height": 491.390625
   },
   "source": "d = difflib.Differ()\nresult = list(d.compare(corp_irony, nltk_irony))\nsame_c, uniq_nltk, uniq_our, not_present = 0, 0, 0, 0\nsame_lst, nltk_lst, our_lst, not_lst = [], [], [], []\nfor line in result:\n    if line.startswith(\" \"):\n        same_lst.append(line)\n        same_c += 1\n    if line.startswith(\"+\"):\n        nltk_lst.append(line)\n        uniq_nltk += 1\n    if line.startswith(\"-\"):\n        our_lst.append(line)\n        uniq_our += 1\n    if line.startswith(\"?\"):\n        not_lst.append(line)\n        not_present += 1\n\nprint(same_c, uniq_nltk, uniq_our, not_present)\n\nprint(uniq_our + uniq_nltk)",
   "execution_count": null,
   "outputs": [
    {
     "name": "stdout",
     "text": "37288 7734 1053 319\n8787\n",
     "output_type": "stream"
    }
   ]
  },
  {
   "cell_type": "code",
   "metadata": {
    "cell_id": "2056ae5ff89f4e80933ed9454aad89ec",
    "tags": [],
    "deepnote_to_be_reexecuted": false,
    "source_hash": "30ce3583",
    "execution_start": 1650960241628,
    "execution_millis": 729,
    "deepnote_cell_type": "code",
    "deepnote_cell_height": 755
   },
   "source": "\nnltk_lst = sorted(nltk_lst)\nour_lst = sorted(our_lst)\npprint(nltk_lst)",
   "execution_count": null,
   "outputs": [
    {
     "name": "stdout",
     "text": " '+ RT',\n '+ RT',\n '+ RT',\n '+ RT',\n '+ RT',\n '+ RT',\n '+ RT',\n '+ RTs',\n '+ Radical',\n '+ Raglan',\n '+ Rai',\n '+ Raiola',\n '+ Raving',\n '+ Read',\n '+ Really',\n '+ Red',\n '+ Red',\n '+ Red',\n '+ Relationships',\n '+ Religious',\n '+ Remember',\n '+ Remix',\n '+ Reporter',\n '+ Republicans',\n '+ Requiring',\n '+ Rescored',\n '+ Restaurant',\n '+ Restoration',\n '+ Reverend',\n '+ Rex',\n '+ Reza',\n '+ Rheumatoid',\n '+ Rhinestones',\n '+ Ribbon',\n \"+ Rice's\",\n '+ Rich',\n '+ Richard',\n '+ Rights',\n '+ Rob',\n '+ Robert',\n '+ Rockefeller',\n '+ Rodriguez',\n '+ Roman',\n '+ Romance',\n '+ Rosicky',\n '+ Rusney',\n '+ Russell',\n '+ Russell',\n '+ Russell',\n '+ SA',\n '+ SAIC',\n '+ SATURDAY',\n '+ SAY',\n '+ SCRATCHING',\n '+ SEACRET',\n '+ SHAME',\n '+ SHAME',\n '+ SHE',\n '+ SHOWED',\n '+ SIT',\n '+ SLAYING',\n '+ SMILE',\n '+ SMS',\n '+ SO',\n '+ SO',\n '+ SO',\n '+ SOCIAL',\n '+ SP',\n '+ STARING',\n '+ STARTED',\n '+ STYLISH',\n '+ SUCH',\n '+ SUNDAY',\n '+ SUPPOSED',\n '+ Sacha',\n '+ Saddam',\n '+ Safety',\n '+ San',\n '+ Sanjay',\n '+ Santa',\n '+ Santa',\n '+ Santana',\n '+ Saudi',\n '+ Say',\n '+ Sayers',\n '+ Saying',\n '+ Scene',\n '+ School',\n '+ Schwarzenegger',\n '+ Scientist',\n '+ Scooby',\n '+ Scotia',\n '+ Scott',\n '+ Sea',\n '+ Seattle',\n '+ Secret',\n '+ Secret',\n '+ Secret',\n '+ Secret',\n '+ Security',\n '+ Security',\n '+ See',\n '+ See-http',\n '+ See-http',\n '+ See-http',\n '+ Seine',\n '+ Semi',\n '+ Senate',\n '+ Senate',\n '+ Series',\n '+ Series',\n '+ Services',\n '+ Set',\n '+ Shadow',\n '+ Sheeran',\n '+ Sheriff',\n '+ Shorts',\n '+ Should',\n '+ Si',\n '+ Sick',\n '+ Sig-ni-fi-cant',\n '+ Sirat',\n '+ Sky',\n '+ Skywalker',\n '+ Sleep',\n '+ Slowing',\n '+ Smart',\n '+ SmartPhone',\n '+ Smith',\n '+ So',\n '+ So',\n '+ So',\n '+ So',\n '+ So',\n '+ So',\n '+ Social',\n '+ Society',\n '+ Someone',\n '+ Sony',\n '+ Sony',\n '+ Source',\n '+ Sources',\n '+ South',\n '+ Southampton',\n '+ Soweto',\n '+ Sox',\n '+ Sparks',\n '+ Speakers',\n '+ Specified',\n '+ Spending',\n '+ Spice',\n '+ Spike',\n '+ Sports',\n '+ Sprig',\n '+ Springsteen',\n '+ Staff',\n '+ Standard',\n '+ Stark',\n '+ Stark',\n '+ Started',\n '+ State',\n '+ State',\n '+ Stefan',\n '+ Steinlager',\n '+ Steven',\n '+ Stewart',\n '+ Stole',\n '+ Story',\n '+ Striker',\n '+ Student',\n '+ Studio',\n '+ Style',\n '+ Subsidy',\n '+ Substitute',\n '+ Supporters',\n '+ Sure',\n '+ Sussex',\n '+ Sweater',\n '+ Sweet',\n '+ Sweet',\n \"+ T-Mobile's\",\n '+ TAKE',\n '+ TERRIBILE',\n '+ THAN',\n '+ THAT',\n \"+ THAT'S\",\n '+ THE',\n '+ THE',\n '+ THE',\n '+ THE',\n '+ THE',\n '+ THE',\n '+ THE',\n '+ THE',\n '+ THE',\n '+ THESE',\n '+ THINK',\n '+ THIRD',\n '+ THOUGHT',\n '+ TIME',\n '+ TO',\n '+ TO',\n '+ TO',\n '+ TO',\n '+ TO',\n '+ TO',\n '+ TO',\n '+ TO',\n '+ TRAVELED',\n '+ TRIED',\n '+ TWINS',\n '+ Taarabt',\n '+ Taken',\n '+ Taking',\n '+ Taking',\n '+ Talib',\n '+ Taliban',\n '+ Tamir',\n '+ Tampa',\n '+ Tampa',\n '+ Taylor',\n '+ Taylor',\n '+ Tech',\n '+ Tee',\n '+ Teguise',\n '+ Terrorists',\n '+ Thank',\n '+ Thanks',\n '+ Thanks',\n '+ Thanks',\n '+ Thanks',\n '+ Thanks',\n '+ That',\n '+ That',\n '+ That',\n '+ That',\n '+ The',\n '+ The',\n '+ The',\n '+ The',\n '+ The',\n '+ The',\n '+ The',\n '+ The',\n '+ The',\n '+ The',\n '+ The',\n '+ The',\n '+ The',\n '+ The',\n '+ The',\n '+ The',\n '+ The',\n '+ The',\n '+ The',\n '+ The',\n '+ The',\n '+ The',\n '+ The',\n '+ The',\n '+ The',\n '+ The',\n '+ The',\n '+ Their',\n '+ Them',\n \"+ They're\",\n '+ This',\n '+ Those',\n '+ Those',\n '+ Tickets',\n '+ Tiger',\n '+ Tim',\n '+ To',\n '+ To',\n '+ To',\n '+ To',\n '+ To',\n '+ To',\n '+ To',\n '+ Told',\n '+ Tom',\n '+ Tom',\n '+ Tom',\n '+ Tomas',\n '+ Tonight',\n '+ Tony',\n '+ Topless',\n '+ Transactions',\n '+ Transfer',\n '+ Tribal',\n '+ Trinity',\n '+ Tulisa',\n '+ Tune',\n '+ Twitch',\n '+ Twitter',\n '+ Twitter',\n '+ Two',\n '+ Two',\n \"+ Tyndall's\",\n '+ U',\n '+ U',\n '+ U',\n '+ U',\n '+ UK',\n '+ UNLIMITED',\n '+ UPSET',\n '+ US',\n '+ USA',\n '+ USC',\n '+ UVa',\n '+ Ugly',\n '+ Ukras',\n '+ Ultras',\n '+ Uncertainty',\n '+ Unemployment',\n '+ Unfollow',\n '+ Union',\n '+ United',\n '+ United',\n '+ University',\n '+ University',\n '+ Unknown',\n '+ Update',\n '+ Updated',\n '+ Urgent',\n \"+ Valentine's\",\n '+ Velvet',\n '+ Veni',\n '+ Versace',\n '+ Vi',\n '+ Victoria',\n '+ Victoria',\n '+ Vidi',\n '+ View',\n '+ Vine',\n '+ Viral',\n '+ Vision',\n '+ WAITTNG',\n '+ WANT',\n '+ WAS',\n '+ WAS',\n '+ WE',\n '+ WE',\n '+ WE',\n '+ WENGER',\n '+ WHAT',\n '+ WHERE',\n '+ WHO',\n '+ WHOLE',\n '+ WILL',\n '+ WINNER',\n '+ WITH',\n '+ WORD',\n \"+ WORLD'S\",\n '+ WOW',\n '+ Wadi',\n '+ Wall',\n '+ Warehouse',\n '+ Warwick',\n '+ Watch',\n '+ Watching',\n '+ Water',\n '+ Way',\n '+ We',\n '+ Wealthy',\n '+ Week',\n '+ Werleman',\n '+ West',\n '+ West',\n '+ What',\n '+ What',\n '+ What',\n '+ When',\n '+ When',\n '+ Which',\n '+ Whiteboard',\n '+ Who',\n '+ Who',\n '+ Who',\n '+ Why',\n '+ Wifey',\n '+ Wifi',\n '+ Wii',\n '+ Wikileaks',\n '+ Will',\n '+ Will',\n '+ Will',\n \"+ Wilson's\",\n '+ Win',\n '+ Windows',\n '+ Winged',\n '+ Winning',\n '+ Winston',\n '+ Winter',\n '+ Winter',\n '+ With',\n \"+ Women's\",\n '+ Woods',\n '+ Woohoo',\n '+ Work',\n '+ Work',\n '+ World',\n '+ World',\n '+ Worth',\n '+ Worth',\n '+ Wow',\n '+ Wrinkles',\n '+ XBOX',\n '+ XD',\n '+ XLT',\n '+ Xander',\n '+ Xbox',\n '+ Xbox',\n '+ YEAR',\n '+ YEARS',\n '+ YES',\n '+ YOU',\n '+ YOU',\n '+ YOU',\n '+ YOU',\n '+ YOU',\n '+ YOUR',\n '+ YOUR',\n '+ YOUR',\n '+ YOUR',\n '+ YOUR',\n '+ Yaaaayyy',\n '+ Yale',\n '+ Yeah',\n '+ Year',\n '+ Year',\n \"+ Year's\",\n \"+ Year's\",\n '+ Years',\n '+ Yellow',\n '+ Yes',\n '+ York',\n '+ York',\n '+ You',\n '+ You',\n '+ You',\n '+ You',\n '+ You',\n '+ You',\n \"+ You've\",\n '+ Your',\n '+ ZERO',\n '+ Zach',\n '+ Zealand',\n '+ Zuckerberg',\n '+ [',\n '+ [',\n '+ [',\n '+ ]',\n '+ ]',\n '+ ]',\n '+ ]',\n '+ ^',\n '+ ^',\n '+ ^',\n '+ ^',\n '+ ^',\n '+ ^',\n '+ ^',\n '+ ^',\n '+ ^',\n '+ _',\n '+ _',\n '+ _',\n '+ _',\n '+ _',\n '+ _',\n '+ _',\n '+ _',\n '+ _',\n '+ _',\n '+ _',\n '+ ___',\n '+ ___',\n '+ _traviiiiis',\n '+ a',\n '+ a',\n '+ a',\n '+ a',\n '+ a',\n '+ a',\n '+ a',\n '+ a',\n '+ a',\n '+ a',\n '+ a',\n '+ a',\n '+ a',\n '+ a.mornin.person',\n '+ alissamarie_b',\n '+ am',\n '+ am',\n '+ am',\n '+ am',\n '+ am',\n '+ am',\n '+ americans',\n '+ attitude',\n '+ back-and-forth',\n '+ back-of-the-palm',\n '+ beat',\n '+ big',\n '+ blues.enough.vacation.days',\n '+ city-data',\n '+ cntrl-alt-deleting',\n '+ counter-productive',\n '+ couple',\n '+ cover.Climate',\n '+ day.thanks',\n '+ dislike',\n '+ drawing.as.well',\n '+ e-l-e-n-a-t',\n '+ economic',\n '+ eventually',\n '+ every',\n \"+ ex-girlfriend's\",\n '+ fan-freakin-tastic',\n '+ favourable',\n '+ fired.all',\n '+ fleek',\n '+ friends',\n '+ frivolous',\n '+ goal',\n '+ good',\n '+ grandtheftauto_five_troller',\n '+ heavy',\n '+ holiday',\n '+ hood-rat',\n '+ hotter',\n '+ http://t.co/2YQdPhfZKX',\n '+ http://t.co/EJaFcMsIrA',\n '+ http://t.co/Q2WB7riAvK|SmartPhone',\n '+ http://t.co/Q2WB7riAvK|SmartPhone',\n '+ http://t.co/SEPGzy9Bzb|Post',\n '+ http://t.co/TVgJXJy9DH|SmartPhone',\n '+ i',\n '+ i',\n '+ i',\n '+ i',\n '+ i',\n '+ immigration',\n '+ inferior',\n '+ ironic',\n '+ it.individuals',\n '+ jessica',\n '+ job',\n \"+ jury's\",\n '+ lacing',\n '+ lavin',\n '+ mark',\n '+ morelikes_app',\n '+ morning.My',\n '+ negro',\n '+ network',\n '+ new',\n '+ nic_kill',\n '+ no',\n '+ only',\n '+ only.for.eating',\n '+ p',\n '+ pm',\n '+ races',\n '+ racists',\n '+ sarcastic',\n '+ second',\n '+ sides',\n '+ small',\n '+ sneeze',\n '+ soothing',\n '+ species',\n '+ stl.You',\n '+ supple',\n '+ t.co/AlppO5hIe5',\n '+ t.co/RDlRuGN0iE',\n '+ t.co/RDlRuGN0iE',\n '+ th',\n '+ thing',\n '+ trauma',\n '+ up-to-date',\n '+ w',\n '+ w',\n '+ w',\n '+ w',\n '+ w',\n '+ w',\n '+ w',\n '+ w',\n '+ w',\n '+ w',\n '+ w',\n '+ w',\n '+ war.That',\n '+ waves',\n '+ women',\n '+ www.MonsterMMORPG',\n '+ www.MonsterMMORPG',\n '+ www.MonsterMMORPG',\n '+ www.monstermmorpg',\n '+ www.monstermmorpg',\n '+ yrs.In',\n '+ |',\n '+ |',\n '+ |',\n '+ |',\n '+ |',\n '+ |',\n '+ |',\n '+ |',\n '+ |',\n '+ |',\n '+ |',\n '+ |',\n '+ |',\n '+ |',\n '+ |',\n '+ |',\n '+ |',\n '+ |',\n '+ |',\n '+ |',\n '+ |',\n '+ |',\n '+ |',\n '+ |',\n '+ |',\n '+ |',\n '+ |',\n '+ |',\n '+ |',\n '+ |',\n '+ |',\n '+ |',\n '+ |',\n '+ |',\n '+ |',\n '+ |',\n '+ |',\n '+ |',\n '+ |',\n '+ |',\n '+ |',\n '+ |',\n '+ |',\n '+ |',\n '+ |',\n '+ |',\n '+ |',\n '+ |',\n '+ |',\n '+ |',\n '+ |',\n '+ |',\n '+ |',\n '+ |',\n '+ |',\n '+ |',\n '+ |',\n '+ |',\n '+ |',\n '+ |',\n '+ |',\n '+ |',\n '+ |',\n '+ |',\n '+ |',\n '+ |',\n '+ |',\n '+ |',\n '+ |',\n '+ |',\n '+ |',\n '+ |',\n '+ |',\n '+ |',\n '+ |',\n '+ |',\n '+ |',\n '+ |',\n '+ |',\n '+ |',\n '+ |',\n '+ |',\n '+ |',\n '+ |',\n '+ |',\n '+ |',\n '+ |',\n '+ |',\n '+ |',\n '+ |',\n '+ |',\n '+ |',\n '+ |',\n '+ |',\n '+ |',\n '+ |',\n '+ |',\n '+ |',\n '+ |',\n '+ |',\n '+ |',\n '+ |',\n '+ |',\n '+ |',\n '+ |',\n '+ |',\n '+ |',\n '+ |',\n '+ |',\n '+ |',\n '+ |',\n '+ |',\n '+ |',\n '+ |',\n '+ |',\n '+ |',\n '+ |',\n '+ |',\n '+ |',\n '+ |',\n '+ |',\n '+ |',\n '+ |',\n '+ |',\n '+ |',\n '+ |',\n '+ |',\n '+ |',\n '+ |',\n '+ |',\n '+ |',\n '+ |',\n '+ |',\n '+ |',\n '+ |',\n '+ |',\n '+ |',\n '+ |',\n '+ |',\n '+ |',\n '+ |',\n '+ |',\n '+ |',\n '+ |',\n '+ |',\n '+ |',\n '+ |',\n '+ |',\n '+ |',\n '+ |',\n '+ |',\n '+ |',\n '+ |',\n '+ |',\n '+ |',\n '+ |',\n '+ |',\n '+ |',\n '+ |',\n '+ |',\n '+ |',\n '+ |',\n '+ |',\n '+ |',\n '+ |',\n '+ |',\n '+ |',\n '+ |',\n '+ |',\n '+ |',\n '+ |',\n '+ |',\n '+ |',\n '+ |',\n '+ |',\n '+ |',\n '+ |',\n '+ |',\n '+ |',\n '+ |',\n '+ |',\n '+ |',\n '+ |',\n '+ |',\n '+ |',\n '+ |',\n '+ |',\n '+ |',\n '+ |',\n '+ |',\n '+ |',\n '+ |',\n '+ |',\n '+ |',\n '+ |',\n '+ |',\n '+ |',\n '+ |',\n '+ |',\n '+ |',\n '+ |',\n '+ |',\n '+ |',\n '+ |',\n '+ |',\n '+ |',\n '+ |',\n '+ |',\n '+ |',\n '+ |',\n '+ |',\n '+ |',\n '+ |',\n '+ |',\n '+ |',\n '+ |',\n '+ |',\n '+ |',\n '+ |',\n '+ |',\n '+ |',\n '+ |',\n '+ |',\n '+ |',\n '+ |',\n '+ |',\n '+ |',\n '+ |',\n '+ |',\n '+ |',\n '+ |',\n '+ |',\n '+ |',\n '+ |',\n '+ |',\n '+ |',\n '+ |',\n '+ |',\n '+ |',\n '+ |',\n '+ |',\n '+ |',\n '+ |',\n '+ |',\n '+ |',\n '+ |',\n '+ |',\n '+ |',\n '+ |',\n '+ |',\n '+ |',\n '+ |',\n '+ |',\n '+ |',\n '+ |',\n '+ |',\n '+ |',\n '+ |',\n '+ |',\n '+ |',\n '+ |',\n '+ |',\n '+ |',\n '+ |',\n '+ |',\n '+ |',\n '+ |',\n '+ |',\n '+ |',\n '+ |',\n '+ |',\n '+ |',\n '+ |',\n '+ |',\n '+ |',\n '+ |',\n '+ |',\n '+ |',\n '+ |',\n '+ |',\n '+ |',\n '+ |',\n '+ |',\n '+ |',\n '+ |',\n '+ |',\n '+ |',\n '+ |',\n '+ |',\n '+ |',\n '+ |',\n '+ |',\n '+ |',\n '+ |',\n '+ |',\n '+ |',\n '+ |',\n '+ |',\n '+ |',\n '+ |',\n '+ |',\n '+ |',\n '+ |',\n '+ |',\n '+ |',\n '+ |',\n '+ |',\n '+ |',\n '+ |',\n '+ |',\n '+ |',\n '+ |',\n '+ |',\n '+ |',\n '+ |',\n '+ |',\n '+ |',\n '+ |',\n '+ |',\n '+ |',\n '+ |',\n '+ |',\n '+ |',\n '+ |',\n '+ |',\n '+ |',\n '+ |',\n '+ |',\n '+ |',\n '+ |',\n '+ |',\n '+ |',\n '+ |',\n '+ |',\n '+ |',\n '+ |',\n '+ |',\n '+ |',\n '+ |',\n '+ |',\n '+ ~',\n '+ ~',\n '+ ~',\n '+ ~',\n '+ ~',\n '+ ~',\n '+ ~',\n '+ ~',\n '+ ~',\n '+ ¢',\n '+ £',\n '+ £',\n '+ £',\n '+ £',\n '+ £',\n '+ £',\n '+ £',\n '+ «',\n '+ °',\n '+ °',\n '+ ×',\n '+ â',\n '+ –',\n '+ –',\n '+ –',\n '+ –',\n '+ –',\n '+ –',\n '+ –',\n '+ –',\n '+ –',\n '+ —',\n '+ —',\n '+ —',\n '+ ’',\n '+ …',\n '+ …',\n '+ …',\n '+ €',\n '+ ℃',\n '+ ℃',\n '+ ☀',\n '+ ☀',\n '+ ☁',\n '+ ☆',\n '+ ☆',\n '+ ☆',\n '+ ☔',\n '+ ☔',\n '+ ☔',\n '+ ☔',\n '+ ☕',\n '+ ☕',\n '+ \\U000fe341']\n",
     "output_type": "stream"
    }
   ]
  },
  {
   "cell_type": "code",
   "metadata": {
    "cell_id": "874cc94ba0ad4bf48f20998d75c3322c",
    "tags": [],
    "owner_user_id": "9f7938c4-a781-4d9c-bc76-659de9a5470f",
    "deepnote_cell_type": "code",
    "deepnote_cell_height": 66
   },
   "source": "",
   "execution_count": null,
   "outputs": []
  },
  {
   "cell_type": "markdown",
   "source": "<a style='text-decoration:none;line-height:16px;display:flex;color:#5B5B62;padding:10px;justify-content:end;' href='https://deepnote.com?utm_source=created-in-deepnote-cell&projectId=e4cdc3a5-dd4a-4d72-a71a-972cea883107' target=\"_blank\">\n<img alt='Created in deepnote.com' style='display:inline;max-height:16px;margin:0px;margin-right:7.5px;' src='data:image/svg+xml;base64,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' > </img>\nCreated in <span style='font-weight:600;margin-left:4px;'>Deepnote</span></a>",
   "metadata": {
    "tags": [],
    "created_in_deepnote_cell": true,
    "deepnote_cell_type": "markdown"
   }
  }
 ],
 "nbformat": 4,
 "nbformat_minor": 2,
 "metadata": {
  "deepnote": {},
  "deepnote_execution_queue": [],
  "deepnote_notebook_id": "6914812d-b1e4-461c-8d93-9080bf897be8",
  "language_info": {
   "name": "python"
  },
  "orig_nbformat": 2
 }
}