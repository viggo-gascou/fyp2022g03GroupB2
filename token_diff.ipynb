{
 "cells": [
  {
   "cell_type": "code",
   "execution_count": 2,
   "metadata": {
    "cell_id": "a8e02646-f16e-420e-8404-b68199036185",
    "deepnote_cell_height": 135,
    "deepnote_cell_type": "code",
    "deepnote_to_be_reexecuted": false,
    "execution_millis": 0,
    "execution_start": 1650540493737,
    "source_hash": "77ed952d",
    "tags": []
   },
   "outputs": [],
   "source": [
    "import difflib\n",
    "import nltk\n",
    "from nltk.tokenize import TweetTokenizer\n",
    "import regex as re\n",
    "from pprint import pprint\n",
    "from collections import Counter\n",
    "import pandas as pd"
   ]
  },
  {
   "cell_type": "code",
   "execution_count": 3,
   "metadata": {
    "cell_id": "d1e69e3e16184d709e26192eb61ed379",
    "deepnote_cell_height": 297,
    "deepnote_cell_type": "code",
    "deepnote_to_be_reexecuted": false,
    "execution_millis": 41,
    "execution_start": 1650540561776,
    "source_hash": "152d825f",
    "tags": []
   },
   "outputs": [],
   "source": [
    "with open(\"pattern.txt\", \"r\") as f:\n",
    "    pat = re.compile(f.read())\n",
    "\n",
    "with open(\"tweeteval/datasets/irony/train_text.txt\", \"r\") as f:\n",
    "    irony = f.read()\n",
    "\n",
    "corp_irony = re.findall(pat, irony)\n",
    "\n",
    "with open(\"tweeteval/datasets/stance/climate/train_text.txt\", \"r\") as f:\n",
    "    stance_climate = f.read()\n",
    "\n",
    "corp_stance = re.findall(pat, stance_climate)\n"
   ]
  },
  {
   "cell_type": "code",
   "execution_count": 5,
   "metadata": {
    "cell_id": "b60c16104582459283244bc4d87ec48a",
    "deepnote_cell_height": 117,
    "deepnote_cell_type": "code",
    "deepnote_output_heights": [
     611
    ],
    "deepnote_to_be_reexecuted": false,
    "execution_millis": 214,
    "execution_start": 1650540682440,
    "source_hash": "1285d9f9",
    "tags": []
   },
   "outputs": [],
   "source": [
    "nltk_token = TweetTokenizer()\n",
    "nltk_irony = nltk_token.tokenize(irony)\n",
    "nltk_stance = nltk_token.tokenize(stance_climate)"
   ]
  },
  {
   "cell_type": "code",
   "execution_count": 25,
   "metadata": {
    "cell_id": "a7d88ed6c2104d9b9476cb48a779a8f0",
    "deepnote_cell_height": 152.1875,
    "deepnote_cell_type": "code",
    "deepnote_to_be_reexecuted": false,
    "execution_millis": 2131,
    "execution_start": 1650540720906,
    "owner_user_id": "b6cc7348-6fc5-4d35-ad0e-eb6f6874910a",
    "source_hash": "6e2daaf9",
    "tags": []
   },
   "outputs": [
    {
     "name": "stdout",
     "output_type": "stream",
     "text": [
      "37288 7734 1053 319\n",
      "8787\n"
     ]
    }
   ],
   "source": [
    "d = difflib.Differ()\n",
    "result = list(d.compare(corp_irony, nltk_irony))\n",
    "\n",
    "same_lst = [line for line in result if line.startswith(\" \")]\n",
    "nltk_lst = [line for line in result if line.startswith(\"+\")]\n",
    "our_lst = [line for line in result if line.startswith(\"-\")]\n",
    "not_lst = [line for line in result if line.startswith(\"?\")]\n",
    "\n",
    "same_c = len(same_lst)\n",
    "uniq_nltk = len(nltk_lst)\n",
    "uniq_our = len(our_lst)\n",
    "not_present = len(not_lst)\n",
    "\n",
    "print(same_c, uniq_nltk, uniq_our, not_present)\n",
    "\n",
    "print(uniq_our + uniq_nltk)\n"
   ]
  },
  {
   "cell_type": "code",
   "execution_count": 32,
   "metadata": {},
   "outputs": [],
   "source": [
    "test_str = \"\"\"All I can say is I'm lucky. \n",
    "#notcies #eu Liverpool workers \"miscarriage of justice\" victims \n",
    "@user yesss! What makes it worse is when they look gorgeous and say \"I just got my face beat!\" Wtf?  #Contradiction \n",
    "Xmas on the blog feat @user and @user * Read our story and share the LOVE ❤️ Click the link... \n",
    "Watching the move 'Begin Again' and the verisimilitude is overpowering, it's like I'm back in the 90s music business again.   \n",
    "This is not the moon. Pictures like the moon is made of light bulbs.  #the #moon :) \n",
    "I got ready and then got to school and parked in less than 12 minutes! #miracle \n",
    "@user yeah. So as you can see, I have great success with the ladies! And I'm totally excited for having sex some more!  \n",
    "I don't like clowns but I'm going to be one.  \n",
    "MLS Transactions 2015 #MLS making waves again   2 b fair it will take more than 2 players to fix this \n",
    "@user I'll be a bit sweaty by the time I get to you! \n",
    " a bad game last night. Way to go Packers! \n",
    "I hope I could recover from fever today. I need to start with strama.. \n",
    "somebody wake me up early tomorrow ive been facing weird aches in my back since early december .,. and why do u think that relates madaka \n",
    "The Champions League is overrated anyway!  \n",
    "Porygon2 are  found in the www.monstermmorpg. com wild. #firemen follow @user #paint \n",
    "@user are you looking at the wrong profile picture? \n",
    "@user One day I want to travel with my bestfriend 🌏✈️ DONE DID TRAVELED DA WORLD!! @user ❤️ \n",
    "@user u simply cant win with @user if it is twitter fight!!! :-P \n",
    "Fully charged my #Anker portable charger...it lasted 1/2 an hour.  Awesome #Fail \n",
    "#Italy -- #Cabinet #approves #first #planks of #Renzi's #labour #reform. via @user \n",
    "ruling party in power#central#state#misusing their power#PM speaking only in foreign parliment#pm to visit out side india during session \n",
    "Gareth's polar opposite is a chicken-loving vegetarian 😂🐣  #Bones @user \n",
    "Watching creepy shit before bed when alone = bad idea. Is there a spell to turn a French bulldog into a big ass bulldog? #bewareofdog  \n",
    "i do occupy rent free space in his cranial cavity LOL @user \n",
    "Had to take a #PatioPics - snow falling still. This was totally clear when I went to sleep. #WCCO \n",
    "August has the most birthdays, February has the least and most of the serial killers are born in November!||-so dont mess up with me|#nov26 \n",
    "Lol RT @user Wouldn't surprise me if Soldado bangs in a hatrick and we win 0-3 against Chelsea tonight .. The legend is back \n",
    "My husband thinks I'm crazy because I taped my tape dispenser. Hehe. I'm handy like that. .... \n",
    "My secret name is lizard squad. I like to ruin people's fun time. Follow and rt to a billion and you'll have fun. #psn  #giveitup \n",
    "Tomorrow's afternoon #NFL sked in #PanamaCity area: WECP 12p #KCvsPIT, 3:25p #INDvsDAL; WPGX 12p #ATLvsNO. \n",
    "@user @user I sure hope ev1 vaccinations are up to date! #GoBolts @user @user @user \n",
    "Pulis turned down #NUFC cos he wants to spend a load of money on 30 year old journeymen. Parish wouldn't let him & neither would MA. #cpfc \n",
    "Sending best wishes to all my coworkers at the 9AM this morning  \n",
    "@user try having no internet for a month. Now I know how Ethiopians feel.  \n",
    "so, sane peoples would talk to themselves in twitter because they can't find other sane humans to talk to. that  #retweet#ifagree \n",
    "Thanks @user for connecting. Always look forward to exchange thoughts n ideas with #entrepreneur working on #green n #sustainability \n",
    "Seems as if @user wants to endorse me on LinkedIn for  - any thoughts on this from the #OMCchat crowd? \n",
    "Love being made fun of  \n",
    "@user @user @user Oh wow your talking Skype! Cool!  \n",
    "he was half of what she deserved, yet he was all that she ever wanted ,,,,  \n",
    "5:30AM 00:00 12PM\n",
    "#Christmas  #been #the #best @ West Monkseaton \n",
    "Parking meter obviously forgot to get its own parking ticket.  \n",
    "About to fuck up this Media exam  #actuallyihopeso \n",
    "well today is gonna be a great day 👌  \n",
    "Heaven help the fool who did her wrong \n",
    "Just bartered for a bottle of rum in best one, and got it down from £18 to £14. Happy Fucking New Year to me!! \n",
    "find ONE local PD that reported an 80% drop @user @user @user @user @user @user \n",
    "@user @user Money 4 Church|http://t.co/Q2WB7riAvK|SmartPhone APP PAYS you!|See-http://t.co/RDlRuGN0iE |Go 2: \n",
    "Well it's always a good time losing at the Bay... @user @user @user \n",
    "Welsh devolution? How's this for starters... \n",
    "I love when folks call Brady a system QB but are THE BIGGEST Peyton Manning fans. . \n",
    "@user Instead of playing the pompous \"do you know who I am card?\" , how about you actually make an educated rebuttal? \n",
    "Kind of love how I got a voicemail from my seat neighbor wondering where I was yet they constantly sell their ticket & I never ask  \n",
    "I feel a nap in my near future. #NapTime \n",
    "#AnalScreen #Exotic Exotic brunette gets her little tight butt nailed right on the office desk \n",
    "#sundayfunday #mylove #mermaidlove #newyear2015 @ Rockefeller Center \n",
    "The ever so caring @user gets to see the siege ending first. Great journalism.  \n",
    "www.google.com\n",
    "@user You truly are my son. \n",
    "hmmm. I do wonder why Astec has one fewer employee? #lol  \n",
    "#Germany -- #ECB's #Weidmann #says #German #2015 #growth #may #be #better #than #expected. via @user \n",
    "Kevin Durant with 23pts on 8-13 shooting, has this nigga been inefficient since he came.  \n",
    "This chap seems to be a bit of an over sexed out going extrovert ... Must be his overly masculine voice and demeanor.   \n",
    "Damit, this fatima bhutto has an instagram account but not pics of her. Some random shit...and then ppl i follow keep posting pics.  \n",
    "@user so funny lolololol  \n",
    "@user @user what the hell ever. \n",
    "On my lunch break so sleepy😴 \n",
    "@user @user More clean OR cleaner, never more cleaner  \n",
    "Amen, that's due to them  having respect for themselves.  ;P ;p :p 8D xD \"\"\"\n",
    "\n",
    "link_line = \"\"\"https://github.com/nltk/nltk/blob/develop/nltk/tokenize/casual.py\n",
    "http://github .com/nltk/nltk/blob/develop/nltk/tokenize/casual.py\n",
    "www.github.com/nltk/nltk/blob/develop/nltk/tokenize/casual.py\n",
    "www.google.org\n",
    "www.google.com\n",
    "http://www.github.com/nltk/nltk/blob/develop/nltk.py\"\"\"\n"
   ]
  },
  {
   "cell_type": "code",
   "execution_count": 47,
   "metadata": {},
   "outputs": [
    {
     "name": "stdout",
     "output_type": "stream",
     "text": [
      "\n",
      "MATCHED\n",
      "----------------------------------------------------------------------------------------------------\n",
      "\n",
      "['All', 'I', 'can', 'say', 'is', \"I'm\", 'lucky', '.', '#notcies', '#eu', 'Liverpool', 'workers', '\"miscarriage of justice\"', 'victims', '@user', 'yesss', '!', 'What', 'makes', 'it', 'worse', 'is', 'when', 'they', 'look', 'gorgeous', 'and', 'say', '\"I just got my face beat!\"', 'Wtf', '?', '#Contradiction', 'Xmas', 'on', 'the', 'blog', 'feat', '@user', 'and', '@user', '*', 'Read', 'our', 'story', 'and', 'share', 'the', 'LOVE', '❤', '️', 'Click', 'the', 'link...', 'Watching', 'the', 'move', \"'Begin Again'\", 'and', 'the', 'verisimilitude', 'is', 'overpowering', ',', \"it's\", 'like', \"I'm\", 'back', 'in', 'the', '90s', 'music', 'business', 'again', '.', 'This', 'is', 'not', 'the', 'moon', '.', 'Pictures', 'like', 'the', 'moon', 'is', 'made', 'of', 'light', 'bulbs', '.', '#the', '#moon', ':)', 'I', 'got', 'ready', 'and', 'then', 'got', 'to', 'school', 'and', 'parked', 'in', 'less', 'than', '12', 'minutes', '!', '#miracle', '@user', 'yeah', '.', 'So', 'as', 'you', 'can', 'see', ',', 'I', 'have', 'great', 'success', 'with', 'the', 'ladies', '!', 'And', \"I'm\", 'totally', 'excited', 'for', 'having', 'sex', 'some', 'more', '!', 'I', \"don't\", 'like', 'clowns', 'but', \"I'm\", 'going', 'to', 'be', 'one', '.', 'MLS Transactions', '2015', '#MLS', 'making', 'waves', 'again', '2', 'b', 'fair', 'it', 'will', 'take', 'more', 'than', '2', 'players', 'to', 'fix', 'this', '@user', \"I'll\", 'be', 'a', 'bit', 'sweaty', 'by', 'the', 'time', 'I', 'get', 'to', 'you', '!', 'a', 'bad', 'game', 'last', 'night', '.', 'Way', 'to', 'go', 'Packers', '!', 'I', 'hope', 'I', 'could', 'recover', 'from', 'fever', 'today', '.', 'I', 'need', 'to', 'start', 'with', 'strama..', 'somebody', 'wake', 'me', 'up', 'early', 'tomorrow', 'ive', 'been', 'facing', 'weird', 'aches', 'in', 'my', 'back', 'since', 'early', 'december', '.,.', 'and', 'why', 'do', 'u', 'think', 'that', 'relates', 'madaka', 'The Champions', 'League', 'is', 'overrated', 'anyway', '!', 'Porygon2', 'are', 'found', 'in', 'the', 'www.monstermmorpg.', 'com', 'wild', '.', '#firemen', 'follow', '@user', '#paint', '@user', 'are', 'you', 'looking', 'at', 'the', 'wrong', 'profile', 'picture', '?', '@user', 'One', 'day', 'I', 'want', 'to', 'travel', 'with', 'my', 'bestfriend', '🌏', '✈', '️', 'DONE DID', 'TRAVELED DA', 'WORLD', '!!', '@user', '❤', '️', '@user', 'u', 'simply', 'cant', 'win', 'with', '@user', 'if', 'it', 'is', 'twitter', 'fight', '!!!', ':-P', 'Fully', 'charged', 'my', '#Anker', 'portable', 'charger...it', 'lasted', '1/2', 'an', 'hour', '.', 'Awesome', '#Fail', '#Italy', '--', '#Cabinet', '#approves', '#first', '#planks', 'of', \"#Renzi's\", '#labour', '#reform', '.', 'via', '@user', 'ruling', 'party', 'in', 'power', '#central', '#state', '#misusing', 'their', 'power', '#PM', 'speaking', 'only', 'in', 'foreign', 'parliment', '#pm', 'to', 'visit', 'out', 'side', 'india', 'during', 'session', \"Gareth's\", 'polar', 'opposite', 'is', 'a', 'chicken-loving', 'vegetarian', '😂', '🐣', '#Bones', '@user', 'Watching', 'creepy', 'shit', 'before', 'bed', 'when', 'alone', '=', 'bad', 'idea', '.', 'Is', 'there', 'a', 'spell', 'to', 'turn', 'a', 'French', 'bulldog', 'into', 'a', 'big', 'ass', 'bulldog', '?', '#bewareofdog', 'i', 'do', 'occupy', 'rent', 'free', 'space', 'in', 'his', 'cranial', 'cavity', 'LOL', '@user', 'Had', 'to', 'take', 'a', '#PatioPics', '-', 'snow', 'falling', 'still', '.', 'This', 'was', 'totally', 'clear', 'when', 'I', 'went', 'to', 'sleep', '.', '#WCCO', 'August', 'has', 'the', 'most', 'birthdays', ',', 'February', 'has', 'the', 'least', 'and', 'most', 'of', 'the', 'serial', 'killers', 'are', 'born', 'in', 'November', '!||-', 'so', 'dont', 'mess', 'up', 'with', 'me', '|', '#nov26', 'Lol RT', '@user', \"Wouldn't\", 'surprise', 'me', 'if', 'Soldado', 'bangs', 'in', 'a', 'hatrick', 'and', 'we', 'win', '0-3', 'against', 'Chelsea', 'tonight', '..', 'The', 'legend', 'is', 'back', 'My', 'husband', 'thinks', \"I'm\", 'crazy', 'because', 'I', 'taped', 'my', 'tape', 'dispenser', '.', 'Hehe', '.', \"I'm\", 'handy', 'like', 'that', '.', '....', 'My', 'secret', 'name', 'is', 'lizard', 'squad', '.', 'I', 'like', 'to', 'ruin', \"people's\", 'fun', 'time', '.', 'Follow', 'and', 'rt', 'to', 'a', 'billion', 'and', \"you'll\", 'have', 'fun', '.', '#psn', '#giveitup', \"Tomorrow's\", 'afternoon', '#NFL', 'sked', 'in', '#PanamaCity', 'area', ':', 'WECP', '12p', '#KCvsPIT', ',', '3:25p', '#INDvsDAL', ';', 'WPGX', '12p', '#ATLvsNO', '.', '@user', '@user', 'I', 'sure', 'hope', 'ev1', 'vaccinations', 'are', 'up', 'to', 'date', '!', '#GoBolts', '@user', '@user', '@user', 'Pulis', 'turned', 'down', '#NUFC', 'cos', 'he', 'wants', 'to', 'spend', 'a', 'load', 'of', 'money', 'on', '30', 'year', 'old', 'journeymen', '.', 'Parish', \"wouldn't\", 'let', 'him', '&', 'neither', 'would', 'MA', '.', '#cpfc', 'Sending', 'best', 'wishes', 'to', 'all', 'my', 'coworkers', 'at', 'the', '9AM', 'this', 'morning', '@user', 'try', 'having', 'no', 'internet', 'for', 'a', 'month', '.', 'Now', 'I', 'know', 'how', 'Ethiopians', 'feel', '.', 'so', ',', 'sane', 'peoples', 'would', 'talk', 'to', 'themselves', 'in', 'twitter', 'because', 'they', \"can't\", 'find', 'other', 'sane', 'humans', 'to', 'talk', 'to', '.', 'that', '#retweet', '#ifagree', 'Thanks', '@user', 'for', 'connecting', '.', 'Always', 'look', 'forward', 'to', 'exchange', 'thoughts', 'n', 'ideas', 'with', '#entrepreneur', 'working', 'on', '#green', 'n', '#sustainability', 'Seems', 'as', 'if', '@user', 'wants', 'to', 'endorse', 'me', 'on', 'LinkedIn', 'for', '-', 'any', 'thoughts', 'on', 'this', 'from', 'the', '#OMCchat', 'crowd', '?', 'Love', 'being', 'made', 'fun', 'of', '@user', '@user', '@user', 'Oh', 'wow', 'your', 'talking', 'Skype', '!', 'Cool', '!', 'he', 'was', 'half', 'of', 'what', 'she', 'deserved', ',', 'yet', 'he', 'was', 'all', 'that', 'she', 'ever', 'wanted', ',,,,', '5:30AM', '00:00', '12PM', '#Christmas', '#been', '#the', '#best', '@', 'West Monkseaton', 'Parking', 'meter', 'obviously', 'forgot', 'to', 'get', 'its', 'own', 'parking', 'ticket', '.', 'About', 'to', 'fuck', 'up', 'this', 'Media', 'exam', '#actuallyihopeso', 'well', 'today', 'is', 'gonna', 'be', 'a', 'great', 'day', '👌', 'Heaven', 'help', 'the', 'fool', 'who', 'did', 'her', 'wrong', 'Just', 'bartered', 'for', 'a', 'bottle', 'of', 'rum', 'in', 'best', 'one', ',', 'and', 'got', 'it', 'down', 'from', '£18', 'to', '£14', '.', 'Happy Fucking', 'New Year', 'to', 'me', '!!', 'find', 'ONE', 'local', 'PD', 'that', 'reported', 'an', '80%', 'drop', '@user', '@user', '@user', '@user', '@user', '@user', '@user', '@user', 'Money', '4', 'Church', '|', 'http://t.co/Q2WB7riAvK|SmartPhone', 'APP PAYS', 'you', '!|', 'See', '-', 'http://t.co/RDlRuGN0iE', '|', 'Go', '2', ':', 'Well', \"it's\", 'always', 'a', 'good', 'time', 'losing', 'at', 'the', 'Bay...', '@user', '@user', '@user', 'Welsh', 'devolution', '?', \"How's\", 'this', 'for', 'starters...', 'I', 'love', 'when', 'folks', 'call', 'Brady', 'a', 'system', 'QB', 'but', 'are', 'THE BIGGEST', 'Peyton Manning', 'fans', '.', '.', '@user', 'Instead', 'of', 'playing', 'the', 'pompous', '\"do you know who I am card?\"', ',', 'how', 'about', 'you', 'actually', 'make', 'an', 'educated', 'rebuttal', '?', 'Kind', 'of', 'love', 'how', 'I', 'got', 'a', 'voicemail', 'from', 'my', 'seat', 'neighbor', 'wondering', 'where', 'I', 'was', 'yet', 'they', 'constantly', 'sell', 'their', 'ticket', '&', 'I', 'never', 'ask', 'I', 'feel', 'a', 'nap', 'in', 'my', 'near', 'future', '.', '#NapTime', '#AnalScreen', '#Exotic', 'Exotic', 'brunette', 'gets', 'her', 'little', 'tight', 'butt', 'nailed', 'right', 'on', 'the', 'office', 'desk', '#sundayfunday', '#mylove', '#mermaidlove', '#newyear2015', '@', 'Rockefeller Center', 'The', 'ever', 'so', 'caring', '@user', 'gets', 'to', 'see', 'the', 'siege', 'ending', 'first', '.', 'Great', 'journalism', '.', 'www.google.com', '@user', 'You', 'truly', 'are', 'my', 'son', '.', 'hmmm', '.', 'I', 'do', 'wonder', 'why', 'Astec', 'has', 'one', 'fewer', 'employee', '?', '#lol', '#Germany', '--', \"#ECB's\", '#Weidmann', '#says', '#German', '#2015', '#growth', '#may', '#be', '#better', '#than', '#expected', '.', 'via', '@user', 'Kevin Durant', 'with', '23p', 'ts', 'on', '8-13', 'shooting', ',', 'has', 'this', 'nigga', 'been', 'inefficient', 'since', 'he', 'came', '.', 'This', 'chap', 'seems', 'to', 'be', 'a', 'bit', 'of', 'an', 'over', 'sexed', 'out', 'going', 'extrovert', '...', 'Must', 'be', 'his', 'overly', 'masculine', 'voice', 'and', 'demeanor', '.', 'Damit', ',', 'this', 'fatima', 'bhutto', 'has', 'an', 'instagram', 'account', 'but', 'not', 'pics', 'of', 'her', '.', 'Some', 'random', 'shit...and', 'then', 'ppl', 'i', 'follow', 'keep', 'posting', 'pics', '.', '@user', 'so', 'funny', 'lolololol', '@user', '@user', 'what', 'the', 'hell', 'ever', '.', 'On', 'my', 'lunch', 'break', 'so', 'sleepy', '😴', '@user', '@user', 'More', 'clean', 'OR', 'cleaner', ',', 'never', 'more', 'cleaner', 'Amen', ',', \"that's\", 'due', 'to', 'them', 'having', 'respect', 'for', 'themselves', '.', ';P', ';p', ':p', '8D', 'xD', 'https://github.com/nltk/nltk/blob/develop/nltk/tokenize/casual.py', 'http://github .com/nltk/nltk/blob/develop/nltk/tokenize/casual.py', 'www.github.com/nltk/nltk/blob/develop/nltk/tokenize/casual.py', 'www.google.org', 'www.google.com', 'http://www.github.com/nltk/nltk/blob/develop/nltk.py']\n",
      "\n",
      "UNMATCHED\n",
      "----------------------------------------------------------------------------------------------------\n",
      "\n",
      "[]\n"
     ]
    }
   ],
   "source": [
    "line = test_str + link_line\n",
    "\n",
    "tokens = []\n",
    "unmatchable = []\n",
    "\n",
    "mybe_everything = r\"\"\"(https?[:.]?\\s?\\/\\/(?:\\s*[^\\/\\s.]+)+(?:\\s*\\.\\s*[^\\/\\s.]+)*(?:\\s*\\/\\s*[^\\/\\s]+)*)|(www?[\\..]?\\s?\\/\\/(?:\\s*[^\\/\\s.]+)+(?:\\s*\\.\\s*[^\\/\\s.]+)*(?:\\s*\\/\\s*[^\\/\\s]+)*)|(?:[<>]?[:;=8][\\-o\\*\\']?[\\)\\]\\(\\[dDpP/\\:\\}\\{@\\|\\\\]|[\\)\\]\\(\\[dDpP/\\:\\}\\{@\\|\\\\][\\-o\\*\\']?[:;=8][<>]?|</?3)|[\\U0000263a-\\U000e007f]|\\w+[\\.,]\\S+|\\b\\d{1,3}%|(?:1)?0\\/10|(?<![!\\-:/])\\b\\d{1}\\b(?![!\\-:/])|(?<!#)\\b[A-Z]\\w+\\s[A-Z]\\p{L}\\w*\\b|w\\/|w\\/o|['\\\"]\\b\\p{L}+\\b(?:['’]\\b\\w+\\b)?(?:-\\b\\w+\\b)?['\\\"]|@?#?\\b\\p{L}+\\d*\\b(?:['’]\\b\\w+\\b)?(?:-(?!http)\\b\\w+\\b)?|([A-Z][a-z]+(?=\\s[A-Z])(?:\\s[A-Z][a-z]+)+)|(\\w+[´`']\\w+)|(\\w+[\\.,]\\S+)|([\\.,?!]+)|(\\w+)|(#\\w+)|(@\\w+)|(@)|([´`'\\\"].*?[´`'\\\"])\"\"\"\n",
    "test = r\"\"\"(https?[:.]?\\s?\\/\\/(?:\\s*[^\\/\\s.]+)+(?:\\s*\\.\\s*[^\\/\\s.]+)*(?:\\s*\\/\\s*[^\\/\\s]+)*)|(www?[\\..]?\\s?\\/\\/(?:\\s*[^\\/\\s.]+)+(?:\\s*\\.\\s*[^\\/\\s.]+)*(?:\\s*\\/\\s*[^\\/\\s]+)*)|(?:[<>]?[:;=8][\\-o\\*\\']?[\\)\\]\\(\\[dDpP/\\:\\}\\{@\\|\\\\]|[\\)\\]\\(\\[dDpP/\\:\\}\\{@\\|\\\\][\\-o\\*\\']?[:;=8][<>]?|</?3)|[\\U0000263a-\\U000e007f]|\\w+[\\.,]\\S+|\\b\\d{1,3}%|(?:1)?0\\/10|(?<![!\\-:/])\\b\\d{1}\\b(?![!\\-:/])|(?<!#)\\b[A-Z]\\w+\\s[A-Z]\\p{L}\\w*\\b|w\\/|w\\/o|['\\\"]\\b\\p{L}+\\b(?:['’]\\b\\w+\\b)?(?:-\\b\\w+\\b)?['\\\"]|@?#?\\b\\p{L}+\\d*\\b(?:['’]\\b\\w+\\b)?(?:-(?!http)\\b\\w+\\b)?|([A-Z][a-z]+(?=\\s[A-Z])(?:\\s[A-Z][a-z]+)+)|(\\d+-\\d+)|(\\d+/\\d+)|(\\d+(:?\\d+)?((AM)?(PM)?[ps]?))|[\\$\\£\\€](\\d+(?:\\.\\d{1,2})?)|(\\w+[´`']\\w+)|(\\w+[\\.,]\\S+)|([\\.,?&!\\-\\*:;\\|=]+)|(\\w+)|(#\\w+)|(@\\w+)|(@)|([´`'\\\"].*?[´`'\\\"])\"\"\"\n",
    "mybe_everything_RE = re.compile(test)\n",
    "token_pat = re.compile(mybe_everything_RE)\n",
    "\n",
    "skippable_pat = re.compile(r'\\s+')\n",
    "\n",
    "# As long as there's any material left...\n",
    "while line:\n",
    "    # Try finding a skippable token delimiter first.\n",
    "    skippable_match = re.search(skippable_pat, line)\n",
    "    if skippable_match and skippable_match.start() == 0:\n",
    "        # If there is one at the beginning of the line, just skip it.\n",
    "        line = line[skippable_match.end():]\n",
    "    else:\n",
    "        # Else try finding a real token.\n",
    "        token_match = re.search(token_pat, line)\n",
    "        if token_match and token_match.start() == 0:\n",
    "            # If there is one at the beginning of the line, tokenise it.\n",
    "            tokens.append(line[:token_match.end()])\n",
    "            line = line[token_match.end():]\n",
    "        else:\n",
    "            # Else there is unmatchable material here.\n",
    "            # It ends where a skippable or token match starts, or at the end of the line.\n",
    "            unmatchable_end = len(line)\n",
    "            if skippable_match:\n",
    "                unmatchable_end = skippable_match.start()\n",
    "            if token_match:\n",
    "                unmatchable_end = min(unmatchable_end, token_match.start())\n",
    "            # Add it to unmatchable and discard from line.\n",
    "            unmatchable.append(line[:unmatchable_end])\n",
    "            line = line[unmatchable_end:]\n",
    "# tokens = re.findall(token_pat, line)\n",
    "# unmatchable = re.findall(skippable_pat, line)\n",
    "\n",
    "print(\"\\n\" + \"MATCHED\" + \"\\n\" + \"-\"*100 + \"\\n\")\n",
    "print(tokens)\n",
    "print(\"\\n\" + \"UNMATCHED\" + \"\\n\" + \"-\"*100 + \"\\n\")\n",
    "print(unmatchable)\n",
    "\n"
   ]
  },
  {
   "cell_type": "markdown",
   "metadata": {
    "created_in_deepnote_cell": true,
    "deepnote_cell_type": "markdown",
    "tags": []
   },
   "source": [
    "<a style='text-decoration:none;line-height:16px;display:flex;color:#5B5B62;padding:10px;justify-content:end;' href='https://deepnote.com?utm_source=created-in-deepnote-cell&projectId=e4cdc3a5-dd4a-4d72-a71a-972cea883107' target=\"_blank\">\n",
    "<img alt='Created in deepnote.com' style='display:inline;max-height:16px;margin:0px;margin-right:7.5px;' src='data:image/svg+xml;base64,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' > </img>\n",
    "Created in <span style='font-weight:600;margin-left:4px;'>Deepnote</span></a>"
   ]
  }
 ],
 "metadata": {
  "deepnote": {},
  "deepnote_execution_queue": [],
  "deepnote_notebook_id": "6914812d-b1e4-461c-8d93-9080bf897be8",
  "interpreter": {
   "hash": "2ab8726f8a5aab2b3a64ab58eaac36928eade41587597130f1a3bd320d2b8b91"
  },
  "kernelspec": {
   "display_name": "Python 3.10.4 ('py310')",
   "language": "python",
   "name": "python3"
  },
  "language_info": {
   "codemirror_mode": {
    "name": "ipython",
    "version": 3
   },
   "file_extension": ".py",
   "mimetype": "text/x-python",
   "name": "python",
   "nbconvert_exporter": "python",
   "pygments_lexer": "ipython3",
   "version": "3.10.4"
  },
  "orig_nbformat": 2
 },
 "nbformat": 4,
 "nbformat_minor": 2
}
