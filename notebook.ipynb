{
 "cells": [
  {
   "cell_type": "code",
   "metadata": {
    "cell_id": "08aa7af5088848ad87c709e73ba1576a",
    "tags": [],
    "deepnote_to_be_reexecuted": false,
    "source_hash": "d174f168",
    "execution_start": 1651594138453,
    "execution_millis": 1252,
    "output_cleared": true,
    "deepnote_cell_type": "code",
    "deepnote_cell_height": 243
   },
   "source": "import regex as re\nfrom collections import Counter\nimport pandas as pd\nimport matplotlib.pyplot as plt\nimport seaborn as sns\nimport numpy as np\nfrom functools import reduce\nimport difflib\nimport random\nrandom.seed(10) # Don't change this!",
   "execution_count": null,
   "outputs": []
  },
  {
   "cell_type": "code",
   "metadata": {
    "tags": [],
    "cell_id": "bcb67a78-b9a5-43a0-b5e3-8467a9d2ac46",
    "deepnote_to_be_reexecuted": false,
    "source_hash": "b6234861",
    "execution_start": 1651594139705,
    "execution_millis": 33,
    "output_cleared": true,
    "deepnote_cell_type": "code",
    "deepnote_cell_height": 243
   },
   "source": "with open(\"pattern.txt\", \"r\") as f:\n    pat = re.compile(f.read())\n\n\ntext_file = \"tweeteval/datasets/stance/abortion/train_text.txt\"\n\nwith open(text_file, \"r\") as f:\n    text = f.read()\n\ncorpus = re.findall(pat, text)",
   "execution_count": null,
   "outputs": []
  },
  {
   "cell_type": "code",
   "metadata": {
    "cell_id": "ddb381fe5a944de2b28359db0ef76f94",
    "tags": [],
    "deepnote_to_be_reexecuted": false,
    "source_hash": "a5aed41a",
    "execution_start": 1651594139742,
    "execution_millis": 1,
    "output_cleared": true,
    "deepnote_cell_type": "code",
    "deepnote_cell_height": 225
   },
   "source": "def tokenize(pat, text):\n    return re.findall(pat, text)\n\n\ndef statistics(corpus):\n    counts = Counter(corpus)\n    corpus_size = len(corpus)\n    vocab_size = len(counts)\n    return (counts, corpus_size, vocab_size, vocab_size/corpus_size)",
   "execution_count": null,
   "outputs": []
  },
  {
   "cell_type": "code",
   "metadata": {
    "cell_id": "d9a6089bba474ab79dee9f88a9845c30",
    "tags": [],
    "deepnote_to_be_reexecuted": false,
    "source_hash": "9c075756",
    "execution_start": 1651594139749,
    "execution_millis": 2,
    "output_cleared": true,
    "deepnote_cell_type": "code",
    "deepnote_cell_height": 567
   },
   "source": "def zipf(corpus):\n    voc = Counter(corpus)\n    frq = pd.DataFrame(voc.most_common(), columns=['token', 'frequency'])\n\n    # Index in the sorted list\n    frq['idx'] = frq.index + 1\n\n    # Frequency normalised by corpus size\n    frq['norm_freq'] = frq.frequency / len(corpus)\n\n    # Cumulative normalised frequency\n    frq['cumul_frq'] = frq.norm_freq.cumsum()\n\n    sns.set_theme(style='whitegrid')\n\n    # Plot: Cumulative frequency by index\n    sns.relplot(x='idx', y='cumul_frq', data=frq)\n    plt.show()\n\n    # Plot: Cumulative frequency by index, top 10000 tokens\n    sns.relplot(x='idx', y='cumul_frq', data=frq[:10000], kind='line')\n    plt.show()\n\n    # Plot: Log-log plot for Zipf's law\n    frq['log_frq'] = np.log(frq.frequency)\n    frq['log_rank'] = np.log(frq.frequency.rank(ascending=False))\n    sns.relplot(x='log_rank', y='log_frq', data=frq)\n    plt.show()",
   "execution_count": null,
   "outputs": []
  },
  {
   "cell_type": "code",
   "metadata": {
    "cell_id": "3db86f7041984f64911e4ba4289cdb6d",
    "tags": [],
    "deepnote_to_be_reexecuted": false,
    "source_hash": "fd2f638b",
    "execution_start": 1651594139753,
    "execution_millis": 112,
    "deepnote_table_state": {
     "pageSize": 10,
     "pageIndex": 410,
     "filters": [],
     "sortBy": []
    },
    "deepnote_table_loading": false,
    "output_cleared": true,
    "deepnote_cell_type": "code",
    "deepnote_cell_height": 513
   },
   "source": "# 2 Characterising your data\n\n#• Corpus size, vocabulary size, type/token ratio.\n\nirony_list = []\nwith open(\"tweeteval/datasets/irony/test_text.txt\", \"r\") as f:\n    irony_text = f.read()\n\nirony_corpus = tokenize(pat, irony_text)\nstatistics(irony_corpus)\ndef datfr(corpus):\n    voc = Counter(corpus)\n    frq = pd.DataFrame(voc.most_common(), columns=['token', 'frequency'])\n\n    # Index in the sorted list\n    frq['idx'] = frq.index + 1\n\n    # Frequency normalised by corpus size\n    frq['norm_freq'] = frq.frequency / len(corpus)\n\n    # Cumulative normalised frequency\n    frq['cumul_frq'] = frq.norm_freq.cumsum()\n    sns.set_theme(style='whitegrid')\n    return(frq)\ndatfr(irony_corpus)",
   "execution_count": null,
   "outputs": []
  },
  {
   "cell_type": "code",
   "metadata": {
    "cell_id": "aebc2665ba064e8f91f0bac97a877bb4",
    "tags": [],
    "deepnote_to_be_reexecuted": false,
    "source_hash": "eb885079",
    "execution_start": 1651594179688,
    "execution_millis": 1,
    "output_cleared": true,
    "is_output_hidden": false,
    "owner_user_id": "b6cc7348-6fc5-4d35-ad0e-eb6f6874910a",
    "deepnote_cell_type": "code",
    "deepnote_cell_height": 333
   },
   "source": "%%script echo skipping\n\nstances = [\"abortion\", \"atheism\", \"climate\", \"feminist\", \"hillary\"]\nstance_texts = []\nfor stance in stances:\n    with open(f\"tweeteval/datasets/stance/{stance}/test_text.txt\") as f:\n        stance_texts.append(f.read())\nfor text, stance in zip(stance_texts, stances):\n    print(stance.title())\n    corpus = tokenize(pat, text)\n    stats = statistics(corpus)\n    print(f\"Corpus size: {stats[1]}\\tDictionary size: {stats[2]}\\tType/token ratio: {stats[3]:.3}\")\n    print(datfr(corpus).head(10))\n    print()\n    zipf(corpus)",
   "execution_count": null,
   "outputs": []
  },
  {
   "cell_type": "markdown",
   "source": "## 3 Manual Annotation and Inter-Annotator Agreement",
   "metadata": {
    "cell_id": "37b78fda6a5a48f4b46d921e7d301247",
    "tags": [],
    "deepnote_cell_type": "markdown",
    "deepnote_cell_height": 70
   }
  },
  {
   "cell_type": "code",
   "metadata": {
    "cell_id": "7d301ad47b7c4d37b8505f547008ef42",
    "tags": [],
    "deepnote_to_be_reexecuted": false,
    "source_hash": "364c65b6",
    "execution_start": 1651594139867,
    "execution_millis": 0,
    "is_code_hidden": false,
    "output_cleared": true,
    "deepnote_cell_type": "code",
    "deepnote_cell_height": 459
   },
   "source": "random.seed(10)\n\nlines = []\nwith open(\"tweeteval/datasets/irony/train_text.txt\") as f:\n    for line in f:\n        lines.append(line.strip())\n\nrandom_lines_index = sorted(random.sample([i for i in range(0, len(lines))], k = 100))\n\ntrue_vals = []\nwith open(\"tweeteval/datasets/irony/train_labels.txt\") as f:\n    for line in f:\n        true_vals.append(int(line.strip()))\n\nvalidation = []\nfor i in random_lines_index:\n    validation.append(true_vals[i])\n\nwith open(\"manual_annotation.txt\", \"w\") as f:\n    for i in range(100):\n        f.write(f\"{random_lines_index[i]}@@@ {lines[random_lines_index[i]]}\")\n        f.write(\"\\n\")",
   "execution_count": null,
   "outputs": []
  },
  {
   "cell_type": "markdown",
   "source": "$$\n    \\underbrace{\\stackrel{1}{\\text{in}}\\quad\\stackrel{2}{\\text{the}}}_{\\stackrel{\\text{bigram}}{\\text{2-gram}}}\n    \\qquad p(\\text{the} \\;|\\; \\underbrace{\\phantom{text}\\text{in}\\phantom{text}}_{\\text{firstorder MM}})\n$$",
   "metadata": {
    "cell_id": "d16e81e29dcf4ef680dc0eeb44f51833",
    "tags": [],
    "deepnote_cell_type": "markdown",
    "deepnote_cell_height": 118
   }
  },
  {
   "cell_type": "code",
   "source": "from nltk.metrics.agreement import AnnotationTask\n\ndf = pd.read_csv(\"manual_annotations/annotation_results.csv\")\ndf = df.drop([\"Unnamed: 0\"], axis = 1)\ndf[\"Gold\"] = validation",
   "metadata": {
    "cell_id": "0b1196cea5dd4d36b8135eb0f3a39e6e",
    "tags": [],
    "deepnote_to_be_reexecuted": false,
    "source_hash": "ec6d5d77",
    "execution_start": 1651594139867,
    "execution_millis": 1141,
    "output_cleared": true,
    "deepnote_table_state": {
     "pageSize": 10,
     "pageIndex": 0,
     "filters": [],
     "sortBy": []
    },
    "deepnote_table_loading": false,
    "deepnote_table_invalid": false,
    "deepnote_cell_type": "code",
    "deepnote_cell_height": 153
   },
   "outputs": [],
   "execution_count": null
  },
  {
   "cell_type": "markdown",
   "source": "\n",
   "metadata": {
    "cell_id": "1fa3ab179b0440b09059b0dacc2a5c7e",
    "tags": [],
    "deepnote_cell_type": "markdown",
    "deepnote_cell_height": 46
   }
  },
  {
   "cell_type": "code",
   "source": "tuple_list = []\nfor name in list(df)[1:]:\n    tuples = list(zip([name] * len(df[\"idx\"]), df[\"idx\"], df[name]))\n    tuple_list.extend(tuples)\nprint(tuple_list)\n\nmanual = AnnotationTask(data=tuple_list)",
   "metadata": {
    "cell_id": "bf1306ec7f7541fd9db4d4a14a4a2d27",
    "tags": [],
    "deepnote_to_be_reexecuted": false,
    "source_hash": "d170ad71",
    "execution_start": 1651594141011,
    "execution_millis": 257777,
    "output_cleared": true,
    "deepnote_cell_type": "code",
    "deepnote_cell_height": 189
   },
   "outputs": [],
   "execution_count": null
  },
  {
   "cell_type": "code",
   "source": "print(manual.weighted_kappa())\nprint(manual.multi_kappa())\nprint(manual.pi())",
   "metadata": {
    "cell_id": "122bb0d799b44ffdb1910d164734bbe0",
    "tags": [],
    "deepnote_to_be_reexecuted": false,
    "source_hash": "d68f305d",
    "execution_start": 1651594141063,
    "execution_millis": 4,
    "output_cleared": true,
    "deepnote_cell_type": "code",
    "deepnote_cell_height": 117
   },
   "outputs": [],
   "execution_count": null
  },
  {
   "cell_type": "code",
   "source": "manual.kappa_pairwise(\"Frida\", \"Viggo\")",
   "metadata": {
    "cell_id": "1ce265857e9f49428ed7eff131b6a5f4",
    "tags": [],
    "output_cleared": true,
    "deepnote_to_be_reexecuted": false,
    "source_hash": "fa915982",
    "execution_start": 1651594141064,
    "execution_millis": 3,
    "deepnote_cell_type": "code",
    "deepnote_cell_height": 81,
    "deepnote_output_heights": [
     21
    ]
   },
   "outputs": [],
   "execution_count": null
  },
  {
   "cell_type": "code",
   "source": "from statsmodels.stats import inter_rater as irr\nimport krippendorff as kd\n\nstatsmodels_df = df.drop([\"idx\"], axis = 1)\n\n\nprint(\"fleiss_alpha\",irr.fleiss_kappa(irr.aggregate_raters(statsmodels_df)[0], method = \"fleiss\"))\n\nstatsmodels_trans_df = statsmodels_df.transpose()\n\nprint(\"krippendorff\",kd.alpha(statsmodels_trans_df, level_of_measurement='nominal'))",
   "metadata": {
    "cell_id": "3a80c740aa1f4609b421d697c0f75b3d",
    "tags": [],
    "deepnote_to_be_reexecuted": false,
    "source_hash": "e4ae9c37",
    "execution_start": 1651594141065,
    "execution_millis": 4,
    "output_cleared": true,
    "deepnote_cell_type": "code",
    "deepnote_cell_height": 261
   },
   "outputs": [],
   "execution_count": null
  },
  {
   "cell_type": "code",
   "source": "statsmodels_gold_df = statsmodels_df.copy()\n\nstatsmodels_gold_df[\"validation\"] = validation\n\nprint(\"fleiss_alpha\",irr.fleiss_kappa(irr.aggregate_raters(statsmodels_gold_df)[0], method = \"fleiss\"))\n\nstatsmodels_gold_trans_df = statsmodels_gold_df.transpose()\n\nprint(\"krippendorff\",kd.alpha(statsmodels_gold_trans_df, level_of_measurement='nominal'))",
   "metadata": {
    "cell_id": "c12a0f27ded94bc1a71fcae9963e7032",
    "tags": [],
    "deepnote_to_be_reexecuted": false,
    "source_hash": "f25684da",
    "execution_start": 1651594141068,
    "execution_millis": 3,
    "output_cleared": true,
    "deepnote_cell_type": "code",
    "deepnote_cell_height": 225
   },
   "outputs": [],
   "execution_count": null
  },
  {
   "cell_type": "code",
   "source": "names = [\"Marie\", \"Frida\", \"Magnus\", \"Viggo\", \"Gustav\"]",
   "metadata": {
    "cell_id": "a56eecce143e4f15906ef93dbdf92da5",
    "tags": [],
    "deepnote_to_be_reexecuted": false,
    "source_hash": "1e06da96",
    "execution_start": 1651594141116,
    "execution_millis": 0,
    "output_cleared": true,
    "deepnote_cell_type": "code",
    "deepnote_cell_height": 81
   },
   "outputs": [],
   "execution_count": null
  },
  {
   "cell_type": "code",
   "source": "tuple_list = []\nfor name in list(df)[1:]:\n    tuples = list(zip([name] * len(df[\"idx\"]), df[\"idx\"], df[name]))\n    tuple_list.extend(tuples)\n\nmanual_gold = AnnotationTask(data=tuple_list)",
   "metadata": {
    "cell_id": "1c201ced11cb4d0db0744ad0bbda02ee",
    "tags": [],
    "deepnote_to_be_reexecuted": false,
    "source_hash": "d8302a29",
    "execution_start": 1651594141117,
    "execution_millis": 257777,
    "output_cleared": true,
    "deepnote_cell_type": "code",
    "deepnote_cell_height": 171
   },
   "outputs": [],
   "execution_count": null
  },
  {
   "cell_type": "code",
   "source": "from itertools import combinations\nfrom pprint import pprint\nimport numpy as np\ncombs = list(map(lambda x: (x[0], x[1], manual_gold.kappa_pairwise(*x)), combinations(names, 2)))\ncombs.extend(map(lambda x: (x[0], x[1], manual_gold.kappa_pairwise(*x)), zip(names, [\"Gold\"] * len(names))))\npprint(combs)\nprint(np.mean(list(map(lambda x: x[2], combs[-5:]))))",
   "metadata": {
    "cell_id": "5e4eee0d092940f1899408b8d49eb74f",
    "tags": [],
    "deepnote_to_be_reexecuted": false,
    "source_hash": "2f93949d",
    "execution_start": 1651594141160,
    "execution_millis": 2,
    "output_cleared": true,
    "deepnote_cell_type": "code",
    "deepnote_cell_height": 189
   },
   "outputs": [],
   "execution_count": null
  },
  {
   "cell_type": "code",
   "source": "for i in range(100):\n    if sum(df.iloc[i,1:]) == 3:\n        tweetnumber = random_lines_index[i]\n        print(\"idx:\",tweetnumber)\n        print(f'Tweet: {lines[tweetnumber]}\\nLabels: \\n{df.iloc[i,1:]} \\n')",
   "metadata": {
    "cell_id": "c5cd37c20be044eca476bc3a611d33ce",
    "tags": [],
    "deepnote_to_be_reexecuted": false,
    "source_hash": "c6bfd624",
    "execution_start": 1651594141161,
    "execution_millis": 45,
    "output_cleared": true,
    "deepnote_cell_type": "code",
    "deepnote_cell_height": 773
   },
   "outputs": [],
   "execution_count": null
  },
  {
   "cell_type": "code",
   "source": "",
   "metadata": {
    "cell_id": "a46e0f903b02473597ddc25410131d0c",
    "tags": [],
    "deepnote_to_be_reexecuted": false,
    "source_hash": "b623e53d",
    "execution_start": 1651594141205,
    "execution_millis": 0,
    "owner_user_id": "4e27c3e4-38e5-4d6c-b6bc-9395d388eca5",
    "output_cleared": true,
    "deepnote_cell_type": "code",
    "deepnote_cell_height": 81
   },
   "outputs": [],
   "execution_count": null
  },
  {
   "cell_type": "markdown",
   "source": "<a style='text-decoration:none;line-height:16px;display:flex;color:#5B5B62;padding:10px;justify-content:end;' href='https://deepnote.com?utm_source=created-in-deepnote-cell&projectId=e4cdc3a5-dd4a-4d72-a71a-972cea883107' target=\"_blank\">\n<img alt='Created in deepnote.com' style='display:inline;max-height:16px;margin:0px;margin-right:7.5px;' src='data:image/svg+xml;base64,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' > </img>\nCreated in <span style='font-weight:600;margin-left:4px;'>Deepnote</span></a>",
   "metadata": {
    "tags": [],
    "created_in_deepnote_cell": true,
    "deepnote_cell_type": "markdown"
   }
  }
 ],
 "nbformat": 4,
 "nbformat_minor": 2,
 "metadata": {
  "orig_nbformat": 2,
  "deepnote": {},
  "deepnote_notebook_id": "37eb55ff-8fb0-44be-a787-56031bc72caa",
  "deepnote_execution_queue": []
 }
}