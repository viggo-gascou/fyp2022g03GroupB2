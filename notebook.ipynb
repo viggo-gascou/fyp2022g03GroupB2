{
 "cells": [
  {
   "cell_type": "code",
   "metadata": {
    "cell_id": "08aa7af5088848ad87c709e73ba1576a",
    "tags": [],
    "deepnote_to_be_reexecuted": false,
    "source_hash": "894ab5be",
    "execution_start": 1651141358683,
    "execution_millis": 4,
    "deepnote_cell_type": "code",
    "deepnote_cell_height": 243
   },
   "source": "import regex as re\nfrom collections import Counter\nimport pandas as pd\nimport matplotlib.pyplot as plt\nimport seaborn as sns\nimport numpy as np\nfrom functools import reduce\nimport difflib\nimport random\nrand.seed(10) # Don't change this!",
   "execution_count": 9,
   "outputs": []
  },
  {
   "cell_type": "code",
   "metadata": {
    "tags": [],
    "cell_id": "bcb67a78-b9a5-43a0-b5e3-8467a9d2ac46",
    "deepnote_to_be_reexecuted": false,
    "source_hash": "b6234861",
    "execution_start": 1651141282877,
    "execution_millis": 40,
    "deepnote_cell_type": "code",
    "deepnote_cell_height": 243
   },
   "source": "with open(\"pattern.txt\", \"r\") as f:\n    pat = re.compile(f.read())\n\n\ntext_file = \"tweeteval/datasets/stance/abortion/train_text.txt\"\n\nwith open(text_file, \"r\") as f:\n    text = f.read()\n\ncorpus = re.findall(pat, text)",
   "execution_count": 2,
   "outputs": []
  },
  {
   "cell_type": "code",
   "metadata": {
    "cell_id": "ddb381fe5a944de2b28359db0ef76f94",
    "tags": [],
    "deepnote_to_be_reexecuted": false,
    "source_hash": "a5aed41a",
    "execution_start": 1651141282918,
    "execution_millis": 1,
    "deepnote_cell_type": "code",
    "deepnote_cell_height": 225
   },
   "source": "def tokenize(pat, text):\n    return re.findall(pat, text)\n\n\ndef statistics(corpus):\n    counts = Counter(corpus)\n    corpus_size = len(corpus)\n    vocab_size = len(counts)\n    return (counts, corpus_size, vocab_size, vocab_size/corpus_size)",
   "execution_count": 3,
   "outputs": []
  },
  {
   "cell_type": "code",
   "metadata": {
    "cell_id": "d9a6089bba474ab79dee9f88a9845c30",
    "tags": [],
    "deepnote_to_be_reexecuted": false,
    "source_hash": "9c075756",
    "execution_start": 1651141282925,
    "execution_millis": 43,
    "owner_user_id": "9f7938c4-a781-4d9c-bc76-659de9a5470f",
    "deepnote_cell_type": "code",
    "deepnote_cell_height": 567
   },
   "source": "def zipf(corpus):\n    voc = Counter(corpus)\n    frq = pd.DataFrame(voc.most_common(), columns=['token', 'frequency'])\n\n    # Index in the sorted list\n    frq['idx'] = frq.index + 1\n\n    # Frequency normalised by corpus size\n    frq['norm_freq'] = frq.frequency / len(corpus)\n\n    # Cumulative normalised frequency\n    frq['cumul_frq'] = frq.norm_freq.cumsum()\n\n    sns.set_theme(style='whitegrid')\n\n    # Plot: Cumulative frequency by index\n    sns.relplot(x='idx', y='cumul_frq', data=frq)\n    plt.show()\n\n    # Plot: Cumulative frequency by index, top 10000 tokens\n    sns.relplot(x='idx', y='cumul_frq', data=frq[:10000], kind='line')\n    plt.show()\n\n    # Plot: Log-log plot for Zipf's law\n    frq['log_frq'] = np.log(frq.frequency)\n    frq['log_rank'] = np.log(frq.frequency.rank(ascending=False))\n    sns.relplot(x='log_rank', y='log_frq', data=frq)\n    plt.show()",
   "execution_count": 4,
   "outputs": []
  },
  {
   "cell_type": "code",
   "metadata": {
    "cell_id": "3db86f7041984f64911e4ba4289cdb6d",
    "tags": [],
    "deepnote_to_be_reexecuted": false,
    "source_hash": "fd2f638b",
    "execution_start": 1651141282969,
    "execution_millis": 103,
    "deepnote_table_state": {
     "pageSize": 10,
     "pageIndex": 410,
     "filters": [],
     "sortBy": []
    },
    "deepnote_table_loading": false,
    "deepnote_cell_type": "code",
    "deepnote_cell_height": 1032
   },
   "source": "# 2 Characterising your data\n\n#• Corpus size, vocabulary size, type/token ratio.\n\nirony_list = []\nwith open(\"tweeteval/datasets/irony/test_text.txt\", \"r\") as f:\n    irony_text = f.read()\n\nirony_corpus = tokenize(pat, irony_text)\nstatistics(irony_corpus)\ndef datfr(corpus):\n    voc = Counter(corpus)\n    frq = pd.DataFrame(voc.most_common(), columns=['token', 'frequency'])\n\n    # Index in the sorted list\n    frq['idx'] = frq.index + 1\n\n    # Frequency normalised by corpus size\n    frq['norm_freq'] = frq.frequency / len(corpus)\n\n    # Cumulative normalised frequency\n    frq['cumul_frq'] = frq.norm_freq.cumsum()\n    sns.set_theme(style='whitegrid')\n    return(frq)\ndatfr(irony_corpus)",
   "execution_count": 5,
   "outputs": [
    {
     "output_type": "execute_result",
     "execution_count": 5,
     "data": {
      "application/vnd.deepnote.dataframe.v3+json": {
       "column_count": 5,
       "row_count": 4177,
       "columns": [
        {
         "name": "token",
         "dtype": "object",
         "stats": {
          "unique_count": 4177,
          "nan_count": 0,
          "categories": [
           {
            "name": "@user",
            "count": 1
           },
           {
            "name": "the",
            "count": 1
           },
           {
            "name": "4175 others",
            "count": 4175
           }
          ]
         }
        },
        {
         "name": "frequency",
         "dtype": "int64",
         "stats": {
          "unique_count": 60,
          "nan_count": 0,
          "min": "1",
          "max": "465",
          "histogram": [
           {
            "bin_start": 1,
            "bin_end": 47.4,
            "count": 4153
           },
           {
            "bin_start": 47.4,
            "bin_end": 93.8,
            "count": 11
           },
           {
            "bin_start": 93.8,
            "bin_end": 140.2,
            "count": 6
           },
           {
            "bin_start": 140.2,
            "bin_end": 186.6,
            "count": 3
           },
           {
            "bin_start": 186.6,
            "bin_end": 233,
            "count": 1
           },
           {
            "bin_start": 233,
            "bin_end": 279.4,
            "count": 1
           },
           {
            "bin_start": 279.4,
            "bin_end": 325.8,
            "count": 1
           },
           {
            "bin_start": 325.8,
            "bin_end": 372.2,
            "count": 0
           },
           {
            "bin_start": 372.2,
            "bin_end": 418.59999999999997,
            "count": 0
           },
           {
            "bin_start": 418.59999999999997,
            "bin_end": 465,
            "count": 1
           }
          ]
         }
        },
        {
         "name": "idx",
         "dtype": "int64",
         "stats": {
          "unique_count": 4177,
          "nan_count": 0,
          "min": "1",
          "max": "4177",
          "histogram": [
           {
            "bin_start": 1,
            "bin_end": 418.6,
            "count": 418
           },
           {
            "bin_start": 418.6,
            "bin_end": 836.2,
            "count": 418
           },
           {
            "bin_start": 836.2,
            "bin_end": 1253.8000000000002,
            "count": 417
           },
           {
            "bin_start": 1253.8000000000002,
            "bin_end": 1671.4,
            "count": 418
           },
           {
            "bin_start": 1671.4,
            "bin_end": 2089,
            "count": 417
           },
           {
            "bin_start": 2089,
            "bin_end": 2506.6000000000004,
            "count": 418
           },
           {
            "bin_start": 2506.6000000000004,
            "bin_end": 2924.2000000000003,
            "count": 418
           },
           {
            "bin_start": 2924.2000000000003,
            "bin_end": 3341.8,
            "count": 417
           },
           {
            "bin_start": 3341.8,
            "bin_end": 3759.4,
            "count": 418
           },
           {
            "bin_start": 3759.4,
            "bin_end": 4177,
            "count": 418
           }
          ]
         }
        },
        {
         "name": "norm_freq",
         "dtype": "float64",
         "stats": {
          "unique_count": 60,
          "nan_count": 0,
          "min": "8.831581736288969e-05",
          "max": "0.041066855073743705",
          "histogram": [
           {
            "bin_start": 0.00008831581736288969,
            "bin_end": 0.004186169743000971,
            "count": 4153
           },
           {
            "bin_start": 0.004186169743000971,
            "bin_end": 0.008284023668639052,
            "count": 11
           },
           {
            "bin_start": 0.008284023668639052,
            "bin_end": 0.012381877594277132,
            "count": 6
           },
           {
            "bin_start": 0.012381877594277132,
            "bin_end": 0.016479731519915216,
            "count": 3
           },
           {
            "bin_start": 0.016479731519915216,
            "bin_end": 0.020577585445553298,
            "count": 1
           },
           {
            "bin_start": 0.020577585445553298,
            "bin_end": 0.024675439371191377,
            "count": 1
           },
           {
            "bin_start": 0.024675439371191377,
            "bin_end": 0.02877329329682946,
            "count": 1
           },
           {
            "bin_start": 0.02877329329682946,
            "bin_end": 0.03287114722246754,
            "count": 0
           },
           {
            "bin_start": 0.03287114722246754,
            "bin_end": 0.03696900114810562,
            "count": 0
           },
           {
            "bin_start": 0.03696900114810562,
            "bin_end": 0.041066855073743705,
            "count": 1
           }
          ]
         }
        },
        {
         "name": "cumul_frq",
         "dtype": "float64",
         "stats": {
          "unique_count": 4177,
          "nan_count": 0,
          "min": "0.041066855073743705",
          "max": "1.000000000000065",
          "histogram": [
           {
            "bin_start": 0.041066855073743705,
            "bin_end": 0.13696016956637586,
            "count": 5
           },
           {
            "bin_start": 0.13696016956637586,
            "bin_end": 0.23285348405900796,
            "count": 10
           },
           {
            "bin_start": 0.23285348405900796,
            "bin_end": 0.3287467985516401,
            "count": 24
           },
           {
            "bin_start": 0.3287467985516401,
            "bin_end": 0.42464011304427224,
            "count": 53
           },
           {
            "bin_start": 0.42464011304427224,
            "bin_end": 0.5205334275369045,
            "count": 117
           },
           {
            "bin_start": 0.5205334275369045,
            "bin_end": 0.6164267420295365,
            "count": 271
           },
           {
            "bin_start": 0.6164267420295365,
            "bin_end": 0.7123200565221687,
            "count": 493
           },
           {
            "bin_start": 0.7123200565221687,
            "bin_end": 0.8082133710148008,
            "count": 1032
           },
           {
            "bin_start": 0.8082133710148008,
            "bin_end": 0.904106685507433,
            "count": 1086
           },
           {
            "bin_start": 0.904106685507433,
            "bin_end": 1.000000000000065,
            "count": 1086
           }
          ]
         }
        },
        {
         "name": "_deepnote_index_column",
         "dtype": "int64"
        }
       ],
       "rows": [
        {
         "token": "JeffRoylat",
         "frequency": 1,
         "idx": 4101,
         "norm_freq": 0.00008831581736288969,
         "cumul_frq": 0.9932879978804843,
         "_deepnote_index_column": 4100
        },
        {
         "token": "Into The",
         "frequency": 1,
         "idx": 4102,
         "norm_freq": 0.00008831581736288969,
         "cumul_frq": 0.9933763136978472,
         "_deepnote_index_column": 4101
        },
        {
         "token": "Woods",
         "frequency": 1,
         "idx": 4103,
         "norm_freq": 0.00008831581736288969,
         "cumul_frq": 0.9934646295152101,
         "_deepnote_index_column": 4102
        },
        {
         "token": "bump",
         "frequency": 1,
         "idx": 4104,
         "norm_freq": 0.00008831581736288969,
         "cumul_frq": 0.993552945332573,
         "_deepnote_index_column": 4103
        },
        {
         "token": "apron",
         "frequency": 1,
         "idx": 4105,
         "norm_freq": 0.00008831581736288969,
         "cumul_frq": 0.9936412611499359,
         "_deepnote_index_column": 4104
        },
        {
         "token": "padding",
         "frequency": 1,
         "idx": 4106,
         "norm_freq": 0.00008831581736288969,
         "cumul_frq": 0.9937295769672988,
         "_deepnote_index_column": 4105
        },
        {
         "token": "landed",
         "frequency": 1,
         "idx": 4107,
         "norm_freq": 0.00008831581736288969,
         "cumul_frq": 0.9938178927846617,
         "_deepnote_index_column": 4106
        },
        {
         "token": "smile",
         "frequency": 1,
         "idx": 4108,
         "norm_freq": 0.00008831581736288969,
         "cumul_frq": 0.9939062086020246,
         "_deepnote_index_column": 4107
        },
        {
         "token": "First Xmas",
         "frequency": 1,
         "idx": 4109,
         "norm_freq": 0.00008831581736288969,
         "cumul_frq": 0.9939945244193875,
         "_deepnote_index_column": 4108
        },
        {
         "token": "everrr",
         "frequency": 1,
         "idx": 4110,
         "norm_freq": 0.00008831581736288969,
         "cumul_frq": 0.9940828402367504,
         "_deepnote_index_column": 4109
        }
       ]
      },
      "text/plain": "         token  frequency   idx  norm_freq  cumul_frq\n0        @user        465     1   0.041067   0.041067\n1          the        301     2   0.026583   0.067650\n2           to        244     3   0.021549   0.089199\n3            a        217     4   0.019165   0.108364\n4            I        180     5   0.015897   0.124260\n...        ...        ...   ...        ...        ...\n4172         📚          1  4173   0.000088   0.999647\n4173         📖          1  4174   0.000088   0.999735\n4174     #Stop          1  4175   0.000088   0.999823\n4175  Labeling          1  4176   0.000088   0.999912\n4176         💡          1  4177   0.000088   1.000000\n\n[4177 rows x 5 columns]",
      "text/html": "<div>\n<style scoped>\n    .dataframe tbody tr th:only-of-type {\n        vertical-align: middle;\n    }\n\n    .dataframe tbody tr th {\n        vertical-align: top;\n    }\n\n    .dataframe thead th {\n        text-align: right;\n    }\n</style>\n<table border=\"1\" class=\"dataframe\">\n  <thead>\n    <tr style=\"text-align: right;\">\n      <th></th>\n      <th>token</th>\n      <th>frequency</th>\n      <th>idx</th>\n      <th>norm_freq</th>\n      <th>cumul_frq</th>\n    </tr>\n  </thead>\n  <tbody>\n    <tr>\n      <th>0</th>\n      <td>@user</td>\n      <td>465</td>\n      <td>1</td>\n      <td>0.041067</td>\n      <td>0.041067</td>\n    </tr>\n    <tr>\n      <th>1</th>\n      <td>the</td>\n      <td>301</td>\n      <td>2</td>\n      <td>0.026583</td>\n      <td>0.067650</td>\n    </tr>\n    <tr>\n      <th>2</th>\n      <td>to</td>\n      <td>244</td>\n      <td>3</td>\n      <td>0.021549</td>\n      <td>0.089199</td>\n    </tr>\n    <tr>\n      <th>3</th>\n      <td>a</td>\n      <td>217</td>\n      <td>4</td>\n      <td>0.019165</td>\n      <td>0.108364</td>\n    </tr>\n    <tr>\n      <th>4</th>\n      <td>I</td>\n      <td>180</td>\n      <td>5</td>\n      <td>0.015897</td>\n      <td>0.124260</td>\n    </tr>\n    <tr>\n      <th>...</th>\n      <td>...</td>\n      <td>...</td>\n      <td>...</td>\n      <td>...</td>\n      <td>...</td>\n    </tr>\n    <tr>\n      <th>4172</th>\n      <td>📚</td>\n      <td>1</td>\n      <td>4173</td>\n      <td>0.000088</td>\n      <td>0.999647</td>\n    </tr>\n    <tr>\n      <th>4173</th>\n      <td>📖</td>\n      <td>1</td>\n      <td>4174</td>\n      <td>0.000088</td>\n      <td>0.999735</td>\n    </tr>\n    <tr>\n      <th>4174</th>\n      <td>#Stop</td>\n      <td>1</td>\n      <td>4175</td>\n      <td>0.000088</td>\n      <td>0.999823</td>\n    </tr>\n    <tr>\n      <th>4175</th>\n      <td>Labeling</td>\n      <td>1</td>\n      <td>4176</td>\n      <td>0.000088</td>\n      <td>0.999912</td>\n    </tr>\n    <tr>\n      <th>4176</th>\n      <td>💡</td>\n      <td>1</td>\n      <td>4177</td>\n      <td>0.000088</td>\n      <td>1.000000</td>\n    </tr>\n  </tbody>\n</table>\n<p>4177 rows × 5 columns</p>\n</div>"
     },
     "metadata": {}
    }
   ]
  },
  {
   "cell_type": "code",
   "metadata": {
    "cell_id": "aebc2665ba064e8f91f0bac97a877bb4",
    "tags": [],
    "deepnote_to_be_reexecuted": false,
    "source_hash": "4611afff",
    "execution_start": 1651141283070,
    "execution_millis": 409,
    "deepnote_cell_type": "code",
    "deepnote_cell_height": 405.890625
   },
   "source": "stances = [\"abortion\", \"atheism\", \"climate\", \"feminist\", \"hillary\"]\nstance_texts = []\nfor stance in stances:\n    with open(f\"tweeteval/datasets/stance/{stance}/test_text.txt\") as f:\n        stance_texts.append(f.read())\nfor text, stance in zip(stance_texts, stances):\n    print(stance.title())\n    corpus = tokenize(pat, text)\n    stats = statistics(corpus)\n    print(f\"Corpus size: {stats[0]}\\tDictionary size: {stats[1]}\\tType/token ratio: {stats[2]:.3}\")\n    print(datfr(corpus).head(10))\n    print()\n    zipf(corpus)",
   "execution_count": 6,
   "outputs": [
    {
     "name": "stdout",
     "text": "Abortion\n",
     "output_type": "stream"
    },
    {
     "output_type": "error",
     "ename": "ValueError",
     "evalue": "Precision not allowed in integer format specifier",
     "traceback": [
      "\u001b[0;31m---------------------------------------------------------------------------\u001b[0m",
      "\u001b[0;31mValueError\u001b[0m                                Traceback (most recent call last)",
      "\u001b[0;32m<ipython-input-6-15c9d29e33dd>\u001b[0m in \u001b[0;36m<cell line: 6>\u001b[0;34m()\u001b[0m\n\u001b[1;32m      8\u001b[0m     \u001b[0mcorpus\u001b[0m \u001b[0;34m=\u001b[0m \u001b[0mtokenize\u001b[0m\u001b[0;34m(\u001b[0m\u001b[0mpat\u001b[0m\u001b[0;34m,\u001b[0m \u001b[0mtext\u001b[0m\u001b[0;34m)\u001b[0m\u001b[0;34m\u001b[0m\u001b[0;34m\u001b[0m\u001b[0m\n\u001b[1;32m      9\u001b[0m     \u001b[0mstats\u001b[0m \u001b[0;34m=\u001b[0m \u001b[0mstatistics\u001b[0m\u001b[0;34m(\u001b[0m\u001b[0mcorpus\u001b[0m\u001b[0;34m)\u001b[0m\u001b[0;34m\u001b[0m\u001b[0;34m\u001b[0m\u001b[0m\n\u001b[0;32m---> 10\u001b[0;31m     \u001b[0mprint\u001b[0m\u001b[0;34m(\u001b[0m\u001b[0;34mf\"Corpus size: {stats[0]}\\tDictionary size: {stats[1]}\\tType/token ratio: {stats[2]:.3}\"\u001b[0m\u001b[0;34m)\u001b[0m\u001b[0;34m\u001b[0m\u001b[0;34m\u001b[0m\u001b[0m\n\u001b[0m\u001b[1;32m     11\u001b[0m     \u001b[0mprint\u001b[0m\u001b[0;34m(\u001b[0m\u001b[0mdatfr\u001b[0m\u001b[0;34m(\u001b[0m\u001b[0mcorpus\u001b[0m\u001b[0;34m)\u001b[0m\u001b[0;34m.\u001b[0m\u001b[0mhead\u001b[0m\u001b[0;34m(\u001b[0m\u001b[0;36m10\u001b[0m\u001b[0;34m)\u001b[0m\u001b[0;34m)\u001b[0m\u001b[0;34m\u001b[0m\u001b[0;34m\u001b[0m\u001b[0m\n\u001b[1;32m     12\u001b[0m     \u001b[0mprint\u001b[0m\u001b[0;34m(\u001b[0m\u001b[0;34m)\u001b[0m\u001b[0;34m\u001b[0m\u001b[0;34m\u001b[0m\u001b[0m\n",
      "\u001b[0;31mValueError\u001b[0m: Precision not allowed in integer format specifier"
     ]
    }
   ]
  },
  {
   "cell_type": "code",
   "metadata": {
    "cell_id": "7bcfc3b745dd4f2b910c38e6d1caaed5",
    "tags": [],
    "deepnote_to_be_reexecuted": true,
    "source_hash": "a59e91a1",
    "owner_user_id": "86e97f73-8efe-4ddc-aadf-a7e22cfd1042",
    "deepnote_cell_type": "code",
    "deepnote_cell_height": 81
   },
   "source": "# 3 Manual Annotation and Inter-Annotator Agreement",
   "execution_count": null,
   "outputs": []
  },
  {
   "cell_type": "code",
   "metadata": {
    "cell_id": "7d301ad47b7c4d37b8505f547008ef42",
    "tags": [],
    "deepnote_to_be_reexecuted": false,
    "source_hash": "37df0a80",
    "execution_start": 1651141363128,
    "execution_millis": 1,
    "deepnote_cell_type": "code",
    "deepnote_cell_height": 333
   },
   "source": "lines = []\n\nwith open(\"tweeteval/datasets/irony/train_text.txt\") as f:\n    for line in f:\n        lines.append(line.strip())\n\n\n\n\nto_manual = random.choices(lines, k=100) # Vi skal også have index på, så vi kan tjekke op senere.\n\nwith open(\"manual_annotation.txt\", \"w\") as f:\n    for line in to_manual:\n        f.write(line)\n        f.write(\"\\n\")",
   "execution_count": 10,
   "outputs": []
  },
  {
   "cell_type": "code",
   "metadata": {
    "cell_id": "aad790d3194744408e17f730ac631f0e",
    "tags": [],
    "deepnote_to_be_reexecuted": false,
    "source_hash": "7e640e17",
    "execution_start": 1651141524992,
    "execution_millis": 17,
    "deepnote_cell_type": "code",
    "deepnote_cell_height": 144.1875,
    "deepnote_output_heights": [
     21.1875
    ]
   },
   "source": "random.randint(len(lines), size = 100)",
   "execution_count": 16,
   "outputs": [
    {
     "output_type": "error",
     "ename": "TypeError",
     "evalue": "randint() got an unexpected keyword argument 'size'",
     "traceback": [
      "\u001b[0;31m---------------------------------------------------------------------------\u001b[0m",
      "\u001b[0;31mTypeError\u001b[0m                                 Traceback (most recent call last)",
      "\u001b[0;32m<ipython-input-16-62c9341ea9ec>\u001b[0m in \u001b[0;36m<cell line: 1>\u001b[0;34m()\u001b[0m\n\u001b[0;32m----> 1\u001b[0;31m \u001b[0mrandom\u001b[0m\u001b[0;34m.\u001b[0m\u001b[0mrandint\u001b[0m\u001b[0;34m(\u001b[0m\u001b[0mlen\u001b[0m\u001b[0;34m(\u001b[0m\u001b[0mlines\u001b[0m\u001b[0;34m)\u001b[0m\u001b[0;34m,\u001b[0m \u001b[0msize\u001b[0m \u001b[0;34m=\u001b[0m \u001b[0;36m100\u001b[0m\u001b[0;34m)\u001b[0m\u001b[0;34m\u001b[0m\u001b[0;34m\u001b[0m\u001b[0m\n\u001b[0m",
      "\u001b[0;31mTypeError\u001b[0m: randint() got an unexpected keyword argument 'size'"
     ]
    }
   ]
  },
  {
   "cell_type": "markdown",
   "source": "$$\n    \\underbrace{\\stackrel{1}{\\text{in}}\\quad\\stackrel{2}{\\text{the}}}_{\\stackrel{\\text{bigram}}{\\text{2-gram}}}\n    \\qquad p(\\text{the} \\;|\\; \\underbrace{\\phantom{text}\\text{in}\\phantom{text}}_{\\text{firstorder MM}})\n$$",
   "metadata": {
    "cell_id": "d16e81e29dcf4ef680dc0eeb44f51833",
    "tags": [],
    "owner_user_id": "5ba608db-9ea8-48c4-a2a6-9b0711414f22",
    "deepnote_cell_type": "markdown",
    "deepnote_cell_height": 117.328125
   }
  },
  {
   "cell_type": "markdown",
   "source": "",
   "metadata": {
    "cell_id": "1fa3ab179b0440b09059b0dacc2a5c7e",
    "tags": [],
    "deepnote_cell_type": "markdown",
    "deepnote_cell_height": 46
   }
  },
  {
   "cell_type": "markdown",
   "source": "<a style='text-decoration:none;line-height:16px;display:flex;color:#5B5B62;padding:10px;justify-content:end;' href='https://deepnote.com?utm_source=created-in-deepnote-cell&projectId=e4cdc3a5-dd4a-4d72-a71a-972cea883107' target=\"_blank\">\n<img alt='Created in deepnote.com' style='display:inline;max-height:16px;margin:0px;margin-right:7.5px;' src='data:image/svg+xml;base64,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' > </img>\nCreated in <span style='font-weight:600;margin-left:4px;'>Deepnote</span></a>",
   "metadata": {
    "tags": [],
    "created_in_deepnote_cell": true,
    "deepnote_cell_type": "markdown"
   }
  }
 ],
 "nbformat": 4,
 "nbformat_minor": 2,
 "metadata": {
  "orig_nbformat": 2,
  "deepnote": {},
  "deepnote_notebook_id": "37eb55ff-8fb0-44be-a787-56031bc72caa",
  "deepnote_execution_queue": []
 }
}