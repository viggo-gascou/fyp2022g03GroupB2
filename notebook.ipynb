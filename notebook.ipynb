{
 "cells": [
  {
   "cell_type": "code",
   "metadata": {
    "cell_id": "08aa7af5088848ad87c709e73ba1576a",
    "tags": [],
    "deepnote_to_be_reexecuted": false,
    "source_hash": "346a9dac",
    "execution_start": 1652952192796,
    "execution_millis": 683,
    "output_cleared": true,
    "deepnote_cell_type": "code",
    "deepnote_cell_height": 567
   },
   "source": "import regex as re\nfrom collections import Counter\nimport pandas as pd\nimport matplotlib.pyplot as plt\nimport seaborn as sns\nimport numpy as np\nfrom functools import reduce\nimport difflib\nimport random\nimport contractions\nfrom tabulate import tabulate\nfrom pprint import pprint\nfrom sklearn.linear_model import SGDClassifier\nfrom sklearn.preprocessing import StandardScaler\nfrom sklearn.naive_bayes import MultinomialNB\nfrom sklearn import metrics\nfrom sklearn.pipeline import make_pipeline\nfrom sklearn.feature_extraction.text import CountVectorizer, TfidfTransformer\nfrom functions import preprocess\nfrom itertools import combinations\nfrom IPython.display import Markdown as md\nfrom nltk.metrics.agreement import AnnotationTask\nfrom sklearn.neural_network import MLPClassifier\nfrom statsmodels.stats import inter_rater as irr\nimport krippendorff as kd\n!mkdir -p figures\n\nrandom.seed(10) # Don't change this!",
   "execution_count": 52,
   "outputs": []
  },
  {
   "cell_type": "markdown",
   "source": "Opening and reading all the files.",
   "metadata": {
    "cell_id": "5c5c91499b324d1290aecd8ee01024fb",
    "tags": [],
    "is_collapsed": false,
    "deepnote_cell_type": "text-cell-p"
   }
  },
  {
   "cell_type": "code",
   "metadata": {
    "cell_id": "3ce9599e337446478b7bc00ed043a103",
    "tags": [],
    "deepnote_to_be_reexecuted": false,
    "source_hash": "e0a24e99",
    "execution_start": 1652950752747,
    "execution_millis": 91,
    "deepnote_cell_type": "code",
    "deepnote_cell_height": 567
   },
   "source": "# Tokenisation pattern \nwith open(\"pattern.txt\", \"r\") as f:\n    pat = re.compile(f.read())\n    \n# Irony \nwith open(\"tweeteval/datasets/irony/train_text.txt\", \"r\") as f:\n    irony = f.read()\n\n# Multiclass stance \nwith open(\"tweeteval/datasets/stance/climate/train_text.txt\", \"r\") as f:\n    stance_climate = f.read()\n\nwith open(\"tweeteval/datasets/stance/hillary/train_text.txt\", \"r\") as f:\n    stance_hillary = f.read()\n\nwith open(\"tweeteval/datasets/stance/feminist/train_text.txt\", \"r\") as f:\n    stance_feminist = f.read()\n\nwith open(\"tweeteval/datasets/stance/abortion/train_text.txt\", \"r\") as f:\n    stance_abortion = f.read()\n\nwith open(\"tweeteval/datasets/stance/atheism/train_text.txt\", \"r\") as f:\n    stance_atheism = f.read()\n\n#text_file = \"tweeteval/datasets/stance/abortion/train_text.txt\"\n\n#with open(text_file, \"r\") as f:\n    #text = convert_links(f.read().lower())",
   "execution_count": 3,
   "outputs": []
  },
  {
   "cell_type": "markdown",
   "source": "Tokenise all datasets",
   "metadata": {
    "cell_id": "1667103f9fce48fe83dd4348c3f5c5de",
    "tags": [],
    "deepnote_cell_type": "markdown",
    "deepnote_cell_height": 52
   }
  },
  {
   "cell_type": "code",
   "metadata": {
    "cell_id": "014f2ba38eac43228f9bd22572602ff8",
    "tags": [],
    "deepnote_to_be_reexecuted": false,
    "source_hash": "9f8ea6e2",
    "execution_start": 1652950754307,
    "execution_millis": 3,
    "deepnote_cell_type": "code",
    "deepnote_cell_height": 117
   },
   "source": "def tokenize(pat, text):\n    # Function to tokenize text \n    return re.findall(pat, text) ",
   "execution_count": 4,
   "outputs": []
  },
  {
   "cell_type": "code",
   "metadata": {
    "tags": [],
    "cell_id": "bcb67a78-b9a5-43a0-b5e3-8467a9d2ac46",
    "deepnote_to_be_reexecuted": false,
    "source_hash": "8caad99f",
    "execution_start": 1652950756474,
    "execution_millis": 213,
    "output_cleared": true,
    "deepnote_cell_type": "code",
    "deepnote_cell_height": 261
   },
   "source": "irony_corpus = tokenize(pat, irony)\n\nclimate_corpus = tokenize(pat, stance_climate)\n\nhillary_corpus = tokenize(pat, stance_hillary)\n\nfeminist_corpus = tokenize(pat, stance_feminist)\n\nabortion_corpus = tokenize(pat, stance_abortion)\n\natheism_corpus = tokenize(pat, stance_atheism)",
   "execution_count": 5,
   "outputs": []
  },
  {
   "cell_type": "markdown",
   "source": "Functions: Normalisation and statistics.",
   "metadata": {
    "cell_id": "f665f36825c342d58e773c5c7b870589",
    "tags": [],
    "is_collapsed": false,
    "deepnote_cell_type": "text-cell-p"
   }
  },
  {
   "cell_type": "code",
   "metadata": {
    "cell_id": "ddb381fe5a944de2b28359db0ef76f94",
    "tags": [],
    "deepnote_to_be_reexecuted": false,
    "source_hash": "4db913b2",
    "execution_start": 1652950756697,
    "execution_millis": 43,
    "output_cleared": true,
    "deepnote_cell_type": "code",
    "deepnote_cell_height": 693
   },
   "source": "def statistics(corpus):\n    counts = Counter(corpus)\n    corpus_size = len(corpus)\n    vocab_size = len(counts)\n    return (counts, corpus_size, vocab_size, vocab_size/corpus_size)\n\ndef zipf(corpus):\n    voc = Counter(corpus)\n    frq = pd.DataFrame(voc.most_common(), columns=['token', 'frequency'])\n\n    # Index in the sorted list\n    frq['idx'] = frq.index + 1\n\n    # Frequency normalised by corpus size\n    frq['norm_freq'] = frq.frequency / len(corpus)\n\n    # Cumulative normalised frequency\n    frq['cumul_frq'] = frq.norm_freq.cumsum()\n\n    sns.set_theme(style='whitegrid')\n\n    # Plot: Cumulative frequency by index\n    sns.relplot(x='idx', y='cumul_frq', data=frq)\n    plt.show()\n\n    # Plot: Cumulative frequency by index, top 10000 tokens\n    sns.relplot(x='idx', y='cumul_frq', data=frq[:10000], kind='line')\n    plt.show()\n\n    # Plot: Log-log plot for Zipf's law\n    frq['log_frq'] = np.log(frq.frequency)\n    frq['log_rank'] = np.log(frq.frequency.rank(ascending=False))\n    sns.relplot(x='log_rank', y='log_frq', data=frq)\n    plt.show()\n",
   "execution_count": 6,
   "outputs": []
  },
  {
   "cell_type": "markdown",
   "source": "# 2 Characterising your data",
   "metadata": {
    "cell_id": "1cf1c78a0b5f45ab863a414f9cbd4739",
    "tags": [],
    "is_collapsed": false,
    "deepnote_cell_type": "text-cell-h1"
   }
  },
  {
   "cell_type": "markdown",
   "source": "Calculating label ratio and add it to a dataframe",
   "metadata": {
    "cell_id": "6630cfc9f8da4fa4a47826c0b0a53d97",
    "tags": [],
    "is_collapsed": false,
    "deepnote_cell_type": "text-cell-p"
   }
  },
  {
   "cell_type": "code",
   "metadata": {
    "cell_id": "4e5a6c85915445bdbe1d0c369655118c",
    "tags": [],
    "deepnote_to_be_reexecuted": false,
    "source_hash": "3d25b320",
    "execution_start": 1652950757450,
    "execution_millis": 66,
    "deepnote_cell_type": "code",
    "deepnote_cell_height": 261
   },
   "source": "paths = []\nbase_path = \"tweeteval/datasets/\"\nfiles = [\"train_labels.txt\", \"val_labels.txt\", \"test_labels.txt\"]\npaths.extend([base_path + f\"irony/{file}\" for file in files])\nfor stance in [\"abortion\", \"atheism\", \"climate\", \"feminist\", \"hillary\"]:\n    paths.extend([base_path + f\"stance/{stance}/{file}\" for file in files])\nlabel_dict = {}\nfor path in paths:\n    labels = np.loadtxt(path, dtype=int)\n    col_name = path[path.rfind(\"/\", 0, path.rfind(\"/\") - 1) + 1: path.rfind(\"_\")].replace(\"/\", \"_\")\n    label_dict[col_name] = labels",
   "execution_count": 7,
   "outputs": []
  },
  {
   "cell_type": "code",
   "metadata": {
    "cell_id": "7383b81c7d864f13acdfb0a64924c866",
    "tags": [],
    "deepnote_to_be_reexecuted": false,
    "source_hash": "94519d0a",
    "execution_start": 1652950757524,
    "execution_millis": 7,
    "deepnote_cell_type": "code",
    "deepnote_cell_height": 334,
    "deepnote_output_heights": [
     21
    ]
   },
   "source": "# Virker ikke.\n\"\"\"\ntable = {\"headers\": [\"\"], \"labels\": {0: [\"0\"], 1: [\"1\"], 2: [\"2\"]}}\n\ntable[\"headers\"].append(dataset)\nfor i in uniq:\n    table[\"labels\"][i].append(count[i]/np.sum(count))\nif 2 not in uniq:\n    table[\"labels\"][2].append(\"\")\n\ntable = tabulate(list(table[\"labels\"].values(), headers=table[\"headers\"]))\n\n\"\"\"",
   "execution_count": 8,
   "outputs": [
    {
     "output_type": "execute_result",
     "execution_count": 8,
     "data": {
      "text/plain": "'\\ntable = {\"headers\": [\"\"], \"labels\": {0: [\"0\"], 1: [\"1\"], 2: [\"2\"]}}\\n\\ntable[\"headers\"].append(dataset)\\nfor i in uniq:\\n    table[\"labels\"][i].append(count[i]/np.sum(count))\\nif 2 not in uniq:\\n    table[\"labels\"][2].append(\"\")\\n\\ntable = tabulate(list(table[\"labels\"].values(), headers=table[\"headers\"]))\\n\\n'"
     },
     "metadata": {}
    }
   ]
  },
  {
   "cell_type": "code",
   "metadata": {
    "cell_id": "10c7aec98bc04183b7a07905c8a97a42",
    "tags": [],
    "deepnote_to_be_reexecuted": false,
    "source_hash": "187f6e14",
    "execution_start": 1652950757533,
    "execution_millis": 11,
    "deepnote_cell_type": "code",
    "deepnote_cell_height": 1011,
    "deepnote_output_heights": [
     554
    ]
   },
   "source": "def label_ratio_binary(labels):\n    return print(f\" Irony: {sum(labels)/len(labels)} \\n Not irony: {1-sum(labels)/len(labels)}\")\n\ndef label_ratio_multi(d):\n    table = {\"headers\": [\"0\", \"1\", \"2\"], \"rows\": {}}\n    for dataset,labels in d.items():\n        uniq, counts = np.unique(labels,return_counts=True)\n        table[\"rows\"][dataset] = [dataset]\n        for i in uniq:\n            table[\"rows\"][dataset].append(counts[i]/np.sum(counts))\n        if 2 not in uniq:\n            table[\"rows\"][dataset].append(None)\n        # if len(uniq)==2:\n        #     print(f\" Irony({dataset})  {counts[1]/np.sum(counts)} \\n Not irony({dataset}): {counts[0]/np.sum(counts)}\")\n        # if len(uniq)==3:\n        #     print(f\" Neutral({dataset}): {counts[0]/np.sum(counts)} \\n Against({dataset}): {counts[1]/np.sum(counts)} \\n In favor({dataset}): {counts[2]/np.sum(counts)}\")\n    return table\n\ntable = label_ratio_multi(label_dict)\ntable = tabulate(list(table[\"rows\"].values()), headers=table[\"headers\"], tablefmt=\"github\", floatfmt=\".3f\")\nmd(table)",
   "execution_count": 9,
   "outputs": [
    {
     "output_type": "execute_result",
     "execution_count": 9,
     "data": {
      "text/plain": "<IPython.core.display.Markdown object>",
      "text/markdown": "|                |     0 |     1 |     2 |\n|----------------|-------|-------|-------|\n| irony_train    | 0.495 | 0.505 |       |\n| irony_val      | 0.523 | 0.477 |       |\n| irony_test     | 0.603 | 0.397 |       |\n| abortion_train | 0.271 | 0.543 | 0.186 |\n| abortion_val   | 0.273 | 0.545 | 0.182 |\n| abortion_test  | 0.161 | 0.675 | 0.164 |\n| atheism_train  | 0.228 | 0.592 | 0.180 |\n| atheism_val    | 0.231 | 0.596 | 0.173 |\n| atheism_test   | 0.127 | 0.727 | 0.145 |\n| climate_train  | 0.425 | 0.037 | 0.538 |\n| climate_val    | 0.425 | 0.050 | 0.525 |\n| climate_test   | 0.207 | 0.065 | 0.728 |\n| feminist_train | 0.189 | 0.494 | 0.317 |\n| feminist_val   | 0.194 | 0.493 | 0.313 |\n| feminist_test  | 0.154 | 0.642 | 0.204 |\n| hillary_train  | 0.258 | 0.571 | 0.171 |\n| hillary_val    | 0.261 | 0.565 | 0.174 |\n| hillary_test   | 0.264 | 0.583 | 0.153 |"
     },
     "metadata": {}
    }
   ]
  },
  {
   "cell_type": "markdown",
   "source": "Statistical properties of our corpora.",
   "metadata": {
    "cell_id": "7edd4f6a4bbf441fa2d89fcc7cb8d034",
    "tags": [],
    "is_collapsed": false,
    "deepnote_cell_type": "text-cell-p"
   }
  },
  {
   "cell_type": "markdown",
   "source": "Creating a function that returns a data frame with the different tokens, their frequency, normalised and cumulative frequency",
   "metadata": {
    "cell_id": "e8050856a9774c08bce34f00b08bd1b0",
    "tags": [],
    "is_collapsed": false,
    "deepnote_cell_type": "text-cell-p"
   }
  },
  {
   "cell_type": "code",
   "metadata": {
    "cell_id": "3db86f7041984f64911e4ba4289cdb6d",
    "tags": [],
    "deepnote_to_be_reexecuted": false,
    "source_hash": "34444bc4",
    "execution_start": 1652950762153,
    "execution_millis": 2,
    "deepnote_table_state": {
     "pageSize": 10,
     "pageIndex": 0,
     "filters": [],
     "sortBy": []
    },
    "deepnote_table_loading": false,
    "output_cleared": false,
    "deepnote_cell_type": "code",
    "deepnote_cell_height": 315
   },
   "source": "def datfr(corpus):\n    voc = Counter(corpus)\n    frq = pd.DataFrame(voc.most_common(), columns=['token', 'frequency'])\n\n    # Index in the sorted list\n    frq['idx'] = frq.index + 1\n\n    # Frequency normalised by corpus size\n    frq['norm_freq'] = frq.frequency / len(corpus)\n\n    # Cumulative normalised frequency\n    frq['cumul_frq'] = frq.norm_freq.cumsum()\n    sns.set_theme(style='whitegrid')\n    return(frq)",
   "execution_count": 10,
   "outputs": []
  },
  {
   "cell_type": "code",
   "metadata": {
    "cell_id": "aebc2665ba064e8f91f0bac97a877bb4",
    "tags": [],
    "deepnote_to_be_reexecuted": false,
    "source_hash": "af0fc70d",
    "execution_start": 1652950762158,
    "execution_millis": 15,
    "output_cleared": false,
    "is_output_hidden": false,
    "deepnote_cell_type": "code",
    "deepnote_cell_height": 454
   },
   "source": "%%script echo skipping\n#Skipping because it takes a long time and a lot of plots\n\ndatasets = [\"abortion\", \"atheism\", \"climate\", \"feminist\", \"hillary\", \"irony\"]\nstance_texts = []\nfor stance in datasets[:-1]:\n    with open(f\"tweeteval/datasets/stance/{stance}/test_text.txt\") as f:\n        stance_texts.append(f.read())\n\nstance_texts.append(irony)\n\nfor text, stance in zip(stance_texts, datasets):\n    print(stance.title())\n    corpus = tokenize(pat, text)\n    stats = statistics(corpus)\n    print(f\"Corpus size: {stats[1]}\\tDictionary size: {stats[2]}\\tType/token ratio: {stats[3]:.3}\")\n    print(datfr(corpus).head(10))\n    print()\n    zipf(corpus)\n",
   "execution_count": 11,
   "outputs": [
    {
     "name": "stdout",
     "text": "skipping\n",
     "output_type": "stream"
    }
   ]
  },
  {
   "cell_type": "code",
   "metadata": {
    "cell_id": "cadedb8b62874d05bbc6edcb6c004893",
    "tags": [],
    "deepnote_to_be_reexecuted": false,
    "source_hash": "475d6189",
    "execution_start": 1652952224099,
    "execution_millis": 5411,
    "deepnote_table_state": {
     "pageSize": 10,
     "pageIndex": 0,
     "filters": [],
     "sortBy": [
      {
       "id": "token abortion_corpus",
       "type": "asc"
      }
     ]
    },
    "deepnote_table_loading": false,
    "owner_user_id": "5ba608db-9ea8-48c4-a2a6-9b0711414f22",
    "deepnote_cell_type": "code",
    "deepnote_cell_height": 1171,
    "deepnote_output_heights": [
     588.109375,
     584.21875
    ]
   },
   "source": "tokenised_datasets = [irony_corpus, hillary_corpus, climate_corpus, atheism_corpus, feminist_corpus, abortion_corpus]\n\nnames = [\"irony_corpus\",\"hillary_corpus\", \"climate_corpus\", \"atheism_corpus\", \"feminist_corpus\", \"abortion_corpus\"]\n\nirony_df = datfr(irony_corpus)\nhillary_df = datfr(hillary_corpus)\nclimate_df = datfr(climate_corpus)\nabortion_df = datfr(abortion_corpus)\nfeminist_df = datfr(feminist_corpus)\natheism_df = datfr(atheism_corpus)\n\nall_dfs = [irony_df, hillary_df, climate_df, abortion_df, feminist_df, atheism_df]\nfig,axs = plt.subplots(1,2,figsize=(15,10))\n\nc = 0\nfor df in all_dfs:\n    if c == 0:\n        sns.scatterplot(x='idx', y='frequency', data=df, ax = axs[1])\n        c += 1\n    else:\n        sns.scatterplot(x='idx', y='frequency', data=df, ax = axs[0])\nfor ax in axs:\n    ax.set(xscale=\"log\", yscale=\"log\")\n    ax.grid(False)\n    ax.set_xlabel(\"word rank\")\nfig.suptitle(\"Zipf's law\", fontweight=\"bold\", fontsize=18, x=0.5,y=0.91)\nfig.legend(labels=names, loc = \"lower center\", bbox_to_anchor=(0.5,0.02), ncol=6)\nplt.savefig(\"figures/zipf_law.png\", dpi=400, bbox_inches=\"tight\")",
   "execution_count": 53,
   "outputs": [
    {
     "data": {
      "text/plain": "<Figure size 1080x720 with 2 Axes>",
      "image/png": "[encoded data removed]"
     },
     "metadata": {
      "image/png": {
       "width": 898,
       "height": 649
      }
     },
     "output_type": "display_data"
    }
   ]
  },
  {
   "cell_type": "markdown",
   "source": "## 3 Manual Annotation and Inter-Annotator Agreement",
   "metadata": {
    "cell_id": "37b78fda6a5a48f4b46d921e7d301247",
    "tags": [],
    "owner_user_id": "b6cc7348-6fc5-4d35-ad0e-eb6f6874910a",
    "deepnote_cell_type": "markdown",
    "deepnote_cell_height": 70
   }
  },
  {
   "cell_type": "code",
   "metadata": {
    "cell_id": "7d301ad47b7c4d37b8505f547008ef42",
    "tags": [],
    "deepnote_to_be_reexecuted": false,
    "source_hash": "193f55a9",
    "execution_start": 1652950764795,
    "execution_millis": 7,
    "is_code_hidden": false,
    "output_cleared": false,
    "deepnote_cell_type": "code",
    "deepnote_cell_height": 459
   },
   "source": "#random.seed(10)\n\nlines = []\nwith open(\"tweeteval/datasets/irony/train_text.txt\") as f:\n    for line in f:\n        lines.append(line.strip())\n\nrandom_lines_index = sorted(random.sample([i for i in range(0, len(lines))], k = 100))\n\ntrue_vals = []\nwith open(\"tweeteval/datasets/irony/train_labels.txt\") as f:\n    for line in f:\n        true_vals.append(int(line.strip()))\n\nvalidation = []\nfor i in random_lines_index:\n    validation.append(true_vals[i])\n\nwith open(\"manual_annotation.txt\", \"w\") as f:\n    for i in range(100):\n        f.write(f\"{random_lines_index[i]}@@@ {lines[random_lines_index[i]]}\")\n        f.write(\"\\n\")",
   "execution_count": 13,
   "outputs": []
  },
  {
   "cell_type": "markdown",
   "source": "$$\n    \\underbrace{\\stackrel{1}{\\text{in}}\\quad\\stackrel{2}{\\text{the}}}_{\\stackrel{\\text{bigram}}{\\text{2-gram}}}\n    \\qquad p(\\text{the} \\;|\\; \\underbrace{\\phantom{text}\\text{in}\\phantom{text}}_{\\text{firstorder MM}})\n$$",
   "metadata": {
    "cell_id": "d16e81e29dcf4ef680dc0eeb44f51833",
    "tags": [],
    "deepnote_cell_type": "markdown",
    "deepnote_cell_height": 118
   }
  },
  {
   "cell_type": "code",
   "metadata": {
    "cell_id": "0b1196cea5dd4d36b8135eb0f3a39e6e",
    "tags": [],
    "deepnote_to_be_reexecuted": false,
    "source_hash": "e6322e39",
    "execution_start": 1652950765925,
    "execution_millis": 10,
    "output_cleared": true,
    "deepnote_table_state": {
     "pageSize": 10,
     "pageIndex": 0,
     "filters": [],
     "sortBy": []
    },
    "deepnote_table_loading": false,
    "deepnote_table_invalid": false,
    "deepnote_cell_type": "code",
    "deepnote_cell_height": 117
   },
   "source": "df = pd.read_csv(\"manual_annotations/annotation_results.csv\")\ndf = df.drop([\"Unnamed: 0\"], axis = 1)\ndf[\"Gold\"] = validation",
   "execution_count": 14,
   "outputs": []
  },
  {
   "cell_type": "code",
   "metadata": {
    "cell_id": "bf1306ec7f7541fd9db4d4a14a4a2d27",
    "tags": [],
    "deepnote_to_be_reexecuted": false,
    "source_hash": "f57b8b2e",
    "execution_start": 1652950767396,
    "execution_millis": 0,
    "output_cleared": false,
    "deepnote_cell_type": "code",
    "deepnote_cell_height": 171
   },
   "source": "tuple_list = []\nfor name in list(df)[1:]:\n    tuples = list(zip([name] * len(df[\"idx\"]), df[\"idx\"], df[name]))\n    tuple_list.extend(tuples)\n\nmanual = AnnotationTask(data=tuple_list)",
   "execution_count": 15,
   "outputs": []
  },
  {
   "cell_type": "code",
   "metadata": {
    "cell_id": "3a80c740aa1f4609b421d697c0f75b3d",
    "tags": [],
    "deepnote_to_be_reexecuted": false,
    "source_hash": "459cd58a",
    "execution_start": 1652950767884,
    "execution_millis": 7,
    "output_cleared": false,
    "deepnote_cell_type": "code",
    "deepnote_cell_height": 204
   },
   "source": "statsmodels_df = df.drop([\"idx\"], axis = 1)\nprint(\"fleiss_alpha\",irr.fleiss_kappa(irr.aggregate_raters(statsmodels_df)[0], method = \"fleiss\"))\n\nstatsmodels_trans_df = statsmodels_df.transpose()\nprint(\"krippendorff\",kd.alpha(statsmodels_trans_df, level_of_measurement='nominal'))",
   "execution_count": 16,
   "outputs": [
    {
     "name": "stdout",
     "text": "fleiss_alpha 0.4612794612794613\nkrippendorff 0.46217732884399554\n",
     "output_type": "stream"
    }
   ]
  },
  {
   "cell_type": "code",
   "metadata": {
    "cell_id": "c12a0f27ded94bc1a71fcae9963e7032",
    "tags": [],
    "deepnote_to_be_reexecuted": false,
    "source_hash": "bb8c3af0",
    "execution_start": 1652950841575,
    "execution_millis": 3,
    "output_cleared": false,
    "deepnote_cell_type": "code",
    "deepnote_cell_height": 222
   },
   "source": "statsmodels_gold_df = statsmodels_df.copy()\nstatsmodels_gold_df[\"validation\"] = validation\nprint(\"fleiss_alpha\",irr.fleiss_kappa(irr.aggregate_raters(statsmodels_gold_df)[0], method = \"fleiss\"))\n\nstatsmodels_gold_trans_df = statsmodels_gold_df.transpose()\nprint(\"krippendorff\",kd.alpha(statsmodels_gold_trans_df, level_of_measurement='nominal'))",
   "execution_count": 25,
   "outputs": [
    {
     "name": "stdout",
     "text": "fleiss_alpha 0.48623571811977573\nkrippendorff 0.48696966709389067\n",
     "output_type": "stream"
    }
   ]
  },
  {
   "cell_type": "code",
   "metadata": {
    "cell_id": "1c201ced11cb4d0db0744ad0bbda02ee",
    "tags": [],
    "deepnote_to_be_reexecuted": false,
    "source_hash": "a6f0f7ea",
    "execution_start": 1652950769650,
    "execution_millis": 5,
    "output_cleared": true,
    "owner_user_id": "86e97f73-8efe-4ddc-aadf-a7e22cfd1042",
    "deepnote_cell_type": "code",
    "deepnote_cell_height": 207
   },
   "source": "names = [\"Marie\", \"Frida\", \"Magnus\", \"Viggo\", \"Gustav\"]\n\ntuple_list = []\nfor name in list(df)[1:]:\n    tuples = list(zip([name] * len(df[\"idx\"]), df[\"idx\"], df[name]))\n    tuple_list.extend(tuples)\n\nmanual_gold = AnnotationTask(data=tuple_list)",
   "execution_count": 18,
   "outputs": []
  },
  {
   "cell_type": "code",
   "metadata": {
    "cell_id": "5e4eee0d092940f1899408b8d49eb74f",
    "tags": [],
    "deepnote_to_be_reexecuted": false,
    "source_hash": "424809dd",
    "execution_start": 1652950879217,
    "execution_millis": 9,
    "output_cleared": false,
    "deepnote_cell_type": "code",
    "deepnote_cell_height": 642,
    "deepnote_output_heights": [
     503.03125
    ]
   },
   "source": "combs = list(map(lambda x: (x[0], x[1], manual_gold.kappa_pairwise(*x)), combinations(names, 2)))\ncombs.extend(map(lambda x: (x[0], x[1], manual_gold.kappa_pairwise(*x)), zip(names, [\"Gold\"] * len(names))))\ntable = tabulate(combs, headers=[\"Annotator 1\", \"Annotator 2\", \"Kappa Pairwise\"], tablefmt=\"latex_booktabs\", floatfmt=\".3f\")\nprint(table)\nprint(f\"\\n###  Average Agreement with Gold: {np.mean(list(map(lambda x: x[2], combs[-5:]))):.3f}\")\n# md(table)",
   "execution_count": 28,
   "outputs": [
    {
     "name": "stdout",
     "text": "\\begin{tabular}{llr}\n\\toprule\n Annotator 1   & Annotator 2   &   Kappa Pairwise \\\\\n\\midrule\n Marie         & Frida         &            0.376 \\\\\n Marie         & Magnus        &            0.408 \\\\\n Marie         & Viggo         &            0.362 \\\\\n Marie         & Gustav        &            0.333 \\\\\n Frida         & Magnus        &            0.601 \\\\\n Frida         & Viggo         &            0.606 \\\\\n Frida         & Gustav        &            0.470 \\\\\n Magnus        & Viggo         &            0.615 \\\\\n Magnus        & Gustav        &            0.440 \\\\\n Viggo         & Gustav        &            0.486 \\\\\n Marie         & Gold          &            0.517 \\\\\n Frida         & Gold          &            0.364 \\\\\n Magnus        & Gold          &            0.545 \\\\\n Viggo         & Gold          &            0.465 \\\\\n Gustav        & Gold          &            0.403 \\\\\n\\bottomrule\n\\end{tabular}\n\n###  Average Agreement with Gold: 0.459\n",
     "output_type": "stream"
    }
   ]
  },
  {
   "cell_type": "code",
   "metadata": {
    "cell_id": "2529ab6573e640d984d9d1b854569b25",
    "tags": [],
    "deepnote_to_be_reexecuted": true,
    "source_hash": "d485c4e",
    "execution_start": 1652179177809,
    "execution_millis": 3,
    "deepnote_cell_type": "code",
    "deepnote_cell_height": 532
   },
   "source": "print(tabulate(combs, headers=[\"Annotator 1\", \"Annotator 2\", \"Kappa Pairwise\"], tablefmt=\"html\", floatfmt=\".3f\"))",
   "execution_count": null,
   "outputs": [
    {
     "name": "stdout",
     "text": "<table>\n<thead>\n<tr><th>Annotator 1  </th><th>Annotator 2  </th><th style=\"text-align: right;\">  Kappa Pairwise</th></tr>\n</thead>\n<tbody>\n<tr><td>Marie        </td><td>Frida        </td><td style=\"text-align: right;\">           0.376</td></tr>\n<tr><td>Marie        </td><td>Magnus       </td><td style=\"text-align: right;\">           0.408</td></tr>\n<tr><td>Marie        </td><td>Viggo        </td><td style=\"text-align: right;\">           0.362</td></tr>\n<tr><td>Marie        </td><td>Gustav       </td><td style=\"text-align: right;\">           0.333</td></tr>\n<tr><td>Frida        </td><td>Magnus       </td><td style=\"text-align: right;\">           0.601</td></tr>\n<tr><td>Frida        </td><td>Viggo        </td><td style=\"text-align: right;\">           0.606</td></tr>\n<tr><td>Frida        </td><td>Gustav       </td><td style=\"text-align: right;\">           0.470</td></tr>\n<tr><td>Magnus       </td><td>Viggo        </td><td style=\"text-align: right;\">           0.615</td></tr>\n<tr><td>Magnus       </td><td>Gustav       </td><td style=\"text-align: right;\">           0.440</td></tr>\n<tr><td>Viggo        </td><td>Gustav       </td><td style=\"text-align: right;\">           0.486</td></tr>\n<tr><td>Marie        </td><td>Gold         </td><td style=\"text-align: right;\">           0.517</td></tr>\n<tr><td>Frida        </td><td>Gold         </td><td style=\"text-align: right;\">           0.364</td></tr>\n<tr><td>Magnus       </td><td>Gold         </td><td style=\"text-align: right;\">           0.545</td></tr>\n<tr><td>Viggo        </td><td>Gold         </td><td style=\"text-align: right;\">           0.465</td></tr>\n<tr><td>Gustav       </td><td>Gold         </td><td style=\"text-align: right;\">           0.403</td></tr>\n</tbody>\n</table>\n",
     "output_type": "stream"
    }
   ]
  },
  {
   "cell_type": "code",
   "metadata": {
    "cell_id": "c5cd37c20be044eca476bc3a611d33ce",
    "tags": [],
    "deepnote_to_be_reexecuted": true,
    "source_hash": "c6bfd624",
    "execution_start": 1652179177823,
    "execution_millis": 141,
    "output_cleared": false,
    "deepnote_cell_type": "code",
    "deepnote_cell_height": 773
   },
   "source": "for i in range(100):\n    if sum(df.iloc[i,1:]) == 3:\n        tweetnumber = random_lines_index[i]\n        print(\"idx:\",tweetnumber)\n        print(f'Tweet: {lines[tweetnumber]}\\nLabels: \\n{df.iloc[i,1:]} \\n')",
   "execution_count": null,
   "outputs": [
    {
     "name": "stdout",
     "text": "idx: 266\nTweet: @user ha yeah which is your opinion, which like mine, means nothing ;) they're in.\nLabels: \nMarie     1\nFrida     1\nMagnus    0\nGustav    0\nViggo     1\nGold      0\nName: 8, dtype: int64 \n\nidx: 782\nTweet: oh lord!  RT @user RT @user Before becoming an actor, Tom Cruise wanted to be a Catholic priest.\nLabels: \nMarie     1\nFrida     0\nMagnus    0\nGustav    0\nViggo     1\nGold      1\nName: 26, dtype: int64 \n\nidx: 844\nTweet: @user (281): If I had feelings, you would have hurt them.\nLabels: \nMarie     0\nFrida     1\nMagnus    1\nGustav    0\nViggo     0\nGold      1\nName: 28, dtype: int64 \n\nidx: 980\nTweet: Carbon everywhere :) #carbon #hood  #sticker #strips #down #red #automotive #dope #cars...\nLabels: \nMarie     1\nFrida     1\nMagnus    0\nGustav    1\nViggo     0\nGold      0\nName: 32, dtype: int64 \n\nidx: 1093\nTweet: #notcies #eu Juncker receives birthday surprise: One million signatures opposing TTIP and CETA\nLabels: \nMarie     1\nFrida     1\nMagnus    0\nGustav    1\nViggo     0\nGold      0\nName: 37, dtype: int64 \n\nidx: 1233\nTweet: @user oh man. You will have to get everyone singing ready for when I'm in 😂\nLabels: \nMarie     1\nFrida     1\nMagnus    0\nGustav    1\nViggo     0\nGold      0\nName: 41, dtype: int64 \n\nidx: 1240\nTweet: @user We should monitor them...\nLabels: \nMarie     1\nFrida     0\nMagnus    0\nGustav    1\nViggo     0\nGold      1\nName: 43, dtype: int64 \n\nidx: 1485\nTweet: @user So PSN and Xbox Live are both down on a day many people get new video games.||North Korean hack? 😫\nLabels: \nMarie     1\nFrida     0\nMagnus    0\nGustav    1\nViggo     0\nGold      1\nName: 51, dtype: int64 \n\nidx: 1532\nTweet: I love it when work tells me they don't need me to come in 💁😂😭😭😭\nLabels: \nMarie     0\nFrida     0\nMagnus    0\nGustav    1\nViggo     1\nGold      1\nName: 53, dtype: int64 \n\nidx: 1825\nTweet: @user absolutely shocking that the lamestream media hasn't picked up on this  #mediabias @user @user\nLabels: \nMarie     1\nFrida     0\nMagnus    0\nGustav    1\nViggo     1\nGold      0\nName: 66, dtype: int64 \n\nidx: 2012\nTweet: @user There's so much less controversy now that the BCS has been replaced.\nLabels: \nMarie     1\nFrida     0\nMagnus    0\nGustav    1\nViggo     0\nGold      1\nName: 74, dtype: int64 \n\nidx: 2132\nTweet: @user they are all written out in a gold gel pen waiting! I hate how are relationship consists of twitter messaging  #fulfilling\nLabels: \nMarie     0\nFrida     1\nMagnus    1\nGustav    1\nViggo     0\nGold      0\nName: 77, dtype: int64 \n\nidx: 2340\nTweet: Thechicago firehouse restaurant goes up in flames.  #chicago #fire #cfd #workingpress #cbs #wbbm...\nLabels: \nMarie     1\nFrida     1\nMagnus    0\nGustav    0\nViggo     0\nGold      1\nName: 83, dtype: int64 \n\nidx: 2387\nTweet: @user Does it imply you can get off facebook using crack or cocaine? .\nLabels: \nMarie     1\nFrida     0\nMagnus    1\nGustav    0\nViggo     0\nGold      1\nName: 85, dtype: int64 \n\nidx: 2674\nTweet: Did you know ? If you are reading this right now you are not blind...lol.\nLabels: \nMarie     1\nFrida     0\nMagnus    1\nGustav    0\nViggo     0\nGold      1\nName: 92, dtype: int64 \n\n",
     "output_type": "stream"
    }
   ]
  },
  {
   "cell_type": "markdown",
   "source": "# 4 Automatic Prediction",
   "metadata": {
    "cell_id": "503c2c6475ed4c9d969c2b32c09a1405",
    "tags": [],
    "is_collapsed": false,
    "deepnote_cell_type": "text-cell-h1"
   }
  },
  {
   "cell_type": "markdown",
   "source": "### Normalisation of all our corpora",
   "metadata": {
    "cell_id": "a0ec64eacb1042e48cb007ea91d320f6",
    "tags": [],
    "deepnote_cell_type": "markdown",
    "deepnote_cell_height": 62
   }
  },
  {
   "cell_type": "code",
   "metadata": {
    "cell_id": "53da032b42d64c0c9f4a510cbf374911",
    "tags": [],
    "deepnote_to_be_reexecuted": false,
    "source_hash": "51fca38c",
    "execution_start": 1652358355001,
    "execution_millis": 7,
    "deepnote_cell_type": "code",
    "deepnote_cell_height": 117
   },
   "source": "train_labels = \"/work/fyp2022g03GroupB2/tweeteval/datasets/irony/train_labels.txt\"\nirony_tweets_path = \"/work/fyp2022g03GroupB2/tweeteval/datasets/irony/train_text.txt\"\nY = np.loadtxt(train_labels)",
   "execution_count": null,
   "outputs": []
  },
  {
   "cell_type": "code",
   "metadata": {
    "cell_id": "11fc53f3137f4d20ae47597326df7e8f",
    "tags": [],
    "deepnote_to_be_reexecuted": false,
    "source_hash": "7b4504d6",
    "execution_start": 1652358362543,
    "execution_millis": 1,
    "deepnote_cell_type": "code",
    "deepnote_cell_height": 189
   },
   "source": "def test_classifier(classifier, pattern, text_train, labels_train, text_val, labels_val):\n    clf = make_pipeline(CountVectorizer(token_pattern=pat, strip_accents=\"unicode\", ngram_range=(2,2)),\n                        TfidfTransformer(), classifier)\n    clf.fit(preprocess(text_train), labels_train)\n    pred = clf.predict(preprocess(text_val))\n    print(metrics.classification_report(labels_val, pred, digits=3))\n    return metrics.classification_report(labels_val, pred, digits=3, output_dict=True, labels=[0, 1])",
   "execution_count": null,
   "outputs": []
  },
  {
   "cell_type": "code",
   "metadata": {
    "cell_id": "9cea994cd0fc403f9a6f70b18183d257",
    "tags": [],
    "deepnote_to_be_reexecuted": false,
    "source_hash": "8d31967",
    "execution_start": 1652358397893,
    "execution_millis": 29,
    "deepnote_cell_type": "code",
    "deepnote_cell_height": 216
   },
   "source": "with open(\"tweeteval/datasets/irony/val_text.txt\", \"r\") as f:\n    irony_val = f.read().rstrip()\nval_labels = np.loadtxt(\"tweeteval/datasets/irony/val_labels.txt\")\npred_labels = clf.predict(preprocess(irony_val))\nnp.mean(pred_labels == val_labels)",
   "execution_count": null,
   "outputs": [
    {
     "output_type": "error",
     "ename": "NameError",
     "evalue": "name 'clf' is not defined",
     "traceback": [
      "\u001b[0;31m---------------------------------------------------------------------------\u001b[0m",
      "\u001b[0;31mNameError\u001b[0m                                 Traceback (most recent call last)",
      "\u001b[0;32m<ipython-input-20-4150059b243e>\u001b[0m in \u001b[0;36m<cell line: 4>\u001b[0;34m()\u001b[0m\n\u001b[1;32m      2\u001b[0m     \u001b[0mirony_val\u001b[0m \u001b[0;34m=\u001b[0m \u001b[0mf\u001b[0m\u001b[0;34m.\u001b[0m\u001b[0mread\u001b[0m\u001b[0;34m(\u001b[0m\u001b[0;34m)\u001b[0m\u001b[0;34m.\u001b[0m\u001b[0mrstrip\u001b[0m\u001b[0;34m(\u001b[0m\u001b[0;34m)\u001b[0m\u001b[0;34m\u001b[0m\u001b[0;34m\u001b[0m\u001b[0m\n\u001b[1;32m      3\u001b[0m \u001b[0mval_labels\u001b[0m \u001b[0;34m=\u001b[0m \u001b[0mnp\u001b[0m\u001b[0;34m.\u001b[0m\u001b[0mloadtxt\u001b[0m\u001b[0;34m(\u001b[0m\u001b[0;34m\"tweeteval/datasets/irony/val_labels.txt\"\u001b[0m\u001b[0;34m)\u001b[0m\u001b[0;34m\u001b[0m\u001b[0;34m\u001b[0m\u001b[0m\n\u001b[0;32m----> 4\u001b[0;31m \u001b[0mpred_labels\u001b[0m \u001b[0;34m=\u001b[0m \u001b[0mclf\u001b[0m\u001b[0;34m.\u001b[0m\u001b[0mpredict\u001b[0m\u001b[0;34m(\u001b[0m\u001b[0mpreprocess\u001b[0m\u001b[0;34m(\u001b[0m\u001b[0mirony_val\u001b[0m\u001b[0;34m)\u001b[0m\u001b[0;34m)\u001b[0m\u001b[0;34m\u001b[0m\u001b[0;34m\u001b[0m\u001b[0m\n\u001b[0m\u001b[1;32m      5\u001b[0m \u001b[0mnp\u001b[0m\u001b[0;34m.\u001b[0m\u001b[0mmean\u001b[0m\u001b[0;34m(\u001b[0m\u001b[0mpred_labels\u001b[0m \u001b[0;34m==\u001b[0m \u001b[0mval_labels\u001b[0m\u001b[0;34m)\u001b[0m\u001b[0;34m\u001b[0m\u001b[0;34m\u001b[0m\u001b[0m\n",
      "\u001b[0;31mNameError\u001b[0m: name 'clf' is not defined"
     ]
    }
   ]
  },
  {
   "cell_type": "code",
   "metadata": {
    "cell_id": "ae780f4e75fc432da9852f5b1e0cd83e",
    "tags": [],
    "deepnote_to_be_reexecuted": false,
    "source_hash": "c616339b",
    "execution_start": 1652358409123,
    "execution_millis": 248,
    "deepnote_cell_type": "code",
    "deepnote_cell_height": 216
   },
   "source": "text = preprocess(irony)\n\nclf2 = train(MLPClassifier(solver='adam', learning_rate='adaptive', activation='tanh'))\npred_labels2 = clf2.predict(preprocess(irony_val))\nnp.mean(pred_labels2 == val_labels)",
   "execution_count": null,
   "outputs": [
    {
     "output_type": "error",
     "ename": "NameError",
     "evalue": "name 'train' is not defined",
     "traceback": [
      "\u001b[0;31m---------------------------------------------------------------------------\u001b[0m",
      "\u001b[0;31mNameError\u001b[0m                                 Traceback (most recent call last)",
      "\u001b[0;32m<ipython-input-21-c4fb448b96bd>\u001b[0m in \u001b[0;36m<cell line: 3>\u001b[0;34m()\u001b[0m\n\u001b[1;32m      1\u001b[0m \u001b[0mtext\u001b[0m \u001b[0;34m=\u001b[0m \u001b[0mpreprocess\u001b[0m\u001b[0;34m(\u001b[0m\u001b[0mirony\u001b[0m\u001b[0;34m)\u001b[0m\u001b[0;34m\u001b[0m\u001b[0;34m\u001b[0m\u001b[0m\n\u001b[1;32m      2\u001b[0m \u001b[0;34m\u001b[0m\u001b[0m\n\u001b[0;32m----> 3\u001b[0;31m \u001b[0mclf2\u001b[0m \u001b[0;34m=\u001b[0m \u001b[0mtrain\u001b[0m\u001b[0;34m(\u001b[0m\u001b[0mMLPClassifier\u001b[0m\u001b[0;34m(\u001b[0m\u001b[0msolver\u001b[0m\u001b[0;34m=\u001b[0m\u001b[0;34m'adam'\u001b[0m\u001b[0;34m,\u001b[0m \u001b[0mlearning_rate\u001b[0m\u001b[0;34m=\u001b[0m\u001b[0;34m'adaptive'\u001b[0m\u001b[0;34m,\u001b[0m \u001b[0mactivation\u001b[0m\u001b[0;34m=\u001b[0m\u001b[0;34m'tanh'\u001b[0m\u001b[0;34m)\u001b[0m\u001b[0;34m)\u001b[0m\u001b[0;34m\u001b[0m\u001b[0;34m\u001b[0m\u001b[0m\n\u001b[0m\u001b[1;32m      4\u001b[0m \u001b[0mpred_labels2\u001b[0m \u001b[0;34m=\u001b[0m \u001b[0mclf2\u001b[0m\u001b[0;34m.\u001b[0m\u001b[0mpredict\u001b[0m\u001b[0;34m(\u001b[0m\u001b[0mpreprocess\u001b[0m\u001b[0;34m(\u001b[0m\u001b[0mirony_val\u001b[0m\u001b[0;34m)\u001b[0m\u001b[0;34m)\u001b[0m\u001b[0;34m\u001b[0m\u001b[0;34m\u001b[0m\u001b[0m\n\u001b[1;32m      5\u001b[0m \u001b[0mnp\u001b[0m\u001b[0;34m.\u001b[0m\u001b[0mmean\u001b[0m\u001b[0;34m(\u001b[0m\u001b[0mpred_labels2\u001b[0m \u001b[0;34m==\u001b[0m \u001b[0mval_labels\u001b[0m\u001b[0;34m)\u001b[0m\u001b[0;34m\u001b[0m\u001b[0;34m\u001b[0m\u001b[0m\n",
      "\u001b[0;31mNameError\u001b[0m: name 'train' is not defined"
     ]
    }
   ]
  },
  {
   "cell_type": "code",
   "metadata": {
    "cell_id": "47396729f057412c86316486c3cf2adc",
    "tags": [],
    "deepnote_to_be_reexecuted": true,
    "source_hash": "7d00a271",
    "execution_start": 1652181301433,
    "execution_millis": 348,
    "deepnote_cell_type": "code",
    "deepnote_cell_height": 118,
    "deepnote_output_heights": [
     21
    ]
   },
   "source": "len(CountVectorizer(token_pattern=pat, strip_accents=\"unicode\").fit(preprocess(irony_train)).vocabulary_)",
   "execution_count": null,
   "outputs": [
    {
     "output_type": "execute_result",
     "execution_count": 68,
     "data": {
      "text/plain": "8848"
     },
     "metadata": {}
    }
   ]
  },
  {
   "cell_type": "code",
   "metadata": {
    "cell_id": "058e80386a38493082fc7937fe8a657b",
    "tags": [],
    "deepnote_to_be_reexecuted": true,
    "source_hash": "ae78e231",
    "execution_start": 1652181764076,
    "execution_millis": 436,
    "deepnote_cell_type": "code",
    "deepnote_cell_height": 172,
    "deepnote_output_heights": [
     21
    ]
   },
   "source": "clf3 = train(MultinomialNB())\n\npred_labels3 = clf3.predict(preprocess(irony_val))\nnp.mean(pred_labels3 == val_labels)",
   "execution_count": null,
   "outputs": [
    {
     "output_type": "execute_result",
     "execution_count": 77,
     "data": {
      "text/plain": "0.6418848167539267"
     },
     "metadata": {}
    }
   ]
  },
  {
   "cell_type": "code",
   "metadata": {
    "cell_id": "8150b70d783947b492459624fc28ef4a",
    "tags": [],
    "deepnote_to_be_reexecuted": false,
    "source_hash": "c13c0374",
    "execution_start": 1652358445343,
    "execution_millis": 349,
    "deepnote_cell_type": "code",
    "deepnote_cell_height": 306
   },
   "source": "with open(\"tweeteval/datasets/irony/train_text.txt\", \"r\") as f:\n    irony_train_text = f.read().rstrip()\nirony_train_labels = np.loadtxt(\"tweeteval/datasets/irony/train_labels.txt\")\nwith open(\"tweeteval/datasets/irony/val_text.txt\", \"r\") as f:\n    irony_val_text = f.read().rstrip()\nirony_val_labels = np.loadtxt(\"tweeteval/datasets/irony/val_labels.txt\")\nwith open(\"pattern.txt\", \"r\") as f:\n    pattern = f.read().rstrip()\nclassifier = SGDClassifier(max_iter=5000, tol=1e-4)\ntc = test_classifier(classifier, pattern, irony_train_text, irony_train_labels, irony_val_text, irony_val_labels)",
   "execution_count": null,
   "outputs": [
    {
     "output_type": "error",
     "ename": "TypeError",
     "evalue": "first argument must be string or compiled pattern",
     "traceback": [
      "\u001b[0;31m---------------------------------------------------------------------------\u001b[0m",
      "\u001b[0;31mTypeError\u001b[0m                                 Traceback (most recent call last)",
      "\u001b[0;32m<ipython-input-22-ed6daa20cce5>\u001b[0m in \u001b[0;36m<cell line: 10>\u001b[0;34m()\u001b[0m\n\u001b[1;32m      8\u001b[0m     \u001b[0mpattern\u001b[0m \u001b[0;34m=\u001b[0m \u001b[0mf\u001b[0m\u001b[0;34m.\u001b[0m\u001b[0mread\u001b[0m\u001b[0;34m(\u001b[0m\u001b[0;34m)\u001b[0m\u001b[0;34m.\u001b[0m\u001b[0mrstrip\u001b[0m\u001b[0;34m(\u001b[0m\u001b[0;34m)\u001b[0m\u001b[0;34m\u001b[0m\u001b[0;34m\u001b[0m\u001b[0m\n\u001b[1;32m      9\u001b[0m \u001b[0mclassifier\u001b[0m \u001b[0;34m=\u001b[0m \u001b[0mSGDClassifier\u001b[0m\u001b[0;34m(\u001b[0m\u001b[0mmax_iter\u001b[0m\u001b[0;34m=\u001b[0m\u001b[0;36m5000\u001b[0m\u001b[0;34m,\u001b[0m \u001b[0mtol\u001b[0m\u001b[0;34m=\u001b[0m\u001b[0;36m1e-4\u001b[0m\u001b[0;34m)\u001b[0m\u001b[0;34m\u001b[0m\u001b[0;34m\u001b[0m\u001b[0m\n\u001b[0;32m---> 10\u001b[0;31m \u001b[0mtc\u001b[0m \u001b[0;34m=\u001b[0m \u001b[0mtest_classifier\u001b[0m\u001b[0;34m(\u001b[0m\u001b[0mclassifier\u001b[0m\u001b[0;34m,\u001b[0m \u001b[0mpattern\u001b[0m\u001b[0;34m,\u001b[0m \u001b[0mirony_train_text\u001b[0m\u001b[0;34m,\u001b[0m \u001b[0mirony_train_labels\u001b[0m\u001b[0;34m,\u001b[0m \u001b[0mirony_val_text\u001b[0m\u001b[0;34m,\u001b[0m \u001b[0mirony_val_labels\u001b[0m\u001b[0;34m)\u001b[0m\u001b[0;34m\u001b[0m\u001b[0;34m\u001b[0m\u001b[0m\n\u001b[0m",
      "\u001b[0;32m<ipython-input-18-6a464d8a7f02>\u001b[0m in \u001b[0;36mtest_classifier\u001b[0;34m(classifier, pattern, text_train, labels_train, text_val, labels_val)\u001b[0m\n\u001b[1;32m      2\u001b[0m     clf = make_pipeline(CountVectorizer(token_pattern=pat, strip_accents=\"unicode\", ngram_range=(2,2)),\n\u001b[1;32m      3\u001b[0m                         TfidfTransformer(), classifier)\n\u001b[0;32m----> 4\u001b[0;31m     \u001b[0mclf\u001b[0m\u001b[0;34m.\u001b[0m\u001b[0mfit\u001b[0m\u001b[0;34m(\u001b[0m\u001b[0mpreprocess\u001b[0m\u001b[0;34m(\u001b[0m\u001b[0mtext_train\u001b[0m\u001b[0;34m)\u001b[0m\u001b[0;34m,\u001b[0m \u001b[0mlabels_train\u001b[0m\u001b[0;34m)\u001b[0m\u001b[0;34m\u001b[0m\u001b[0;34m\u001b[0m\u001b[0m\n\u001b[0m\u001b[1;32m      5\u001b[0m     \u001b[0mpred\u001b[0m \u001b[0;34m=\u001b[0m \u001b[0mclf\u001b[0m\u001b[0;34m.\u001b[0m\u001b[0mpredict\u001b[0m\u001b[0;34m(\u001b[0m\u001b[0mpreprocess\u001b[0m\u001b[0;34m(\u001b[0m\u001b[0mtext_val\u001b[0m\u001b[0;34m)\u001b[0m\u001b[0;34m)\u001b[0m\u001b[0;34m\u001b[0m\u001b[0;34m\u001b[0m\u001b[0m\n\u001b[1;32m      6\u001b[0m     \u001b[0mprint\u001b[0m\u001b[0;34m(\u001b[0m\u001b[0mmetrics\u001b[0m\u001b[0;34m.\u001b[0m\u001b[0mclassification_report\u001b[0m\u001b[0;34m(\u001b[0m\u001b[0mlabels_val\u001b[0m\u001b[0;34m,\u001b[0m \u001b[0mpred\u001b[0m\u001b[0;34m,\u001b[0m \u001b[0mdigits\u001b[0m\u001b[0;34m=\u001b[0m\u001b[0;36m3\u001b[0m\u001b[0;34m)\u001b[0m\u001b[0;34m)\u001b[0m\u001b[0;34m\u001b[0m\u001b[0;34m\u001b[0m\u001b[0m\n",
      "\u001b[0;32m/shared-libs/python3.9/py/lib/python3.9/site-packages/sklearn/pipeline.py\u001b[0m in \u001b[0;36mfit\u001b[0;34m(self, X, y, **fit_params)\u001b[0m\n\u001b[1;32m    388\u001b[0m         \"\"\"\n\u001b[1;32m    389\u001b[0m         \u001b[0mfit_params_steps\u001b[0m \u001b[0;34m=\u001b[0m \u001b[0mself\u001b[0m\u001b[0;34m.\u001b[0m\u001b[0m_check_fit_params\u001b[0m\u001b[0;34m(\u001b[0m\u001b[0;34m**\u001b[0m\u001b[0mfit_params\u001b[0m\u001b[0;34m)\u001b[0m\u001b[0;34m\u001b[0m\u001b[0;34m\u001b[0m\u001b[0m\n\u001b[0;32m--> 390\u001b[0;31m         \u001b[0mXt\u001b[0m \u001b[0;34m=\u001b[0m \u001b[0mself\u001b[0m\u001b[0;34m.\u001b[0m\u001b[0m_fit\u001b[0m\u001b[0;34m(\u001b[0m\u001b[0mX\u001b[0m\u001b[0;34m,\u001b[0m \u001b[0my\u001b[0m\u001b[0;34m,\u001b[0m \u001b[0;34m**\u001b[0m\u001b[0mfit_params_steps\u001b[0m\u001b[0;34m)\u001b[0m\u001b[0;34m\u001b[0m\u001b[0;34m\u001b[0m\u001b[0m\n\u001b[0m\u001b[1;32m    391\u001b[0m         \u001b[0;32mwith\u001b[0m \u001b[0m_print_elapsed_time\u001b[0m\u001b[0;34m(\u001b[0m\u001b[0;34m\"Pipeline\"\u001b[0m\u001b[0;34m,\u001b[0m \u001b[0mself\u001b[0m\u001b[0;34m.\u001b[0m\u001b[0m_log_message\u001b[0m\u001b[0;34m(\u001b[0m\u001b[0mlen\u001b[0m\u001b[0;34m(\u001b[0m\u001b[0mself\u001b[0m\u001b[0;34m.\u001b[0m\u001b[0msteps\u001b[0m\u001b[0;34m)\u001b[0m \u001b[0;34m-\u001b[0m \u001b[0;36m1\u001b[0m\u001b[0;34m)\u001b[0m\u001b[0;34m)\u001b[0m\u001b[0;34m:\u001b[0m\u001b[0;34m\u001b[0m\u001b[0;34m\u001b[0m\u001b[0m\n\u001b[1;32m    392\u001b[0m             \u001b[0;32mif\u001b[0m \u001b[0mself\u001b[0m\u001b[0;34m.\u001b[0m\u001b[0m_final_estimator\u001b[0m \u001b[0;34m!=\u001b[0m \u001b[0;34m\"passthrough\"\u001b[0m\u001b[0;34m:\u001b[0m\u001b[0;34m\u001b[0m\u001b[0;34m\u001b[0m\u001b[0m\n",
      "\u001b[0;32m/shared-libs/python3.9/py/lib/python3.9/site-packages/sklearn/pipeline.py\u001b[0m in \u001b[0;36m_fit\u001b[0;34m(self, X, y, **fit_params_steps)\u001b[0m\n\u001b[1;32m    346\u001b[0m                 \u001b[0mcloned_transformer\u001b[0m \u001b[0;34m=\u001b[0m \u001b[0mclone\u001b[0m\u001b[0;34m(\u001b[0m\u001b[0mtransformer\u001b[0m\u001b[0;34m)\u001b[0m\u001b[0;34m\u001b[0m\u001b[0;34m\u001b[0m\u001b[0m\n\u001b[1;32m    347\u001b[0m             \u001b[0;31m# Fit or load from cache the current transformer\u001b[0m\u001b[0;34m\u001b[0m\u001b[0;34m\u001b[0m\u001b[0m\n\u001b[0;32m--> 348\u001b[0;31m             X, fitted_transformer = fit_transform_one_cached(\n\u001b[0m\u001b[1;32m    349\u001b[0m                 \u001b[0mcloned_transformer\u001b[0m\u001b[0;34m,\u001b[0m\u001b[0;34m\u001b[0m\u001b[0;34m\u001b[0m\u001b[0m\n\u001b[1;32m    350\u001b[0m                 \u001b[0mX\u001b[0m\u001b[0;34m,\u001b[0m\u001b[0;34m\u001b[0m\u001b[0;34m\u001b[0m\u001b[0m\n",
      "\u001b[0;32m/shared-libs/python3.9/py/lib/python3.9/site-packages/joblib/memory.py\u001b[0m in \u001b[0;36m__call__\u001b[0;34m(self, *args, **kwargs)\u001b[0m\n\u001b[1;32m    347\u001b[0m \u001b[0;34m\u001b[0m\u001b[0m\n\u001b[1;32m    348\u001b[0m     \u001b[0;32mdef\u001b[0m \u001b[0m__call__\u001b[0m\u001b[0;34m(\u001b[0m\u001b[0mself\u001b[0m\u001b[0;34m,\u001b[0m \u001b[0;34m*\u001b[0m\u001b[0margs\u001b[0m\u001b[0;34m,\u001b[0m \u001b[0;34m**\u001b[0m\u001b[0mkwargs\u001b[0m\u001b[0;34m)\u001b[0m\u001b[0;34m:\u001b[0m\u001b[0;34m\u001b[0m\u001b[0;34m\u001b[0m\u001b[0m\n\u001b[0;32m--> 349\u001b[0;31m         \u001b[0;32mreturn\u001b[0m \u001b[0mself\u001b[0m\u001b[0;34m.\u001b[0m\u001b[0mfunc\u001b[0m\u001b[0;34m(\u001b[0m\u001b[0;34m*\u001b[0m\u001b[0margs\u001b[0m\u001b[0;34m,\u001b[0m \u001b[0;34m**\u001b[0m\u001b[0mkwargs\u001b[0m\u001b[0;34m)\u001b[0m\u001b[0;34m\u001b[0m\u001b[0;34m\u001b[0m\u001b[0m\n\u001b[0m\u001b[1;32m    350\u001b[0m \u001b[0;34m\u001b[0m\u001b[0m\n\u001b[1;32m    351\u001b[0m     \u001b[0;32mdef\u001b[0m \u001b[0mcall_and_shelve\u001b[0m\u001b[0;34m(\u001b[0m\u001b[0mself\u001b[0m\u001b[0;34m,\u001b[0m \u001b[0;34m*\u001b[0m\u001b[0margs\u001b[0m\u001b[0;34m,\u001b[0m \u001b[0;34m**\u001b[0m\u001b[0mkwargs\u001b[0m\u001b[0;34m)\u001b[0m\u001b[0;34m:\u001b[0m\u001b[0;34m\u001b[0m\u001b[0;34m\u001b[0m\u001b[0m\n",
      "\u001b[0;32m/shared-libs/python3.9/py/lib/python3.9/site-packages/sklearn/pipeline.py\u001b[0m in \u001b[0;36m_fit_transform_one\u001b[0;34m(transformer, X, y, weight, message_clsname, message, **fit_params)\u001b[0m\n\u001b[1;32m    891\u001b[0m     \u001b[0;32mwith\u001b[0m \u001b[0m_print_elapsed_time\u001b[0m\u001b[0;34m(\u001b[0m\u001b[0mmessage_clsname\u001b[0m\u001b[0;34m,\u001b[0m \u001b[0mmessage\u001b[0m\u001b[0;34m)\u001b[0m\u001b[0;34m:\u001b[0m\u001b[0;34m\u001b[0m\u001b[0;34m\u001b[0m\u001b[0m\n\u001b[1;32m    892\u001b[0m         \u001b[0;32mif\u001b[0m \u001b[0mhasattr\u001b[0m\u001b[0;34m(\u001b[0m\u001b[0mtransformer\u001b[0m\u001b[0;34m,\u001b[0m \u001b[0;34m\"fit_transform\"\u001b[0m\u001b[0;34m)\u001b[0m\u001b[0;34m:\u001b[0m\u001b[0;34m\u001b[0m\u001b[0;34m\u001b[0m\u001b[0m\n\u001b[0;32m--> 893\u001b[0;31m             \u001b[0mres\u001b[0m \u001b[0;34m=\u001b[0m \u001b[0mtransformer\u001b[0m\u001b[0;34m.\u001b[0m\u001b[0mfit_transform\u001b[0m\u001b[0;34m(\u001b[0m\u001b[0mX\u001b[0m\u001b[0;34m,\u001b[0m \u001b[0my\u001b[0m\u001b[0;34m,\u001b[0m \u001b[0;34m**\u001b[0m\u001b[0mfit_params\u001b[0m\u001b[0;34m)\u001b[0m\u001b[0;34m\u001b[0m\u001b[0;34m\u001b[0m\u001b[0m\n\u001b[0m\u001b[1;32m    894\u001b[0m         \u001b[0;32melse\u001b[0m\u001b[0;34m:\u001b[0m\u001b[0;34m\u001b[0m\u001b[0;34m\u001b[0m\u001b[0m\n\u001b[1;32m    895\u001b[0m             \u001b[0mres\u001b[0m \u001b[0;34m=\u001b[0m \u001b[0mtransformer\u001b[0m\u001b[0;34m.\u001b[0m\u001b[0mfit\u001b[0m\u001b[0;34m(\u001b[0m\u001b[0mX\u001b[0m\u001b[0;34m,\u001b[0m \u001b[0my\u001b[0m\u001b[0;34m,\u001b[0m \u001b[0;34m**\u001b[0m\u001b[0mfit_params\u001b[0m\u001b[0;34m)\u001b[0m\u001b[0;34m.\u001b[0m\u001b[0mtransform\u001b[0m\u001b[0;34m(\u001b[0m\u001b[0mX\u001b[0m\u001b[0;34m)\u001b[0m\u001b[0;34m\u001b[0m\u001b[0;34m\u001b[0m\u001b[0m\n",
      "\u001b[0;32m/shared-libs/python3.9/py/lib/python3.9/site-packages/sklearn/feature_extraction/text.py\u001b[0m in \u001b[0;36mfit_transform\u001b[0;34m(self, raw_documents, y)\u001b[0m\n\u001b[1;32m   1328\u001b[0m                     \u001b[0;32mbreak\u001b[0m\u001b[0;34m\u001b[0m\u001b[0;34m\u001b[0m\u001b[0m\n\u001b[1;32m   1329\u001b[0m \u001b[0;34m\u001b[0m\u001b[0m\n\u001b[0;32m-> 1330\u001b[0;31m         \u001b[0mvocabulary\u001b[0m\u001b[0;34m,\u001b[0m \u001b[0mX\u001b[0m \u001b[0;34m=\u001b[0m \u001b[0mself\u001b[0m\u001b[0;34m.\u001b[0m\u001b[0m_count_vocab\u001b[0m\u001b[0;34m(\u001b[0m\u001b[0mraw_documents\u001b[0m\u001b[0;34m,\u001b[0m \u001b[0mself\u001b[0m\u001b[0;34m.\u001b[0m\u001b[0mfixed_vocabulary_\u001b[0m\u001b[0;34m)\u001b[0m\u001b[0;34m\u001b[0m\u001b[0;34m\u001b[0m\u001b[0m\n\u001b[0m\u001b[1;32m   1331\u001b[0m \u001b[0;34m\u001b[0m\u001b[0m\n\u001b[1;32m   1332\u001b[0m         \u001b[0;32mif\u001b[0m \u001b[0mself\u001b[0m\u001b[0;34m.\u001b[0m\u001b[0mbinary\u001b[0m\u001b[0;34m:\u001b[0m\u001b[0;34m\u001b[0m\u001b[0;34m\u001b[0m\u001b[0m\n",
      "\u001b[0;32m/shared-libs/python3.9/py/lib/python3.9/site-packages/sklearn/feature_extraction/text.py\u001b[0m in \u001b[0;36m_count_vocab\u001b[0;34m(self, raw_documents, fixed_vocab)\u001b[0m\n\u001b[1;32m   1191\u001b[0m             \u001b[0mvocabulary\u001b[0m\u001b[0;34m.\u001b[0m\u001b[0mdefault_factory\u001b[0m \u001b[0;34m=\u001b[0m \u001b[0mvocabulary\u001b[0m\u001b[0;34m.\u001b[0m\u001b[0m__len__\u001b[0m\u001b[0;34m\u001b[0m\u001b[0;34m\u001b[0m\u001b[0m\n\u001b[1;32m   1192\u001b[0m \u001b[0;34m\u001b[0m\u001b[0m\n\u001b[0;32m-> 1193\u001b[0;31m         \u001b[0manalyze\u001b[0m \u001b[0;34m=\u001b[0m \u001b[0mself\u001b[0m\u001b[0;34m.\u001b[0m\u001b[0mbuild_analyzer\u001b[0m\u001b[0;34m(\u001b[0m\u001b[0;34m)\u001b[0m\u001b[0;34m\u001b[0m\u001b[0;34m\u001b[0m\u001b[0m\n\u001b[0m\u001b[1;32m   1194\u001b[0m         \u001b[0mj_indices\u001b[0m \u001b[0;34m=\u001b[0m \u001b[0;34m[\u001b[0m\u001b[0;34m]\u001b[0m\u001b[0;34m\u001b[0m\u001b[0;34m\u001b[0m\u001b[0m\n\u001b[1;32m   1195\u001b[0m         \u001b[0mindptr\u001b[0m \u001b[0;34m=\u001b[0m \u001b[0;34m[\u001b[0m\u001b[0;34m]\u001b[0m\u001b[0;34m\u001b[0m\u001b[0;34m\u001b[0m\u001b[0m\n",
      "\u001b[0;32m/shared-libs/python3.9/py/lib/python3.9/site-packages/sklearn/feature_extraction/text.py\u001b[0m in \u001b[0;36mbuild_analyzer\u001b[0;34m(self)\u001b[0m\n\u001b[1;32m    445\u001b[0m         \u001b[0;32melif\u001b[0m \u001b[0mself\u001b[0m\u001b[0;34m.\u001b[0m\u001b[0manalyzer\u001b[0m \u001b[0;34m==\u001b[0m \u001b[0;34m\"word\"\u001b[0m\u001b[0;34m:\u001b[0m\u001b[0;34m\u001b[0m\u001b[0;34m\u001b[0m\u001b[0m\n\u001b[1;32m    446\u001b[0m             \u001b[0mstop_words\u001b[0m \u001b[0;34m=\u001b[0m \u001b[0mself\u001b[0m\u001b[0;34m.\u001b[0m\u001b[0mget_stop_words\u001b[0m\u001b[0;34m(\u001b[0m\u001b[0;34m)\u001b[0m\u001b[0;34m\u001b[0m\u001b[0;34m\u001b[0m\u001b[0m\n\u001b[0;32m--> 447\u001b[0;31m             \u001b[0mtokenize\u001b[0m \u001b[0;34m=\u001b[0m \u001b[0mself\u001b[0m\u001b[0;34m.\u001b[0m\u001b[0mbuild_tokenizer\u001b[0m\u001b[0;34m(\u001b[0m\u001b[0;34m)\u001b[0m\u001b[0;34m\u001b[0m\u001b[0;34m\u001b[0m\u001b[0m\n\u001b[0m\u001b[1;32m    448\u001b[0m             \u001b[0mself\u001b[0m\u001b[0;34m.\u001b[0m\u001b[0m_check_stop_words_consistency\u001b[0m\u001b[0;34m(\u001b[0m\u001b[0mstop_words\u001b[0m\u001b[0;34m,\u001b[0m \u001b[0mpreprocess\u001b[0m\u001b[0;34m,\u001b[0m \u001b[0mtokenize\u001b[0m\u001b[0;34m)\u001b[0m\u001b[0;34m\u001b[0m\u001b[0;34m\u001b[0m\u001b[0m\n\u001b[1;32m    449\u001b[0m             return partial(\n",
      "\u001b[0;32m/shared-libs/python3.9/py/lib/python3.9/site-packages/sklearn/feature_extraction/text.py\u001b[0m in \u001b[0;36mbuild_tokenizer\u001b[0;34m(self)\u001b[0m\n\u001b[1;32m    348\u001b[0m         \u001b[0;32mif\u001b[0m \u001b[0mself\u001b[0m\u001b[0;34m.\u001b[0m\u001b[0mtokenizer\u001b[0m \u001b[0;32mis\u001b[0m \u001b[0;32mnot\u001b[0m \u001b[0;32mNone\u001b[0m\u001b[0;34m:\u001b[0m\u001b[0;34m\u001b[0m\u001b[0;34m\u001b[0m\u001b[0m\n\u001b[1;32m    349\u001b[0m             \u001b[0;32mreturn\u001b[0m \u001b[0mself\u001b[0m\u001b[0;34m.\u001b[0m\u001b[0mtokenizer\u001b[0m\u001b[0;34m\u001b[0m\u001b[0;34m\u001b[0m\u001b[0m\n\u001b[0;32m--> 350\u001b[0;31m         \u001b[0mtoken_pattern\u001b[0m \u001b[0;34m=\u001b[0m \u001b[0mre\u001b[0m\u001b[0;34m.\u001b[0m\u001b[0mcompile\u001b[0m\u001b[0;34m(\u001b[0m\u001b[0mself\u001b[0m\u001b[0;34m.\u001b[0m\u001b[0mtoken_pattern\u001b[0m\u001b[0;34m)\u001b[0m\u001b[0;34m\u001b[0m\u001b[0;34m\u001b[0m\u001b[0m\n\u001b[0m\u001b[1;32m    351\u001b[0m \u001b[0;34m\u001b[0m\u001b[0m\n\u001b[1;32m    352\u001b[0m         \u001b[0;32mif\u001b[0m \u001b[0mtoken_pattern\u001b[0m\u001b[0;34m.\u001b[0m\u001b[0mgroups\u001b[0m \u001b[0;34m>\u001b[0m \u001b[0;36m1\u001b[0m\u001b[0;34m:\u001b[0m\u001b[0;34m\u001b[0m\u001b[0;34m\u001b[0m\u001b[0m\n",
      "\u001b[0;32m/usr/local/lib/python3.9/re.py\u001b[0m in \u001b[0;36mcompile\u001b[0;34m(pattern, flags)\u001b[0m\n\u001b[1;32m    250\u001b[0m \u001b[0;32mdef\u001b[0m \u001b[0mcompile\u001b[0m\u001b[0;34m(\u001b[0m\u001b[0mpattern\u001b[0m\u001b[0;34m,\u001b[0m \u001b[0mflags\u001b[0m\u001b[0;34m=\u001b[0m\u001b[0;36m0\u001b[0m\u001b[0;34m)\u001b[0m\u001b[0;34m:\u001b[0m\u001b[0;34m\u001b[0m\u001b[0;34m\u001b[0m\u001b[0m\n\u001b[1;32m    251\u001b[0m     \u001b[0;34m\"Compile a regular expression pattern, returning a Pattern object.\"\u001b[0m\u001b[0;34m\u001b[0m\u001b[0;34m\u001b[0m\u001b[0m\n\u001b[0;32m--> 252\u001b[0;31m     \u001b[0;32mreturn\u001b[0m \u001b[0m_compile\u001b[0m\u001b[0;34m(\u001b[0m\u001b[0mpattern\u001b[0m\u001b[0;34m,\u001b[0m \u001b[0mflags\u001b[0m\u001b[0;34m)\u001b[0m\u001b[0;34m\u001b[0m\u001b[0;34m\u001b[0m\u001b[0m\n\u001b[0m\u001b[1;32m    253\u001b[0m \u001b[0;34m\u001b[0m\u001b[0m\n\u001b[1;32m    254\u001b[0m \u001b[0;32mdef\u001b[0m \u001b[0mpurge\u001b[0m\u001b[0;34m(\u001b[0m\u001b[0;34m)\u001b[0m\u001b[0;34m:\u001b[0m\u001b[0;34m\u001b[0m\u001b[0;34m\u001b[0m\u001b[0m\n",
      "\u001b[0;32m/usr/local/lib/python3.9/re.py\u001b[0m in \u001b[0;36m_compile\u001b[0;34m(pattern, flags)\u001b[0m\n\u001b[1;32m    301\u001b[0m         \u001b[0;32mreturn\u001b[0m \u001b[0mpattern\u001b[0m\u001b[0;34m\u001b[0m\u001b[0;34m\u001b[0m\u001b[0m\n\u001b[1;32m    302\u001b[0m     \u001b[0;32mif\u001b[0m \u001b[0;32mnot\u001b[0m \u001b[0msre_compile\u001b[0m\u001b[0;34m.\u001b[0m\u001b[0misstring\u001b[0m\u001b[0;34m(\u001b[0m\u001b[0mpattern\u001b[0m\u001b[0;34m)\u001b[0m\u001b[0;34m:\u001b[0m\u001b[0;34m\u001b[0m\u001b[0;34m\u001b[0m\u001b[0m\n\u001b[0;32m--> 303\u001b[0;31m         \u001b[0;32mraise\u001b[0m \u001b[0mTypeError\u001b[0m\u001b[0;34m(\u001b[0m\u001b[0;34m\"first argument must be string or compiled pattern\"\u001b[0m\u001b[0;34m)\u001b[0m\u001b[0;34m\u001b[0m\u001b[0;34m\u001b[0m\u001b[0m\n\u001b[0m\u001b[1;32m    304\u001b[0m     \u001b[0mp\u001b[0m \u001b[0;34m=\u001b[0m \u001b[0msre_compile\u001b[0m\u001b[0;34m.\u001b[0m\u001b[0mcompile\u001b[0m\u001b[0;34m(\u001b[0m\u001b[0mpattern\u001b[0m\u001b[0;34m,\u001b[0m \u001b[0mflags\u001b[0m\u001b[0;34m)\u001b[0m\u001b[0;34m\u001b[0m\u001b[0;34m\u001b[0m\u001b[0m\n\u001b[1;32m    305\u001b[0m     \u001b[0;32mif\u001b[0m \u001b[0;32mnot\u001b[0m \u001b[0;34m(\u001b[0m\u001b[0mflags\u001b[0m \u001b[0;34m&\u001b[0m \u001b[0mDEBUG\u001b[0m\u001b[0;34m)\u001b[0m\u001b[0;34m:\u001b[0m\u001b[0;34m\u001b[0m\u001b[0;34m\u001b[0m\u001b[0m\n",
      "\u001b[0;31mTypeError\u001b[0m: first argument must be string or compiled pattern"
     ]
    }
   ]
  },
  {
   "cell_type": "code",
   "metadata": {
    "cell_id": "2928556a407c4bfcbf5c0bec5fe8468e",
    "tags": [],
    "deepnote_to_be_reexecuted": true,
    "source_hash": "26095455",
    "execution_start": 1652187063351,
    "execution_millis": 73,
    "deepnote_cell_type": "code",
    "deepnote_cell_height": 357,
    "deepnote_output_heights": [
     188
    ]
   },
   "source": "content = [tuple([k] + [tc[k][val] for val in [\"precision\", \"recall\", \"f1-score\", \"support\"]]) for k in (\"0\", \"1\", \"macro avg\", \"weighted avg\")]\ncontent.insert(2, ())\ncontent.insert(3, (\"accuracy\", None, None, tc[\"accuracy\"], None))\ntable = tabulate(content, headers=[\"\", \"Precision\", \"Recall\", \"F1-score\", \"support\"], tablefmt=\"github\", floatfmt=\".3f\")\nmd(table)",
   "execution_count": null,
   "outputs": [
    {
     "output_type": "execute_result",
     "execution_count": 186,
     "data": {
      "text/plain": "<IPython.core.display.Markdown object>",
      "text/markdown": "|              |   Precision |   Recall |   F1-score |   support |\n|--------------|-------------|----------|------------|-----------|\n| 0            |       0.649 |    0.623 |      0.636 |       499 |\n| 1            |       0.605 |    0.632 |      0.618 |       456 |\n|              |             |          |            |           |\n| accuracy     |             |          |      0.627 |           |\n| macro avg    |       0.627 |    0.627 |      0.627 |       955 |\n| weighted avg |       0.628 |    0.627 |      0.627 |       955 |"
     },
     "metadata": {}
    }
   ]
  },
  {
   "cell_type": "code",
   "metadata": {
    "cell_id": "16a40c4b86ba43269fd6176623f86ca5",
    "tags": [],
    "deepnote_to_be_reexecuted": true,
    "source_hash": "bff92613",
    "execution_start": 1652186355786,
    "execution_millis": 11,
    "deepnote_cell_type": "code",
    "deepnote_cell_height": 422,
    "deepnote_output_heights": [
     325
    ]
   },
   "source": "tc",
   "execution_count": null,
   "outputs": [
    {
     "output_type": "execute_result",
     "execution_count": 153,
     "data": {
      "text/plain": "{'0': {'precision': 0.6492693110647182,\n  'recall': 0.6232464929859719,\n  'f1-score': 0.6359918200408998,\n  'support': 499},\n '1': {'precision': 0.6050420168067226,\n  'recall': 0.631578947368421,\n  'f1-score': 0.6180257510729613,\n  'support': 456},\n 'accuracy': 0.6272251308900524,\n 'macro avg': {'precision': 0.6271556639357204,\n  'recall': 0.6274127201771964,\n  'f1-score': 0.6270087855569306,\n  'support': 955},\n 'weighted avg': {'precision': 0.6281513569478114,\n  'recall': 0.6272251308900524,\n  'f1-score': 0.62741325726668,\n  'support': 955}}"
     },
     "metadata": {}
    }
   ]
  },
  {
   "cell_type": "code",
   "metadata": {
    "cell_id": "040222054ffc4660b8aa17ae2963d3f6",
    "tags": [],
    "deepnote_to_be_reexecuted": true,
    "source_hash": "dc7044b7",
    "execution_start": 1652182792610,
    "execution_millis": 607,
    "deepnote_cell_type": "code",
    "deepnote_cell_height": 226,
    "deepnote_output_heights": [
     21
    ]
   },
   "source": "# \n\ntest = pred_labels + pred_labels2 + pred_labels3\ntest = np.where(test < 2, 0, test)\ntest = np.where(test > 1, 1, test)\n\nnp.mean(test == val_labels)",
   "execution_count": null,
   "outputs": [
    {
     "output_type": "execute_result",
     "execution_count": 104,
     "data": {
      "text/plain": "0.6282722513089005"
     },
     "metadata": {}
    }
   ]
  },
  {
   "cell_type": "code",
   "metadata": {
    "cell_id": "95e6851e632b45fa84bfa11d63b3a7f3",
    "tags": [],
    "deepnote_to_be_reexecuted": false,
    "source_hash": "8f238dbd",
    "execution_start": 1652358486462,
    "execution_millis": 217,
    "deepnote_cell_type": "code",
    "deepnote_cell_height": 306
   },
   "source": "with open(\"tweeteval/datasets/irony/train_text.txt\", \"r\") as f:\n    irony_train_text = f.read().rstrip()\nirony_train_labels = np.loadtxt(\"tweeteval/datasets/irony/train_labels.txt\")\nwith open(\"tweeteval/datasets/irony/val_text.txt\", \"r\") as f:\n    irony_val_text = f.read().rstrip()\nirony_val_labels = np.loadtxt(\"tweeteval/datasets/irony/val_labels.txt\")\nwith open(\"pattern.txt\", \"r\") as f:\n    pattern = f.read().rstrip()\nclassifier = SGDClassifier(max_iter=100000, learning_rate=\"constant\", eta0=0.0001, n_iter_no_change=5000, random_state=42)\ntest_classifier(classifier, pattern, irony_train_text, irony_train_labels, irony_val_text, irony_val_labels)",
   "execution_count": null,
   "outputs": [
    {
     "output_type": "error",
     "ename": "TypeError",
     "evalue": "first argument must be string or compiled pattern",
     "traceback": [
      "\u001b[0;31m---------------------------------------------------------------------------\u001b[0m",
      "\u001b[0;31mTypeError\u001b[0m                                 Traceback (most recent call last)",
      "\u001b[0;32m<ipython-input-23-cf3ea20f8b54>\u001b[0m in \u001b[0;36m<cell line: 10>\u001b[0;34m()\u001b[0m\n\u001b[1;32m      8\u001b[0m     \u001b[0mpattern\u001b[0m \u001b[0;34m=\u001b[0m \u001b[0mf\u001b[0m\u001b[0;34m.\u001b[0m\u001b[0mread\u001b[0m\u001b[0;34m(\u001b[0m\u001b[0;34m)\u001b[0m\u001b[0;34m.\u001b[0m\u001b[0mrstrip\u001b[0m\u001b[0;34m(\u001b[0m\u001b[0;34m)\u001b[0m\u001b[0;34m\u001b[0m\u001b[0;34m\u001b[0m\u001b[0m\n\u001b[1;32m      9\u001b[0m \u001b[0mclassifier\u001b[0m \u001b[0;34m=\u001b[0m \u001b[0mSGDClassifier\u001b[0m\u001b[0;34m(\u001b[0m\u001b[0mmax_iter\u001b[0m\u001b[0;34m=\u001b[0m\u001b[0;36m100000\u001b[0m\u001b[0;34m,\u001b[0m \u001b[0mlearning_rate\u001b[0m\u001b[0;34m=\u001b[0m\u001b[0;34m\"constant\"\u001b[0m\u001b[0;34m,\u001b[0m \u001b[0meta0\u001b[0m\u001b[0;34m=\u001b[0m\u001b[0;36m0.0001\u001b[0m\u001b[0;34m,\u001b[0m \u001b[0mn_iter_no_change\u001b[0m\u001b[0;34m=\u001b[0m\u001b[0;36m5000\u001b[0m\u001b[0;34m,\u001b[0m \u001b[0mrandom_state\u001b[0m\u001b[0;34m=\u001b[0m\u001b[0;36m42\u001b[0m\u001b[0;34m)\u001b[0m\u001b[0;34m\u001b[0m\u001b[0;34m\u001b[0m\u001b[0m\n\u001b[0;32m---> 10\u001b[0;31m \u001b[0mtest_classifier\u001b[0m\u001b[0;34m(\u001b[0m\u001b[0mclassifier\u001b[0m\u001b[0;34m,\u001b[0m \u001b[0mpattern\u001b[0m\u001b[0;34m,\u001b[0m \u001b[0mirony_train_text\u001b[0m\u001b[0;34m,\u001b[0m \u001b[0mirony_train_labels\u001b[0m\u001b[0;34m,\u001b[0m \u001b[0mirony_val_text\u001b[0m\u001b[0;34m,\u001b[0m \u001b[0mirony_val_labels\u001b[0m\u001b[0;34m)\u001b[0m\u001b[0;34m\u001b[0m\u001b[0;34m\u001b[0m\u001b[0m\n\u001b[0m",
      "\u001b[0;32m<ipython-input-18-6a464d8a7f02>\u001b[0m in \u001b[0;36mtest_classifier\u001b[0;34m(classifier, pattern, text_train, labels_train, text_val, labels_val)\u001b[0m\n\u001b[1;32m      2\u001b[0m     clf = make_pipeline(CountVectorizer(token_pattern=pat, strip_accents=\"unicode\", ngram_range=(2,2)),\n\u001b[1;32m      3\u001b[0m                         TfidfTransformer(), classifier)\n\u001b[0;32m----> 4\u001b[0;31m     \u001b[0mclf\u001b[0m\u001b[0;34m.\u001b[0m\u001b[0mfit\u001b[0m\u001b[0;34m(\u001b[0m\u001b[0mpreprocess\u001b[0m\u001b[0;34m(\u001b[0m\u001b[0mtext_train\u001b[0m\u001b[0;34m)\u001b[0m\u001b[0;34m,\u001b[0m \u001b[0mlabels_train\u001b[0m\u001b[0;34m)\u001b[0m\u001b[0;34m\u001b[0m\u001b[0;34m\u001b[0m\u001b[0m\n\u001b[0m\u001b[1;32m      5\u001b[0m     \u001b[0mpred\u001b[0m \u001b[0;34m=\u001b[0m \u001b[0mclf\u001b[0m\u001b[0;34m.\u001b[0m\u001b[0mpredict\u001b[0m\u001b[0;34m(\u001b[0m\u001b[0mpreprocess\u001b[0m\u001b[0;34m(\u001b[0m\u001b[0mtext_val\u001b[0m\u001b[0;34m)\u001b[0m\u001b[0;34m)\u001b[0m\u001b[0;34m\u001b[0m\u001b[0;34m\u001b[0m\u001b[0m\n\u001b[1;32m      6\u001b[0m     \u001b[0mprint\u001b[0m\u001b[0;34m(\u001b[0m\u001b[0mmetrics\u001b[0m\u001b[0;34m.\u001b[0m\u001b[0mclassification_report\u001b[0m\u001b[0;34m(\u001b[0m\u001b[0mlabels_val\u001b[0m\u001b[0;34m,\u001b[0m \u001b[0mpred\u001b[0m\u001b[0;34m,\u001b[0m \u001b[0mdigits\u001b[0m\u001b[0;34m=\u001b[0m\u001b[0;36m3\u001b[0m\u001b[0;34m)\u001b[0m\u001b[0;34m)\u001b[0m\u001b[0;34m\u001b[0m\u001b[0;34m\u001b[0m\u001b[0m\n",
      "\u001b[0;32m/shared-libs/python3.9/py/lib/python3.9/site-packages/sklearn/pipeline.py\u001b[0m in \u001b[0;36mfit\u001b[0;34m(self, X, y, **fit_params)\u001b[0m\n\u001b[1;32m    388\u001b[0m         \"\"\"\n\u001b[1;32m    389\u001b[0m         \u001b[0mfit_params_steps\u001b[0m \u001b[0;34m=\u001b[0m \u001b[0mself\u001b[0m\u001b[0;34m.\u001b[0m\u001b[0m_check_fit_params\u001b[0m\u001b[0;34m(\u001b[0m\u001b[0;34m**\u001b[0m\u001b[0mfit_params\u001b[0m\u001b[0;34m)\u001b[0m\u001b[0;34m\u001b[0m\u001b[0;34m\u001b[0m\u001b[0m\n\u001b[0;32m--> 390\u001b[0;31m         \u001b[0mXt\u001b[0m \u001b[0;34m=\u001b[0m \u001b[0mself\u001b[0m\u001b[0;34m.\u001b[0m\u001b[0m_fit\u001b[0m\u001b[0;34m(\u001b[0m\u001b[0mX\u001b[0m\u001b[0;34m,\u001b[0m \u001b[0my\u001b[0m\u001b[0;34m,\u001b[0m \u001b[0;34m**\u001b[0m\u001b[0mfit_params_steps\u001b[0m\u001b[0;34m)\u001b[0m\u001b[0;34m\u001b[0m\u001b[0;34m\u001b[0m\u001b[0m\n\u001b[0m\u001b[1;32m    391\u001b[0m         \u001b[0;32mwith\u001b[0m \u001b[0m_print_elapsed_time\u001b[0m\u001b[0;34m(\u001b[0m\u001b[0;34m\"Pipeline\"\u001b[0m\u001b[0;34m,\u001b[0m \u001b[0mself\u001b[0m\u001b[0;34m.\u001b[0m\u001b[0m_log_message\u001b[0m\u001b[0;34m(\u001b[0m\u001b[0mlen\u001b[0m\u001b[0;34m(\u001b[0m\u001b[0mself\u001b[0m\u001b[0;34m.\u001b[0m\u001b[0msteps\u001b[0m\u001b[0;34m)\u001b[0m \u001b[0;34m-\u001b[0m \u001b[0;36m1\u001b[0m\u001b[0;34m)\u001b[0m\u001b[0;34m)\u001b[0m\u001b[0;34m:\u001b[0m\u001b[0;34m\u001b[0m\u001b[0;34m\u001b[0m\u001b[0m\n\u001b[1;32m    392\u001b[0m             \u001b[0;32mif\u001b[0m \u001b[0mself\u001b[0m\u001b[0;34m.\u001b[0m\u001b[0m_final_estimator\u001b[0m \u001b[0;34m!=\u001b[0m \u001b[0;34m\"passthrough\"\u001b[0m\u001b[0;34m:\u001b[0m\u001b[0;34m\u001b[0m\u001b[0;34m\u001b[0m\u001b[0m\n",
      "\u001b[0;32m/shared-libs/python3.9/py/lib/python3.9/site-packages/sklearn/pipeline.py\u001b[0m in \u001b[0;36m_fit\u001b[0;34m(self, X, y, **fit_params_steps)\u001b[0m\n\u001b[1;32m    346\u001b[0m                 \u001b[0mcloned_transformer\u001b[0m \u001b[0;34m=\u001b[0m \u001b[0mclone\u001b[0m\u001b[0;34m(\u001b[0m\u001b[0mtransformer\u001b[0m\u001b[0;34m)\u001b[0m\u001b[0;34m\u001b[0m\u001b[0;34m\u001b[0m\u001b[0m\n\u001b[1;32m    347\u001b[0m             \u001b[0;31m# Fit or load from cache the current transformer\u001b[0m\u001b[0;34m\u001b[0m\u001b[0;34m\u001b[0m\u001b[0m\n\u001b[0;32m--> 348\u001b[0;31m             X, fitted_transformer = fit_transform_one_cached(\n\u001b[0m\u001b[1;32m    349\u001b[0m                 \u001b[0mcloned_transformer\u001b[0m\u001b[0;34m,\u001b[0m\u001b[0;34m\u001b[0m\u001b[0;34m\u001b[0m\u001b[0m\n\u001b[1;32m    350\u001b[0m                 \u001b[0mX\u001b[0m\u001b[0;34m,\u001b[0m\u001b[0;34m\u001b[0m\u001b[0;34m\u001b[0m\u001b[0m\n",
      "\u001b[0;32m/shared-libs/python3.9/py/lib/python3.9/site-packages/joblib/memory.py\u001b[0m in \u001b[0;36m__call__\u001b[0;34m(self, *args, **kwargs)\u001b[0m\n\u001b[1;32m    347\u001b[0m \u001b[0;34m\u001b[0m\u001b[0m\n\u001b[1;32m    348\u001b[0m     \u001b[0;32mdef\u001b[0m \u001b[0m__call__\u001b[0m\u001b[0;34m(\u001b[0m\u001b[0mself\u001b[0m\u001b[0;34m,\u001b[0m \u001b[0;34m*\u001b[0m\u001b[0margs\u001b[0m\u001b[0;34m,\u001b[0m \u001b[0;34m**\u001b[0m\u001b[0mkwargs\u001b[0m\u001b[0;34m)\u001b[0m\u001b[0;34m:\u001b[0m\u001b[0;34m\u001b[0m\u001b[0;34m\u001b[0m\u001b[0m\n\u001b[0;32m--> 349\u001b[0;31m         \u001b[0;32mreturn\u001b[0m \u001b[0mself\u001b[0m\u001b[0;34m.\u001b[0m\u001b[0mfunc\u001b[0m\u001b[0;34m(\u001b[0m\u001b[0;34m*\u001b[0m\u001b[0margs\u001b[0m\u001b[0;34m,\u001b[0m \u001b[0;34m**\u001b[0m\u001b[0mkwargs\u001b[0m\u001b[0;34m)\u001b[0m\u001b[0;34m\u001b[0m\u001b[0;34m\u001b[0m\u001b[0m\n\u001b[0m\u001b[1;32m    350\u001b[0m \u001b[0;34m\u001b[0m\u001b[0m\n\u001b[1;32m    351\u001b[0m     \u001b[0;32mdef\u001b[0m \u001b[0mcall_and_shelve\u001b[0m\u001b[0;34m(\u001b[0m\u001b[0mself\u001b[0m\u001b[0;34m,\u001b[0m \u001b[0;34m*\u001b[0m\u001b[0margs\u001b[0m\u001b[0;34m,\u001b[0m \u001b[0;34m**\u001b[0m\u001b[0mkwargs\u001b[0m\u001b[0;34m)\u001b[0m\u001b[0;34m:\u001b[0m\u001b[0;34m\u001b[0m\u001b[0;34m\u001b[0m\u001b[0m\n",
      "\u001b[0;32m/shared-libs/python3.9/py/lib/python3.9/site-packages/sklearn/pipeline.py\u001b[0m in \u001b[0;36m_fit_transform_one\u001b[0;34m(transformer, X, y, weight, message_clsname, message, **fit_params)\u001b[0m\n\u001b[1;32m    891\u001b[0m     \u001b[0;32mwith\u001b[0m \u001b[0m_print_elapsed_time\u001b[0m\u001b[0;34m(\u001b[0m\u001b[0mmessage_clsname\u001b[0m\u001b[0;34m,\u001b[0m \u001b[0mmessage\u001b[0m\u001b[0;34m)\u001b[0m\u001b[0;34m:\u001b[0m\u001b[0;34m\u001b[0m\u001b[0;34m\u001b[0m\u001b[0m\n\u001b[1;32m    892\u001b[0m         \u001b[0;32mif\u001b[0m \u001b[0mhasattr\u001b[0m\u001b[0;34m(\u001b[0m\u001b[0mtransformer\u001b[0m\u001b[0;34m,\u001b[0m \u001b[0;34m\"fit_transform\"\u001b[0m\u001b[0;34m)\u001b[0m\u001b[0;34m:\u001b[0m\u001b[0;34m\u001b[0m\u001b[0;34m\u001b[0m\u001b[0m\n\u001b[0;32m--> 893\u001b[0;31m             \u001b[0mres\u001b[0m \u001b[0;34m=\u001b[0m \u001b[0mtransformer\u001b[0m\u001b[0;34m.\u001b[0m\u001b[0mfit_transform\u001b[0m\u001b[0;34m(\u001b[0m\u001b[0mX\u001b[0m\u001b[0;34m,\u001b[0m \u001b[0my\u001b[0m\u001b[0;34m,\u001b[0m \u001b[0;34m**\u001b[0m\u001b[0mfit_params\u001b[0m\u001b[0;34m)\u001b[0m\u001b[0;34m\u001b[0m\u001b[0;34m\u001b[0m\u001b[0m\n\u001b[0m\u001b[1;32m    894\u001b[0m         \u001b[0;32melse\u001b[0m\u001b[0;34m:\u001b[0m\u001b[0;34m\u001b[0m\u001b[0;34m\u001b[0m\u001b[0m\n\u001b[1;32m    895\u001b[0m             \u001b[0mres\u001b[0m \u001b[0;34m=\u001b[0m \u001b[0mtransformer\u001b[0m\u001b[0;34m.\u001b[0m\u001b[0mfit\u001b[0m\u001b[0;34m(\u001b[0m\u001b[0mX\u001b[0m\u001b[0;34m,\u001b[0m \u001b[0my\u001b[0m\u001b[0;34m,\u001b[0m \u001b[0;34m**\u001b[0m\u001b[0mfit_params\u001b[0m\u001b[0;34m)\u001b[0m\u001b[0;34m.\u001b[0m\u001b[0mtransform\u001b[0m\u001b[0;34m(\u001b[0m\u001b[0mX\u001b[0m\u001b[0;34m)\u001b[0m\u001b[0;34m\u001b[0m\u001b[0;34m\u001b[0m\u001b[0m\n",
      "\u001b[0;32m/shared-libs/python3.9/py/lib/python3.9/site-packages/sklearn/feature_extraction/text.py\u001b[0m in \u001b[0;36mfit_transform\u001b[0;34m(self, raw_documents, y)\u001b[0m\n\u001b[1;32m   1328\u001b[0m                     \u001b[0;32mbreak\u001b[0m\u001b[0;34m\u001b[0m\u001b[0;34m\u001b[0m\u001b[0m\n\u001b[1;32m   1329\u001b[0m \u001b[0;34m\u001b[0m\u001b[0m\n\u001b[0;32m-> 1330\u001b[0;31m         \u001b[0mvocabulary\u001b[0m\u001b[0;34m,\u001b[0m \u001b[0mX\u001b[0m \u001b[0;34m=\u001b[0m \u001b[0mself\u001b[0m\u001b[0;34m.\u001b[0m\u001b[0m_count_vocab\u001b[0m\u001b[0;34m(\u001b[0m\u001b[0mraw_documents\u001b[0m\u001b[0;34m,\u001b[0m \u001b[0mself\u001b[0m\u001b[0;34m.\u001b[0m\u001b[0mfixed_vocabulary_\u001b[0m\u001b[0;34m)\u001b[0m\u001b[0;34m\u001b[0m\u001b[0;34m\u001b[0m\u001b[0m\n\u001b[0m\u001b[1;32m   1331\u001b[0m \u001b[0;34m\u001b[0m\u001b[0m\n\u001b[1;32m   1332\u001b[0m         \u001b[0;32mif\u001b[0m \u001b[0mself\u001b[0m\u001b[0;34m.\u001b[0m\u001b[0mbinary\u001b[0m\u001b[0;34m:\u001b[0m\u001b[0;34m\u001b[0m\u001b[0;34m\u001b[0m\u001b[0m\n",
      "\u001b[0;32m/shared-libs/python3.9/py/lib/python3.9/site-packages/sklearn/feature_extraction/text.py\u001b[0m in \u001b[0;36m_count_vocab\u001b[0;34m(self, raw_documents, fixed_vocab)\u001b[0m\n\u001b[1;32m   1191\u001b[0m             \u001b[0mvocabulary\u001b[0m\u001b[0;34m.\u001b[0m\u001b[0mdefault_factory\u001b[0m \u001b[0;34m=\u001b[0m \u001b[0mvocabulary\u001b[0m\u001b[0;34m.\u001b[0m\u001b[0m__len__\u001b[0m\u001b[0;34m\u001b[0m\u001b[0;34m\u001b[0m\u001b[0m\n\u001b[1;32m   1192\u001b[0m \u001b[0;34m\u001b[0m\u001b[0m\n\u001b[0;32m-> 1193\u001b[0;31m         \u001b[0manalyze\u001b[0m \u001b[0;34m=\u001b[0m \u001b[0mself\u001b[0m\u001b[0;34m.\u001b[0m\u001b[0mbuild_analyzer\u001b[0m\u001b[0;34m(\u001b[0m\u001b[0;34m)\u001b[0m\u001b[0;34m\u001b[0m\u001b[0;34m\u001b[0m\u001b[0m\n\u001b[0m\u001b[1;32m   1194\u001b[0m         \u001b[0mj_indices\u001b[0m \u001b[0;34m=\u001b[0m \u001b[0;34m[\u001b[0m\u001b[0;34m]\u001b[0m\u001b[0;34m\u001b[0m\u001b[0;34m\u001b[0m\u001b[0m\n\u001b[1;32m   1195\u001b[0m         \u001b[0mindptr\u001b[0m \u001b[0;34m=\u001b[0m \u001b[0;34m[\u001b[0m\u001b[0;34m]\u001b[0m\u001b[0;34m\u001b[0m\u001b[0;34m\u001b[0m\u001b[0m\n",
      "\u001b[0;32m/shared-libs/python3.9/py/lib/python3.9/site-packages/sklearn/feature_extraction/text.py\u001b[0m in \u001b[0;36mbuild_analyzer\u001b[0;34m(self)\u001b[0m\n\u001b[1;32m    445\u001b[0m         \u001b[0;32melif\u001b[0m \u001b[0mself\u001b[0m\u001b[0;34m.\u001b[0m\u001b[0manalyzer\u001b[0m \u001b[0;34m==\u001b[0m \u001b[0;34m\"word\"\u001b[0m\u001b[0;34m:\u001b[0m\u001b[0;34m\u001b[0m\u001b[0;34m\u001b[0m\u001b[0m\n\u001b[1;32m    446\u001b[0m             \u001b[0mstop_words\u001b[0m \u001b[0;34m=\u001b[0m \u001b[0mself\u001b[0m\u001b[0;34m.\u001b[0m\u001b[0mget_stop_words\u001b[0m\u001b[0;34m(\u001b[0m\u001b[0;34m)\u001b[0m\u001b[0;34m\u001b[0m\u001b[0;34m\u001b[0m\u001b[0m\n\u001b[0;32m--> 447\u001b[0;31m             \u001b[0mtokenize\u001b[0m \u001b[0;34m=\u001b[0m \u001b[0mself\u001b[0m\u001b[0;34m.\u001b[0m\u001b[0mbuild_tokenizer\u001b[0m\u001b[0;34m(\u001b[0m\u001b[0;34m)\u001b[0m\u001b[0;34m\u001b[0m\u001b[0;34m\u001b[0m\u001b[0m\n\u001b[0m\u001b[1;32m    448\u001b[0m             \u001b[0mself\u001b[0m\u001b[0;34m.\u001b[0m\u001b[0m_check_stop_words_consistency\u001b[0m\u001b[0;34m(\u001b[0m\u001b[0mstop_words\u001b[0m\u001b[0;34m,\u001b[0m \u001b[0mpreprocess\u001b[0m\u001b[0;34m,\u001b[0m \u001b[0mtokenize\u001b[0m\u001b[0;34m)\u001b[0m\u001b[0;34m\u001b[0m\u001b[0;34m\u001b[0m\u001b[0m\n\u001b[1;32m    449\u001b[0m             return partial(\n",
      "\u001b[0;32m/shared-libs/python3.9/py/lib/python3.9/site-packages/sklearn/feature_extraction/text.py\u001b[0m in \u001b[0;36mbuild_tokenizer\u001b[0;34m(self)\u001b[0m\n\u001b[1;32m    348\u001b[0m         \u001b[0;32mif\u001b[0m \u001b[0mself\u001b[0m\u001b[0;34m.\u001b[0m\u001b[0mtokenizer\u001b[0m \u001b[0;32mis\u001b[0m \u001b[0;32mnot\u001b[0m \u001b[0;32mNone\u001b[0m\u001b[0;34m:\u001b[0m\u001b[0;34m\u001b[0m\u001b[0;34m\u001b[0m\u001b[0m\n\u001b[1;32m    349\u001b[0m             \u001b[0;32mreturn\u001b[0m \u001b[0mself\u001b[0m\u001b[0;34m.\u001b[0m\u001b[0mtokenizer\u001b[0m\u001b[0;34m\u001b[0m\u001b[0;34m\u001b[0m\u001b[0m\n\u001b[0;32m--> 350\u001b[0;31m         \u001b[0mtoken_pattern\u001b[0m \u001b[0;34m=\u001b[0m \u001b[0mre\u001b[0m\u001b[0;34m.\u001b[0m\u001b[0mcompile\u001b[0m\u001b[0;34m(\u001b[0m\u001b[0mself\u001b[0m\u001b[0;34m.\u001b[0m\u001b[0mtoken_pattern\u001b[0m\u001b[0;34m)\u001b[0m\u001b[0;34m\u001b[0m\u001b[0;34m\u001b[0m\u001b[0m\n\u001b[0m\u001b[1;32m    351\u001b[0m \u001b[0;34m\u001b[0m\u001b[0m\n\u001b[1;32m    352\u001b[0m         \u001b[0;32mif\u001b[0m \u001b[0mtoken_pattern\u001b[0m\u001b[0;34m.\u001b[0m\u001b[0mgroups\u001b[0m \u001b[0;34m>\u001b[0m \u001b[0;36m1\u001b[0m\u001b[0;34m:\u001b[0m\u001b[0;34m\u001b[0m\u001b[0;34m\u001b[0m\u001b[0m\n",
      "\u001b[0;32m/usr/local/lib/python3.9/re.py\u001b[0m in \u001b[0;36mcompile\u001b[0;34m(pattern, flags)\u001b[0m\n\u001b[1;32m    250\u001b[0m \u001b[0;32mdef\u001b[0m \u001b[0mcompile\u001b[0m\u001b[0;34m(\u001b[0m\u001b[0mpattern\u001b[0m\u001b[0;34m,\u001b[0m \u001b[0mflags\u001b[0m\u001b[0;34m=\u001b[0m\u001b[0;36m0\u001b[0m\u001b[0;34m)\u001b[0m\u001b[0;34m:\u001b[0m\u001b[0;34m\u001b[0m\u001b[0;34m\u001b[0m\u001b[0m\n\u001b[1;32m    251\u001b[0m     \u001b[0;34m\"Compile a regular expression pattern, returning a Pattern object.\"\u001b[0m\u001b[0;34m\u001b[0m\u001b[0;34m\u001b[0m\u001b[0m\n\u001b[0;32m--> 252\u001b[0;31m     \u001b[0;32mreturn\u001b[0m \u001b[0m_compile\u001b[0m\u001b[0;34m(\u001b[0m\u001b[0mpattern\u001b[0m\u001b[0;34m,\u001b[0m \u001b[0mflags\u001b[0m\u001b[0;34m)\u001b[0m\u001b[0;34m\u001b[0m\u001b[0;34m\u001b[0m\u001b[0m\n\u001b[0m\u001b[1;32m    253\u001b[0m \u001b[0;34m\u001b[0m\u001b[0m\n\u001b[1;32m    254\u001b[0m \u001b[0;32mdef\u001b[0m \u001b[0mpurge\u001b[0m\u001b[0;34m(\u001b[0m\u001b[0;34m)\u001b[0m\u001b[0;34m:\u001b[0m\u001b[0;34m\u001b[0m\u001b[0;34m\u001b[0m\u001b[0m\n",
      "\u001b[0;32m/usr/local/lib/python3.9/re.py\u001b[0m in \u001b[0;36m_compile\u001b[0;34m(pattern, flags)\u001b[0m\n\u001b[1;32m    301\u001b[0m         \u001b[0;32mreturn\u001b[0m \u001b[0mpattern\u001b[0m\u001b[0;34m\u001b[0m\u001b[0;34m\u001b[0m\u001b[0m\n\u001b[1;32m    302\u001b[0m     \u001b[0;32mif\u001b[0m \u001b[0;32mnot\u001b[0m \u001b[0msre_compile\u001b[0m\u001b[0;34m.\u001b[0m\u001b[0misstring\u001b[0m\u001b[0;34m(\u001b[0m\u001b[0mpattern\u001b[0m\u001b[0;34m)\u001b[0m\u001b[0;34m:\u001b[0m\u001b[0;34m\u001b[0m\u001b[0;34m\u001b[0m\u001b[0m\n\u001b[0;32m--> 303\u001b[0;31m         \u001b[0;32mraise\u001b[0m \u001b[0mTypeError\u001b[0m\u001b[0;34m(\u001b[0m\u001b[0;34m\"first argument must be string or compiled pattern\"\u001b[0m\u001b[0;34m)\u001b[0m\u001b[0;34m\u001b[0m\u001b[0;34m\u001b[0m\u001b[0m\n\u001b[0m\u001b[1;32m    304\u001b[0m     \u001b[0mp\u001b[0m \u001b[0;34m=\u001b[0m \u001b[0msre_compile\u001b[0m\u001b[0;34m.\u001b[0m\u001b[0mcompile\u001b[0m\u001b[0;34m(\u001b[0m\u001b[0mpattern\u001b[0m\u001b[0;34m,\u001b[0m \u001b[0mflags\u001b[0m\u001b[0;34m)\u001b[0m\u001b[0;34m\u001b[0m\u001b[0;34m\u001b[0m\u001b[0m\n\u001b[1;32m    305\u001b[0m     \u001b[0;32mif\u001b[0m \u001b[0;32mnot\u001b[0m \u001b[0;34m(\u001b[0m\u001b[0mflags\u001b[0m \u001b[0;34m&\u001b[0m \u001b[0mDEBUG\u001b[0m\u001b[0;34m)\u001b[0m\u001b[0;34m:\u001b[0m\u001b[0;34m\u001b[0m\u001b[0;34m\u001b[0m\u001b[0m\n",
      "\u001b[0;31mTypeError\u001b[0m: first argument must be string or compiled pattern"
     ]
    }
   ]
  },
  {
   "cell_type": "code",
   "metadata": {
    "cell_id": "3c4bc47102ef4f4aa00290313ca58a55",
    "tags": [],
    "deepnote_to_be_reexecuted": true,
    "source_hash": "b623e53d",
    "deepnote_cell_type": "code",
    "deepnote_cell_height": 81
   },
   "source": "",
   "execution_count": null,
   "outputs": []
  },
  {
   "cell_type": "code",
   "metadata": {
    "cell_id": "2c4fa719bc984e90b6bb42b1e4440ae8",
    "tags": [],
    "deepnote_to_be_reexecuted": true,
    "source_hash": "8cd435d2",
    "execution_start": 1652184762277,
    "execution_millis": 582,
    "deepnote_cell_type": "code",
    "deepnote_cell_height": 136,
    "deepnote_output_heights": [
     21
    ]
   },
   "source": "mult_pred = pipe.predict(preprocess(irony_val))\nnp.mean(mult_pred == val_labels)",
   "execution_count": null,
   "outputs": [
    {
     "output_type": "execute_result",
     "execution_count": 129,
     "data": {
      "text/plain": "0.6345549738219896"
     },
     "metadata": {}
    }
   ]
  },
  {
   "cell_type": "code",
   "metadata": {
    "cell_id": "4da128f185134b30bec6aae63f2429a0",
    "tags": [],
    "deepnote_to_be_reexecuted": false,
    "source_hash": "4c110c62",
    "execution_start": 1652358509265,
    "execution_millis": 5,
    "deepnote_cell_type": "code",
    "deepnote_cell_height": 286,
    "deepnote_output_heights": [
     135
    ]
   },
   "source": "\ntext = \"Hello World !!!!\\n #6821 \\n #22\\n .... 123 \\n https://t.co \\n w/o \\n w/\"\n\nlist(preprocess(text))",
   "execution_count": null,
   "outputs": [
    {
     "output_type": "execute_result",
     "execution_count": 24,
     "data": {
      "text/plain": "['hello world !!!',\n ' #6821 ',\n ' #22',\n ' ... 123 ',\n ' @link ',\n ' without ',\n ' with']"
     },
     "metadata": {}
    }
   ]
  },
  {
   "cell_type": "code",
   "metadata": {
    "cell_id": "65820dfc36504e77878f84ef55eb581f",
    "tags": [],
    "deepnote_to_be_reexecuted": true,
    "source_hash": "b623e53d",
    "execution_start": 1652356658507,
    "execution_millis": 2,
    "deepnote_cell_type": "code",
    "deepnote_cell_height": 81
   },
   "source": "",
   "execution_count": null,
   "outputs": []
  },
  {
   "cell_type": "code",
   "metadata": {
    "cell_id": "9e7fdcded1924b74b6b0e2bbbe3cf3f3",
    "tags": [],
    "deepnote_to_be_reexecuted": true,
    "source_hash": "b623e53d",
    "deepnote_cell_type": "code",
    "deepnote_cell_height": 81
   },
   "source": "",
   "execution_count": null,
   "outputs": []
  },
  {
   "cell_type": "markdown",
   "source": "<a style='text-decoration:none;line-height:16px;display:flex;color:#5B5B62;padding:10px;justify-content:end;' href='https://deepnote.com?utm_source=created-in-deepnote-cell&projectId=e4cdc3a5-dd4a-4d72-a71a-972cea883107' target=\"_blank\">\n<img alt='Created in deepnote.com' style='display:inline;max-height:16px;margin:0px;margin-right:7.5px;' src='data:image/svg+xml;base64,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' > </img>\nCreated in <span style='font-weight:600;margin-left:4px;'>Deepnote</span></a>",
   "metadata": {
    "tags": [],
    "created_in_deepnote_cell": true,
    "deepnote_cell_type": "markdown"
   }
  }
 ],
 "nbformat": 4,
 "nbformat_minor": 2,
 "metadata": {
  "orig_nbformat": 2,
  "deepnote": {},
  "deepnote_notebook_id": "37eb55ff-8fb0-44be-a787-56031bc72caa",
  "deepnote_execution_queue": []
 }
}