{
 "cells": [
  {
   "cell_type": "code",
   "metadata": {
    "cell_id": "08aa7af5088848ad87c709e73ba1576a",
    "tags": [],
    "deepnote_to_be_reexecuted": false,
    "source_hash": "d174f168",
    "execution_start": 1652179174087,
    "execution_millis": 2174,
    "output_cleared": true,
    "deepnote_cell_type": "code",
    "deepnote_cell_height": 243
   },
   "source": "import regex as re\nfrom collections import Counter\nimport pandas as pd\nimport matplotlib.pyplot as plt\nimport seaborn as sns\nimport numpy as np\nfrom functools import reduce\nimport difflib\nimport random\nrandom.seed(10) # Don't change this!",
   "execution_count": 1,
   "outputs": []
  },
  {
   "cell_type": "code",
   "metadata": {
    "tags": [],
    "cell_id": "bcb67a78-b9a5-43a0-b5e3-8467a9d2ac46",
    "deepnote_to_be_reexecuted": false,
    "source_hash": "fb4d32a5",
    "execution_start": 1652179176262,
    "execution_millis": 0,
    "output_cleared": true,
    "owner_user_id": "b6cc7348-6fc5-4d35-ad0e-eb6f6874910a",
    "deepnote_cell_type": "code",
    "deepnote_cell_height": 297
   },
   "source": "with open(\"pattern.txt\", \"r\") as f:\n    pat = re.compile(f.read())\n\ntext_file = \"tweeteval/datasets/stance/abortion/train_text.txt\"\n\ndef convert_links(string):\n    pattern = r\"http[s]?://(?:[a-zA-Z]|[0-9]|[$-_@.&+]|[!*\\(\\),]|(?:%[0-9a-fA-F][0-9a-fA-F]))+|www\\.\\w+\\.\\w{3}\"\n    return re.sub(pattern, '@link', string)\n\nwith open(text_file, \"r\") as f:\n    text = convert_links(f.read().lower())\n\ncorpus = re.findall(pat, text)",
   "execution_count": 2,
   "outputs": []
  },
  {
   "cell_type": "code",
   "metadata": {
    "cell_id": "ddb381fe5a944de2b28359db0ef76f94",
    "tags": [],
    "deepnote_to_be_reexecuted": false,
    "source_hash": "46123b0e",
    "execution_start": 1652179176279,
    "execution_millis": 1264376,
    "output_cleared": true,
    "deepnote_cell_type": "code",
    "deepnote_cell_height": 279
   },
   "source": "def tokenize(pat, text):\n    return re.findall(pat, text)\n\ndef convert_links(string):\n    pattern = r\"http[s]?://(?:[a-zA-Z]|[0-9]|[$-_@.&+]|[!*\\(\\),]|(?:%[0-9a-fA-F][0-9a-fA-F]))+|www\\.\\w+\\.\\w{3}\"\n    return re.sub(pattern, '@link', string)\n\ndef statistics(corpus):\n    counts = Counter(corpus)\n    corpus_size = len(corpus)\n    vocab_size = len(counts)\n    return (counts, corpus_size, vocab_size, vocab_size/corpus_size)",
   "execution_count": 3,
   "outputs": []
  },
  {
   "cell_type": "code",
   "metadata": {
    "cell_id": "d9a6089bba474ab79dee9f88a9845c30",
    "tags": [],
    "deepnote_to_be_reexecuted": false,
    "source_hash": "9c075756",
    "execution_start": 1652179176281,
    "execution_millis": 271656504,
    "output_cleared": true,
    "deepnote_cell_type": "code",
    "deepnote_cell_height": 567
   },
   "source": "def zipf(corpus):\n    voc = Counter(corpus)\n    frq = pd.DataFrame(voc.most_common(), columns=['token', 'frequency'])\n\n    # Index in the sorted list\n    frq['idx'] = frq.index + 1\n\n    # Frequency normalised by corpus size\n    frq['norm_freq'] = frq.frequency / len(corpus)\n\n    # Cumulative normalised frequency\n    frq['cumul_frq'] = frq.norm_freq.cumsum()\n\n    sns.set_theme(style='whitegrid')\n\n    # Plot: Cumulative frequency by index\n    sns.relplot(x='idx', y='cumul_frq', data=frq)\n    plt.show()\n\n    # Plot: Cumulative frequency by index, top 10000 tokens\n    sns.relplot(x='idx', y='cumul_frq', data=frq[:10000], kind='line')\n    plt.show()\n\n    # Plot: Log-log plot for Zipf's law\n    frq['log_frq'] = np.log(frq.frequency)\n    frq['log_rank'] = np.log(frq.frequency.rank(ascending=False))\n    sns.relplot(x='log_rank', y='log_frq', data=frq)\n    plt.show()",
   "execution_count": 4,
   "outputs": []
  },
  {
   "cell_type": "markdown",
   "source": "# 2 Characterising your data",
   "metadata": {
    "cell_id": "1cf1c78a0b5f45ab863a414f9cbd4739",
    "tags": [],
    "is_collapsed": false,
    "deepnote_cell_type": "text-cell-h1"
   }
  },
  {
   "cell_type": "code",
   "metadata": {
    "cell_id": "3db86f7041984f64911e4ba4289cdb6d",
    "tags": [],
    "deepnote_to_be_reexecuted": false,
    "source_hash": "7ed89038",
    "execution_start": 1652179176291,
    "execution_millis": 161,
    "deepnote_table_state": {
     "pageSize": 10,
     "pageIndex": 0,
     "filters": [],
     "sortBy": []
    },
    "deepnote_table_loading": false,
    "output_cleared": false,
    "deepnote_cell_type": "code",
    "deepnote_cell_height": 1050
   },
   "source": "# \n \n#• Corpus size, vocabulary size, type/token ratio.\n\nirony_list = []\nwith open(\"tweeteval/datasets/irony/test_text.txt\", \"r\") as f:\n    irony_text = convert_links(f.read().lower())\n\nirony_corpus = tokenize(pat, irony_text)\n\nstatistics(irony_corpus)\ndef datfr(corpus):\n    voc = Counter(corpus)\n    frq = pd.DataFrame(voc.most_common(), columns=['token', 'frequency'])\n\n    # Index in the sorted list\n    frq['idx'] = frq.index + 1\n\n    # Frequency normalised by corpus size\n    frq['norm_freq'] = frq.frequency / len(corpus)\n\n    # Cumulative normalised frequency\n    frq['cumul_frq'] = frq.norm_freq.cumsum()\n    sns.set_theme(style='whitegrid')\n    return(frq)\ndatfr(irony_corpus)",
   "execution_count": 5,
   "outputs": [
    {
     "output_type": "execute_result",
     "execution_count": 5,
     "data": {
      "application/vnd.deepnote.dataframe.v3+json": {
       "column_count": 5,
       "row_count": 3792,
       "columns": [
        {
         "name": "token",
         "dtype": "object",
         "stats": {
          "unique_count": 3792,
          "nan_count": 0,
          "categories": [
           {
            "name": "@user",
            "count": 1
           },
           {
            "name": "the",
            "count": 1
           },
           {
            "name": "3790 others",
            "count": 3790
           }
          ]
         }
        },
        {
         "name": "frequency",
         "dtype": "int64",
         "stats": {
          "unique_count": 67,
          "nan_count": 0,
          "min": "1",
          "max": "465",
          "histogram": [
           {
            "bin_start": 1,
            "bin_end": 47.4,
            "count": 3765
           },
           {
            "bin_start": 47.4,
            "bin_end": 93.8,
            "count": 10
           },
           {
            "bin_start": 93.8,
            "bin_end": 140.2,
            "count": 9
           },
           {
            "bin_start": 140.2,
            "bin_end": 186.6,
            "count": 2
           },
           {
            "bin_start": 186.6,
            "bin_end": 233,
            "count": 3
           },
           {
            "bin_start": 233,
            "bin_end": 279.4,
            "count": 1
           },
           {
            "bin_start": 279.4,
            "bin_end": 325.8,
            "count": 0
           },
           {
            "bin_start": 325.8,
            "bin_end": 372.2,
            "count": 1
           },
           {
            "bin_start": 372.2,
            "bin_end": 418.59999999999997,
            "count": 0
           },
           {
            "bin_start": 418.59999999999997,
            "bin_end": 465,
            "count": 1
           }
          ]
         }
        },
        {
         "name": "idx",
         "dtype": "int64",
         "stats": {
          "unique_count": 3792,
          "nan_count": 0,
          "min": "1",
          "max": "3792",
          "histogram": [
           {
            "bin_start": 1,
            "bin_end": 380.1,
            "count": 380
           },
           {
            "bin_start": 380.1,
            "bin_end": 759.2,
            "count": 379
           },
           {
            "bin_start": 759.2,
            "bin_end": 1138.3000000000002,
            "count": 379
           },
           {
            "bin_start": 1138.3000000000002,
            "bin_end": 1517.4,
            "count": 379
           },
           {
            "bin_start": 1517.4,
            "bin_end": 1896.5,
            "count": 379
           },
           {
            "bin_start": 1896.5,
            "bin_end": 2275.6000000000004,
            "count": 379
           },
           {
            "bin_start": 2275.6000000000004,
            "bin_end": 2654.7000000000003,
            "count": 379
           },
           {
            "bin_start": 2654.7000000000003,
            "bin_end": 3033.8,
            "count": 379
           },
           {
            "bin_start": 3033.8,
            "bin_end": 3412.9,
            "count": 379
           },
           {
            "bin_start": 3412.9,
            "bin_end": 3792,
            "count": 380
           }
          ]
         }
        },
        {
         "name": "norm_freq",
         "dtype": "float64",
         "stats": {
          "unique_count": 67,
          "nan_count": 0,
          "min": "8.562376915831835e-05",
          "max": "0.03981505265861803",
          "histogram": [
           {
            "bin_start": 0.00008562376915831835,
            "bin_end": 0.004058566658104289,
            "count": 3765
           },
           {
            "bin_start": 0.004058566658104289,
            "bin_end": 0.00803150954705026,
            "count": 10
           },
           {
            "bin_start": 0.00803150954705026,
            "bin_end": 0.012004452435996231,
            "count": 9
           },
           {
            "bin_start": 0.012004452435996231,
            "bin_end": 0.0159773953249422,
            "count": 2
           },
           {
            "bin_start": 0.0159773953249422,
            "bin_end": 0.019950338213888173,
            "count": 3
           },
           {
            "bin_start": 0.019950338213888173,
            "bin_end": 0.02392328110283414,
            "count": 1
           },
           {
            "bin_start": 0.02392328110283414,
            "bin_end": 0.02789622399178011,
            "count": 0
           },
           {
            "bin_start": 0.02789622399178011,
            "bin_end": 0.03186916688072609,
            "count": 1
           },
           {
            "bin_start": 0.03186916688072609,
            "bin_end": 0.03584210976967206,
            "count": 0
           },
           {
            "bin_start": 0.03584210976967206,
            "bin_end": 0.03981505265861803,
            "count": 1
           }
          ]
         }
        },
        {
         "name": "cumul_frq",
         "dtype": "float64",
         "stats": {
          "unique_count": 3792,
          "nan_count": 0,
          "min": "0.03981505265861803",
          "max": "1.0000000000000435",
          "histogram": [
           {
            "bin_start": 0.03981505265861803,
            "bin_end": 0.13583354739276057,
            "count": 5
           },
           {
            "bin_start": 0.13583354739276057,
            "bin_end": 0.23185204212690314,
            "count": 8
           },
           {
            "bin_start": 0.23185204212690314,
            "bin_end": 0.32787053686104567,
            "count": 17
           },
           {
            "bin_start": 0.32787053686104567,
            "bin_end": 0.4238890315951882,
            "count": 38
           },
           {
            "bin_start": 0.4238890315951882,
            "bin_end": 0.5199075263293308,
            "count": 83
           },
           {
            "bin_start": 0.5199075263293308,
            "bin_end": 0.6159260210634734,
            "count": 194
           },
           {
            "bin_start": 0.6159260210634734,
            "bin_end": 0.7119445157976159,
            "count": 399
           },
           {
            "bin_start": 0.7119445157976159,
            "bin_end": 0.8079630105317585,
            "count": 805
           },
           {
            "bin_start": 0.8079630105317585,
            "bin_end": 0.903981505265901,
            "count": 1121
           },
           {
            "bin_start": 0.903981505265901,
            "bin_end": 1.0000000000000435,
            "count": 1122
           }
          ]
         }
        },
        {
         "name": "_deepnote_index_column",
         "dtype": "int64"
        }
       ],
       "rows": [
        {
         "token": "@user",
         "frequency": 465,
         "idx": 1,
         "norm_freq": 0.03981505265861803,
         "cumul_frq": 0.03981505265861803,
         "_deepnote_index_column": 0
        },
        {
         "token": "the",
         "frequency": 334,
         "idx": 2,
         "norm_freq": 0.02859833889887833,
         "cumul_frq": 0.06841339155749636,
         "_deepnote_index_column": 1
        },
        {
         "token": "to",
         "frequency": 250,
         "idx": 3,
         "norm_freq": 0.021405942289579587,
         "cumul_frq": 0.08981933384707594,
         "_deepnote_index_column": 2
        },
        {
         "token": "a",
         "frequency": 230,
         "idx": 4,
         "norm_freq": 0.019693466906413222,
         "cumul_frq": 0.10951280075348915,
         "_deepnote_index_column": 3
        },
        {
         "token": "#not",
         "frequency": 211,
         "idx": 5,
         "norm_freq": 0.01806661529240517,
         "cumul_frq": 0.12757941604589432,
         "_deepnote_index_column": 4
        },
        {
         "token": "i",
         "frequency": 190,
         "idx": 6,
         "norm_freq": 0.016268516140080486,
         "cumul_frq": 0.1438479321859748,
         "_deepnote_index_column": 5
        },
        {
         "token": "in",
         "frequency": 154,
         "idx": 7,
         "norm_freq": 0.013186060450381025,
         "cumul_frq": 0.15703399263635584,
         "_deepnote_index_column": 6
        },
        {
         "token": "is",
         "frequency": 142,
         "idx": 8,
         "norm_freq": 0.012158575220481206,
         "cumul_frq": 0.16919256785683703,
         "_deepnote_index_column": 7
        },
        {
         "token": "and",
         "frequency": 140,
         "idx": 9,
         "norm_freq": 0.011987327682164569,
         "cumul_frq": 0.1811798955390016,
         "_deepnote_index_column": 8
        },
        {
         "token": "of",
         "frequency": 139,
         "idx": 10,
         "norm_freq": 0.01190170391300625,
         "cumul_frq": 0.19308159945200784,
         "_deepnote_index_column": 9
        }
       ]
      },
      "text/plain": "         token  frequency   idx  norm_freq  cumul_frq\n0        @user        465     1   0.039815   0.039815\n1          the        334     2   0.028598   0.068413\n2           to        250     3   0.021406   0.089819\n3            a        230     4   0.019693   0.109513\n4         #not        211     5   0.018067   0.127579\n...        ...        ...   ...        ...        ...\n3787         📚          1  3788   0.000086   0.999658\n3788         📖          1  3789   0.000086   0.999743\n3789     #stop          1  3790   0.000086   0.999829\n3790  labeling          1  3791   0.000086   0.999914\n3791         💡          1  3792   0.000086   1.000000\n\n[3792 rows x 5 columns]",
      "text/html": "<div>\n<style scoped>\n    .dataframe tbody tr th:only-of-type {\n        vertical-align: middle;\n    }\n\n    .dataframe tbody tr th {\n        vertical-align: top;\n    }\n\n    .dataframe thead th {\n        text-align: right;\n    }\n</style>\n<table border=\"1\" class=\"dataframe\">\n  <thead>\n    <tr style=\"text-align: right;\">\n      <th></th>\n      <th>token</th>\n      <th>frequency</th>\n      <th>idx</th>\n      <th>norm_freq</th>\n      <th>cumul_frq</th>\n    </tr>\n  </thead>\n  <tbody>\n    <tr>\n      <th>0</th>\n      <td>@user</td>\n      <td>465</td>\n      <td>1</td>\n      <td>0.039815</td>\n      <td>0.039815</td>\n    </tr>\n    <tr>\n      <th>1</th>\n      <td>the</td>\n      <td>334</td>\n      <td>2</td>\n      <td>0.028598</td>\n      <td>0.068413</td>\n    </tr>\n    <tr>\n      <th>2</th>\n      <td>to</td>\n      <td>250</td>\n      <td>3</td>\n      <td>0.021406</td>\n      <td>0.089819</td>\n    </tr>\n    <tr>\n      <th>3</th>\n      <td>a</td>\n      <td>230</td>\n      <td>4</td>\n      <td>0.019693</td>\n      <td>0.109513</td>\n    </tr>\n    <tr>\n      <th>4</th>\n      <td>#not</td>\n      <td>211</td>\n      <td>5</td>\n      <td>0.018067</td>\n      <td>0.127579</td>\n    </tr>\n    <tr>\n      <th>...</th>\n      <td>...</td>\n      <td>...</td>\n      <td>...</td>\n      <td>...</td>\n      <td>...</td>\n    </tr>\n    <tr>\n      <th>3787</th>\n      <td>📚</td>\n      <td>1</td>\n      <td>3788</td>\n      <td>0.000086</td>\n      <td>0.999658</td>\n    </tr>\n    <tr>\n      <th>3788</th>\n      <td>📖</td>\n      <td>1</td>\n      <td>3789</td>\n      <td>0.000086</td>\n      <td>0.999743</td>\n    </tr>\n    <tr>\n      <th>3789</th>\n      <td>#stop</td>\n      <td>1</td>\n      <td>3790</td>\n      <td>0.000086</td>\n      <td>0.999829</td>\n    </tr>\n    <tr>\n      <th>3790</th>\n      <td>labeling</td>\n      <td>1</td>\n      <td>3791</td>\n      <td>0.000086</td>\n      <td>0.999914</td>\n    </tr>\n    <tr>\n      <th>3791</th>\n      <td>💡</td>\n      <td>1</td>\n      <td>3792</td>\n      <td>0.000086</td>\n      <td>1.000000</td>\n    </tr>\n  </tbody>\n</table>\n<p>3792 rows × 5 columns</p>\n</div>"
     },
     "metadata": {}
    }
   ]
  },
  {
   "cell_type": "code",
   "source": "import contractions\nexpanded_words = []   \nfor word in irony_corpus:\n  # using contractions.fix to expand the shortened words\n  expanded_words.append(contractions.fix(word))  \nirony_corpus = expanded_words",
   "metadata": {
    "cell_id": "d25dc566ed0b4ef993dce1134f60c8a2",
    "tags": [],
    "deepnote_to_be_reexecuted": false,
    "source_hash": "d60e6c07",
    "execution_start": 1652179176447,
    "execution_millis": 1,
    "deepnote_cell_type": "code",
    "deepnote_cell_height": 171
   },
   "outputs": [],
   "execution_count": 6
  },
  {
   "cell_type": "code",
   "metadata": {
    "cell_id": "3b651cc769ba4d0185ab6a93ded4ca6c",
    "tags": [],
    "deepnote_to_be_reexecuted": false,
    "source_hash": "be07f79e",
    "execution_start": 1652179176450,
    "execution_millis": 0,
    "deepnote_cell_type": "code",
    "deepnote_cell_height": 111.6875
   },
   "source": "print(irony_text.find(\"@link\"))",
   "execution_count": 7,
   "outputs": [
    {
     "name": "stdout",
     "text": "12023\n",
     "output_type": "stream"
    }
   ]
  },
  {
   "cell_type": "code",
   "metadata": {
    "cell_id": "aebc2665ba064e8f91f0bac97a877bb4",
    "tags": [],
    "deepnote_to_be_reexecuted": false,
    "source_hash": "eb885079",
    "execution_start": 1652179176476,
    "execution_millis": 16,
    "output_cleared": false,
    "is_output_hidden": false,
    "deepnote_cell_type": "code",
    "deepnote_cell_height": 363.6875
   },
   "source": "%%script echo skipping\n\nstances = [\"abortion\", \"atheism\", \"climate\", \"feminist\", \"hillary\"]\nstance_texts = []\nfor stance in stances:\n    with open(f\"tweeteval/datasets/stance/{stance}/test_text.txt\") as f:\n        stance_texts.append(f.read())\nfor text, stance in zip(stance_texts, stances):\n    print(stance.title())\n    corpus = tokenize(pat, text)\n    stats = statistics(corpus)\n    print(f\"Corpus size: {stats[1]}\\tDictionary size: {stats[2]}\\tType/token ratio: {stats[3]:.3}\")\n    print(datfr(corpus).head(10))\n    print()\n    zipf(corpus)",
   "execution_count": 8,
   "outputs": [
    {
     "name": "stdout",
     "text": "skipping\n",
     "output_type": "stream"
    }
   ]
  },
  {
   "cell_type": "markdown",
   "source": "## 3 Manual Annotation and Inter-Annotator Agreement",
   "metadata": {
    "cell_id": "37b78fda6a5a48f4b46d921e7d301247",
    "tags": [],
    "deepnote_cell_type": "markdown",
    "deepnote_cell_height": 70
   }
  },
  {
   "cell_type": "code",
   "metadata": {
    "cell_id": "7d301ad47b7c4d37b8505f547008ef42",
    "tags": [],
    "deepnote_to_be_reexecuted": false,
    "source_hash": "364c65b6",
    "execution_start": 1652179176499,
    "execution_millis": 13,
    "is_code_hidden": false,
    "output_cleared": true,
    "deepnote_cell_type": "code",
    "deepnote_cell_height": 459
   },
   "source": "random.seed(10)\n\nlines = []\nwith open(\"tweeteval/datasets/irony/train_text.txt\") as f:\n    for line in f:\n        lines.append(line.strip())\n\nrandom_lines_index = sorted(random.sample([i for i in range(0, len(lines))], k = 100))\n\ntrue_vals = []\nwith open(\"tweeteval/datasets/irony/train_labels.txt\") as f:\n    for line in f:\n        true_vals.append(int(line.strip()))\n\nvalidation = []\nfor i in random_lines_index:\n    validation.append(true_vals[i])\n\nwith open(\"manual_annotation.txt\", \"w\") as f:\n    for i in range(100):\n        f.write(f\"{random_lines_index[i]}@@@ {lines[random_lines_index[i]]}\")\n        f.write(\"\\n\")",
   "execution_count": 9,
   "outputs": []
  },
  {
   "cell_type": "markdown",
   "source": "$$\n    \\underbrace{\\stackrel{1}{\\text{in}}\\quad\\stackrel{2}{\\text{the}}}_{\\stackrel{\\text{bigram}}{\\text{2-gram}}}\n    \\qquad p(\\text{the} \\;|\\; \\underbrace{\\phantom{text}\\text{in}\\phantom{text}}_{\\text{firstorder MM}})\n$$",
   "metadata": {
    "cell_id": "d16e81e29dcf4ef680dc0eeb44f51833",
    "tags": [],
    "deepnote_cell_type": "markdown",
    "deepnote_cell_height": 117.328125
   }
  },
  {
   "cell_type": "code",
   "metadata": {
    "cell_id": "0b1196cea5dd4d36b8135eb0f3a39e6e",
    "tags": [],
    "deepnote_to_be_reexecuted": false,
    "source_hash": "ec6d5d77",
    "execution_start": 1652179176561,
    "execution_millis": 1101,
    "output_cleared": true,
    "deepnote_table_state": {
     "pageSize": 10,
     "pageIndex": 0,
     "filters": [],
     "sortBy": []
    },
    "deepnote_table_loading": false,
    "deepnote_table_invalid": false,
    "deepnote_cell_type": "code",
    "deepnote_cell_height": 153
   },
   "source": "from nltk.metrics.agreement import AnnotationTask\n\ndf = pd.read_csv(\"manual_annotations/annotation_results.csv\")\ndf = df.drop([\"Unnamed: 0\"], axis = 1)\ndf[\"Gold\"] = validation",
   "execution_count": 10,
   "outputs": []
  },
  {
   "cell_type": "markdown",
   "source": "\n",
   "metadata": {
    "cell_id": "1fa3ab179b0440b09059b0dacc2a5c7e",
    "tags": [],
    "deepnote_cell_type": "markdown",
    "deepnote_cell_height": 46
   }
  },
  {
   "cell_type": "code",
   "metadata": {
    "cell_id": "bf1306ec7f7541fd9db4d4a14a4a2d27",
    "tags": [],
    "deepnote_to_be_reexecuted": false,
    "source_hash": "d170ad71",
    "execution_start": 1652179177669,
    "execution_millis": 4,
    "output_cleared": false,
    "deepnote_cell_type": "code",
    "deepnote_cell_height": 224.1875
   },
   "source": "tuple_list = []\nfor name in list(df)[1:]:\n    tuples = list(zip([name] * len(df[\"idx\"]), df[\"idx\"], df[name]))\n    tuple_list.extend(tuples)\nprint(tuple_list)\n\nmanual = AnnotationTask(data=tuple_list)",
   "execution_count": 11,
   "outputs": [
    {
     "name": "stdout",
     "text": "[('Marie', 16, 1), ('Marie', 60, 0), ('Marie', 130, 1), ('Marie', 133, 0), ('Marie', 140, 0), ('Marie', 151, 1), ('Marie', 181, 1), ('Marie', 182, 1), ('Marie', 266, 1), ('Marie', 295, 1), ('Marie', 311, 1), ('Marie', 331, 1), ('Marie', 395, 0), ('Marie', 462, 0), ('Marie', 489, 1), ('Marie', 544, 1), ('Marie', 548, 1), ('Marie', 568, 0), ('Marie', 587, 0), ('Marie', 613, 0), ('Marie', 640, 0), ('Marie', 656, 0), ('Marie', 675, 1), ('Marie', 681, 1), ('Marie', 715, 0), ('Marie', 730, 1), ('Marie', 782, 1), ('Marie', 798, 1), ('Marie', 844, 0), ('Marie', 918, 0), ('Marie', 965, 1), ('Marie', 976, 1), ('Marie', 980, 1), ('Marie', 983, 1), ('Marie', 1005, 1), ('Marie', 1023, 0), ('Marie', 1074, 1), ('Marie', 1093, 1), ('Marie', 1125, 0), ('Marie', 1136, 0), ('Marie', 1161, 0), ('Marie', 1233, 1), ('Marie', 1239, 1), ('Marie', 1240, 1), ('Marie', 1241, 0), ('Marie', 1287, 1), ('Marie', 1329, 1), ('Marie', 1342, 0), ('Marie', 1428, 0), ('Marie', 1454, 0), ('Marie', 1479, 0), ('Marie', 1485, 1), ('Marie', 1499, 0), ('Marie', 1532, 0), ('Marie', 1536, 1), ('Marie', 1563, 0), ('Marie', 1574, 1), ('Marie', 1691, 0), ('Marie', 1696, 1), ('Marie', 1721, 0), ('Marie', 1725, 1), ('Marie', 1756, 1), ('Marie', 1774, 1), ('Marie', 1785, 0), ('Marie', 1800, 1), ('Marie', 1808, 0), ('Marie', 1825, 1), ('Marie', 1845, 1), ('Marie', 1866, 1), ('Marie', 1871, 1), ('Marie', 1894, 1), ('Marie', 1925, 1), ('Marie', 1976, 0), ('Marie', 2007, 1), ('Marie', 2012, 1), ('Marie', 2034, 0), ('Marie', 2055, 0), ('Marie', 2132, 0), ('Marie', 2137, 1), ('Marie', 2185, 1), ('Marie', 2196, 0), ('Marie', 2248, 1), ('Marie', 2323, 0), ('Marie', 2340, 1), ('Marie', 2367, 1), ('Marie', 2387, 1), ('Marie', 2394, 1), ('Marie', 2462, 1), ('Marie', 2470, 0), ('Marie', 2484, 1), ('Marie', 2512, 1), ('Marie', 2528, 0), ('Marie', 2674, 1), ('Marie', 2676, 1), ('Marie', 2694, 0), ('Marie', 2710, 1), ('Marie', 2730, 0), ('Marie', 2764, 0), ('Marie', 2788, 0), ('Marie', 2809, 0), ('Frida', 16, 1), ('Frida', 60, 1), ('Frida', 130, 0), ('Frida', 133, 0), ('Frida', 140, 0), ('Frida', 151, 1), ('Frida', 181, 0), ('Frida', 182, 1), ('Frida', 266, 1), ('Frida', 295, 0), ('Frida', 311, 1), ('Frida', 331, 1), ('Frida', 395, 0), ('Frida', 462, 0), ('Frida', 489, 1), ('Frida', 544, 0), ('Frida', 548, 0), ('Frida', 568, 0), ('Frida', 587, 0), ('Frida', 613, 0), ('Frida', 640, 0), ('Frida', 656, 0), ('Frida', 675, 0), ('Frida', 681, 0), ('Frida', 715, 0), ('Frida', 730, 0), ('Frida', 782, 0), ('Frida', 798, 1), ('Frida', 844, 1), ('Frida', 918, 0), ('Frida', 965, 1), ('Frida', 976, 1), ('Frida', 980, 1), ('Frida', 983, 1), ('Frida', 1005, 1), ('Frida', 1023, 0), ('Frida', 1074, 1), ('Frida', 1093, 1), ('Frida', 1125, 0), ('Frida', 1136, 0), ('Frida', 1161, 0), ('Frida', 1233, 1), ('Frida', 1239, 0), ('Frida', 1240, 0), ('Frida', 1241, 0), ('Frida', 1287, 0), ('Frida', 1329, 1), ('Frida', 1342, 0), ('Frida', 1428, 0), ('Frida', 1454, 0), ('Frida', 1479, 0), ('Frida', 1485, 0), ('Frida', 1499, 0), ('Frida', 1532, 0), ('Frida', 1536, 1), ('Frida', 1563, 1), ('Frida', 1574, 1), ('Frida', 1691, 0), ('Frida', 1696, 0), ('Frida', 1721, 1), ('Frida', 1725, 0), ('Frida', 1756, 1), ('Frida', 1774, 0), ('Frida', 1785, 1), ('Frida', 1800, 0), ('Frida', 1808, 0), ('Frida', 1825, 0), ('Frida', 1845, 1), ('Frida', 1866, 1), ('Frida', 1871, 0), ('Frida', 1894, 0), ('Frida', 1925, 1), ('Frida', 1976, 0), ('Frida', 2007, 1), ('Frida', 2012, 0), ('Frida', 2034, 0), ('Frida', 2055, 0), ('Frida', 2132, 1), ('Frida', 2137, 1), ('Frida', 2185, 1), ('Frida', 2196, 0), ('Frida', 2248, 0), ('Frida', 2323, 0), ('Frida', 2340, 1), ('Frida', 2367, 1), ('Frida', 2387, 0), ('Frida', 2394, 1), ('Frida', 2462, 1), ('Frida', 2470, 0), ('Frida', 2484, 1), ('Frida', 2512, 1), ('Frida', 2528, 0), ('Frida', 2674, 0), ('Frida', 2676, 1), ('Frida', 2694, 0), ('Frida', 2710, 1), ('Frida', 2730, 1), ('Frida', 2764, 0), ('Frida', 2788, 1), ('Frida', 2809, 0), ('Magnus', 16, 1), ('Magnus', 60, 0), ('Magnus', 130, 0), ('Magnus', 133, 0), ('Magnus', 140, 0), ('Magnus', 151, 0), ('Magnus', 181, 1), ('Magnus', 182, 1), ('Magnus', 266, 0), ('Magnus', 295, 1), ('Magnus', 311, 0), ('Magnus', 331, 1), ('Magnus', 395, 0), ('Magnus', 462, 0), ('Magnus', 489, 1), ('Magnus', 544, 0), ('Magnus', 548, 0), ('Magnus', 568, 0), ('Magnus', 587, 0), ('Magnus', 613, 0), ('Magnus', 640, 0), ('Magnus', 656, 0), ('Magnus', 675, 0), ('Magnus', 681, 0), ('Magnus', 715, 0), ('Magnus', 730, 0), ('Magnus', 782, 0), ('Magnus', 798, 1), ('Magnus', 844, 1), ('Magnus', 918, 0), ('Magnus', 965, 1), ('Magnus', 976, 1), ('Magnus', 980, 0), ('Magnus', 983, 1), ('Magnus', 1005, 1), ('Magnus', 1023, 0), ('Magnus', 1074, 0), ('Magnus', 1093, 0), ('Magnus', 1125, 0), ('Magnus', 1136, 0), ('Magnus', 1161, 0), ('Magnus', 1233, 0), ('Magnus', 1239, 0), ('Magnus', 1240, 0), ('Magnus', 1241, 0), ('Magnus', 1287, 0), ('Magnus', 1329, 1), ('Magnus', 1342, 1), ('Magnus', 1428, 0), ('Magnus', 1454, 0), ('Magnus', 1479, 0), ('Magnus', 1485, 0), ('Magnus', 1499, 0), ('Magnus', 1532, 0), ('Magnus', 1536, 1), ('Magnus', 1563, 1), ('Magnus', 1574, 1), ('Magnus', 1691, 0), ('Magnus', 1696, 0), ('Magnus', 1721, 0), ('Magnus', 1725, 0), ('Magnus', 1756, 1), ('Magnus', 1774, 0), ('Magnus', 1785, 0), ('Magnus', 1800, 1), ('Magnus', 1808, 0), ('Magnus', 1825, 0), ('Magnus', 1845, 1), ('Magnus', 1866, 1), ('Magnus', 1871, 0), ('Magnus', 1894, 0), ('Magnus', 1925, 1), ('Magnus', 1976, 0), ('Magnus', 2007, 1), ('Magnus', 2012, 0), ('Magnus', 2034, 0), ('Magnus', 2055, 0), ('Magnus', 2132, 1), ('Magnus', 2137, 1), ('Magnus', 2185, 1), ('Magnus', 2196, 0), ('Magnus', 2248, 0), ('Magnus', 2323, 0), ('Magnus', 2340, 0), ('Magnus', 2367, 1), ('Magnus', 2387, 1), ('Magnus', 2394, 1), ('Magnus', 2462, 1), ('Magnus', 2470, 0), ('Magnus', 2484, 1), ('Magnus', 2512, 1), ('Magnus', 2528, 0), ('Magnus', 2674, 1), ('Magnus', 2676, 1), ('Magnus', 2694, 0), ('Magnus', 2710, 1), ('Magnus', 2730, 0), ('Magnus', 2764, 0), ('Magnus', 2788, 0), ('Magnus', 2809, 0), ('Gustav', 16, 1), ('Gustav', 60, 0), ('Gustav', 130, 0), ('Gustav', 133, 0), ('Gustav', 140, 1), ('Gustav', 151, 0), ('Gustav', 181, 0), ('Gustav', 182, 1), ('Gustav', 266, 0), ('Gustav', 295, 1), ('Gustav', 311, 1), ('Gustav', 331, 1), ('Gustav', 395, 0), ('Gustav', 462, 0), ('Gustav', 489, 0), ('Gustav', 544, 0), ('Gustav', 548, 0), ('Gustav', 568, 0), ('Gustav', 587, 0), ('Gustav', 613, 0), ('Gustav', 640, 1), ('Gustav', 656, 0), ('Gustav', 675, 1), ('Gustav', 681, 0), ('Gustav', 715, 0), ('Gustav', 730, 0), ('Gustav', 782, 0), ('Gustav', 798, 1), ('Gustav', 844, 0), ('Gustav', 918, 0), ('Gustav', 965, 1), ('Gustav', 976, 1), ('Gustav', 980, 1), ('Gustav', 983, 1), ('Gustav', 1005, 1), ('Gustav', 1023, 0), ('Gustav', 1074, 0), ('Gustav', 1093, 1), ('Gustav', 1125, 0), ('Gustav', 1136, 0), ('Gustav', 1161, 0), ('Gustav', 1233, 1), ('Gustav', 1239, 0), ('Gustav', 1240, 1), ('Gustav', 1241, 0), ('Gustav', 1287, 0), ('Gustav', 1329, 1), ('Gustav', 1342, 0), ('Gustav', 1428, 0), ('Gustav', 1454, 1), ('Gustav', 1479, 0), ('Gustav', 1485, 1), ('Gustav', 1499, 0), ('Gustav', 1532, 1), ('Gustav', 1536, 0), ('Gustav', 1563, 1), ('Gustav', 1574, 1), ('Gustav', 1691, 0), ('Gustav', 1696, 0), ('Gustav', 1721, 1), ('Gustav', 1725, 0), ('Gustav', 1756, 1), ('Gustav', 1774, 1), ('Gustav', 1785, 0), ('Gustav', 1800, 1), ('Gustav', 1808, 0), ('Gustav', 1825, 1), ('Gustav', 1845, 1), ('Gustav', 1866, 1), ('Gustav', 1871, 0), ('Gustav', 1894, 0), ('Gustav', 1925, 0), ('Gustav', 1976, 0), ('Gustav', 2007, 1), ('Gustav', 2012, 1), ('Gustav', 2034, 0), ('Gustav', 2055, 0), ('Gustav', 2132, 1), ('Gustav', 2137, 1), ('Gustav', 2185, 1), ('Gustav', 2196, 0), ('Gustav', 2248, 0), ('Gustav', 2323, 1), ('Gustav', 2340, 0), ('Gustav', 2367, 1), ('Gustav', 2387, 0), ('Gustav', 2394, 1), ('Gustav', 2462, 1), ('Gustav', 2470, 1), ('Gustav', 2484, 1), ('Gustav', 2512, 0), ('Gustav', 2528, 0), ('Gustav', 2674, 0), ('Gustav', 2676, 1), ('Gustav', 2694, 0), ('Gustav', 2710, 1), ('Gustav', 2730, 0), ('Gustav', 2764, 0), ('Gustav', 2788, 1), ('Gustav', 2809, 0), ('Viggo', 16, 1), ('Viggo', 60, 0), ('Viggo', 130, 0), ('Viggo', 133, 0), ('Viggo', 140, 0), ('Viggo', 151, 0), ('Viggo', 181, 0), ('Viggo', 182, 1), ('Viggo', 266, 1), ('Viggo', 295, 0), ('Viggo', 311, 0), ('Viggo', 331, 1), ('Viggo', 395, 0), ('Viggo', 462, 0), ('Viggo', 489, 1), ('Viggo', 544, 0), ('Viggo', 548, 0), ('Viggo', 568, 0), ('Viggo', 587, 0), ('Viggo', 613, 0), ('Viggo', 640, 0), ('Viggo', 656, 0), ('Viggo', 675, 0), ('Viggo', 681, 0), ('Viggo', 715, 0), ('Viggo', 730, 0), ('Viggo', 782, 1), ('Viggo', 798, 1), ('Viggo', 844, 0), ('Viggo', 918, 0), ('Viggo', 965, 1), ('Viggo', 976, 1), ('Viggo', 980, 0), ('Viggo', 983, 1), ('Viggo', 1005, 1), ('Viggo', 1023, 0), ('Viggo', 1074, 1), ('Viggo', 1093, 0), ('Viggo', 1125, 1), ('Viggo', 1136, 1), ('Viggo', 1161, 0), ('Viggo', 1233, 0), ('Viggo', 1239, 0), ('Viggo', 1240, 0), ('Viggo', 1241, 0), ('Viggo', 1287, 0), ('Viggo', 1329, 1), ('Viggo', 1342, 0), ('Viggo', 1428, 0), ('Viggo', 1454, 0), ('Viggo', 1479, 0), ('Viggo', 1485, 0), ('Viggo', 1499, 0), ('Viggo', 1532, 1), ('Viggo', 1536, 1), ('Viggo', 1563, 1), ('Viggo', 1574, 1), ('Viggo', 1691, 0), ('Viggo', 1696, 0), ('Viggo', 1721, 1), ('Viggo', 1725, 0), ('Viggo', 1756, 1), ('Viggo', 1774, 1), ('Viggo', 1785, 0), ('Viggo', 1800, 1), ('Viggo', 1808, 0), ('Viggo', 1825, 1), ('Viggo', 1845, 1), ('Viggo', 1866, 1), ('Viggo', 1871, 0), ('Viggo', 1894, 0), ('Viggo', 1925, 1), ('Viggo', 1976, 0), ('Viggo', 2007, 1), ('Viggo', 2012, 0), ('Viggo', 2034, 0), ('Viggo', 2055, 0), ('Viggo', 2132, 0), ('Viggo', 2137, 1), ('Viggo', 2185, 1), ('Viggo', 2196, 0), ('Viggo', 2248, 0), ('Viggo', 2323, 0), ('Viggo', 2340, 0), ('Viggo', 2367, 1), ('Viggo', 2387, 0), ('Viggo', 2394, 1), ('Viggo', 2462, 1), ('Viggo', 2470, 1), ('Viggo', 2484, 1), ('Viggo', 2512, 1), ('Viggo', 2528, 0), ('Viggo', 2674, 0), ('Viggo', 2676, 1), ('Viggo', 2694, 0), ('Viggo', 2710, 1), ('Viggo', 2730, 1), ('Viggo', 2764, 0), ('Viggo', 2788, 0), ('Viggo', 2809, 0), ('Gold', 16, 1), ('Gold', 60, 0), ('Gold', 130, 1), ('Gold', 133, 0), ('Gold', 140, 0), ('Gold', 151, 0), ('Gold', 181, 0), ('Gold', 182, 1), ('Gold', 266, 0), ('Gold', 295, 1), ('Gold', 311, 1), ('Gold', 331, 1), ('Gold', 395, 0), ('Gold', 462, 0), ('Gold', 489, 0), ('Gold', 544, 1), ('Gold', 548, 0), ('Gold', 568, 0), ('Gold', 587, 0), ('Gold', 613, 0), ('Gold', 640, 1), ('Gold', 656, 0), ('Gold', 675, 0), ('Gold', 681, 1), ('Gold', 715, 0), ('Gold', 730, 1), ('Gold', 782, 1), ('Gold', 798, 1), ('Gold', 844, 1), ('Gold', 918, 0), ('Gold', 965, 1), ('Gold', 976, 1), ('Gold', 980, 0), ('Gold', 983, 1), ('Gold', 1005, 1), ('Gold', 1023, 0), ('Gold', 1074, 1), ('Gold', 1093, 0), ('Gold', 1125, 0), ('Gold', 1136, 0), ('Gold', 1161, 0), ('Gold', 1233, 0), ('Gold', 1239, 0), ('Gold', 1240, 1), ('Gold', 1241, 0), ('Gold', 1287, 1), ('Gold', 1329, 1), ('Gold', 1342, 1), ('Gold', 1428, 0), ('Gold', 1454, 0), ('Gold', 1479, 0), ('Gold', 1485, 1), ('Gold', 1499, 0), ('Gold', 1532, 1), ('Gold', 1536, 1), ('Gold', 1563, 1), ('Gold', 1574, 1), ('Gold', 1691, 0), ('Gold', 1696, 0), ('Gold', 1721, 1), ('Gold', 1725, 0), ('Gold', 1756, 1), ('Gold', 1774, 1), ('Gold', 1785, 0), ('Gold', 1800, 1), ('Gold', 1808, 1), ('Gold', 1825, 0), ('Gold', 1845, 1), ('Gold', 1866, 1), ('Gold', 1871, 0), ('Gold', 1894, 1), ('Gold', 1925, 1), ('Gold', 1976, 1), ('Gold', 2007, 1), ('Gold', 2012, 1), ('Gold', 2034, 1), ('Gold', 2055, 0), ('Gold', 2132, 0), ('Gold', 2137, 1), ('Gold', 2185, 1), ('Gold', 2196, 0), ('Gold', 2248, 0), ('Gold', 2323, 0), ('Gold', 2340, 1), ('Gold', 2367, 1), ('Gold', 2387, 1), ('Gold', 2394, 1), ('Gold', 2462, 1), ('Gold', 2470, 0), ('Gold', 2484, 1), ('Gold', 2512, 1), ('Gold', 2528, 0), ('Gold', 2674, 1), ('Gold', 2676, 1), ('Gold', 2694, 0), ('Gold', 2710, 1), ('Gold', 2730, 0), ('Gold', 2764, 0), ('Gold', 2788, 0), ('Gold', 2809, 0)]\n",
     "output_type": "stream"
    }
   ]
  },
  {
   "cell_type": "code",
   "metadata": {
    "cell_id": "122bb0d799b44ffdb1910d164734bbe0",
    "tags": [],
    "deepnote_to_be_reexecuted": false,
    "source_hash": "d68f305d",
    "execution_start": 1652179177681,
    "execution_millis": 27,
    "output_cleared": false,
    "deepnote_cell_type": "code",
    "deepnote_cell_height": 187.078125
   },
   "source": "print(manual.weighted_kappa())\nprint(manual.multi_kappa())\nprint(manual.pi())",
   "execution_count": 12,
   "outputs": [
    {
     "name": "stdout",
     "text": "0.466084504887111\n0.4639075776663895\n0.46127946127946096\n",
     "output_type": "stream"
    }
   ]
  },
  {
   "cell_type": "code",
   "metadata": {
    "cell_id": "1ce265857e9f49428ed7eff131b6a5f4",
    "tags": [],
    "output_cleared": false,
    "deepnote_to_be_reexecuted": false,
    "source_hash": "fa915982",
    "execution_start": 1652179177716,
    "execution_millis": 271656331,
    "deepnote_cell_type": "code",
    "deepnote_cell_height": 118.1875,
    "deepnote_output_heights": [
     21.1875
    ]
   },
   "source": "manual.kappa_pairwise(\"Frida\", \"Viggo\")",
   "execution_count": 13,
   "outputs": [
    {
     "output_type": "execute_result",
     "execution_count": 13,
     "data": {
      "text/plain": "0.6061359867330018"
     },
     "metadata": {}
    }
   ]
  },
  {
   "cell_type": "code",
   "metadata": {
    "cell_id": "3a80c740aa1f4609b421d697c0f75b3d",
    "tags": [],
    "deepnote_to_be_reexecuted": false,
    "source_hash": "f619654f",
    "execution_start": 1652179177768,
    "execution_millis": 4,
    "output_cleared": false,
    "deepnote_cell_type": "code",
    "deepnote_cell_height": 257.390625
   },
   "source": "from statsmodels.stats import inter_rater as irr\nimport krippendorff as kd\n\nstatsmodels_df = df.drop([\"idx\"], axis = 1)\nprint(\"fleiss_alpha\",irr.fleiss_kappa(irr.aggregate_raters(statsmodels_df)[0], method = \"fleiss\"))\n\nstatsmodels_trans_df = statsmodels_df.transpose()\nprint(\"krippendorff\",kd.alpha(statsmodels_trans_df, level_of_measurement='nominal'))",
   "execution_count": 14,
   "outputs": [
    {
     "name": "stdout",
     "text": "fleiss_alpha 0.4612794612794613\nkrippendorff 0.46217732884399554\n",
     "output_type": "stream"
    }
   ]
  },
  {
   "cell_type": "code",
   "metadata": {
    "cell_id": "c12a0f27ded94bc1a71fcae9963e7032",
    "tags": [],
    "deepnote_to_be_reexecuted": false,
    "source_hash": "bb8c3af0",
    "execution_start": 1652179177769,
    "execution_millis": 3,
    "output_cleared": false,
    "deepnote_cell_type": "code",
    "deepnote_cell_height": 221.390625
   },
   "source": "statsmodels_gold_df = statsmodels_df.copy()\nstatsmodels_gold_df[\"validation\"] = validation\nprint(\"fleiss_alpha\",irr.fleiss_kappa(irr.aggregate_raters(statsmodels_gold_df)[0], method = \"fleiss\"))\n\nstatsmodels_gold_trans_df = statsmodels_gold_df.transpose()\nprint(\"krippendorff\",kd.alpha(statsmodels_gold_trans_df, level_of_measurement='nominal'))",
   "execution_count": 15,
   "outputs": [
    {
     "name": "stdout",
     "text": "fleiss_alpha 0.48623571811977573\nkrippendorff 0.48696966709389067\n",
     "output_type": "stream"
    }
   ]
  },
  {
   "cell_type": "code",
   "metadata": {
    "cell_id": "1c201ced11cb4d0db0744ad0bbda02ee",
    "tags": [],
    "deepnote_to_be_reexecuted": false,
    "source_hash": "a6f0f7ea",
    "execution_start": 1652179177808,
    "execution_millis": 0,
    "output_cleared": true,
    "deepnote_cell_type": "code",
    "deepnote_cell_height": 207
   },
   "source": "names = [\"Marie\", \"Frida\", \"Magnus\", \"Viggo\", \"Gustav\"]\n\ntuple_list = []\nfor name in list(df)[1:]:\n    tuples = list(zip([name] * len(df[\"idx\"]), df[\"idx\"], df[name]))\n    tuple_list.extend(tuples)\n\nmanual_gold = AnnotationTask(data=tuple_list)",
   "execution_count": 16,
   "outputs": []
  },
  {
   "cell_type": "code",
   "metadata": {
    "cell_id": "5e4eee0d092940f1899408b8d49eb74f",
    "tags": [],
    "deepnote_to_be_reexecuted": false,
    "source_hash": "87be2b7b",
    "execution_start": 1652179177808,
    "execution_millis": 3,
    "output_cleared": false,
    "deepnote_cell_type": "code",
    "deepnote_cell_height": 762.5,
    "deepnote_output_heights": [
     503.5
    ]
   },
   "source": "from itertools import combinations\nfrom IPython.display import Markdown as md\nfrom tabulate import tabulate\nimport numpy as np\n\ncombs = list(map(lambda x: (x[0], x[1], manual_gold.kappa_pairwise(*x)), combinations(names, 2)))\ncombs.extend(map(lambda x: (x[0], x[1], manual_gold.kappa_pairwise(*x)), zip(names, [\"Gold\"] * len(names))))\ntable = tabulate(combs, headers=[\"Annotator 1\", \"Annotator 2\", \"Kappa Pairwise\"], tablefmt=\"github\", floatfmt=\".3f\")\ntable += f\"\\n### Average Agreement with Gold: {np.mean(list(map(lambda x: x[2], combs[-5:]))):.3f}\"\nmd(table)",
   "execution_count": 17,
   "outputs": [
    {
     "output_type": "execute_result",
     "execution_count": 17,
     "data": {
      "text/plain": "<IPython.core.display.Markdown object>",
      "text/markdown": "| Annotator 1   | Annotator 2   |   Kappa Pairwise |\n|---------------|---------------|------------------|\n| Marie         | Frida         |            0.376 |\n| Marie         | Magnus        |            0.408 |\n| Marie         | Viggo         |            0.362 |\n| Marie         | Gustav        |            0.333 |\n| Frida         | Magnus        |            0.601 |\n| Frida         | Viggo         |            0.606 |\n| Frida         | Gustav        |            0.470 |\n| Magnus        | Viggo         |            0.615 |\n| Magnus        | Gustav        |            0.440 |\n| Viggo         | Gustav        |            0.486 |\n| Marie         | Gold          |            0.517 |\n| Frida         | Gold          |            0.364 |\n| Magnus        | Gold          |            0.545 |\n| Viggo         | Gold          |            0.465 |\n| Gustav        | Gold          |            0.403 |\n### Average Agreement with Gold: 0.459"
     },
     "metadata": {}
    }
   ]
  },
  {
   "cell_type": "code",
   "metadata": {
    "cell_id": "2529ab6573e640d984d9d1b854569b25",
    "tags": [],
    "deepnote_to_be_reexecuted": false,
    "source_hash": "d485c4e",
    "execution_start": 1652179177809,
    "execution_millis": 3,
    "deepnote_cell_type": "code",
    "deepnote_cell_height": 525.296875
   },
   "source": "print(tabulate(combs, headers=[\"Annotator 1\", \"Annotator 2\", \"Kappa Pairwise\"], tablefmt=\"html\", floatfmt=\".3f\"))",
   "execution_count": 18,
   "outputs": [
    {
     "name": "stdout",
     "text": "<table>\n<thead>\n<tr><th>Annotator 1  </th><th>Annotator 2  </th><th style=\"text-align: right;\">  Kappa Pairwise</th></tr>\n</thead>\n<tbody>\n<tr><td>Marie        </td><td>Frida        </td><td style=\"text-align: right;\">           0.376</td></tr>\n<tr><td>Marie        </td><td>Magnus       </td><td style=\"text-align: right;\">           0.408</td></tr>\n<tr><td>Marie        </td><td>Viggo        </td><td style=\"text-align: right;\">           0.362</td></tr>\n<tr><td>Marie        </td><td>Gustav       </td><td style=\"text-align: right;\">           0.333</td></tr>\n<tr><td>Frida        </td><td>Magnus       </td><td style=\"text-align: right;\">           0.601</td></tr>\n<tr><td>Frida        </td><td>Viggo        </td><td style=\"text-align: right;\">           0.606</td></tr>\n<tr><td>Frida        </td><td>Gustav       </td><td style=\"text-align: right;\">           0.470</td></tr>\n<tr><td>Magnus       </td><td>Viggo        </td><td style=\"text-align: right;\">           0.615</td></tr>\n<tr><td>Magnus       </td><td>Gustav       </td><td style=\"text-align: right;\">           0.440</td></tr>\n<tr><td>Viggo        </td><td>Gustav       </td><td style=\"text-align: right;\">           0.486</td></tr>\n<tr><td>Marie        </td><td>Gold         </td><td style=\"text-align: right;\">           0.517</td></tr>\n<tr><td>Frida        </td><td>Gold         </td><td style=\"text-align: right;\">           0.364</td></tr>\n<tr><td>Magnus       </td><td>Gold         </td><td style=\"text-align: right;\">           0.545</td></tr>\n<tr><td>Viggo        </td><td>Gold         </td><td style=\"text-align: right;\">           0.465</td></tr>\n<tr><td>Gustav       </td><td>Gold         </td><td style=\"text-align: right;\">           0.403</td></tr>\n</tbody>\n</table>\n",
     "output_type": "stream"
    }
   ]
  },
  {
   "cell_type": "code",
   "metadata": {
    "cell_id": "c5cd37c20be044eca476bc3a611d33ce",
    "tags": [],
    "deepnote_to_be_reexecuted": false,
    "source_hash": "c6bfd624",
    "execution_start": 1652179177823,
    "execution_millis": 141,
    "output_cleared": false,
    "deepnote_cell_type": "code",
    "deepnote_cell_height": 773
   },
   "source": "for i in range(100):\n    if sum(df.iloc[i,1:]) == 3:\n        tweetnumber = random_lines_index[i]\n        print(\"idx:\",tweetnumber)\n        print(f'Tweet: {lines[tweetnumber]}\\nLabels: \\n{df.iloc[i,1:]} \\n')",
   "execution_count": 19,
   "outputs": [
    {
     "name": "stdout",
     "text": "idx: 266\nTweet: @user ha yeah which is your opinion, which like mine, means nothing ;) they're in.\nLabels: \nMarie     1\nFrida     1\nMagnus    0\nGustav    0\nViggo     1\nGold      0\nName: 8, dtype: int64 \n\nidx: 782\nTweet: oh lord!  RT @user RT @user Before becoming an actor, Tom Cruise wanted to be a Catholic priest.\nLabels: \nMarie     1\nFrida     0\nMagnus    0\nGustav    0\nViggo     1\nGold      1\nName: 26, dtype: int64 \n\nidx: 844\nTweet: @user (281): If I had feelings, you would have hurt them.\nLabels: \nMarie     0\nFrida     1\nMagnus    1\nGustav    0\nViggo     0\nGold      1\nName: 28, dtype: int64 \n\nidx: 980\nTweet: Carbon everywhere :) #carbon #hood  #sticker #strips #down #red #automotive #dope #cars...\nLabels: \nMarie     1\nFrida     1\nMagnus    0\nGustav    1\nViggo     0\nGold      0\nName: 32, dtype: int64 \n\nidx: 1093\nTweet: #notcies #eu Juncker receives birthday surprise: One million signatures opposing TTIP and CETA\nLabels: \nMarie     1\nFrida     1\nMagnus    0\nGustav    1\nViggo     0\nGold      0\nName: 37, dtype: int64 \n\nidx: 1233\nTweet: @user oh man. You will have to get everyone singing ready for when I'm in 😂\nLabels: \nMarie     1\nFrida     1\nMagnus    0\nGustav    1\nViggo     0\nGold      0\nName: 41, dtype: int64 \n\nidx: 1240\nTweet: @user We should monitor them...\nLabels: \nMarie     1\nFrida     0\nMagnus    0\nGustav    1\nViggo     0\nGold      1\nName: 43, dtype: int64 \n\nidx: 1485\nTweet: @user So PSN and Xbox Live are both down on a day many people get new video games.||North Korean hack? 😫\nLabels: \nMarie     1\nFrida     0\nMagnus    0\nGustav    1\nViggo     0\nGold      1\nName: 51, dtype: int64 \n\nidx: 1532\nTweet: I love it when work tells me they don't need me to come in 💁😂😭😭😭\nLabels: \nMarie     0\nFrida     0\nMagnus    0\nGustav    1\nViggo     1\nGold      1\nName: 53, dtype: int64 \n\nidx: 1825\nTweet: @user absolutely shocking that the lamestream media hasn't picked up on this  #mediabias @user @user\nLabels: \nMarie     1\nFrida     0\nMagnus    0\nGustav    1\nViggo     1\nGold      0\nName: 66, dtype: int64 \n\nidx: 2012\nTweet: @user There's so much less controversy now that the BCS has been replaced.\nLabels: \nMarie     1\nFrida     0\nMagnus    0\nGustav    1\nViggo     0\nGold      1\nName: 74, dtype: int64 \n\nidx: 2132\nTweet: @user they are all written out in a gold gel pen waiting! I hate how are relationship consists of twitter messaging  #fulfilling\nLabels: \nMarie     0\nFrida     1\nMagnus    1\nGustav    1\nViggo     0\nGold      0\nName: 77, dtype: int64 \n\nidx: 2340\nTweet: Thechicago firehouse restaurant goes up in flames.  #chicago #fire #cfd #workingpress #cbs #wbbm...\nLabels: \nMarie     1\nFrida     1\nMagnus    0\nGustav    0\nViggo     0\nGold      1\nName: 83, dtype: int64 \n\nidx: 2387\nTweet: @user Does it imply you can get off facebook using crack or cocaine? .\nLabels: \nMarie     1\nFrida     0\nMagnus    1\nGustav    0\nViggo     0\nGold      1\nName: 85, dtype: int64 \n\nidx: 2674\nTweet: Did you know ? If you are reading this right now you are not blind...lol.\nLabels: \nMarie     1\nFrida     0\nMagnus    1\nGustav    0\nViggo     0\nGold      1\nName: 92, dtype: int64 \n\n",
     "output_type": "stream"
    }
   ]
  },
  {
   "cell_type": "code",
   "metadata": {
    "cell_id": "2baac80ac09c4aacb128b99036aba807",
    "tags": [],
    "deepnote_to_be_reexecuted": false,
    "source_hash": "f804c160",
    "execution_start": 1652179177926,
    "execution_millis": 17,
    "deepnote_cell_type": "code",
    "deepnote_cell_height": 600
   },
   "source": "df",
   "execution_count": 20,
   "outputs": [
    {
     "output_type": "execute_result",
     "execution_count": 20,
     "data": {
      "application/vnd.deepnote.dataframe.v3+json": {
       "column_count": 7,
       "row_count": 100,
       "columns": [
        {
         "name": "idx",
         "dtype": "int64",
         "stats": {
          "unique_count": 100,
          "nan_count": 0,
          "min": "16",
          "max": "2809",
          "histogram": [
           {
            "bin_start": 16,
            "bin_end": 295.3,
            "count": 10
           },
           {
            "bin_start": 295.3,
            "bin_end": 574.6,
            "count": 8
           },
           {
            "bin_start": 574.6,
            "bin_end": 853.9000000000001,
            "count": 11
           },
           {
            "bin_start": 853.9000000000001,
            "bin_end": 1133.2,
            "count": 10
           },
           {
            "bin_start": 1133.2,
            "bin_end": 1412.5,
            "count": 9
           },
           {
            "bin_start": 1412.5,
            "bin_end": 1691.8000000000002,
            "count": 10
           },
           {
            "bin_start": 1691.8000000000002,
            "bin_end": 1971.1000000000001,
            "count": 14
           },
           {
            "bin_start": 1971.1000000000001,
            "bin_end": 2250.4,
            "count": 10
           },
           {
            "bin_start": 2250.4,
            "bin_end": 2529.7000000000003,
            "count": 10
           },
           {
            "bin_start": 2529.7000000000003,
            "bin_end": 2809,
            "count": 8
           }
          ]
         }
        },
        {
         "name": "Marie",
         "dtype": "int64",
         "stats": {
          "unique_count": 2,
          "nan_count": 0,
          "min": "0",
          "max": "1",
          "histogram": [
           {
            "bin_start": 0,
            "bin_end": 0.1,
            "count": 42
           },
           {
            "bin_start": 0.1,
            "bin_end": 0.2,
            "count": 0
           },
           {
            "bin_start": 0.2,
            "bin_end": 0.30000000000000004,
            "count": 0
           },
           {
            "bin_start": 0.30000000000000004,
            "bin_end": 0.4,
            "count": 0
           },
           {
            "bin_start": 0.4,
            "bin_end": 0.5,
            "count": 0
           },
           {
            "bin_start": 0.5,
            "bin_end": 0.6000000000000001,
            "count": 0
           },
           {
            "bin_start": 0.6000000000000001,
            "bin_end": 0.7000000000000001,
            "count": 0
           },
           {
            "bin_start": 0.7000000000000001,
            "bin_end": 0.8,
            "count": 0
           },
           {
            "bin_start": 0.8,
            "bin_end": 0.9,
            "count": 0
           },
           {
            "bin_start": 0.9,
            "bin_end": 1,
            "count": 58
           }
          ]
         }
        },
        {
         "name": "Frida",
         "dtype": "int64",
         "stats": {
          "unique_count": 2,
          "nan_count": 0,
          "min": "0",
          "max": "1",
          "histogram": [
           {
            "bin_start": 0,
            "bin_end": 0.1,
            "count": 58
           },
           {
            "bin_start": 0.1,
            "bin_end": 0.2,
            "count": 0
           },
           {
            "bin_start": 0.2,
            "bin_end": 0.30000000000000004,
            "count": 0
           },
           {
            "bin_start": 0.30000000000000004,
            "bin_end": 0.4,
            "count": 0
           },
           {
            "bin_start": 0.4,
            "bin_end": 0.5,
            "count": 0
           },
           {
            "bin_start": 0.5,
            "bin_end": 0.6000000000000001,
            "count": 0
           },
           {
            "bin_start": 0.6000000000000001,
            "bin_end": 0.7000000000000001,
            "count": 0
           },
           {
            "bin_start": 0.7000000000000001,
            "bin_end": 0.8,
            "count": 0
           },
           {
            "bin_start": 0.8,
            "bin_end": 0.9,
            "count": 0
           },
           {
            "bin_start": 0.9,
            "bin_end": 1,
            "count": 42
           }
          ]
         }
        },
        {
         "name": "Magnus",
         "dtype": "int64",
         "stats": {
          "unique_count": 2,
          "nan_count": 0,
          "min": "0",
          "max": "1",
          "histogram": [
           {
            "bin_start": 0,
            "bin_end": 0.1,
            "count": 65
           },
           {
            "bin_start": 0.1,
            "bin_end": 0.2,
            "count": 0
           },
           {
            "bin_start": 0.2,
            "bin_end": 0.30000000000000004,
            "count": 0
           },
           {
            "bin_start": 0.30000000000000004,
            "bin_end": 0.4,
            "count": 0
           },
           {
            "bin_start": 0.4,
            "bin_end": 0.5,
            "count": 0
           },
           {
            "bin_start": 0.5,
            "bin_end": 0.6000000000000001,
            "count": 0
           },
           {
            "bin_start": 0.6000000000000001,
            "bin_end": 0.7000000000000001,
            "count": 0
           },
           {
            "bin_start": 0.7000000000000001,
            "bin_end": 0.8,
            "count": 0
           },
           {
            "bin_start": 0.8,
            "bin_end": 0.9,
            "count": 0
           },
           {
            "bin_start": 0.9,
            "bin_end": 1,
            "count": 35
           }
          ]
         }
        },
        {
         "name": "Gustav",
         "dtype": "int64",
         "stats": {
          "unique_count": 2,
          "nan_count": 0,
          "min": "0",
          "max": "1",
          "histogram": [
           {
            "bin_start": 0,
            "bin_end": 0.1,
            "count": 56
           },
           {
            "bin_start": 0.1,
            "bin_end": 0.2,
            "count": 0
           },
           {
            "bin_start": 0.2,
            "bin_end": 0.30000000000000004,
            "count": 0
           },
           {
            "bin_start": 0.30000000000000004,
            "bin_end": 0.4,
            "count": 0
           },
           {
            "bin_start": 0.4,
            "bin_end": 0.5,
            "count": 0
           },
           {
            "bin_start": 0.5,
            "bin_end": 0.6000000000000001,
            "count": 0
           },
           {
            "bin_start": 0.6000000000000001,
            "bin_end": 0.7000000000000001,
            "count": 0
           },
           {
            "bin_start": 0.7000000000000001,
            "bin_end": 0.8,
            "count": 0
           },
           {
            "bin_start": 0.8,
            "bin_end": 0.9,
            "count": 0
           },
           {
            "bin_start": 0.9,
            "bin_end": 1,
            "count": 44
           }
          ]
         }
        },
        {
         "name": "Viggo",
         "dtype": "int64",
         "stats": {
          "unique_count": 2,
          "nan_count": 0,
          "min": "0",
          "max": "1",
          "histogram": [
           {
            "bin_start": 0,
            "bin_end": 0.1,
            "count": 61
           },
           {
            "bin_start": 0.1,
            "bin_end": 0.2,
            "count": 0
           },
           {
            "bin_start": 0.2,
            "bin_end": 0.30000000000000004,
            "count": 0
           },
           {
            "bin_start": 0.30000000000000004,
            "bin_end": 0.4,
            "count": 0
           },
           {
            "bin_start": 0.4,
            "bin_end": 0.5,
            "count": 0
           },
           {
            "bin_start": 0.5,
            "bin_end": 0.6000000000000001,
            "count": 0
           },
           {
            "bin_start": 0.6000000000000001,
            "bin_end": 0.7000000000000001,
            "count": 0
           },
           {
            "bin_start": 0.7000000000000001,
            "bin_end": 0.8,
            "count": 0
           },
           {
            "bin_start": 0.8,
            "bin_end": 0.9,
            "count": 0
           },
           {
            "bin_start": 0.9,
            "bin_end": 1,
            "count": 39
           }
          ]
         }
        },
        {
         "name": "Gold",
         "dtype": "int64",
         "stats": {
          "unique_count": 2,
          "nan_count": 0,
          "min": "0",
          "max": "1",
          "histogram": [
           {
            "bin_start": 0,
            "bin_end": 0.1,
            "count": 48
           },
           {
            "bin_start": 0.1,
            "bin_end": 0.2,
            "count": 0
           },
           {
            "bin_start": 0.2,
            "bin_end": 0.30000000000000004,
            "count": 0
           },
           {
            "bin_start": 0.30000000000000004,
            "bin_end": 0.4,
            "count": 0
           },
           {
            "bin_start": 0.4,
            "bin_end": 0.5,
            "count": 0
           },
           {
            "bin_start": 0.5,
            "bin_end": 0.6000000000000001,
            "count": 0
           },
           {
            "bin_start": 0.6000000000000001,
            "bin_end": 0.7000000000000001,
            "count": 0
           },
           {
            "bin_start": 0.7000000000000001,
            "bin_end": 0.8,
            "count": 0
           },
           {
            "bin_start": 0.8,
            "bin_end": 0.9,
            "count": 0
           },
           {
            "bin_start": 0.9,
            "bin_end": 1,
            "count": 52
           }
          ]
         }
        },
        {
         "name": "_deepnote_index_column",
         "dtype": "int64"
        }
       ],
       "rows": [
        {
         "idx": 16,
         "Marie": 1,
         "Frida": 1,
         "Magnus": 1,
         "Gustav": 1,
         "Viggo": 1,
         "Gold": 1,
         "_deepnote_index_column": 0
        },
        {
         "idx": 60,
         "Marie": 0,
         "Frida": 1,
         "Magnus": 0,
         "Gustav": 0,
         "Viggo": 0,
         "Gold": 0,
         "_deepnote_index_column": 1
        },
        {
         "idx": 130,
         "Marie": 1,
         "Frida": 0,
         "Magnus": 0,
         "Gustav": 0,
         "Viggo": 0,
         "Gold": 1,
         "_deepnote_index_column": 2
        },
        {
         "idx": 133,
         "Marie": 0,
         "Frida": 0,
         "Magnus": 0,
         "Gustav": 0,
         "Viggo": 0,
         "Gold": 0,
         "_deepnote_index_column": 3
        },
        {
         "idx": 140,
         "Marie": 0,
         "Frida": 0,
         "Magnus": 0,
         "Gustav": 1,
         "Viggo": 0,
         "Gold": 0,
         "_deepnote_index_column": 4
        },
        {
         "idx": 151,
         "Marie": 1,
         "Frida": 1,
         "Magnus": 0,
         "Gustav": 0,
         "Viggo": 0,
         "Gold": 0,
         "_deepnote_index_column": 5
        },
        {
         "idx": 181,
         "Marie": 1,
         "Frida": 0,
         "Magnus": 1,
         "Gustav": 0,
         "Viggo": 0,
         "Gold": 0,
         "_deepnote_index_column": 6
        },
        {
         "idx": 182,
         "Marie": 1,
         "Frida": 1,
         "Magnus": 1,
         "Gustav": 1,
         "Viggo": 1,
         "Gold": 1,
         "_deepnote_index_column": 7
        },
        {
         "idx": 266,
         "Marie": 1,
         "Frida": 1,
         "Magnus": 0,
         "Gustav": 0,
         "Viggo": 1,
         "Gold": 0,
         "_deepnote_index_column": 8
        },
        {
         "idx": 295,
         "Marie": 1,
         "Frida": 0,
         "Magnus": 1,
         "Gustav": 1,
         "Viggo": 0,
         "Gold": 1,
         "_deepnote_index_column": 9
        }
       ]
      },
      "text/plain": "     idx  Marie  Frida  Magnus  Gustav  Viggo  Gold\n0     16      1      1       1       1      1     1\n1     60      0      1       0       0      0     0\n2    130      1      0       0       0      0     1\n3    133      0      0       0       0      0     0\n4    140      0      0       0       1      0     0\n..   ...    ...    ...     ...     ...    ...   ...\n95  2710      1      1       1       1      1     1\n96  2730      0      1       0       0      1     0\n97  2764      0      0       0       0      0     0\n98  2788      0      1       0       1      0     0\n99  2809      0      0       0       0      0     0\n\n[100 rows x 7 columns]",
      "text/html": "<div>\n<style scoped>\n    .dataframe tbody tr th:only-of-type {\n        vertical-align: middle;\n    }\n\n    .dataframe tbody tr th {\n        vertical-align: top;\n    }\n\n    .dataframe thead th {\n        text-align: right;\n    }\n</style>\n<table border=\"1\" class=\"dataframe\">\n  <thead>\n    <tr style=\"text-align: right;\">\n      <th></th>\n      <th>idx</th>\n      <th>Marie</th>\n      <th>Frida</th>\n      <th>Magnus</th>\n      <th>Gustav</th>\n      <th>Viggo</th>\n      <th>Gold</th>\n    </tr>\n  </thead>\n  <tbody>\n    <tr>\n      <th>0</th>\n      <td>16</td>\n      <td>1</td>\n      <td>1</td>\n      <td>1</td>\n      <td>1</td>\n      <td>1</td>\n      <td>1</td>\n    </tr>\n    <tr>\n      <th>1</th>\n      <td>60</td>\n      <td>0</td>\n      <td>1</td>\n      <td>0</td>\n      <td>0</td>\n      <td>0</td>\n      <td>0</td>\n    </tr>\n    <tr>\n      <th>2</th>\n      <td>130</td>\n      <td>1</td>\n      <td>0</td>\n      <td>0</td>\n      <td>0</td>\n      <td>0</td>\n      <td>1</td>\n    </tr>\n    <tr>\n      <th>3</th>\n      <td>133</td>\n      <td>0</td>\n      <td>0</td>\n      <td>0</td>\n      <td>0</td>\n      <td>0</td>\n      <td>0</td>\n    </tr>\n    <tr>\n      <th>4</th>\n      <td>140</td>\n      <td>0</td>\n      <td>0</td>\n      <td>0</td>\n      <td>1</td>\n      <td>0</td>\n      <td>0</td>\n    </tr>\n    <tr>\n      <th>...</th>\n      <td>...</td>\n      <td>...</td>\n      <td>...</td>\n      <td>...</td>\n      <td>...</td>\n      <td>...</td>\n      <td>...</td>\n    </tr>\n    <tr>\n      <th>95</th>\n      <td>2710</td>\n      <td>1</td>\n      <td>1</td>\n      <td>1</td>\n      <td>1</td>\n      <td>1</td>\n      <td>1</td>\n    </tr>\n    <tr>\n      <th>96</th>\n      <td>2730</td>\n      <td>0</td>\n      <td>1</td>\n      <td>0</td>\n      <td>0</td>\n      <td>1</td>\n      <td>0</td>\n    </tr>\n    <tr>\n      <th>97</th>\n      <td>2764</td>\n      <td>0</td>\n      <td>0</td>\n      <td>0</td>\n      <td>0</td>\n      <td>0</td>\n      <td>0</td>\n    </tr>\n    <tr>\n      <th>98</th>\n      <td>2788</td>\n      <td>0</td>\n      <td>1</td>\n      <td>0</td>\n      <td>1</td>\n      <td>0</td>\n      <td>0</td>\n    </tr>\n    <tr>\n      <th>99</th>\n      <td>2809</td>\n      <td>0</td>\n      <td>0</td>\n      <td>0</td>\n      <td>0</td>\n      <td>0</td>\n      <td>0</td>\n    </tr>\n  </tbody>\n</table>\n<p>100 rows × 7 columns</p>\n</div>"
     },
     "metadata": {}
    }
   ]
  },
  {
   "cell_type": "code",
   "metadata": {
    "cell_id": "a46e0f903b02473597ddc25410131d0c",
    "tags": [],
    "deepnote_to_be_reexecuted": false,
    "source_hash": "86d6e2a4",
    "execution_start": 1652179177970,
    "execution_millis": 22,
    "output_cleared": false,
    "allow_embed": false,
    "deepnote_cell_type": "code",
    "deepnote_cell_height": 118.1875,
    "deepnote_output_heights": [
     21.1875
    ]
   },
   "source": "sum(true_vals)/len(true_vals)",
   "execution_count": 21,
   "outputs": [
    {
     "output_type": "execute_result",
     "execution_count": 21,
     "data": {
      "text/plain": "0.5048916841369672"
     },
     "metadata": {}
    }
   ]
  },
  {
   "cell_type": "code",
   "metadata": {
    "cell_id": "75c125b395674397be566d824b9a251b",
    "tags": [],
    "deepnote_to_be_reexecuted": false,
    "source_hash": "fddcf17f",
    "execution_start": 1652179177970,
    "execution_millis": 49,
    "deepnote_cell_type": "code",
    "deepnote_cell_height": 118.1875,
    "deepnote_output_heights": [
     21.1875
    ]
   },
   "source": "len(true_vals)",
   "execution_count": 22,
   "outputs": [
    {
     "output_type": "execute_result",
     "execution_count": 22,
     "data": {
      "text/plain": "2862"
     },
     "metadata": {}
    }
   ]
  },
  {
   "cell_type": "markdown",
   "source": "# 4 Automatic Prediction",
   "metadata": {
    "cell_id": "503c2c6475ed4c9d969c2b32c09a1405",
    "tags": [],
    "is_collapsed": false,
    "deepnote_cell_type": "text-cell-h1"
   }
  },
  {
   "cell_type": "code",
   "source": "train_labels = \"/work/fyp2022g03GroupB2/tweeteval/datasets/irony/train_labels.txt\"\nirony_tweets_path = \"/work/fyp2022g03GroupB2/tweeteval/datasets/irony/train_text.txt\"\nY = np.loadtxt(train_labels)\n",
   "metadata": {
    "cell_id": "53da032b42d64c0c9f4a510cbf374911",
    "tags": [],
    "deepnote_to_be_reexecuted": false,
    "source_hash": "89d9a486",
    "execution_start": 1652179178018,
    "execution_millis": 0,
    "deepnote_cell_type": "code",
    "deepnote_cell_height": 135,
    "deepnote_output_heights": [
     21.1875
    ]
   },
   "outputs": [],
   "execution_count": 23
  },
  {
   "cell_type": "code",
   "source": "from sklearn.linear_model import SGDClassifier\nfrom sklearn.preprocessing import StandardScaler\nfrom sklearn.pipeline import make_pipeline\nfrom sklearn.feature_extraction.text import CountVectorizer\nfrom sklearn.feature_extraction.text import TfidfTransformer",
   "metadata": {
    "cell_id": "740fa98de34745478ba6d1a4d6d0edcb",
    "tags": [],
    "deepnote_to_be_reexecuted": false,
    "source_hash": "d69e3454",
    "execution_start": 1652179334240,
    "execution_millis": 1,
    "deepnote_cell_type": "code",
    "deepnote_cell_height": 153,
    "deepnote_output_heights": [
     611
    ]
   },
   "outputs": [],
   "execution_count": 31
  },
  {
   "cell_type": "code",
   "source": "#clf = make_pipeline(StandardScaler(), SGDClassifier(loss=\"log\"))\n\n#clf.fit(corpus,Y)\n\n#X = CountVectorizer.fit_transform(xxxcorpus)\n#print(X.toarray())",
   "metadata": {
    "cell_id": "01cd71659c124902b7cd175606de2e33",
    "tags": [],
    "deepnote_to_be_reexecuted": false,
    "source_hash": "f3a803db",
    "execution_start": 1652179284455,
    "execution_millis": 0,
    "owner_user_id": "86e97f73-8efe-4ddc-aadf-a7e22cfd1042",
    "deepnote_cell_type": "code",
    "deepnote_cell_height": 171
   },
   "outputs": [],
   "execution_count": 30
  },
  {
   "cell_type": "code",
   "source": "def preprocess(text):\n    tweets = np.array(text.split(\"\\n\"))\n    for i, tweet in enumerate(tweets):\n        tweet = \" \".join([contractions.fix(word.lower()) for word in tweet.split(\" \")])\n        tweets[i] = tweet\n    return tweets",
   "metadata": {
    "cell_id": "2b266f1b6b054cdbb312774dd63c7ce0",
    "tags": [],
    "deepnote_to_be_reexecuted": false,
    "source_hash": "1b1de1ff",
    "execution_start": 1652179503612,
    "execution_millis": 1,
    "deepnote_cell_type": "code",
    "deepnote_cell_height": 171
   },
   "outputs": [],
   "execution_count": 34
  },
  {
   "cell_type": "code",
   "source": "with open(\"pattern.txt\", \"r\") as f:\n    pat = f.read().rstrip()\nclf = make_pipeline(CountVectorizer(token_pattern=pat), TfidfTransformer(), SGDClassifier(loss=\"log\"))",
   "metadata": {
    "cell_id": "19022e348f0941b3950db384de430dba",
    "tags": [],
    "deepnote_to_be_reexecuted": false,
    "source_hash": "c097f5ce",
    "execution_start": 1652180019774,
    "execution_millis": 1,
    "deepnote_cell_type": "code",
    "deepnote_cell_height": 117
   },
   "outputs": [],
   "execution_count": 45
  },
  {
   "cell_type": "code",
   "source": "with open(\"tweeteval/datasets/irony/train_text.txt\", \"r\") as f:\n    irony_text = f.read().rstrip()\ntrain_labels = np.loadtxt(\"tweeteval/datasets/irony/train_labels.txt\")\nclf.fit(preprocess(irony_text), train_labels)",
   "metadata": {
    "cell_id": "48862e7d6efb4c77a4400b2a9a62e48b",
    "tags": [],
    "deepnote_to_be_reexecuted": false,
    "source_hash": "cf6d214f",
    "execution_start": 1652180020274,
    "execution_millis": 247,
    "deepnote_cell_type": "code",
    "deepnote_cell_height": 210.578125,
    "deepnote_output_heights": [
     59.578125
    ]
   },
   "outputs": [
    {
     "output_type": "error",
     "ename": "error",
     "evalue": "bad escape \\p at position 305",
     "traceback": [
      "\u001b[0;31m---------------------------------------------------------------------------\u001b[0m",
      "\u001b[0;31merror\u001b[0m                                     Traceback (most recent call last)",
      "\u001b[0;32m<ipython-input-46-53de76b4aac4>\u001b[0m in \u001b[0;36m<cell line: 4>\u001b[0;34m()\u001b[0m\n\u001b[1;32m      2\u001b[0m     \u001b[0mirony_text\u001b[0m \u001b[0;34m=\u001b[0m \u001b[0mf\u001b[0m\u001b[0;34m.\u001b[0m\u001b[0mread\u001b[0m\u001b[0;34m(\u001b[0m\u001b[0;34m)\u001b[0m\u001b[0;34m.\u001b[0m\u001b[0mrstrip\u001b[0m\u001b[0;34m(\u001b[0m\u001b[0;34m)\u001b[0m\u001b[0;34m\u001b[0m\u001b[0;34m\u001b[0m\u001b[0m\n\u001b[1;32m      3\u001b[0m \u001b[0mtrain_labels\u001b[0m \u001b[0;34m=\u001b[0m \u001b[0mnp\u001b[0m\u001b[0;34m.\u001b[0m\u001b[0mloadtxt\u001b[0m\u001b[0;34m(\u001b[0m\u001b[0;34m\"tweeteval/datasets/irony/train_labels.txt\"\u001b[0m\u001b[0;34m)\u001b[0m\u001b[0;34m\u001b[0m\u001b[0;34m\u001b[0m\u001b[0m\n\u001b[0;32m----> 4\u001b[0;31m \u001b[0mclf\u001b[0m\u001b[0;34m.\u001b[0m\u001b[0mfit\u001b[0m\u001b[0;34m(\u001b[0m\u001b[0mpreprocess\u001b[0m\u001b[0;34m(\u001b[0m\u001b[0mirony_text\u001b[0m\u001b[0;34m)\u001b[0m\u001b[0;34m,\u001b[0m \u001b[0mtrain_labels\u001b[0m\u001b[0;34m)\u001b[0m\u001b[0;34m\u001b[0m\u001b[0;34m\u001b[0m\u001b[0m\n\u001b[0m",
      "\u001b[0;32m/shared-libs/python3.9/py/lib/python3.9/site-packages/sklearn/pipeline.py\u001b[0m in \u001b[0;36mfit\u001b[0;34m(self, X, y, **fit_params)\u001b[0m\n\u001b[1;32m    388\u001b[0m         \"\"\"\n\u001b[1;32m    389\u001b[0m         \u001b[0mfit_params_steps\u001b[0m \u001b[0;34m=\u001b[0m \u001b[0mself\u001b[0m\u001b[0;34m.\u001b[0m\u001b[0m_check_fit_params\u001b[0m\u001b[0;34m(\u001b[0m\u001b[0;34m**\u001b[0m\u001b[0mfit_params\u001b[0m\u001b[0;34m)\u001b[0m\u001b[0;34m\u001b[0m\u001b[0;34m\u001b[0m\u001b[0m\n\u001b[0;32m--> 390\u001b[0;31m         \u001b[0mXt\u001b[0m \u001b[0;34m=\u001b[0m \u001b[0mself\u001b[0m\u001b[0;34m.\u001b[0m\u001b[0m_fit\u001b[0m\u001b[0;34m(\u001b[0m\u001b[0mX\u001b[0m\u001b[0;34m,\u001b[0m \u001b[0my\u001b[0m\u001b[0;34m,\u001b[0m \u001b[0;34m**\u001b[0m\u001b[0mfit_params_steps\u001b[0m\u001b[0;34m)\u001b[0m\u001b[0;34m\u001b[0m\u001b[0;34m\u001b[0m\u001b[0m\n\u001b[0m\u001b[1;32m    391\u001b[0m         \u001b[0;32mwith\u001b[0m \u001b[0m_print_elapsed_time\u001b[0m\u001b[0;34m(\u001b[0m\u001b[0;34m\"Pipeline\"\u001b[0m\u001b[0;34m,\u001b[0m \u001b[0mself\u001b[0m\u001b[0;34m.\u001b[0m\u001b[0m_log_message\u001b[0m\u001b[0;34m(\u001b[0m\u001b[0mlen\u001b[0m\u001b[0;34m(\u001b[0m\u001b[0mself\u001b[0m\u001b[0;34m.\u001b[0m\u001b[0msteps\u001b[0m\u001b[0;34m)\u001b[0m \u001b[0;34m-\u001b[0m \u001b[0;36m1\u001b[0m\u001b[0;34m)\u001b[0m\u001b[0;34m)\u001b[0m\u001b[0;34m:\u001b[0m\u001b[0;34m\u001b[0m\u001b[0;34m\u001b[0m\u001b[0m\n\u001b[1;32m    392\u001b[0m             \u001b[0;32mif\u001b[0m \u001b[0mself\u001b[0m\u001b[0;34m.\u001b[0m\u001b[0m_final_estimator\u001b[0m \u001b[0;34m!=\u001b[0m \u001b[0;34m\"passthrough\"\u001b[0m\u001b[0;34m:\u001b[0m\u001b[0;34m\u001b[0m\u001b[0;34m\u001b[0m\u001b[0m\n",
      "\u001b[0;32m/shared-libs/python3.9/py/lib/python3.9/site-packages/sklearn/pipeline.py\u001b[0m in \u001b[0;36m_fit\u001b[0;34m(self, X, y, **fit_params_steps)\u001b[0m\n\u001b[1;32m    346\u001b[0m                 \u001b[0mcloned_transformer\u001b[0m \u001b[0;34m=\u001b[0m \u001b[0mclone\u001b[0m\u001b[0;34m(\u001b[0m\u001b[0mtransformer\u001b[0m\u001b[0;34m)\u001b[0m\u001b[0;34m\u001b[0m\u001b[0;34m\u001b[0m\u001b[0m\n\u001b[1;32m    347\u001b[0m             \u001b[0;31m# Fit or load from cache the current transformer\u001b[0m\u001b[0;34m\u001b[0m\u001b[0;34m\u001b[0m\u001b[0m\n\u001b[0;32m--> 348\u001b[0;31m             X, fitted_transformer = fit_transform_one_cached(\n\u001b[0m\u001b[1;32m    349\u001b[0m                 \u001b[0mcloned_transformer\u001b[0m\u001b[0;34m,\u001b[0m\u001b[0;34m\u001b[0m\u001b[0;34m\u001b[0m\u001b[0m\n\u001b[1;32m    350\u001b[0m                 \u001b[0mX\u001b[0m\u001b[0;34m,\u001b[0m\u001b[0;34m\u001b[0m\u001b[0;34m\u001b[0m\u001b[0m\n",
      "\u001b[0;32m/shared-libs/python3.9/py/lib/python3.9/site-packages/joblib/memory.py\u001b[0m in \u001b[0;36m__call__\u001b[0;34m(self, *args, **kwargs)\u001b[0m\n\u001b[1;32m    347\u001b[0m \u001b[0;34m\u001b[0m\u001b[0m\n\u001b[1;32m    348\u001b[0m     \u001b[0;32mdef\u001b[0m \u001b[0m__call__\u001b[0m\u001b[0;34m(\u001b[0m\u001b[0mself\u001b[0m\u001b[0;34m,\u001b[0m \u001b[0;34m*\u001b[0m\u001b[0margs\u001b[0m\u001b[0;34m,\u001b[0m \u001b[0;34m**\u001b[0m\u001b[0mkwargs\u001b[0m\u001b[0;34m)\u001b[0m\u001b[0;34m:\u001b[0m\u001b[0;34m\u001b[0m\u001b[0;34m\u001b[0m\u001b[0m\n\u001b[0;32m--> 349\u001b[0;31m         \u001b[0;32mreturn\u001b[0m \u001b[0mself\u001b[0m\u001b[0;34m.\u001b[0m\u001b[0mfunc\u001b[0m\u001b[0;34m(\u001b[0m\u001b[0;34m*\u001b[0m\u001b[0margs\u001b[0m\u001b[0;34m,\u001b[0m \u001b[0;34m**\u001b[0m\u001b[0mkwargs\u001b[0m\u001b[0;34m)\u001b[0m\u001b[0;34m\u001b[0m\u001b[0;34m\u001b[0m\u001b[0m\n\u001b[0m\u001b[1;32m    350\u001b[0m \u001b[0;34m\u001b[0m\u001b[0m\n\u001b[1;32m    351\u001b[0m     \u001b[0;32mdef\u001b[0m \u001b[0mcall_and_shelve\u001b[0m\u001b[0;34m(\u001b[0m\u001b[0mself\u001b[0m\u001b[0;34m,\u001b[0m \u001b[0;34m*\u001b[0m\u001b[0margs\u001b[0m\u001b[0;34m,\u001b[0m \u001b[0;34m**\u001b[0m\u001b[0mkwargs\u001b[0m\u001b[0;34m)\u001b[0m\u001b[0;34m:\u001b[0m\u001b[0;34m\u001b[0m\u001b[0;34m\u001b[0m\u001b[0m\n",
      "\u001b[0;32m/shared-libs/python3.9/py/lib/python3.9/site-packages/sklearn/pipeline.py\u001b[0m in \u001b[0;36m_fit_transform_one\u001b[0;34m(transformer, X, y, weight, message_clsname, message, **fit_params)\u001b[0m\n\u001b[1;32m    891\u001b[0m     \u001b[0;32mwith\u001b[0m \u001b[0m_print_elapsed_time\u001b[0m\u001b[0;34m(\u001b[0m\u001b[0mmessage_clsname\u001b[0m\u001b[0;34m,\u001b[0m \u001b[0mmessage\u001b[0m\u001b[0;34m)\u001b[0m\u001b[0;34m:\u001b[0m\u001b[0;34m\u001b[0m\u001b[0;34m\u001b[0m\u001b[0m\n\u001b[1;32m    892\u001b[0m         \u001b[0;32mif\u001b[0m \u001b[0mhasattr\u001b[0m\u001b[0;34m(\u001b[0m\u001b[0mtransformer\u001b[0m\u001b[0;34m,\u001b[0m \u001b[0;34m\"fit_transform\"\u001b[0m\u001b[0;34m)\u001b[0m\u001b[0;34m:\u001b[0m\u001b[0;34m\u001b[0m\u001b[0;34m\u001b[0m\u001b[0m\n\u001b[0;32m--> 893\u001b[0;31m             \u001b[0mres\u001b[0m \u001b[0;34m=\u001b[0m \u001b[0mtransformer\u001b[0m\u001b[0;34m.\u001b[0m\u001b[0mfit_transform\u001b[0m\u001b[0;34m(\u001b[0m\u001b[0mX\u001b[0m\u001b[0;34m,\u001b[0m \u001b[0my\u001b[0m\u001b[0;34m,\u001b[0m \u001b[0;34m**\u001b[0m\u001b[0mfit_params\u001b[0m\u001b[0;34m)\u001b[0m\u001b[0;34m\u001b[0m\u001b[0;34m\u001b[0m\u001b[0m\n\u001b[0m\u001b[1;32m    894\u001b[0m         \u001b[0;32melse\u001b[0m\u001b[0;34m:\u001b[0m\u001b[0;34m\u001b[0m\u001b[0;34m\u001b[0m\u001b[0m\n\u001b[1;32m    895\u001b[0m             \u001b[0mres\u001b[0m \u001b[0;34m=\u001b[0m \u001b[0mtransformer\u001b[0m\u001b[0;34m.\u001b[0m\u001b[0mfit\u001b[0m\u001b[0;34m(\u001b[0m\u001b[0mX\u001b[0m\u001b[0;34m,\u001b[0m \u001b[0my\u001b[0m\u001b[0;34m,\u001b[0m \u001b[0;34m**\u001b[0m\u001b[0mfit_params\u001b[0m\u001b[0;34m)\u001b[0m\u001b[0;34m.\u001b[0m\u001b[0mtransform\u001b[0m\u001b[0;34m(\u001b[0m\u001b[0mX\u001b[0m\u001b[0;34m)\u001b[0m\u001b[0;34m\u001b[0m\u001b[0;34m\u001b[0m\u001b[0m\n",
      "\u001b[0;32m/shared-libs/python3.9/py/lib/python3.9/site-packages/sklearn/feature_extraction/text.py\u001b[0m in \u001b[0;36mfit_transform\u001b[0;34m(self, raw_documents, y)\u001b[0m\n\u001b[1;32m   1328\u001b[0m                     \u001b[0;32mbreak\u001b[0m\u001b[0;34m\u001b[0m\u001b[0;34m\u001b[0m\u001b[0m\n\u001b[1;32m   1329\u001b[0m \u001b[0;34m\u001b[0m\u001b[0m\n\u001b[0;32m-> 1330\u001b[0;31m         \u001b[0mvocabulary\u001b[0m\u001b[0;34m,\u001b[0m \u001b[0mX\u001b[0m \u001b[0;34m=\u001b[0m \u001b[0mself\u001b[0m\u001b[0;34m.\u001b[0m\u001b[0m_count_vocab\u001b[0m\u001b[0;34m(\u001b[0m\u001b[0mraw_documents\u001b[0m\u001b[0;34m,\u001b[0m \u001b[0mself\u001b[0m\u001b[0;34m.\u001b[0m\u001b[0mfixed_vocabulary_\u001b[0m\u001b[0;34m)\u001b[0m\u001b[0;34m\u001b[0m\u001b[0;34m\u001b[0m\u001b[0m\n\u001b[0m\u001b[1;32m   1331\u001b[0m \u001b[0;34m\u001b[0m\u001b[0m\n\u001b[1;32m   1332\u001b[0m         \u001b[0;32mif\u001b[0m \u001b[0mself\u001b[0m\u001b[0;34m.\u001b[0m\u001b[0mbinary\u001b[0m\u001b[0;34m:\u001b[0m\u001b[0;34m\u001b[0m\u001b[0;34m\u001b[0m\u001b[0m\n",
      "\u001b[0;32m/shared-libs/python3.9/py/lib/python3.9/site-packages/sklearn/feature_extraction/text.py\u001b[0m in \u001b[0;36m_count_vocab\u001b[0;34m(self, raw_documents, fixed_vocab)\u001b[0m\n\u001b[1;32m   1191\u001b[0m             \u001b[0mvocabulary\u001b[0m\u001b[0;34m.\u001b[0m\u001b[0mdefault_factory\u001b[0m \u001b[0;34m=\u001b[0m \u001b[0mvocabulary\u001b[0m\u001b[0;34m.\u001b[0m\u001b[0m__len__\u001b[0m\u001b[0;34m\u001b[0m\u001b[0;34m\u001b[0m\u001b[0m\n\u001b[1;32m   1192\u001b[0m \u001b[0;34m\u001b[0m\u001b[0m\n\u001b[0;32m-> 1193\u001b[0;31m         \u001b[0manalyze\u001b[0m \u001b[0;34m=\u001b[0m \u001b[0mself\u001b[0m\u001b[0;34m.\u001b[0m\u001b[0mbuild_analyzer\u001b[0m\u001b[0;34m(\u001b[0m\u001b[0;34m)\u001b[0m\u001b[0;34m\u001b[0m\u001b[0;34m\u001b[0m\u001b[0m\n\u001b[0m\u001b[1;32m   1194\u001b[0m         \u001b[0mj_indices\u001b[0m \u001b[0;34m=\u001b[0m \u001b[0;34m[\u001b[0m\u001b[0;34m]\u001b[0m\u001b[0;34m\u001b[0m\u001b[0;34m\u001b[0m\u001b[0m\n\u001b[1;32m   1195\u001b[0m         \u001b[0mindptr\u001b[0m \u001b[0;34m=\u001b[0m \u001b[0;34m[\u001b[0m\u001b[0;34m]\u001b[0m\u001b[0;34m\u001b[0m\u001b[0;34m\u001b[0m\u001b[0m\n",
      "\u001b[0;32m/shared-libs/python3.9/py/lib/python3.9/site-packages/sklearn/feature_extraction/text.py\u001b[0m in \u001b[0;36mbuild_analyzer\u001b[0;34m(self)\u001b[0m\n\u001b[1;32m    445\u001b[0m         \u001b[0;32melif\u001b[0m \u001b[0mself\u001b[0m\u001b[0;34m.\u001b[0m\u001b[0manalyzer\u001b[0m \u001b[0;34m==\u001b[0m \u001b[0;34m\"word\"\u001b[0m\u001b[0;34m:\u001b[0m\u001b[0;34m\u001b[0m\u001b[0;34m\u001b[0m\u001b[0m\n\u001b[1;32m    446\u001b[0m             \u001b[0mstop_words\u001b[0m \u001b[0;34m=\u001b[0m \u001b[0mself\u001b[0m\u001b[0;34m.\u001b[0m\u001b[0mget_stop_words\u001b[0m\u001b[0;34m(\u001b[0m\u001b[0;34m)\u001b[0m\u001b[0;34m\u001b[0m\u001b[0;34m\u001b[0m\u001b[0m\n\u001b[0;32m--> 447\u001b[0;31m             \u001b[0mtokenize\u001b[0m \u001b[0;34m=\u001b[0m \u001b[0mself\u001b[0m\u001b[0;34m.\u001b[0m\u001b[0mbuild_tokenizer\u001b[0m\u001b[0;34m(\u001b[0m\u001b[0;34m)\u001b[0m\u001b[0;34m\u001b[0m\u001b[0;34m\u001b[0m\u001b[0m\n\u001b[0m\u001b[1;32m    448\u001b[0m             \u001b[0mself\u001b[0m\u001b[0;34m.\u001b[0m\u001b[0m_check_stop_words_consistency\u001b[0m\u001b[0;34m(\u001b[0m\u001b[0mstop_words\u001b[0m\u001b[0;34m,\u001b[0m \u001b[0mpreprocess\u001b[0m\u001b[0;34m,\u001b[0m \u001b[0mtokenize\u001b[0m\u001b[0;34m)\u001b[0m\u001b[0;34m\u001b[0m\u001b[0;34m\u001b[0m\u001b[0m\n\u001b[1;32m    449\u001b[0m             return partial(\n",
      "\u001b[0;32m/shared-libs/python3.9/py/lib/python3.9/site-packages/sklearn/feature_extraction/text.py\u001b[0m in \u001b[0;36mbuild_tokenizer\u001b[0;34m(self)\u001b[0m\n\u001b[1;32m    348\u001b[0m         \u001b[0;32mif\u001b[0m \u001b[0mself\u001b[0m\u001b[0;34m.\u001b[0m\u001b[0mtokenizer\u001b[0m \u001b[0;32mis\u001b[0m \u001b[0;32mnot\u001b[0m \u001b[0;32mNone\u001b[0m\u001b[0;34m:\u001b[0m\u001b[0;34m\u001b[0m\u001b[0;34m\u001b[0m\u001b[0m\n\u001b[1;32m    349\u001b[0m             \u001b[0;32mreturn\u001b[0m \u001b[0mself\u001b[0m\u001b[0;34m.\u001b[0m\u001b[0mtokenizer\u001b[0m\u001b[0;34m\u001b[0m\u001b[0;34m\u001b[0m\u001b[0m\n\u001b[0;32m--> 350\u001b[0;31m         \u001b[0mtoken_pattern\u001b[0m \u001b[0;34m=\u001b[0m \u001b[0mre\u001b[0m\u001b[0;34m.\u001b[0m\u001b[0mcompile\u001b[0m\u001b[0;34m(\u001b[0m\u001b[0mself\u001b[0m\u001b[0;34m.\u001b[0m\u001b[0mtoken_pattern\u001b[0m\u001b[0;34m)\u001b[0m\u001b[0;34m\u001b[0m\u001b[0;34m\u001b[0m\u001b[0m\n\u001b[0m\u001b[1;32m    351\u001b[0m \u001b[0;34m\u001b[0m\u001b[0m\n\u001b[1;32m    352\u001b[0m         \u001b[0;32mif\u001b[0m \u001b[0mtoken_pattern\u001b[0m\u001b[0;34m.\u001b[0m\u001b[0mgroups\u001b[0m \u001b[0;34m>\u001b[0m \u001b[0;36m1\u001b[0m\u001b[0;34m:\u001b[0m\u001b[0;34m\u001b[0m\u001b[0;34m\u001b[0m\u001b[0m\n",
      "\u001b[0;32m/usr/local/lib/python3.9/re.py\u001b[0m in \u001b[0;36mcompile\u001b[0;34m(pattern, flags)\u001b[0m\n\u001b[1;32m    250\u001b[0m \u001b[0;32mdef\u001b[0m \u001b[0mcompile\u001b[0m\u001b[0;34m(\u001b[0m\u001b[0mpattern\u001b[0m\u001b[0;34m,\u001b[0m \u001b[0mflags\u001b[0m\u001b[0;34m=\u001b[0m\u001b[0;36m0\u001b[0m\u001b[0;34m)\u001b[0m\u001b[0;34m:\u001b[0m\u001b[0;34m\u001b[0m\u001b[0;34m\u001b[0m\u001b[0m\n\u001b[1;32m    251\u001b[0m     \u001b[0;34m\"Compile a regular expression pattern, returning a Pattern object.\"\u001b[0m\u001b[0;34m\u001b[0m\u001b[0;34m\u001b[0m\u001b[0m\n\u001b[0;32m--> 252\u001b[0;31m     \u001b[0;32mreturn\u001b[0m \u001b[0m_compile\u001b[0m\u001b[0;34m(\u001b[0m\u001b[0mpattern\u001b[0m\u001b[0;34m,\u001b[0m \u001b[0mflags\u001b[0m\u001b[0;34m)\u001b[0m\u001b[0;34m\u001b[0m\u001b[0;34m\u001b[0m\u001b[0m\n\u001b[0m\u001b[1;32m    253\u001b[0m \u001b[0;34m\u001b[0m\u001b[0m\n\u001b[1;32m    254\u001b[0m \u001b[0;32mdef\u001b[0m \u001b[0mpurge\u001b[0m\u001b[0;34m(\u001b[0m\u001b[0;34m)\u001b[0m\u001b[0;34m:\u001b[0m\u001b[0;34m\u001b[0m\u001b[0;34m\u001b[0m\u001b[0m\n",
      "\u001b[0;32m/usr/local/lib/python3.9/re.py\u001b[0m in \u001b[0;36m_compile\u001b[0;34m(pattern, flags)\u001b[0m\n\u001b[1;32m    302\u001b[0m     \u001b[0;32mif\u001b[0m \u001b[0;32mnot\u001b[0m \u001b[0msre_compile\u001b[0m\u001b[0;34m.\u001b[0m\u001b[0misstring\u001b[0m\u001b[0;34m(\u001b[0m\u001b[0mpattern\u001b[0m\u001b[0;34m)\u001b[0m\u001b[0;34m:\u001b[0m\u001b[0;34m\u001b[0m\u001b[0;34m\u001b[0m\u001b[0m\n\u001b[1;32m    303\u001b[0m         \u001b[0;32mraise\u001b[0m \u001b[0mTypeError\u001b[0m\u001b[0;34m(\u001b[0m\u001b[0;34m\"first argument must be string or compiled pattern\"\u001b[0m\u001b[0;34m)\u001b[0m\u001b[0;34m\u001b[0m\u001b[0;34m\u001b[0m\u001b[0m\n\u001b[0;32m--> 304\u001b[0;31m     \u001b[0mp\u001b[0m \u001b[0;34m=\u001b[0m \u001b[0msre_compile\u001b[0m\u001b[0;34m.\u001b[0m\u001b[0mcompile\u001b[0m\u001b[0;34m(\u001b[0m\u001b[0mpattern\u001b[0m\u001b[0;34m,\u001b[0m \u001b[0mflags\u001b[0m\u001b[0;34m)\u001b[0m\u001b[0;34m\u001b[0m\u001b[0;34m\u001b[0m\u001b[0m\n\u001b[0m\u001b[1;32m    305\u001b[0m     \u001b[0;32mif\u001b[0m \u001b[0;32mnot\u001b[0m \u001b[0;34m(\u001b[0m\u001b[0mflags\u001b[0m \u001b[0;34m&\u001b[0m \u001b[0mDEBUG\u001b[0m\u001b[0;34m)\u001b[0m\u001b[0;34m:\u001b[0m\u001b[0;34m\u001b[0m\u001b[0;34m\u001b[0m\u001b[0m\n\u001b[1;32m    306\u001b[0m         \u001b[0;32mif\u001b[0m \u001b[0mlen\u001b[0m\u001b[0;34m(\u001b[0m\u001b[0m_cache\u001b[0m\u001b[0;34m)\u001b[0m \u001b[0;34m>=\u001b[0m \u001b[0m_MAXCACHE\u001b[0m\u001b[0;34m:\u001b[0m\u001b[0;34m\u001b[0m\u001b[0;34m\u001b[0m\u001b[0m\n",
      "\u001b[0;32m/usr/local/lib/python3.9/sre_compile.py\u001b[0m in \u001b[0;36mcompile\u001b[0;34m(p, flags)\u001b[0m\n\u001b[1;32m    762\u001b[0m     \u001b[0;32mif\u001b[0m \u001b[0misstring\u001b[0m\u001b[0;34m(\u001b[0m\u001b[0mp\u001b[0m\u001b[0;34m)\u001b[0m\u001b[0;34m:\u001b[0m\u001b[0;34m\u001b[0m\u001b[0;34m\u001b[0m\u001b[0m\n\u001b[1;32m    763\u001b[0m         \u001b[0mpattern\u001b[0m \u001b[0;34m=\u001b[0m \u001b[0mp\u001b[0m\u001b[0;34m\u001b[0m\u001b[0;34m\u001b[0m\u001b[0m\n\u001b[0;32m--> 764\u001b[0;31m         \u001b[0mp\u001b[0m \u001b[0;34m=\u001b[0m \u001b[0msre_parse\u001b[0m\u001b[0;34m.\u001b[0m\u001b[0mparse\u001b[0m\u001b[0;34m(\u001b[0m\u001b[0mp\u001b[0m\u001b[0;34m,\u001b[0m \u001b[0mflags\u001b[0m\u001b[0;34m)\u001b[0m\u001b[0;34m\u001b[0m\u001b[0;34m\u001b[0m\u001b[0m\n\u001b[0m\u001b[1;32m    765\u001b[0m     \u001b[0;32melse\u001b[0m\u001b[0;34m:\u001b[0m\u001b[0;34m\u001b[0m\u001b[0;34m\u001b[0m\u001b[0m\n\u001b[1;32m    766\u001b[0m         \u001b[0mpattern\u001b[0m \u001b[0;34m=\u001b[0m \u001b[0;32mNone\u001b[0m\u001b[0;34m\u001b[0m\u001b[0;34m\u001b[0m\u001b[0m\n",
      "\u001b[0;32m/usr/local/lib/python3.9/sre_parse.py\u001b[0m in \u001b[0;36mparse\u001b[0;34m(str, flags, state)\u001b[0m\n\u001b[1;32m    946\u001b[0m \u001b[0;34m\u001b[0m\u001b[0m\n\u001b[1;32m    947\u001b[0m     \u001b[0;32mtry\u001b[0m\u001b[0;34m:\u001b[0m\u001b[0;34m\u001b[0m\u001b[0;34m\u001b[0m\u001b[0m\n\u001b[0;32m--> 948\u001b[0;31m         \u001b[0mp\u001b[0m \u001b[0;34m=\u001b[0m \u001b[0m_parse_sub\u001b[0m\u001b[0;34m(\u001b[0m\u001b[0msource\u001b[0m\u001b[0;34m,\u001b[0m \u001b[0mstate\u001b[0m\u001b[0;34m,\u001b[0m \u001b[0mflags\u001b[0m \u001b[0;34m&\u001b[0m \u001b[0mSRE_FLAG_VERBOSE\u001b[0m\u001b[0;34m,\u001b[0m \u001b[0;36m0\u001b[0m\u001b[0;34m)\u001b[0m\u001b[0;34m\u001b[0m\u001b[0;34m\u001b[0m\u001b[0m\n\u001b[0m\u001b[1;32m    949\u001b[0m     \u001b[0;32mexcept\u001b[0m \u001b[0mVerbose\u001b[0m\u001b[0;34m:\u001b[0m\u001b[0;34m\u001b[0m\u001b[0;34m\u001b[0m\u001b[0m\n\u001b[1;32m    950\u001b[0m         \u001b[0;31m# the VERBOSE flag was switched on inside the pattern.  to be\u001b[0m\u001b[0;34m\u001b[0m\u001b[0;34m\u001b[0m\u001b[0m\n",
      "\u001b[0;32m/usr/local/lib/python3.9/sre_parse.py\u001b[0m in \u001b[0;36m_parse_sub\u001b[0;34m(source, state, verbose, nested)\u001b[0m\n\u001b[1;32m    441\u001b[0m     \u001b[0mstart\u001b[0m \u001b[0;34m=\u001b[0m \u001b[0msource\u001b[0m\u001b[0;34m.\u001b[0m\u001b[0mtell\u001b[0m\u001b[0;34m(\u001b[0m\u001b[0;34m)\u001b[0m\u001b[0;34m\u001b[0m\u001b[0;34m\u001b[0m\u001b[0m\n\u001b[1;32m    442\u001b[0m     \u001b[0;32mwhile\u001b[0m \u001b[0;32mTrue\u001b[0m\u001b[0;34m:\u001b[0m\u001b[0;34m\u001b[0m\u001b[0;34m\u001b[0m\u001b[0m\n\u001b[0;32m--> 443\u001b[0;31m         itemsappend(_parse(source, state, verbose, nested + 1,\n\u001b[0m\u001b[1;32m    444\u001b[0m                            not nested and not items))\n\u001b[1;32m    445\u001b[0m         \u001b[0;32mif\u001b[0m \u001b[0;32mnot\u001b[0m \u001b[0msourcematch\u001b[0m\u001b[0;34m(\u001b[0m\u001b[0;34m\"|\"\u001b[0m\u001b[0;34m)\u001b[0m\u001b[0;34m:\u001b[0m\u001b[0;34m\u001b[0m\u001b[0;34m\u001b[0m\u001b[0m\n",
      "\u001b[0;32m/usr/local/lib/python3.9/sre_parse.py\u001b[0m in \u001b[0;36m_parse\u001b[0;34m(source, state, verbose, nested, first)\u001b[0m\n\u001b[1;32m    523\u001b[0m \u001b[0;34m\u001b[0m\u001b[0m\n\u001b[1;32m    524\u001b[0m         \u001b[0;32mif\u001b[0m \u001b[0mthis\u001b[0m\u001b[0;34m[\u001b[0m\u001b[0;36m0\u001b[0m\u001b[0;34m]\u001b[0m \u001b[0;34m==\u001b[0m \u001b[0;34m\"\\\\\"\u001b[0m\u001b[0;34m:\u001b[0m\u001b[0;34m\u001b[0m\u001b[0;34m\u001b[0m\u001b[0m\n\u001b[0;32m--> 525\u001b[0;31m             \u001b[0mcode\u001b[0m \u001b[0;34m=\u001b[0m \u001b[0m_escape\u001b[0m\u001b[0;34m(\u001b[0m\u001b[0msource\u001b[0m\u001b[0;34m,\u001b[0m \u001b[0mthis\u001b[0m\u001b[0;34m,\u001b[0m \u001b[0mstate\u001b[0m\u001b[0;34m)\u001b[0m\u001b[0;34m\u001b[0m\u001b[0;34m\u001b[0m\u001b[0m\n\u001b[0m\u001b[1;32m    526\u001b[0m             \u001b[0msubpatternappend\u001b[0m\u001b[0;34m(\u001b[0m\u001b[0mcode\u001b[0m\u001b[0;34m)\u001b[0m\u001b[0;34m\u001b[0m\u001b[0;34m\u001b[0m\u001b[0m\n\u001b[1;32m    527\u001b[0m \u001b[0;34m\u001b[0m\u001b[0m\n",
      "\u001b[0;32m/usr/local/lib/python3.9/sre_parse.py\u001b[0m in \u001b[0;36m_escape\u001b[0;34m(source, escape, state)\u001b[0m\n\u001b[1;32m    424\u001b[0m         \u001b[0;32mif\u001b[0m \u001b[0mlen\u001b[0m\u001b[0;34m(\u001b[0m\u001b[0mescape\u001b[0m\u001b[0;34m)\u001b[0m \u001b[0;34m==\u001b[0m \u001b[0;36m2\u001b[0m\u001b[0;34m:\u001b[0m\u001b[0;34m\u001b[0m\u001b[0;34m\u001b[0m\u001b[0m\n\u001b[1;32m    425\u001b[0m             \u001b[0;32mif\u001b[0m \u001b[0mc\u001b[0m \u001b[0;32min\u001b[0m \u001b[0mASCIILETTERS\u001b[0m\u001b[0;34m:\u001b[0m\u001b[0;34m\u001b[0m\u001b[0;34m\u001b[0m\u001b[0m\n\u001b[0;32m--> 426\u001b[0;31m                 \u001b[0;32mraise\u001b[0m \u001b[0msource\u001b[0m\u001b[0;34m.\u001b[0m\u001b[0merror\u001b[0m\u001b[0;34m(\u001b[0m\u001b[0;34m\"bad escape %s\"\u001b[0m \u001b[0;34m%\u001b[0m \u001b[0mescape\u001b[0m\u001b[0;34m,\u001b[0m \u001b[0mlen\u001b[0m\u001b[0;34m(\u001b[0m\u001b[0mescape\u001b[0m\u001b[0;34m)\u001b[0m\u001b[0;34m)\u001b[0m\u001b[0;34m\u001b[0m\u001b[0;34m\u001b[0m\u001b[0m\n\u001b[0m\u001b[1;32m    427\u001b[0m             \u001b[0;32mreturn\u001b[0m \u001b[0mLITERAL\u001b[0m\u001b[0;34m,\u001b[0m \u001b[0mord\u001b[0m\u001b[0;34m(\u001b[0m\u001b[0mescape\u001b[0m\u001b[0;34m[\u001b[0m\u001b[0;36m1\u001b[0m\u001b[0;34m]\u001b[0m\u001b[0;34m)\u001b[0m\u001b[0;34m\u001b[0m\u001b[0;34m\u001b[0m\u001b[0m\n\u001b[1;32m    428\u001b[0m     \u001b[0;32mexcept\u001b[0m \u001b[0mValueError\u001b[0m\u001b[0;34m:\u001b[0m\u001b[0;34m\u001b[0m\u001b[0;34m\u001b[0m\u001b[0m\n",
      "\u001b[0;31merror\u001b[0m: bad escape \\p at position 305"
     ]
    }
   ],
   "execution_count": 46
  },
  {
   "cell_type": "code",
   "source": "",
   "metadata": {
    "cell_id": "929bd657db8542da8297f47351a831c9",
    "tags": [],
    "owner_user_id": "5ba608db-9ea8-48c4-a2a6-9b0711414f22",
    "deepnote_cell_type": "code",
    "deepnote_cell_height": 66
   },
   "outputs": [],
   "execution_count": null
  },
  {
   "cell_type": "markdown",
   "source": "<a style='text-decoration:none;line-height:16px;display:flex;color:#5B5B62;padding:10px;justify-content:end;' href='https://deepnote.com?utm_source=created-in-deepnote-cell&projectId=e4cdc3a5-dd4a-4d72-a71a-972cea883107' target=\"_blank\">\n<img alt='Created in deepnote.com' style='display:inline;max-height:16px;margin:0px;margin-right:7.5px;' src='data:image/svg+xml;base64,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' > </img>\nCreated in <span style='font-weight:600;margin-left:4px;'>Deepnote</span></a>",
   "metadata": {
    "tags": [],
    "created_in_deepnote_cell": true,
    "deepnote_cell_type": "markdown"
   }
  }
 ],
 "nbformat": 4,
 "nbformat_minor": 2,
 "metadata": {
  "orig_nbformat": 2,
  "deepnote": {},
  "deepnote_notebook_id": "37eb55ff-8fb0-44be-a787-56031bc72caa",
  "deepnote_execution_queue": []
 }
}