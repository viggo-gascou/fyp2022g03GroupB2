{
 "cells": [
  {
   "cell_type": "code",
   "metadata": {
    "cell_id": "cc413fa6802e4bcb86c339f49ce8a924",
    "tags": [],
    "deepnote_to_be_reexecuted": false,
    "source_hash": "9da967f8",
    "execution_start": 1653902933462,
    "execution_millis": 2,
    "owner_user_id": "5ba608db-9ea8-48c4-a2a6-9b0711414f22",
    "deepnote_cell_type": "code",
    "deepnote_cell_height": 351
   },
   "source": "import json\nimport math\nimport numpy as np\nimport regex as re\nimport seaborn as sns\nfrom collections import Counter\nfrom nltk.util import bigrams\nfrom nltk.lm.preprocessing import pad_both_ends \nfrom nltk.util import everygrams\nfrom nltk.lm.preprocessing import flatten, padded_everygram_pipeline, padded_everygrams\nfrom nltk.util import ngrams\nfrom nltk.lm import NgramCounter, MLE\nfrom nltk.lm import KneserNeyInterpolated, Laplace, Lidstone, StupidBackoff\nfrom functions import preprocess, preprocess_tweet\nfrom tqdm import tqdm\nimport pandas as pd",
   "execution_count": 12,
   "outputs": []
  },
  {
   "cell_type": "code",
   "metadata": {
    "cell_id": "521c62aa9c0344a884a019d497e4153d",
    "tags": [],
    "deepnote_to_be_reexecuted": false,
    "source_hash": "7dc8cf6b",
    "execution_start": 1653902935636,
    "execution_millis": 2230,
    "deepnote_cell_type": "code",
    "deepnote_cell_height": 387
   },
   "source": "with open(\"tweeteval/datasets/irony/train_text.txt\", \"r\", encoding=\"utf8\") as f:\n    irony = preprocess(f.read())\nwith open(\"tweeteval/datasets/stance/feminist/train_text.txt\", \"r\", encoding=\"utf8\") as f:\n    stance_feminist = preprocess(f.read())\nwith open(\"pattern.txt\", \"r\") as f:\n    pat = re.compile(f.read())\n#with open('broad_tweet_g.json','r', encoding=\"utf8\") as f:\n    #broad_tweets = [preprocess_tweet(d[\"text\"]) for d in json.load(f)]\nwith open(\"tweeteval/datasets/offensive/train_text.txt\", \"r\", encoding=\"utf8\") as f:\n    offensive_train = preprocess(f.read())\nwith open(\"tweeteval/datasets/offensive/val_text.txt\", \"r\", encoding=\"utf8\") as f:\n    offensive_val = preprocess(f.read())\noffensive = np.concatenate((offensive_train, offensive_val))\n\n#broad_tweets = list(set([tweet for tweet in broad_tweets if \"we have changed our username to\" not in tweet]))\nirony_tokens = [re.findall(pat, tweet) for tweet in irony]\n#broad_tweets_tokens = [re.findall(pat, tweet) for tweet in broad_tweets]\noffensive_tokens = [re.findall(pat, tweet) for tweet in offensive]",
   "execution_count": 13,
   "outputs": []
  },
  {
   "cell_type": "code",
   "source": "",
   "metadata": {
    "cell_id": "b07e8b9e01cb46248a8c764c936d3f02",
    "tags": [],
    "deepnote_to_be_reexecuted": false,
    "source_hash": "60955ad2",
    "execution_start": 1653902668854,
    "execution_millis": 7,
    "deepnote_cell_type": "code",
    "deepnote_cell_height": 118.1875,
    "deepnote_output_heights": [
     21.1875
    ]
   },
   "outputs": [
    {
     "output_type": "execute_result",
     "execution_count": 8,
     "data": {
      "text/plain": "(1325,)"
     },
     "metadata": {}
    }
   ],
   "execution_count": 8
  },
  {
   "cell_type": "code",
   "metadata": {
    "cell_id": "37b24df049b14d1fa5f949262f61a5f4",
    "tags": [],
    "deepnote_to_be_reexecuted": false,
    "source_hash": "a53fe787",
    "execution_start": 1653904536174,
    "execution_millis": 37112,
    "owner_user_id": "9f7938c4-a781-4d9c-bc76-659de9a5470f",
    "deepnote_cell_type": "code",
    "deepnote_cell_height": 822.875,
    "deepnote_output_heights": [
     null,
     21.1875,
     250
    ]
   },
   "source": "_, vocab = padded_everygram_pipeline(2, irony_tokens + offensive_tokens)\ntrain, _ = padded_everygram_pipeline(2, irony_tokens)\nlm = Lidstone(0.2, 2)\nlm.fit(train, vocab)\nperplexities = []\n!rm perp_log.txt\n!touch perp_log.txt\ndef log(perp):\n    with open(\"perp_log.txt\", \"a\") as f:\n        f.write(str(perp) + \"\\n\")\nngrams_linewise = list(bigrams(tweet) for tweet in offensive)\nfor tweet in tqdm(ngrams_linewise):\n    try:\n        perplexity = lm.perplexity(tweet)\n        perplexities.append(perplexity)\n        log(perplexity)\n    except ZeroDivisionError:\n        perplexity = math.inf\n        perplexities.append(perplexity)\n        log(perplexity)\nsns.kdeplot(perplexities)\n# print(np.array(perplexities)[np.argsort(perplexities)][-100:])",
   "execution_count": 21,
   "outputs": [
    {
     "name": "stderr",
     "text": "100%|██████████| 13242/13242 [00:34<00:00, 379.36it/s]\n",
     "output_type": "stream"
    },
    {
     "output_type": "execute_result",
     "execution_count": 21,
     "data": {
      "text/plain": "<AxesSubplot:ylabel='Density'>"
     },
     "metadata": {}
    },
    {
     "data": {
      "text/plain": "<Figure size 432x288 with 1 Axes>",
      "image/png": "[encoded data removed]"
     },
     "metadata": {
      "needs_background": "light",
      "image/png": {
       "width": 404,
       "height": 248
      }
     },
     "output_type": "display_data"
    }
   ]
  },
  {
   "cell_type": "code",
   "metadata": {
    "cell_id": "ab0ba18654074878a48673b434ec7d72",
    "tags": [],
    "deepnote_to_be_reexecuted": false,
    "source_hash": "3230f1f9",
    "execution_start": 1653905581545,
    "execution_millis": 5925,
    "deepnote_cell_type": "code",
    "deepnote_cell_height": 845.25
   },
   "source": "with open(\"tweeteval/datasets/irony/train_text.txt\", \"r\", encoding=\"utf8\") as f:\n    irony = preprocess(f.read())\nwith open(\"tweeteval/datasets/stance/feminist/train_text.txt\", \"r\", encoding=\"utf8\") as f:\n    stance_feminist = preprocess(f.read())\nwith open(\"pattern.txt\", \"r\") as f:\n    pat = re.compile(f.read())\nwith open(\"tweeteval/datasets/offensive/train_text.txt\", \"r\", encoding=\"utf8\") as f:\n    offensive_train = preprocess(f.read())\nwith open(\"tweeteval/datasets/offensive/val_text.txt\", \"r\", encoding=\"utf8\") as f:\n    offensive_val = preprocess(f.read())\noffensive = np.concatenate((offensive_train, offensive_val))\n\nirony_tokens = [re.findall(pat, tweet) for tweet in irony]\noffensive_tokens = [re.findall(pat, tweet) for tweet in offensive]\n_, vocab = padded_everygram_pipeline(2, irony_tokens + offensive_tokens)\ntrain, _ = padded_everygram_pipeline(2, irony_tokens)\nlm = Lidstone(0.2, 2)\nlm.fit(train, vocab)\nperplexities = []\n!rm perp_log.txt\n!touch perp_log.txt\nngrams_linewise = list(bigrams(tweet) for tweet in offensive)\nfor tweet in tqdm(ngrams_linewise):\n    try:\n        perplexity = lm.perplexity(tweet)\n        perplexities.append(perplexity)\n    except ZeroDivisionError:\n        perplexity = math.inf\n        perplexities.append(perplexity)\ndf = pd.DataFrame(data = {\"index\": [i for i in range(len(perplexities))], \"perp\": perplexities})\ndf = df.sort_values(by=\"perp\")\nindex = df[\"index\"].tolist()\ntweets_for_aug = [offensive[i] for i in index]",
   "execution_count": 24,
   "outputs": [
    {
     "name": "stdout",
     "text": "rm: cannot remove 'tweets_for_aug/tweets_for_aug_100.txt': No such file or directory\nrm: cannot remove 'tweets_for_aug/tweets_for_aug_200.txt': No such file or directory\nrm: cannot remove 'tweets_for_aug/tweets_for_aug_300.txt': No such file or directory\nrm: cannot remove 'tweets_for_aug/tweets_for_aug_400.txt': No such file or directory\nrm: cannot remove 'tweets_for_aug/tweets_for_aug_500.txt': No such file or directory\nrm: cannot remove 'tweets_for_aug/tweets_for_aug_1000.txt': No such file or directory\nrm: cannot remove 'tweets_for_aug/tweets_for_aug_1500.txt': No such file or directory\nrm: cannot remove 'tweets_for_aug/tweets_for_aug_2000.txt': No such file or directory\nrm: cannot remove 'tweets_for_aug/tweets_for_aug_2500.txt': No such file or directory\n",
     "output_type": "stream"
    }
   ]
  },
  {
   "cell_type": "code",
   "source": "input_1 = 'STOP'",
   "metadata": {
    "cell_id": "4de271a9ed13472f86618e6bfa54752e",
    "deepnote_variable_name": "input_1",
    "deepnote_variable_value": "STOP",
    "deepnote_to_be_reexecuted": false,
    "source_hash": "43eaf4cc",
    "execution_start": 1653902926217,
    "execution_millis": 0,
    "owner_user_id": "4e27c3e4-38e5-4d6c-b6bc-9395d388eca5",
    "deepnote_cell_type": "input-text"
   },
   "outputs": [],
   "execution_count": 11
  },
  {
   "cell_type": "code",
   "metadata": {
    "cell_id": "6058c0aae46a412987107273ac47a6fe",
    "tags": [],
    "deepnote_to_be_reexecuted": false,
    "source_hash": "751fd6c0",
    "execution_start": 1653904499222,
    "execution_millis": 37332,
    "deepnote_cell_type": "code",
    "deepnote_cell_height": 822.875,
    "deepnote_output_heights": [
     null,
     21.1875,
     250
    ]
   },
   "source": "_, vocab = padded_everygram_pipeline(2, irony_tokens + offensive_tokens)\ntrain, _ = padded_everygram_pipeline(2, irony_tokens)\nlm = Laplace(2)\nlm.fit(train, vocab)\nperplexities = []\n!rm perp_log.txt\n!touch perp_log.txt\ndef log(perp):\n    with open(\"perp_log.txt\", \"a\") as f:\n        f.write(str(perp) + \"\\n\")\nngrams_linewise = list(bigrams(tweet) for tweet in offensive)\nfor tweet in tqdm(ngrams_linewise):\n    try:\n        perplexity = lm.perplexity(tweet)\n        perplexities.append(perplexity)\n        log(perplexity)\n    except ZeroDivisionError:\n        perplexity = math.inf\n        perplexities.append(perplexity)\n        log(perplexity)\nsns.kdeplot(perplexities)\n# print(np.array(perplexities)[np.argsort(perplexities)][-100:])",
   "execution_count": 20,
   "outputs": [
    {
     "name": "stderr",
     "text": "100%|██████████| 13242/13242 [00:34<00:00, 383.07it/s]\n",
     "output_type": "stream"
    },
    {
     "output_type": "execute_result",
     "execution_count": 20,
     "data": {
      "text/plain": "<AxesSubplot:ylabel='Density'>"
     },
     "metadata": {}
    },
    {
     "data": {
      "text/plain": "<Figure size 432x288 with 1 Axes>",
      "image/png": "[encoded data removed]"
     },
     "metadata": {
      "needs_background": "light",
      "image/png": {
       "width": 417,
       "height": 248
      }
     },
     "output_type": "display_data"
    }
   ]
  },
  {
   "cell_type": "code",
   "source": "type(o)",
   "metadata": {
    "cell_id": "6e13a4bab84f4b7094d35e6ad197159d",
    "tags": [],
    "deepnote_to_be_reexecuted": false,
    "source_hash": "614e120d",
    "execution_start": 1653904486441,
    "execution_millis": 4,
    "deepnote_cell_type": "code",
    "deepnote_cell_height": 118.1875,
    "deepnote_output_heights": [
     21.1875
    ]
   },
   "outputs": [
    {
     "output_type": "execute_result",
     "execution_count": 19,
     "data": {
      "text/plain": "list"
     },
     "metadata": {}
    }
   ],
   "execution_count": 19
  },
  {
   "cell_type": "code",
   "metadata": {
    "cell_id": "ba29ae53cf574f119f5906c457acb254",
    "tags": [],
    "deepnote_to_be_reexecuted": false,
    "source_hash": "8dc4afc6",
    "execution_start": 1652968307336,
    "execution_millis": 0,
    "deepnote_cell_type": "code",
    "deepnote_cell_height": 207
   },
   "source": "def train_model(dataset, n):\n    _, vocab = padded_everygram_pipeline(2, all_tokens)\n    grams = list(flatten(ngrams(sentence, n) for sentence in dataset))\n    print(f\"Length of {n}-gram list: {len(grams)}\")\n    train, _ = padded_everygram_pipeline(2, dataset)\n    lm = MLE(n)\n    lm.fit(train, vocab)\n    return lm",
   "execution_count": null,
   "outputs": []
  },
  {
   "cell_type": "code",
   "metadata": {
    "cell_id": "3fa5e98b019647f7a974f7a90dd8227d",
    "tags": [],
    "deepnote_to_be_reexecuted": false,
    "source_hash": "156456c8",
    "execution_start": 1652968471939,
    "execution_millis": 759,
    "deepnote_cell_type": "code",
    "deepnote_cell_height": 147.6875
   },
   "source": "all_tokens = irony_tokens + broad_tweets_tokens\nlm = train_model(irony_tokens,1)\ntest = list(flatten(everygrams(sent, 2, 2) for sent in broad_tweets_tokens))",
   "execution_count": null,
   "outputs": [
    {
     "name": "stdout",
     "text": "Length of 1-gram list: 40588\n",
     "output_type": "stream"
    }
   ]
  },
  {
   "cell_type": "code",
   "metadata": {
    "cell_id": "82a443d3b64147d79360697d1bfac5e8",
    "tags": [],
    "deepnote_to_be_reexecuted": false,
    "source_hash": "a1ab51a3",
    "execution_start": 1652968486032,
    "execution_millis": 343,
    "deepnote_cell_type": "code",
    "deepnote_cell_height": 188.1875
   },
   "source": "test_set = set()\nfor line in test:\n    perp = lm.perplexity(line)\n    test_set.add(perp)\nprint(test_set)",
   "execution_count": null,
   "outputs": [
    {
     "name": "stdout",
     "text": "{8455.740842764752, 1543.799999999999, 1544.6583820513138, 3211.2981109969096, 3859.5000000000055, 4376.261650737336, 668.485009181209, 5789.250000000001, 5277.970138151672, 6302.537108181123, 2989.5558449375044, inf, 57.89250000000002, 836.4234805094575, 5700.859313216823, 3143.999182115489, 15438.000000000022, 334.2425045906041, 12377.937157932018, 3040.663065732595, 17505.046602949344, 4456.566727874725, 1129.2739125473706, 46314.00000000001, 362.181991221494, 8187.235865968441, 5244.027855937287}\n",
     "output_type": "stream"
    }
   ]
  },
  {
   "cell_type": "code",
   "metadata": {
    "cell_id": "42ca1ea35db44a9ebefc328739b35dbf",
    "tags": [],
    "deepnote_to_be_reexecuted": false,
    "source_hash": "951a9862",
    "execution_start": 1652968816784,
    "execution_millis": 59,
    "deepnote_cell_type": "code",
    "deepnote_cell_height": 708,
    "deepnote_output_heights": [
     611
    ]
   },
   "source": "test",
   "execution_count": null,
   "outputs": [
    {
     "output_type": "execute_result",
     "execution_count": 181,
     "data": {
      "text/plain": "[('millions', 'of'),\n ('of', 'family-run'),\n ('family-run', '#farms'),\n ('#farms', 'hold'),\n ('hold', 'the'),\n ('the', 'key'),\n ('key', 'to'),\n ('to', 'global'),\n ('global', '#hunger'),\n ('#hunger', 'reveals'),\n ('reveals', '#un'),\n ('#un', 'report'),\n ('report', '@link'),\n ('cousin', 'of'),\n ('of', 'reeva'),\n ('reeva', 'steenkamp'),\n ('steenkamp', 'says'),\n ('says', '#pistorius'),\n ('#pistorius', 'should'),\n ('should', 'pay'),\n ('pay', 'for'),\n ('for', 'what'),\n ('what', 'he'),\n ('he', 'has'),\n ('has', 'done'),\n ('done', '@link'),\n ('icymi', '@user'),\n ('@user', 'has'),\n ('has', 'put'),\n ('put', 'together'),\n ('together', 'this'),\n ('this', '@user'),\n ('@user', 'magazine'),\n ('magazine', 'for'),\n ('for', 'their'),\n ('their', 'program'),\n ('program', 'fat'),\n ('fat', 'chance'),\n ('chance', '@link'),\n ('@link', '@link'),\n ('returning', 'to'),\n ('to', 'kobane'),\n ('kobane', 'woman'),\n ('woman', 'fleeing'),\n ('fleeing', 'islamic'),\n ('islamic', 'state'),\n ('state', 'detained'),\n ('detained', 'by'),\n ('by', 'turkish'),\n ('turkish', 'authorities'),\n ('authorities', 'then'),\n ('then', 'ejected'),\n ('ejected', 'into'),\n ('into', 'warzone'),\n ('warzone', '@link'),\n ('cfmeu', 'whistleblowers'),\n ('whistleblowers', 'claim'),\n ('claim', 'they'),\n ('they', 'were'),\n ('were', 'bullied'),\n ('bullied', 'after'),\n ('after', 'raising'),\n ('raising', 'corruption'),\n ('corruption', 'concerns'),\n ('concerns', 'with'),\n ('with', 'union'),\n ('union', 'chiefs'),\n ('chiefs', '@link'),\n ('exercising', 'three'),\n ('three', 'times'),\n ('times', 'a'),\n ('a', 'week'),\n ('week', 'cuts'),\n ('cuts', 'depression'),\n ('depression', 'risk'),\n ('risk', 'by'),\n ('by', 'per'),\n ('per', 'cent'),\n ('cent', 'scientists'),\n ('scientists', 'find'),\n ('find', '@link'),\n ('@link', '@link'),\n ('coles', 'taken'),\n ('taken', 'to'),\n ('to', 'court'),\n ('court', 'by'),\n ('by', 'accc'),\n ('accc', 'for'),\n ('for', 'allegedly'),\n ('allegedly', 'bullying'),\n ('bullying', 'suppliers'),\n ('suppliers', 'to'),\n ('to', 'boost'),\n ('boost', 'earnings'),\n ('earnings', '@link'),\n ('australia', 'unlikely'),\n ('unlikely', 'to'),\n ('to', 'send'),\n ('send', 'medics'),\n ('medics', 'to'),\n ('to', 'west'),\n ('west', 'africa'),\n ('africa', 'to'),\n ('to', 'fight'),\n ('fight', '#ebola'),\n ('#ebola', '@link'),\n ('category', 'three'),\n ('three', 'hurricane'),\n ('hurricane', 'gonzalo'),\n ('gonzalo', 'threatens'),\n ('threatens', 'to'),\n ('to', 'deluge'),\n ('deluge', 'bermuda'),\n ('bermuda', 'bahamas'),\n ('bahamas', 'and'),\n ('and', 'could'),\n ('could', 'wreak'),\n ('wreak', 'devastating'),\n ('devastating', 'damage'),\n ('damage', '@link'),\n ('tony', 'abbott'),\n ('abbott', 'very'),\n ('very', 'reluctant'),\n ('reluctant', 'to'),\n ('to', 'send'),\n ('send', 'australians'),\n ('australians', 'to'),\n ('to', '#ebola'),\n ('#ebola', 'hotspots'),\n ('hotspots', '@link'),\n ('ten', 'network'),\n ('network', 'declares'),\n ('declares', 'major'),\n ('major', 'full-year'),\n ('full-year', 'loss'),\n ('loss', 'of'),\n ('of', '$168'),\n ('$168', 'million'),\n ('million', 'as'),\n ('as', 'advertising'),\n ('advertising', 'revenue'),\n ('revenue', 'stalls'),\n ('stalls', '@link'),\n ('neil', 'patrick'),\n ('patrick', 'harris'),\n ('harris', 'to'),\n ('to', 'host'),\n ('host', '2015'),\n ('2015', 'academy'),\n ('academy', 'awards'),\n ('awards', 'ceremony'),\n ('ceremony', '@link'),\n ('japanese', 'cuisine'),\n ('cuisine', 'under'),\n ('under', 'attack'),\n ('attack', 'from'),\n ('from', 'western'),\n ('western', 'food'),\n ('food', 'chefs'),\n ('chefs', 'fight'),\n ('fight', 'back'),\n ('back', 'with'),\n ('with', 'school'),\n ('school', 'programs'),\n ('programs', '@link'),\n ('@link', '@link'),\n ('global', 'markets'),\n ('markets', 'slump'),\n ('slump', 'as'),\n ('as', 'wall'),\n ('wall', \"street's\"),\n (\"street's\", 'volatility'),\n ('volatility', 'index'),\n ('index', 'jumps'),\n ('jumps', 'to'),\n ('to', 'highest'),\n ('highest', 'level'),\n ('level', 'since'),\n ('since', '2011'),\n ('2011', '@link'),\n ('baby', \"ferouz's\"),\n (\"ferouz's\", 'family'),\n ('family', 'to'),\n ('to', 'fight'),\n ('fight', 'visa'),\n ('visa', 'refusal'),\n ('refusal', '@link'),\n ('u2', 'frontman'),\n ('frontman', 'bono'),\n ('bono', 'says'),\n ('says', 'oops'),\n ('oops', 'sorry'),\n ('sorry', 'for'),\n ('for', 'u2'),\n ('u2', 'album'),\n ('album', 'download'),\n ('download', 'debacle'),\n ('debacle', 'after'),\n ('after', 'complaints'),\n ('complaints', 'by'),\n ('by', 'apple'),\n ('apple', 'itunes'),\n ('itunes', 'users'),\n ('users', '@link'),\n ('pentagon', 'says'),\n ('says', 'is'),\n ('is', 'fighters'),\n ('fighters', 'still'),\n ('still', 'threaten'),\n ('threaten', 'kobane'),\n ('kobane', 'despite'),\n ('despite', 'hundreds'),\n ('hundreds', 'killed'),\n ('killed', 'in'),\n ('in', 'us-led'),\n ('us-led', 'air'),\n ('air', 'strikes'),\n ('strikes', '@link'),\n ('us', 'astronauts'),\n ('astronauts', 'race'),\n ('race', 'the'),\n ('the', 'clock'),\n ('clock', 'on'),\n ('on', 'spacewalk'),\n ('spacewalk', 'to'),\n ('to', 'make'),\n ('make', 'repairs'),\n ('repairs', 'to'),\n ('to', 'international'),\n ('international', 'space'),\n ('space', 'station'),\n ('station', '@link'),\n ('salmonella', 'food'),\n ('food', 'poisoning'),\n ('poisoning', 'cases'),\n ('cases', 'increasing'),\n ('increasing', 'despite'),\n ('despite', 'education'),\n ('education', 'campaigns'),\n ('campaigns', 'anu'),\n ('anu', 'study'),\n ('study', '@link'),\n ('@link', '@link'),\n ('sacked', 'liberal'),\n ('liberal', 'adviser'),\n ('adviser', 'don'),\n ('don', 'coulson'),\n ('coulson', 'makes'),\n ('makes', 'mp'),\n ('mp', 'porn'),\n ('porn', 'ring'),\n ('ring', 'allegations'),\n ('allegations', '@link'),\n (\"china's\", 'influence'),\n ('influence', 'over'),\n ('over', 'australian'),\n ('australian', 'chinese-language'),\n ('chinese-language', 'media'),\n ('media', 'outlets'),\n ('outlets', 'growing'),\n ('growing', 'analysts'),\n ('analysts', 'say'),\n ('say', '@link'),\n ('good', 'morning'),\n ('morning', 'twitter'),\n ('twitter', 'hope'),\n ('hope', 'you'),\n ('you', 'have'),\n ('have', 'a'),\n ('a', 'fantastic'),\n ('fantastic', 'thursday'),\n ('south', 'australian'),\n ('australian', 'jockey'),\n ('jockey', 'caitlin'),\n ('caitlin', 'forrest'),\n ('forrest', 'killed'),\n ('killed', 'after'),\n ('after', 'fall'),\n ('fall', 'at'),\n ('at', 'murray'),\n ('murray', 'bridge'),\n ('bridge', 'race'),\n ('race', '@link'),\n ('cousin', 'tells'),\n ('tells', 'oscar'),\n ('oscar', 'pistorius'),\n ('pistorius', 'sentencing'),\n ('sentencing', 'hearing'),\n ('hearing', 'steenkamp'),\n ('steenkamp', 'family'),\n ('family', \"'ruined'\"),\n (\"'ruined'\", 'by'),\n ('by', \"reeva's\"),\n (\"reeva's\", 'death'),\n ('death', '@link'),\n ('philippines', 'police'),\n ('police', 'file'),\n ('file', 'charges'),\n ('charges', 'against'),\n ('against', 'us'),\n ('us', 'marine'),\n ('marine', 'over'),\n ('over', 'death'),\n ('death', 'of'),\n ('of', 'transgender'),\n ('transgender', 'woman'),\n ('woman', '@link'),\n ('liberal', 'senators'),\n ('senators', 'are'),\n ('are', 'urging'),\n ('urging', 'the'),\n ('the', 'government'),\n ('government', 'against'),\n ('against', 'buying'),\n ('buying', \"australia's\"),\n (\"australia's\", 'next'),\n ('next', 'generation'),\n ('generation', 'of'),\n ('of', 'submarines'),\n ('submarines', 'from'),\n ('from', 'overseas'),\n ('overseas', '@link'),\n ('the', 'federal'),\n ('federal', 'government'),\n ('government', 'is'),\n ('is', 'resisting'),\n ('resisting', 'internal'),\n ('internal', 'pressure'),\n ('pressure', 'to'),\n ('to', 'create'),\n ('create', 'a'),\n ('a', 'national'),\n ('national', 'sex'),\n ('sex', 'offenders'),\n ('offenders', 'register'),\n ('register', '@link'),\n ('nicola', 'sturgeon'),\n ('sturgeon', 'to'),\n ('to', 'replace'),\n ('replace', 'alexander'),\n ('alexander', 'salmond'),\n ('salmond', 'as'),\n ('as', 'leader'),\n ('leader', 'of'),\n ('of', 'scottish'),\n ('scottish', 'nationalist'),\n ('nationalist', 'party'),\n ('party', 'and'),\n ('and', \"country's\"),\n (\"country's\", 'first'),\n ('first', 'minister'),\n ('minister', '@link'),\n ('adf', 'personnel'),\n ('personnel', 'among'),\n ('among', 'best'),\n ('best', 'paid'),\n ('paid', 'in'),\n ('in', 'the'),\n ('the', 'world'),\n ('world', 'vice'),\n ('vice', 'chief'),\n ('chief', 'says'),\n ('says', 'as'),\n ('as', 'tribunal'),\n ('tribunal', 'defers'),\n ('defers', 'pay'),\n ('pay', 'deal'),\n ('deal', 'decision'),\n ('decision', '@link'),\n ('concern', 'post-traumatic'),\n ('post-traumatic', 'stress'),\n ('stress', 'leading'),\n ('leading', 'to'),\n ('to', 'an'),\n ('an', 'increase'),\n ('increase', 'in'),\n ('in', 'number'),\n ('number', 'of'),\n ('of', 'veterans'),\n ('veterans', 'in'),\n ('in', 'prison'),\n ('prison', '@user'),\n ('@user', '@link'),\n ('#ebola', 'crisis'),\n ('crisis', 'second'),\n ('second', 'texas'),\n ('texas', 'healthcare'),\n ('healthcare', 'worker'),\n ('worker', 'tests'),\n ('tests', 'positive'),\n ('positive', 'for'),\n ('for', 'virus'),\n ('virus', 'after'),\n ('after', 'treating'),\n ('treating', 'thomas'),\n ('thomas', 'duncan'),\n ('duncan', '@link'),\n ('#breaking', 'a'),\n ('a', 'second'),\n ('second', 'health'),\n ('health', 'care'),\n ('care', 'worker'),\n ('worker', 'at'),\n ('at', 'texas'),\n ('texas', 'health'),\n ('health', 'presbyterian'),\n ('presbyterian', 'hospital'),\n ('hospital', 'has'),\n ('has', 'tested'),\n ('tested', 'positive'),\n ('positive', 'for'),\n ('for', '#ebola'),\n ('workcover', 'finds'),\n ('finds', 'loose-fill'),\n ('loose-fill', '#asbestos'),\n ('#asbestos', 'in'),\n ('in', '#sydney'),\n ('#sydney', 'homes'),\n ('homes', 'for'),\n ('for', 'first'),\n ('first', 'time'),\n ('time', 'more'),\n ('more', 'positive'),\n ('positive', 'tests'),\n ('tests', 'in'),\n ('in', 'city'),\n ('city', 'likely'),\n ('likely', '@link'),\n ('man', '#bookerprize'),\n ('#bookerprize', 'winner'),\n ('winner', 'richard'),\n ('richard', 'flanagan'),\n ('flanagan', 'ashamed'),\n ('ashamed', 'to'),\n ('to', 'be'),\n ('be', 'australian'),\n ('australian', '@link'),\n ('heavy', 'snowfall'),\n ('snowfall', 'on'),\n ('on', \"nepal's\"),\n (\"nepal's\", 'annapurna'),\n ('annapurna', 'trekking'),\n ('trekking', 'route'),\n ('route', 'kills'),\n ('kills', 'four'),\n ('four', 'leaves'),\n ('leaves', 'more'),\n ('more', 'than'),\n ('than', 'missing'),\n ('missing', '@link'),\n ('hong', 'kong'),\n ('kong', 'tension'),\n ('tension', 'rises'),\n ('rises', 'as'),\n ('as', 'police'),\n ('police', 'officers'),\n ('officers', 'suspended'),\n ('suspended', 'over'),\n ('over', 'beating'),\n ('beating', 'of'),\n ('of', 'protester'),\n ('protester', 'caught'),\n ('caught', 'on'),\n ('on', 'film'),\n ('film', '@link'),\n ('university', 'of'),\n ('of', 'nsw'),\n ('nsw', 'students'),\n ('students', 'drive'),\n ('drive', '#sunswift'),\n ('#sunswift', 'solar'),\n ('solar', 'car'),\n ('car', 'into'),\n ('into', 'the'),\n ('the', 'record'),\n ('record', 'books'),\n ('books', '@link'),\n ('@link', '@link'),\n ('rise', 'in'),\n ('in', 'local'),\n ('local', 'share'),\n ('share', 'market'),\n ('market', 'marks'),\n ('marks', 'two'),\n ('two', 'straight'),\n ('straight', 'sessions'),\n ('sessions', 'of'),\n ('of', 'gains'),\n ('gains', 'despite'),\n ('despite', 'lacklustre'),\n ('lacklustre', 'consumer'),\n ('consumer', 'sentiment'),\n ('sentiment', 'reading'),\n ('reading', '@link'),\n ('north', 'and'),\n ('and', 'south'),\n ('south', 'korea'),\n ('korea', 'hold'),\n ('hold', 'high-level'),\n ('high-level', 'military'),\n ('military', 'talks'),\n ('talks', 'amid'),\n ('amid', 'heightened'),\n ('heightened', 'tensions'),\n ('tensions', 'on'),\n ('on', 'korean'),\n ('korean', 'peninsula'),\n ('peninsula', '@link'),\n ('riverina', 'farmers'),\n ('farmers', \"'confused'\"),\n (\"'confused'\", 'by'),\n ('by', 'nsw'),\n ('nsw', 'government'),\n ('government', 'water'),\n ('water', 'allocation'),\n ('allocation', 'as'),\n ('as', 'dam'),\n ('dam', 'levels'),\n ('levels', 'strong'),\n ('strong', '@link'),\n (\"moranbah's\", 'housing'),\n ('housing', 'market'),\n ('market', 'collapses'),\n ('collapses', 'businesses'),\n ('businesses', 'struggle'),\n ('struggle', 'as'),\n ('as', 'coal'),\n ('coal', 'prices'),\n ('prices', 'remain'),\n ('remain', 'depressed'),\n ('depressed', '@link'),\n ('back', 'story'),\n ('story', 'kumi'),\n ('kumi', 'taguchi'),\n ('taguchi', '@user'),\n ('@user', 'reflects'),\n ('reflects', 'after'),\n ('after', 'reporting'),\n ('reporting', 'on'),\n ('on', 'ptsd'),\n ('ptsd', 'experienced'),\n ('experienced', 'by'),\n ('by', 'returned'),\n ('returned', 'soldiers'),\n ('soldiers', '@link'),\n ('#doping', 'in'),\n ('in', '#sport'),\n ('#sport', 'olympic'),\n ('olympic', 'athletes'),\n ('athletes', 'teams'),\n ('teams', 'divided'),\n ('divided', 'on'),\n ('on', 'merit'),\n ('merit', 'of'),\n ('of', 'proposed'),\n ('proposed', 'expansion'),\n ('expansion', 'to'),\n ('to', \"asada's\"),\n (\"asada's\", 'powers'),\n ('powers', '@link'),\n ('catholic', 'church'),\n ('church', 'offered'),\n ('offered', 'mou'),\n ('mou', 'on'),\n ('on', 'child'),\n ('child', 'abuse'),\n ('abuse', 'despite'),\n ('despite', 'mandatory'),\n ('mandatory', 'reporting'),\n ('reporting', 'laws'),\n ('laws', 'police'),\n ('police', 'integrity'),\n ('integrity', 'commission'),\n ('commission', 'hears'),\n ('hears', '@link'),\n ('#geelong', 'to'),\n ('to', 'trial'),\n ('trial', 'program'),\n ('program', 'allowing'),\n ('allowing', 'corporations'),\n ('corporations', 'to'),\n ('to', 'partner'),\n ('partner', 'with'),\n ('with', 'schools'),\n ('schools', 'christopher'),\n ('christopher', 'pyne'),\n ('pyne', 'says'),\n ('says', '@link'),\n ('back', 'story'),\n ('story', 'anna'),\n ('anna', 'henderson'),\n ('henderson', '@user'),\n ('@user', 'goes'),\n ('goes', 'on'),\n ('on', 'the'),\n ('the', 'road'),\n ('road', 'with'),\n ('with', 'the'),\n ('the', 'prime'),\n ('prime', 'minister'),\n ('minister', 'in'),\n ('in', 'arnhem'),\n ('arnhem', 'land'),\n ('land', '@link'),\n ('#afghanistan', 'soldier'),\n ('soldier', 'deaths'),\n ('deaths', 'report'),\n ('report', 'into'),\n ('into', 'murders'),\n ('murders', 'did'),\n ('did', 'not'),\n ('not', 'give'),\n ('give', 'families'),\n ('families', 'adequate'),\n ('adequate', 'answers'),\n ('answers', 'sergeant'),\n ('sergeant', 'says'),\n ('says', '@link'),\n ('australian', 'special'),\n ('special', 'forces'),\n ('forces', 'troops'),\n ('troops', 'could'),\n ('could', 'move'),\n ('move', 'into'),\n ('into', '#iraq'),\n ('#iraq', 'in'),\n ('in', 'the'),\n ('the', 'next'),\n ('next', 'few'),\n ('few', 'days'),\n ('days', 'tony'),\n ('tony', 'abbott'),\n ('abbott', 'says'),\n ('says', '@link'),\n ('composer', '@user'),\n ('@user', 'says'),\n ('says', 'roald'),\n ('roald', \"dahl's\"),\n (\"dahl's\", 'matilda'),\n ('matilda', 'has'),\n ('has', 'been'),\n ('been', 'the'),\n ('the', 'most'),\n ('most', 'incredible'),\n ('incredible', 'thing'),\n ('thing', 'in'),\n ('in', 'my'),\n ('my', 'life'),\n ('life', '@link'),\n ('@link', 'via'),\n ('via', '@user'),\n ('mp', 'bruce'),\n ('bruce', 'flegg'),\n ('flegg', 'sues'),\n ('sues', 'former'),\n ('former', 'media'),\n ('media', 'adviser'),\n ('adviser', 'for'),\n ('for', 'claiming'),\n ('claiming', 'he'),\n ('he', 'was'),\n ('was', 'unfit'),\n ('unfit', 'for'),\n ('for', 'ministry'),\n ('ministry', '@link'),\n ('islamic', 'state'),\n ('state', 'fighter'),\n ('fighter', 'and'),\n ('and', 'former'),\n ('former', 'brisbane'),\n ('brisbane', 'council'),\n ('council', 'worker'),\n ('worker', 'zia'),\n ('zia', 'abdul'),\n ('abdul', 'haq'),\n ('haq', 'killed'),\n ('killed', 'after'),\n ('after', 'travelling'),\n ('travelling', 'to'),\n ('to', 'syria'),\n ('syria', '@link'),\n ('#facebook', 'and'),\n ('and', '#apple'),\n ('#apple', 'offer'),\n ('offer', '$20,000'),\n ('$20,000', 'to'),\n ('to', 'freeze'),\n ('freeze', 'eggs'),\n ('eggs', 'for'),\n ('for', 'female'),\n ('female', 'staff'),\n ('staff', '@link'),\n ('tasmanian', 'government'),\n ('government', 'names'),\n ('names', 'macquarie'),\n ('macquarie', 'point'),\n ('point', 'as'),\n ('as', 'a'),\n ('a', 'preferred'),\n ('preferred', 'southern'),\n ('southern', 'woodchip'),\n ('woodchip', 'port'),\n ('port', '@link'),\n ('us', 'pop'),\n ('pop', 'star'),\n ('star', 'kesha'),\n ('kesha', 'sues'),\n ('sues', 'music'),\n ('music', 'producer'),\n ('producer', 'dr'),\n ('dr', 'luke'),\n ('luke', 'for'),\n ('for', 'years'),\n ('years', 'of'),\n ('of', 'sexual'),\n ('sexual', 'and'),\n ('and', 'emotional'),\n ('emotional', 'abuse'),\n ('abuse', '@link'),\n (\"png's\", 'national'),\n ('national', 'broadcaster'),\n ('broadcaster', 'increases'),\n ('increases', 'security'),\n ('security', 'after'),\n ('after', 'three'),\n ('three', 'female'),\n ('female', 'staff'),\n ('staff', 'members'),\n ('members', 'kidnapped'),\n ('kidnapped', 'and'),\n ('and', 'assaulted'),\n ('assaulted', '@link'),\n ('christian', 'brothers'),\n ('brothers', 'member'),\n ('member', 'peter'),\n ('peter', 'standen'),\n ('standen', 'faces'),\n ('faces', 'more'),\n ('more', 'indecent'),\n ('indecent', 'assault'),\n ('assault', 'charges'),\n ('charges', 'in'),\n ('in', 'goulburn'),\n ('goulburn', 'court'),\n ('court', '@link'),\n ('at', 'a'),\n ('a', 'full'),\n ('full', 'wrap'),\n ('wrap', 'from'),\n ('from', 'day'),\n ('day', '1'),\n ('1', 'of'),\n ('of', 'the'),\n ('the', 'luke'),\n ('luke', 'batty'),\n ('batty', 'inquest'),\n ('inquest', 'rosie'),\n ('rosie', \"batty's\"),\n (\"batty's\", 'testimony'),\n ('testimony', 'her'),\n ('her', 'torment'),\n ('torment', 'amp'),\n ('amp', 'her'),\n ('her', 'wish'),\n ('wish', 'for'),\n ('for', 'all'),\n ('all', 'parents'),\n ('parents', '@user'),\n ('#adelaide', 'to'),\n ('to', 'hit'),\n ('hit', 'and'),\n ('and', 'severe'),\n ('severe', 'fire'),\n ('fire', 'danger'),\n ('danger', 'ratings'),\n ('ratings', 'for'),\n ('for', 'parts'),\n ('parts', 'of'),\n ('of', 'sa'),\n ('sa', 'tomorrow'),\n ('tomorrow', 'more'),\n ('more', 'details'),\n ('details', 'on'),\n ('on', '#pmagenda'),\n ('#pmagenda', 'tonight'),\n ('tonight', '@user'),\n ('about', 'to'),\n ('to', 'chat'),\n ('chat', 'with'),\n ('with', '@user'),\n ('@user', 'and'),\n ('and', '@user'),\n ('@user', 'on'),\n ('on', '#fairwarning'),\n ('#fairwarning', '@user'),\n ('aaron', 'connelly'),\n ('connelly', 'from'),\n ('from', 'lowy'),\n ('lowy', 'institute'),\n ('institute', 'discusses'),\n ('discusses', 'the'),\n ('the', 'new'),\n ('new', 'indonesian'),\n ('indonesian', 'president'),\n ('president', '\"jokowi\"'),\n ('\"jokowi\"', 'next'),\n ('next', 'on'),\n ('on', '#pmagenda'),\n ('#pmagenda', '@user'),\n ('@user', 'plays'),\n ('plays', 'down'),\n ('down', 'fears'),\n ('fears', 'privatised'),\n ('privatised', 'medibank'),\n ('medibank', 'private'),\n ('private', 'will'),\n ('will', 'increase'),\n ('increase', 'premiums'),\n ('premiums', 'govt'),\n ('govt', 'will'),\n ('will', 'still'),\n ('still', 'regulate'),\n ('regulate', '#pmagenda'),\n ('#pmagenda', '@user'),\n ('up', 'next'),\n ('next', 'on'),\n ('on', '#pmagenda'),\n ('#pmagenda', 'committee'),\n ('committee', 'chair'),\n ('chair', '@user'),\n ('@user', 'discusses'),\n ('discusses', 'how'),\n ('how', 'to'),\n ('to', 'improve'),\n ('improve', 'foreign'),\n ('foreign', 'fighters'),\n ('fighters', 'bill'),\n ('bill', '@user'),\n ('thanks', 'for'),\n ('for', 'all'),\n ('all', 'you'),\n ('you', 'are'),\n ('are', 'support'),\n ('support', 'guys'),\n ('guys', 'please'),\n ('please', 'follow'),\n ('follow', \"paul's\"),\n (\"paul's\", 'personal'),\n ('personal', 'account'),\n ('account', '@user'),\n ('@user', 'amp'),\n ('amp', 'our'),\n ('our', 'super-producer'),\n ('super-producer', '@user'),\n ('@user', 'see'),\n ('see', 'you'),\n ('you', 'tonight'),\n ('tonight', 'on'),\n ('on', '@user'),\n ('should', 'we'),\n ('we', 'reserve'),\n ('reserve', 'some'),\n ('some', 'gas'),\n ('gas', 'for'),\n ('for', 'domestic'),\n ('domestic', 'use'),\n ('use', 'in'),\n ('in', 'australia'),\n ('australia', 'next'),\n ('next', 'on'),\n ('on', '#pmagenda'),\n ('#pmagenda', '@user'),\n ('join', 'me'),\n ('me', 'amp'),\n ('amp', '@user'),\n ('@user', 'for'),\n ('for', 'qt'),\n ('qt', 'analysis'),\n ('analysis', 'once'),\n ('once', 'it'),\n ('it', 'finishes'),\n ('finishes', 'not'),\n ('not', 'sure'),\n ('sure', 'we'),\n ('we', 'chose'),\n ('chose', 'the'),\n ('the', 'most'),\n ('most', 'exciting'),\n ('exciting', 'day'),\n ('day', 'to'),\n ('to', 'start'),\n ('start', 'this'),\n ('this', '#pmagenda'),\n ('#pmagenda', '@user'),\n ('from', 'today'),\n ('today', '#pmagenda'),\n ('#pmagenda', 'will'),\n ('will', 'begin'),\n ('begin', 'straight'),\n ('straight', 'after'),\n ('after', 'qt'),\n ('qt', 'on'),\n ('on', 'sitting'),\n ('sitting', 'days'),\n ('days', '@user'),\n ('a', 'comet'),\n ('comet', 'the'),\n ('the', 'size'),\n ('size', 'of'),\n ('of', 'a'),\n ('a', 'small'),\n ('small', 'mountain'),\n ('mountain', 'has'),\n ('has', 'whizzed'),\n ('whizzed', 'past'),\n ('past', 'mars'),\n ('mars', 'in'),\n ('in', 'a'),\n ('a', 'once-in'),\n ('once-in', 'a-million'),\n ('a-million', 'years'),\n ('years', 'encounter'),\n ('encounter', '@link'),\n ('2', 'men'),\n ('men', 'accused'),\n ('accused', 'of'),\n ('of', 'killing'),\n ('killing', 'a'),\n ('a', 'brisbane'),\n ('brisbane', 'mother'),\n ('mother', 'amp'),\n ('amp', 'her'),\n ('her', '2'),\n ('2', 'daughters'),\n ('daughters', 'years'),\n ('years', 'ago'),\n ('ago', 'will'),\n ('will', 'remain'),\n ('remain', 'behind'),\n ('behind', 'bars'),\n ('bars', 'until'),\n ('until', 'nov'),\n ('nov', '#mcculkin'),\n ('#mcculkin', '@user'),\n ('pm', 'abbott'),\n ('abbott', 'arrived'),\n ('arrived', 'at'),\n ('at', 'inauguration'),\n ('inauguration', 'of'),\n ('of', 'indonesian'),\n ('indonesian', 'president-elect'),\n ('president-elect', 'joko'),\n ('joko', 'widodo'),\n ('widodo', '@user'),\n ('#showbiz', 'interviews'),\n ('interviews', 'fashion'),\n ('fashion', 'legend'),\n ('legend', 'amp'),\n ('amp', '@user'),\n ('@user', 'guest'),\n ('guest', 'judge'),\n ('judge', '@user'),\n ('@user', '@link'),\n ('@link', '@user'),\n ('coming', 'up'),\n ('up', 'on'),\n ('on', '#lunchtimeagenda'),\n ('#lunchtimeagenda', '@user'),\n ('@user', 'on'),\n ('on', 'the'),\n ('the', \"govt's\"),\n (\"govt's\", 'terror'),\n ('terror', 'laws'),\n ('laws', 'and'),\n ('and', 'pol'),\n ('pol', 'panel'),\n ('panel', 'alannah'),\n ('alannah', 'mactiernan'),\n ('mactiernan', 'amp'),\n ('amp', '@user'),\n ('@user', '@user'),\n ('#showbiz', 'interviews'),\n ('interviews', 'fashion'),\n ('fashion', 'legend'),\n ('legend', 'amp'),\n ('amp', '#antm'),\n ('#antm', 'guest'),\n ('guest', 'judge'),\n ('judge', 'jean'),\n ('jean', 'paul'),\n ('paul', 'gautlier'),\n ('gautlier', '@link'),\n ('@link', '@user'),\n ('agenda', 'australia'),\n ('australia', 'ready'),\n ('ready', 'to'),\n ('to', 'help'),\n ('help', 'neighbours'),\n ('neighbours', '@link'),\n ('@link', 'via'),\n ...]"
     },
     "metadata": {}
    }
   ]
  },
  {
   "cell_type": "markdown",
   "source": "# ",
   "metadata": {
    "cell_id": "8490067002724bdb8e48917ec90d9007",
    "tags": [],
    "is_collapsed": false,
    "deepnote_cell_type": "text-cell-h1"
   }
  },
  {
   "cell_type": "markdown",
   "source": "",
   "metadata": {
    "cell_id": "132dbc3642994081a4c97ba440a9d39f",
    "tags": [],
    "is_collapsed": false,
    "deepnote_cell_type": "text-cell-p"
   }
  },
  {
   "cell_type": "code",
   "metadata": {
    "cell_id": "af6e735df155405bb5adcc202ca95cbb",
    "tags": [],
    "deepnote_cell_type": "code",
    "deepnote_cell_height": 66
   },
   "source": "",
   "execution_count": null,
   "outputs": []
  },
  {
   "cell_type": "markdown",
   "source": "<a style='text-decoration:none;line-height:16px;display:flex;color:#5B5B62;padding:10px;justify-content:end;' href='https://deepnote.com?utm_source=created-in-deepnote-cell&projectId=e4cdc3a5-dd4a-4d72-a71a-972cea883107' target=\"_blank\">\n<img alt='Created in deepnote.com' style='display:inline;max-height:16px;margin:0px;margin-right:7.5px;' src='data:image/svg+xml;base64,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' > </img>\nCreated in <span style='font-weight:600;margin-left:4px;'>Deepnote</span></a>",
   "metadata": {
    "tags": [],
    "created_in_deepnote_cell": true,
    "deepnote_cell_type": "markdown"
   }
  }
 ],
 "nbformat": 4,
 "nbformat_minor": 2,
 "metadata": {
  "orig_nbformat": 2,
  "deepnote": {},
  "deepnote_notebook_id": "14edc4bb-830f-4f08-a259-d41844181287",
  "deepnote_execution_queue": []
 }
}